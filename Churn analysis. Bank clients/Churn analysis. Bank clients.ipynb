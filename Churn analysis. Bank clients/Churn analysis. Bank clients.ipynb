{
 "cells": [
  {
   "cell_type": "markdown",
   "metadata": {},
   "source": [
    "# Анализ оттока клиентов"
   ]
  },
  {
   "cell_type": "markdown",
   "metadata": {},
   "source": [
    "**Задача:** проанализировать клиентов регионального банка и выделить сегменты клиентов,\n",
    "которые склонны уходить из банка"
   ]
  },
  {
   "cell_type": "markdown",
   "metadata": {},
   "source": [
    "## Загрузка данных"
   ]
  },
  {
   "cell_type": "code",
   "execution_count": 1,
   "metadata": {},
   "outputs": [],
   "source": [
    "#отключим предупреждения\n",
    "import warnings\n",
    "warnings.filterwarnings('ignore')"
   ]
  },
  {
   "cell_type": "code",
   "execution_count": 2,
   "metadata": {
    "scrolled": false
   },
   "outputs": [
    {
     "name": "stdout",
     "output_type": "stream",
     "text": [
      "Requirement already satisfied: phik in /opt/conda/lib/python3.9/site-packages (0.12.4)\n",
      "Requirement already satisfied: joblib>=0.14.1 in /opt/conda/lib/python3.9/site-packages (from phik) (1.1.0)\n",
      "Requirement already satisfied: matplotlib>=2.2.3 in /opt/conda/lib/python3.9/site-packages (from phik) (3.3.4)\n",
      "Requirement already satisfied: numpy>=1.18.0 in /opt/conda/lib/python3.9/site-packages (from phik) (1.21.1)\n",
      "Requirement already satisfied: scipy>=1.5.2 in /opt/conda/lib/python3.9/site-packages (from phik) (1.9.1)\n",
      "Requirement already satisfied: pandas>=0.25.1 in /opt/conda/lib/python3.9/site-packages (from phik) (1.2.4)\n",
      "Requirement already satisfied: kiwisolver>=1.0.1 in /opt/conda/lib/python3.9/site-packages (from matplotlib>=2.2.3->phik) (1.4.4)\n",
      "Requirement already satisfied: pyparsing!=2.0.4,!=2.1.2,!=2.1.6,>=2.0.3 in /opt/conda/lib/python3.9/site-packages (from matplotlib>=2.2.3->phik) (2.4.7)\n",
      "Requirement already satisfied: cycler>=0.10 in /opt/conda/lib/python3.9/site-packages (from matplotlib>=2.2.3->phik) (0.11.0)\n",
      "Requirement already satisfied: pillow>=6.2.0 in /opt/conda/lib/python3.9/site-packages (from matplotlib>=2.2.3->phik) (8.4.0)\n",
      "Requirement already satisfied: python-dateutil>=2.1 in /opt/conda/lib/python3.9/site-packages (from matplotlib>=2.2.3->phik) (2.8.1)\n",
      "Requirement already satisfied: pytz>=2017.3 in /opt/conda/lib/python3.9/site-packages (from pandas>=0.25.1->phik) (2021.1)\n",
      "Requirement already satisfied: six>=1.5 in /opt/conda/lib/python3.9/site-packages (from python-dateutil>=2.1->matplotlib>=2.2.3->phik) (1.16.0)\n"
     ]
    }
   ],
   "source": [
    "# импорт библиотек\n",
    "import pandas as pd\n",
    "import matplotlib.pyplot as plt\n",
    "import seaborn as sns\n",
    "import numpy as np\n",
    "from scipy import stats as st\n",
    "!pip install phik \n",
    "import phik\n",
    "from phik import phik_matrix"
   ]
  },
  {
   "cell_type": "code",
   "execution_count": 3,
   "metadata": {},
   "outputs": [],
   "source": [
    "# чтение файла\n",
    "data = pd.read_csv('/datasets/bank_scrooge.csv')"
   ]
  },
  {
   "cell_type": "code",
   "execution_count": 4,
   "metadata": {
    "scrolled": false
   },
   "outputs": [
    {
     "name": "stdout",
     "output_type": "stream",
     "text": [
      "<class 'pandas.core.frame.DataFrame'>\n",
      "RangeIndex: 10000 entries, 0 to 9999\n",
      "Data columns (total 12 columns):\n",
      " #   Column         Non-Null Count  Dtype  \n",
      "---  ------         --------------  -----  \n",
      " 0   USERID         10000 non-null  int64  \n",
      " 1   score          10000 non-null  float64\n",
      " 2   city           10000 non-null  object \n",
      " 3   gender         10000 non-null  object \n",
      " 4   age            9974 non-null   float64\n",
      " 5   equity         10000 non-null  int64  \n",
      " 6   balance        7705 non-null   float64\n",
      " 7   products       10000 non-null  int64  \n",
      " 8   credit_card    10000 non-null  int64  \n",
      " 9   last_activity  10000 non-null  int64  \n",
      " 10  EST_SALARY     10000 non-null  float64\n",
      " 11  churn          10000 non-null  int64  \n",
      "dtypes: float64(4), int64(6), object(2)\n",
      "memory usage: 937.6+ KB\n"
     ]
    },
    {
     "data": {
      "text/html": [
       "<div>\n",
       "<style scoped>\n",
       "    .dataframe tbody tr th:only-of-type {\n",
       "        vertical-align: middle;\n",
       "    }\n",
       "\n",
       "    .dataframe tbody tr th {\n",
       "        vertical-align: top;\n",
       "    }\n",
       "\n",
       "    .dataframe thead th {\n",
       "        text-align: right;\n",
       "    }\n",
       "</style>\n",
       "<table border=\"1\" class=\"dataframe\">\n",
       "  <thead>\n",
       "    <tr style=\"text-align: right;\">\n",
       "      <th></th>\n",
       "      <th>USERID</th>\n",
       "      <th>score</th>\n",
       "      <th>city</th>\n",
       "      <th>gender</th>\n",
       "      <th>age</th>\n",
       "      <th>equity</th>\n",
       "      <th>balance</th>\n",
       "      <th>products</th>\n",
       "      <th>credit_card</th>\n",
       "      <th>last_activity</th>\n",
       "      <th>EST_SALARY</th>\n",
       "      <th>churn</th>\n",
       "    </tr>\n",
       "  </thead>\n",
       "  <tbody>\n",
       "    <tr>\n",
       "      <th>0</th>\n",
       "      <td>183012</td>\n",
       "      <td>850.0</td>\n",
       "      <td>Рыбинск</td>\n",
       "      <td>Ж</td>\n",
       "      <td>25.0</td>\n",
       "      <td>1</td>\n",
       "      <td>59214.82</td>\n",
       "      <td>2</td>\n",
       "      <td>0</td>\n",
       "      <td>1</td>\n",
       "      <td>75719.14</td>\n",
       "      <td>1</td>\n",
       "    </tr>\n",
       "    <tr>\n",
       "      <th>1</th>\n",
       "      <td>146556</td>\n",
       "      <td>861.0</td>\n",
       "      <td>Рыбинск</td>\n",
       "      <td>Ж</td>\n",
       "      <td>37.0</td>\n",
       "      <td>5</td>\n",
       "      <td>850594.33</td>\n",
       "      <td>3</td>\n",
       "      <td>1</td>\n",
       "      <td>0</td>\n",
       "      <td>86621.77</td>\n",
       "      <td>0</td>\n",
       "    </tr>\n",
       "    <tr>\n",
       "      <th>2</th>\n",
       "      <td>120722</td>\n",
       "      <td>892.0</td>\n",
       "      <td>Рыбинск</td>\n",
       "      <td>Ж</td>\n",
       "      <td>30.0</td>\n",
       "      <td>0</td>\n",
       "      <td>NaN</td>\n",
       "      <td>1</td>\n",
       "      <td>1</td>\n",
       "      <td>1</td>\n",
       "      <td>107683.34</td>\n",
       "      <td>0</td>\n",
       "    </tr>\n",
       "    <tr>\n",
       "      <th>3</th>\n",
       "      <td>225363</td>\n",
       "      <td>866.0</td>\n",
       "      <td>Ярославль</td>\n",
       "      <td>Ж</td>\n",
       "      <td>51.0</td>\n",
       "      <td>5</td>\n",
       "      <td>1524746.26</td>\n",
       "      <td>2</td>\n",
       "      <td>0</td>\n",
       "      <td>1</td>\n",
       "      <td>174423.53</td>\n",
       "      <td>1</td>\n",
       "    </tr>\n",
       "    <tr>\n",
       "      <th>4</th>\n",
       "      <td>157978</td>\n",
       "      <td>730.0</td>\n",
       "      <td>Ярославль</td>\n",
       "      <td>М</td>\n",
       "      <td>34.0</td>\n",
       "      <td>5</td>\n",
       "      <td>174.00</td>\n",
       "      <td>1</td>\n",
       "      <td>1</td>\n",
       "      <td>0</td>\n",
       "      <td>67353.16</td>\n",
       "      <td>1</td>\n",
       "    </tr>\n",
       "  </tbody>\n",
       "</table>\n",
       "</div>"
      ],
      "text/plain": [
       "   USERID  score       city gender   age  equity     balance  products  \\\n",
       "0  183012  850.0    Рыбинск      Ж  25.0       1    59214.82         2   \n",
       "1  146556  861.0    Рыбинск      Ж  37.0       5   850594.33         3   \n",
       "2  120722  892.0    Рыбинск      Ж  30.0       0         NaN         1   \n",
       "3  225363  866.0  Ярославль      Ж  51.0       5  1524746.26         2   \n",
       "4  157978  730.0  Ярославль      М  34.0       5      174.00         1   \n",
       "\n",
       "   credit_card  last_activity  EST_SALARY  churn  \n",
       "0            0              1    75719.14      1  \n",
       "1            1              0    86621.77      0  \n",
       "2            1              1   107683.34      0  \n",
       "3            0              1   174423.53      1  \n",
       "4            1              0    67353.16      1  "
      ]
     },
     "execution_count": 4,
     "metadata": {},
     "output_type": "execute_result"
    }
   ],
   "source": [
    "# отображение датафрейма и информации о нем\n",
    "data.info()\n",
    "data.head(5)"
   ]
  },
  {
   "cell_type": "markdown",
   "metadata": {},
   "source": [
    "## Предобработка данных"
   ]
  },
  {
   "cell_type": "markdown",
   "metadata": {},
   "source": [
    "### Проверка пропусков"
   ]
  },
  {
   "cell_type": "markdown",
   "metadata": {},
   "source": [
    "Заметим, что есть пропуски в age и balance"
   ]
  },
  {
   "cell_type": "code",
   "execution_count": 5,
   "metadata": {},
   "outputs": [],
   "source": [
    "# переименуем столбцы\n",
    "data = data.rename(columns={'USERID':'user_id', 'EST_SALARY':'salary'})"
   ]
  },
  {
   "cell_type": "code",
   "execution_count": 6,
   "metadata": {},
   "outputs": [
    {
     "data": {
      "text/plain": [
       "26"
      ]
     },
     "execution_count": 6,
     "metadata": {},
     "output_type": "execute_result"
    }
   ],
   "source": [
    "# количество пропусков в возрасте\n",
    "data['age'].isna().sum()"
   ]
  },
  {
   "cell_type": "code",
   "execution_count": 7,
   "metadata": {},
   "outputs": [],
   "source": [
    "# Пропусков в возрасте очень мало, поэтому можно просто удалить строки с этими пропусками\n",
    "data = data.dropna(subset=['age'])"
   ]
  },
  {
   "cell_type": "code",
   "execution_count": 8,
   "metadata": {},
   "outputs": [
    {
     "data": {
      "text/plain": [
       "2279"
      ]
     },
     "execution_count": 8,
     "metadata": {},
     "output_type": "execute_result"
    }
   ],
   "source": [
    "# количество пропусков в balance\n",
    "data['balance'].isna().sum()"
   ]
  },
  {
   "cell_type": "markdown",
   "metadata": {},
   "source": [
    "Пропусков в балансе много, поэтому просто удалить их нельзя. Найдем способ, чтобы их заполнить"
   ]
  },
  {
   "cell_type": "code",
   "execution_count": 9,
   "metadata": {},
   "outputs": [],
   "source": [
    "#Создадим столбец flag_nan_balance, который принимает 0, если в столбце balance пропуск и 1, если пропуска нет\n",
    "data['flag_nan_balance'] = data['balance'].isnull()\n",
    "data['flag_nan_balance'] = data['flag_nan_balance'].apply(lambda x: 0 if x == True else 1)"
   ]
  },
  {
   "cell_type": "code",
   "execution_count": 10,
   "metadata": {
    "scrolled": false
   },
   "outputs": [
    {
     "data": {
      "text/html": [
       "<div>\n",
       "<style scoped>\n",
       "    .dataframe tbody tr th:only-of-type {\n",
       "        vertical-align: middle;\n",
       "    }\n",
       "\n",
       "    .dataframe tbody tr th {\n",
       "        vertical-align: top;\n",
       "    }\n",
       "\n",
       "    .dataframe thead th {\n",
       "        text-align: right;\n",
       "    }\n",
       "</style>\n",
       "<table border=\"1\" class=\"dataframe\">\n",
       "  <thead>\n",
       "    <tr style=\"text-align: right;\">\n",
       "      <th></th>\n",
       "      <th>user_id</th>\n",
       "      <th>score</th>\n",
       "      <th>city</th>\n",
       "      <th>gender</th>\n",
       "      <th>age</th>\n",
       "      <th>equity</th>\n",
       "      <th>balance</th>\n",
       "      <th>products</th>\n",
       "      <th>credit_card</th>\n",
       "      <th>last_activity</th>\n",
       "      <th>salary</th>\n",
       "      <th>churn</th>\n",
       "      <th>flag_nan_balance</th>\n",
       "    </tr>\n",
       "  </thead>\n",
       "  <tbody>\n",
       "    <tr>\n",
       "      <th>0</th>\n",
       "      <td>183012</td>\n",
       "      <td>850.0</td>\n",
       "      <td>Рыбинск</td>\n",
       "      <td>Ж</td>\n",
       "      <td>25.0</td>\n",
       "      <td>1</td>\n",
       "      <td>59214.82</td>\n",
       "      <td>2</td>\n",
       "      <td>0</td>\n",
       "      <td>1</td>\n",
       "      <td>75719.14</td>\n",
       "      <td>1</td>\n",
       "      <td>1</td>\n",
       "    </tr>\n",
       "    <tr>\n",
       "      <th>1</th>\n",
       "      <td>146556</td>\n",
       "      <td>861.0</td>\n",
       "      <td>Рыбинск</td>\n",
       "      <td>Ж</td>\n",
       "      <td>37.0</td>\n",
       "      <td>5</td>\n",
       "      <td>850594.33</td>\n",
       "      <td>3</td>\n",
       "      <td>1</td>\n",
       "      <td>0</td>\n",
       "      <td>86621.77</td>\n",
       "      <td>0</td>\n",
       "      <td>1</td>\n",
       "    </tr>\n",
       "    <tr>\n",
       "      <th>2</th>\n",
       "      <td>120722</td>\n",
       "      <td>892.0</td>\n",
       "      <td>Рыбинск</td>\n",
       "      <td>Ж</td>\n",
       "      <td>30.0</td>\n",
       "      <td>0</td>\n",
       "      <td>NaN</td>\n",
       "      <td>1</td>\n",
       "      <td>1</td>\n",
       "      <td>1</td>\n",
       "      <td>107683.34</td>\n",
       "      <td>0</td>\n",
       "      <td>0</td>\n",
       "    </tr>\n",
       "    <tr>\n",
       "      <th>3</th>\n",
       "      <td>225363</td>\n",
       "      <td>866.0</td>\n",
       "      <td>Ярославль</td>\n",
       "      <td>Ж</td>\n",
       "      <td>51.0</td>\n",
       "      <td>5</td>\n",
       "      <td>1524746.26</td>\n",
       "      <td>2</td>\n",
       "      <td>0</td>\n",
       "      <td>1</td>\n",
       "      <td>174423.53</td>\n",
       "      <td>1</td>\n",
       "      <td>1</td>\n",
       "    </tr>\n",
       "    <tr>\n",
       "      <th>4</th>\n",
       "      <td>157978</td>\n",
       "      <td>730.0</td>\n",
       "      <td>Ярославль</td>\n",
       "      <td>М</td>\n",
       "      <td>34.0</td>\n",
       "      <td>5</td>\n",
       "      <td>174.00</td>\n",
       "      <td>1</td>\n",
       "      <td>1</td>\n",
       "      <td>0</td>\n",
       "      <td>67353.16</td>\n",
       "      <td>1</td>\n",
       "      <td>1</td>\n",
       "    </tr>\n",
       "    <tr>\n",
       "      <th>...</th>\n",
       "      <td>...</td>\n",
       "      <td>...</td>\n",
       "      <td>...</td>\n",
       "      <td>...</td>\n",
       "      <td>...</td>\n",
       "      <td>...</td>\n",
       "      <td>...</td>\n",
       "      <td>...</td>\n",
       "      <td>...</td>\n",
       "      <td>...</td>\n",
       "      <td>...</td>\n",
       "      <td>...</td>\n",
       "      <td>...</td>\n",
       "    </tr>\n",
       "    <tr>\n",
       "      <th>9995</th>\n",
       "      <td>120553</td>\n",
       "      <td>814.0</td>\n",
       "      <td>Рыбинск</td>\n",
       "      <td>М</td>\n",
       "      <td>27.0</td>\n",
       "      <td>1</td>\n",
       "      <td>78144.65</td>\n",
       "      <td>1</td>\n",
       "      <td>0</td>\n",
       "      <td>1</td>\n",
       "      <td>18943.64</td>\n",
       "      <td>0</td>\n",
       "      <td>1</td>\n",
       "    </tr>\n",
       "    <tr>\n",
       "      <th>9996</th>\n",
       "      <td>139170</td>\n",
       "      <td>894.0</td>\n",
       "      <td>Ярославль</td>\n",
       "      <td>М</td>\n",
       "      <td>46.0</td>\n",
       "      <td>0</td>\n",
       "      <td>NaN</td>\n",
       "      <td>1</td>\n",
       "      <td>1</td>\n",
       "      <td>0</td>\n",
       "      <td>196898.29</td>\n",
       "      <td>0</td>\n",
       "      <td>0</td>\n",
       "    </tr>\n",
       "    <tr>\n",
       "      <th>9997</th>\n",
       "      <td>115639</td>\n",
       "      <td>903.0</td>\n",
       "      <td>Ярославль</td>\n",
       "      <td>М</td>\n",
       "      <td>24.0</td>\n",
       "      <td>0</td>\n",
       "      <td>NaN</td>\n",
       "      <td>2</td>\n",
       "      <td>1</td>\n",
       "      <td>1</td>\n",
       "      <td>108905.09</td>\n",
       "      <td>0</td>\n",
       "      <td>0</td>\n",
       "    </tr>\n",
       "    <tr>\n",
       "      <th>9998</th>\n",
       "      <td>148700</td>\n",
       "      <td>777.0</td>\n",
       "      <td>Ярославль</td>\n",
       "      <td>Ж</td>\n",
       "      <td>68.0</td>\n",
       "      <td>3</td>\n",
       "      <td>865457.97</td>\n",
       "      <td>3</td>\n",
       "      <td>0</td>\n",
       "      <td>1</td>\n",
       "      <td>86874.90</td>\n",
       "      <td>0</td>\n",
       "      <td>1</td>\n",
       "    </tr>\n",
       "    <tr>\n",
       "      <th>9999</th>\n",
       "      <td>96267</td>\n",
       "      <td>828.0</td>\n",
       "      <td>Рыбинск</td>\n",
       "      <td>Ж</td>\n",
       "      <td>58.0</td>\n",
       "      <td>3</td>\n",
       "      <td>1180886.70</td>\n",
       "      <td>4</td>\n",
       "      <td>0</td>\n",
       "      <td>1</td>\n",
       "      <td>21422.37</td>\n",
       "      <td>0</td>\n",
       "      <td>1</td>\n",
       "    </tr>\n",
       "  </tbody>\n",
       "</table>\n",
       "<p>9974 rows × 13 columns</p>\n",
       "</div>"
      ],
      "text/plain": [
       "      user_id  score       city gender   age  equity     balance  products  \\\n",
       "0      183012  850.0    Рыбинск      Ж  25.0       1    59214.82         2   \n",
       "1      146556  861.0    Рыбинск      Ж  37.0       5   850594.33         3   \n",
       "2      120722  892.0    Рыбинск      Ж  30.0       0         NaN         1   \n",
       "3      225363  866.0  Ярославль      Ж  51.0       5  1524746.26         2   \n",
       "4      157978  730.0  Ярославль      М  34.0       5      174.00         1   \n",
       "...       ...    ...        ...    ...   ...     ...         ...       ...   \n",
       "9995   120553  814.0    Рыбинск      М  27.0       1    78144.65         1   \n",
       "9996   139170  894.0  Ярославль      М  46.0       0         NaN         1   \n",
       "9997   115639  903.0  Ярославль      М  24.0       0         NaN         2   \n",
       "9998   148700  777.0  Ярославль      Ж  68.0       3   865457.97         3   \n",
       "9999    96267  828.0    Рыбинск      Ж  58.0       3  1180886.70         4   \n",
       "\n",
       "      credit_card  last_activity     salary  churn  flag_nan_balance  \n",
       "0               0              1   75719.14      1                 1  \n",
       "1               1              0   86621.77      0                 1  \n",
       "2               1              1  107683.34      0                 0  \n",
       "3               0              1  174423.53      1                 1  \n",
       "4               1              0   67353.16      1                 1  \n",
       "...           ...            ...        ...    ...               ...  \n",
       "9995            0              1   18943.64      0                 1  \n",
       "9996            1              0  196898.29      0                 0  \n",
       "9997            1              1  108905.09      0                 0  \n",
       "9998            0              1   86874.90      0                 1  \n",
       "9999            0              1   21422.37      0                 1  \n",
       "\n",
       "[9974 rows x 13 columns]"
      ]
     },
     "execution_count": 10,
     "metadata": {},
     "output_type": "execute_result"
    }
   ],
   "source": [
    "data"
   ]
  },
  {
   "cell_type": "code",
   "execution_count": 11,
   "metadata": {
    "scrolled": false
   },
   "outputs": [
    {
     "data": {
      "image/png": "[encoded data removed]",
      "text/plain": [
       "<Figure size 720x648 with 2 Axes>"
      ]
     },
     "metadata": {
      "needs_background": "light"
     },
     "output_type": "display_data"
    }
   ],
   "source": [
    "# Создадим таблицу корреляции и посмотрим, какой от какого показателя больше всего зависит столбец flag_nan_balance\n",
    "cm = data.loc[:, data.columns != 'user_id'].corr()\n",
    "fig, ax = plt.subplots(figsize=(10, 9))\n",
    "sns.heatmap(cm, annot=True, square=True, cmap='coolwarm', center=0)\n",
    "plt.title('Корреляция признаков', fontsize = 20)\n",
    "plt.xlabel('Признак', fontsize = 15)\n",
    "plt.ylabel('Признак', fontsize = 15); \n"
   ]
  },
  {
   "cell_type": "markdown",
   "metadata": {},
   "source": [
    "По таблице видим, что самая большая корреляция - со значением equity (количество баллов собственности). Чем больше баллов собственности, тем больше баланс счета.\n",
    "\n",
    "Кроме того, пропуски относятся к  MNAR (Missing Not At Random / Отсутствует не случайно) — пропуски зависят от данных, без дополнительного обоснования их нельзя отбрасывать или заполнять одним значением, т.к. это приведёт к заметным искажениям.\n",
    "Поэтму пропуски нужно заполнить."
   ]
  },
  {
   "cell_type": "markdown",
   "metadata": {},
   "source": [
    "### Заполнение пропусков"
   ]
  },
  {
   "cell_type": "code",
   "execution_count": 12,
   "metadata": {},
   "outputs": [
    {
     "data": {
      "text/plain": [
       "array([1, 5, 0, 4, 3, 2, 6, 7, 8, 9])"
      ]
     },
     "execution_count": 12,
     "metadata": {},
     "output_type": "execute_result"
    }
   ],
   "source": [
    "# посмотрим, что из себя представляет велицина equity\n",
    "data['equity'].unique()"
   ]
  },
  {
   "cell_type": "markdown",
   "metadata": {},
   "source": [
    "Поскольку equity - категориальная величина, мы можем заполнить пропуски в balance в зависимости от equity"
   ]
  },
  {
   "cell_type": "code",
   "execution_count": 13,
   "metadata": {},
   "outputs": [
    {
     "data": {
      "text/plain": [
       "0"
      ]
     },
     "execution_count": 13,
     "metadata": {},
     "output_type": "execute_result"
    }
   ],
   "source": [
    "# заполним пропуски медианным значением про equity\n",
    "for money in data['equity'].unique():\n",
    "    median = data.loc[data['equity'] == money, 'balance'].median()\n",
    "    data.loc[(data['balance'].isna()) & (data['equity'] == money), 'balance'] = median\n",
    "\n",
    "# выведем количество пропусков после их заполнения    \n",
    "data['balance'].isna().sum()"
   ]
  },
  {
   "cell_type": "markdown",
   "metadata": {},
   "source": [
    "### Выявление и удаление дубликатов"
   ]
  },
  {
   "cell_type": "code",
   "execution_count": 14,
   "metadata": {},
   "outputs": [
    {
     "data": {
      "text/plain": [
       "0"
      ]
     },
     "execution_count": 14,
     "metadata": {},
     "output_type": "execute_result"
    }
   ],
   "source": [
    "# количество полных дубликатов\n",
    "data.duplicated().sum()"
   ]
  },
  {
   "cell_type": "code",
   "execution_count": 15,
   "metadata": {},
   "outputs": [
    {
     "data": {
      "text/plain": [
       "50"
      ]
     },
     "execution_count": 15,
     "metadata": {},
     "output_type": "execute_result"
    }
   ],
   "source": [
    "#Определим количество неявных дубликатов\n",
    "#Найдем дубликаты в user_id\n",
    "data.duplicated(['user_id']).sum()"
   ]
  },
  {
   "cell_type": "markdown",
   "metadata": {},
   "source": [
    "Таких оказалось 50 человек. Так же заметим, что в таблице указывается город. То есть, если один и тот же человек ходит в отделения банка в разных городах, то он продублируется в таблице."
   ]
  },
  {
   "cell_type": "code",
   "execution_count": 16,
   "metadata": {},
   "outputs": [
    {
     "data": {
      "text/plain": [
       "0"
      ]
     },
     "execution_count": 16,
     "metadata": {},
     "output_type": "execute_result"
    }
   ],
   "source": [
    "# Проверим количество user_id, у которых также совпадает город\n",
    "data.duplicated(['user_id', 'city']).sum()"
   ]
  },
  {
   "cell_type": "markdown",
   "metadata": {},
   "source": [
    "Таких клиентов не оказалось, поэтому удалять этих 50 человек мы не будем."
   ]
  },
  {
   "cell_type": "markdown",
   "metadata": {},
   "source": [
    "### Выявление и удаление аномалий"
   ]
  },
  {
   "cell_type": "code",
   "execution_count": 17,
   "metadata": {},
   "outputs": [
    {
     "data": {
      "image/png": "[encoded data removed]",
      "text/plain": [
       "<Figure size 1080x1440 with 12 Axes>"
      ]
     },
     "metadata": {
      "needs_background": "light"
     },
     "output_type": "display_data"
    }
   ],
   "source": [
    "# Оценим визуально распределения каждого из графиков\n",
    "data.hist(figsize=(15, 20), bins=30);"
   ]
  },
  {
   "cell_type": "markdown",
   "metadata": {},
   "source": [
    "У столбцов user_id, equity, age, credit_card, last_activity, salary, churn и flag_nan_balance нет аномалий. А вот к остальным стобцам: score, balance и product лучше присмотреться внимательнее."
   ]
  },
  {
   "cell_type": "code",
   "execution_count": 18,
   "metadata": {},
   "outputs": [
    {
     "data": {
      "image/png": "[encoded data removed]",
      "text/plain": [
       "<Figure size 432x288 with 1 Axes>"
      ]
     },
     "metadata": {
      "needs_background": "light"
     },
     "output_type": "display_data"
    }
   ],
   "source": [
    "data['score'].hist(bins=30)\n",
    "plt.title('Гистограмма баллов кредитного скоринга')\n",
    "plt.xlabel('Баллы кредитного скоринга');"
   ]
  },
  {
   "cell_type": "markdown",
   "metadata": {},
   "source": [
    "Аномалий нет"
   ]
  },
  {
   "cell_type": "code",
   "execution_count": 19,
   "metadata": {},
   "outputs": [
    {
     "data": {
      "image/png": "[encoded data removed]",
      "text/plain": [
       "<Figure size 432x288 with 1 Axes>"
      ]
     },
     "metadata": {
      "needs_background": "light"
     },
     "output_type": "display_data"
    }
   ],
   "source": [
    "data['balance'].hist(bins=100)\n",
    "plt.title('Гистограмма баланса')\n",
    "plt.xlabel('Баланс');"
   ]
  },
  {
   "cell_type": "markdown",
   "metadata": {},
   "source": [
    "Есть некоторые клиенты с очень большим счетом. Определим их количество:"
   ]
  },
  {
   "cell_type": "code",
   "execution_count": 20,
   "metadata": {},
   "outputs": [
    {
     "data": {
      "text/plain": [
       "72"
      ]
     },
     "execution_count": 20,
     "metadata": {},
     "output_type": "execute_result"
    }
   ],
   "source": [
    "data.query('balance > 5000000')['user_id'].count()"
   ]
  },
  {
   "cell_type": "markdown",
   "metadata": {},
   "source": [
    "Таких всего 72 человека, для анализа они не помешают, так как мы будем брать медиану, а не среднее значение. Оставляем их"
   ]
  },
  {
   "cell_type": "code",
   "execution_count": 21,
   "metadata": {},
   "outputs": [
    {
     "data": {
      "text/plain": [
       "array([2, 3, 1, 4, 5, 0])"
      ]
     },
     "execution_count": 21,
     "metadata": {},
     "output_type": "execute_result"
    }
   ],
   "source": [
    "data['products'].unique()"
   ]
  },
  {
   "cell_type": "markdown",
   "metadata": {},
   "source": [
    "Не может быть клиента банка, с отсутсвием кредитных продуктов. В этом случае это уже не клиент. Следовательно 0 продуктов - это аномалия."
   ]
  },
  {
   "cell_type": "code",
   "execution_count": 22,
   "metadata": {},
   "outputs": [
    {
     "data": {
      "text/html": [
       "<div>\n",
       "<style scoped>\n",
       "    .dataframe tbody tr th:only-of-type {\n",
       "        vertical-align: middle;\n",
       "    }\n",
       "\n",
       "    .dataframe tbody tr th {\n",
       "        vertical-align: top;\n",
       "    }\n",
       "\n",
       "    .dataframe thead th {\n",
       "        text-align: right;\n",
       "    }\n",
       "</style>\n",
       "<table border=\"1\" class=\"dataframe\">\n",
       "  <thead>\n",
       "    <tr style=\"text-align: right;\">\n",
       "      <th></th>\n",
       "      <th>user_id</th>\n",
       "      <th>score</th>\n",
       "      <th>city</th>\n",
       "      <th>gender</th>\n",
       "      <th>age</th>\n",
       "      <th>equity</th>\n",
       "      <th>balance</th>\n",
       "      <th>products</th>\n",
       "      <th>credit_card</th>\n",
       "      <th>last_activity</th>\n",
       "      <th>salary</th>\n",
       "      <th>churn</th>\n",
       "      <th>flag_nan_balance</th>\n",
       "    </tr>\n",
       "  </thead>\n",
       "  <tbody>\n",
       "    <tr>\n",
       "      <th>8957</th>\n",
       "      <td>147837</td>\n",
       "      <td>962.0</td>\n",
       "      <td>Рыбинск</td>\n",
       "      <td>Ж</td>\n",
       "      <td>79.0</td>\n",
       "      <td>3</td>\n",
       "      <td>463796.54</td>\n",
       "      <td>0</td>\n",
       "      <td>0</td>\n",
       "      <td>0</td>\n",
       "      <td>25063.96</td>\n",
       "      <td>1</td>\n",
       "      <td>0</td>\n",
       "    </tr>\n",
       "  </tbody>\n",
       "</table>\n",
       "</div>"
      ],
      "text/plain": [
       "      user_id  score     city gender   age  equity    balance  products  \\\n",
       "8957   147837  962.0  Рыбинск      Ж  79.0       3  463796.54         0   \n",
       "\n",
       "      credit_card  last_activity    salary  churn  flag_nan_balance  \n",
       "8957            0              0  25063.96      1                 0  "
      ]
     },
     "execution_count": 22,
     "metadata": {},
     "output_type": "execute_result"
    }
   ],
   "source": [
    "# Посмотрим сколько клиентов имеют 0 продуктов\n",
    "data.query('products == 0')"
   ]
  },
  {
   "cell_type": "code",
   "execution_count": 23,
   "metadata": {},
   "outputs": [],
   "source": [
    "#Всего один клиент. Удалим его:\n",
    "data = data.query('products > 0').reset_index(drop=True)"
   ]
  },
  {
   "cell_type": "markdown",
   "metadata": {},
   "source": []
  },
  {
   "cell_type": "markdown",
   "metadata": {},
   "source": [
    "**Подытожим.** Для подготовки данных к анализу потребовалось:\n",
    "-  Переименовать 2 столбца\n",
    "-  Удалить 26 пропусков в столбце age;\n",
    "-  Заполнить 2279 пропусков в столбце balance (по медиане, в зависимости от столбца equity)\n",
    "-  Удалить аномалию (1 строка, где в products=0) \n"
   ]
  },
  {
   "cell_type": "markdown",
   "metadata": {},
   "source": [
    "## Анализ данных (EDA)"
   ]
  },
  {
   "cell_type": "markdown",
   "metadata": {},
   "source": [
    "### Анализ распределения\n",
    "Анализируем с точки зрения оттока. Для непрерывных величин ищем отточные интервалы, для категориальныых или дискретных - ищем значения признаков с оттоком выше, чем по банку"
   ]
  },
  {
   "cell_type": "code",
   "execution_count": 24,
   "metadata": {},
   "outputs": [
    {
     "data": {
      "image/png": "[encoded data removed]",
      "text/plain": [
       "<Figure size 432x288 with 1 Axes>"
      ]
     },
     "metadata": {
      "needs_background": "light"
     },
     "output_type": "display_data"
    }
   ],
   "source": [
    "#распределение оттока по баллам кредитного скоринга (score):\n",
    "sns.histplot(data=data, x='score', hue='churn', stat='density', common_norm=False, binwidth=10)\n",
    "plt.title('Распределение оттока по баллам кредитного скоринга (score)', fontsize=15)\n",
    "plt.xlabel('Баллы кредитного скоринга')\n",
    "plt.ylabel('Отток');\n"
   ]
  },
  {
   "cell_type": "markdown",
   "metadata": {},
   "source": [
    "На графике видно, что отток больше среднего по банку в промежутке с 820 до 900 баллов кредитного скоринга."
   ]
  },
  {
   "cell_type": "code",
   "execution_count": 25,
   "metadata": {},
   "outputs": [
    {
     "data": {
      "image/png": "[encoded data removed]",
      "text/plain": [
       "<Figure size 432x288 with 1 Axes>"
      ]
     },
     "metadata": {
      "needs_background": "light"
     },
     "output_type": "display_data"
    }
   ],
   "source": [
    "# распределение оттока по городу(city)\n",
    "sns.barplot(data = data, x='city', y='churn')\n",
    "mean = data['churn'].mean()\n",
    "plt.axhline(y=mean)\n",
    "plt.title('Распределение оттока по городу (city)', fontsize=15)\n",
    "plt.xlabel('Город')\n",
    "plt.ylabel('Отток');"
   ]
  },
  {
   "cell_type": "markdown",
   "metadata": {},
   "source": [
    "На графике видно, что отток больше среднего по банку в Ярославле и Ростове"
   ]
  },
  {
   "cell_type": "code",
   "execution_count": 26,
   "metadata": {
    "scrolled": true
   },
   "outputs": [
    {
     "data": {
      "image/png": "[encoded data removed]",
      "text/plain": [
       "<Figure size 432x288 with 1 Axes>"
      ]
     },
     "metadata": {
      "needs_background": "light"
     },
     "output_type": "display_data"
    }
   ],
   "source": [
    "# распределение оттока по полу(gender)\n",
    "sns.barplot(data = data, x='gender', y='churn')\n",
    "mean = data['churn'].mean()\n",
    "plt.axhline(y=mean)\n",
    "plt.title('Распределение оттока по полу(gender)', fontsize=15)\n",
    "plt.xlabel('Пол')\n",
    "plt.ylabel('Отток');"
   ]
  },
  {
   "cell_type": "markdown",
   "metadata": {},
   "source": [
    "На графике видно, что отток больше среднего по банку среди мужчин"
   ]
  },
  {
   "cell_type": "code",
   "execution_count": 27,
   "metadata": {},
   "outputs": [
    {
     "data": {
      "image/png": "[encoded data removed]",
      "text/plain": [
       "<Figure size 432x288 with 1 Axes>"
      ]
     },
     "metadata": {
      "needs_background": "light"
     },
     "output_type": "display_data"
    }
   ],
   "source": [
    "#распределение оттока по возрасту (age):\n",
    "sns.histplot(data=data, x='age', hue='churn', stat='density', common_norm=False, binwidth=5, binrange=(15, 90))\n",
    "plt.title('Распределение оттока по возрасту (age)', fontsize=15)\n",
    "plt.xlabel('Возраст')\n",
    "plt.ylabel('Отток');"
   ]
  },
  {
   "cell_type": "markdown",
   "metadata": {},
   "source": [
    "На графике видно, что отток больше среднего по банку среди возрастов 25-35, 50-60 лет"
   ]
  },
  {
   "cell_type": "code",
   "execution_count": 28,
   "metadata": {},
   "outputs": [
    {
     "data": {
      "image/png": "[encoded data removed]",
      "text/plain": [
       "<Figure size 432x288 with 1 Axes>"
      ]
     },
     "metadata": {
      "needs_background": "light"
     },
     "output_type": "display_data"
    }
   ],
   "source": [
    "# распределение оттока по количеству баллов собственности (equity)\n",
    "sns.barplot(data = data, x='equity', y='churn')\n",
    "mean = data['churn'].mean()\n",
    "plt.axhline(y=mean)\n",
    "plt.title('Распределение оттока по количеству баллов собственности (equity)', fontsize=15)\n",
    "plt.xlabel('Количество баллов собственности')\n",
    "plt.ylabel('Отток');"
   ]
  },
  {
   "cell_type": "markdown",
   "metadata": {},
   "source": [
    "На графике видно, что отток больше среднего по банку среди клиентов, у который 3-9 баллов собственности"
   ]
  },
  {
   "cell_type": "code",
   "execution_count": 29,
   "metadata": {},
   "outputs": [
    {
     "data": {
      "image/png": "[encoded data removed]",
      "text/plain": [
       "<Figure size 432x288 with 1 Axes>"
      ]
     },
     "metadata": {
      "needs_background": "light"
     },
     "output_type": "display_data"
    }
   ],
   "source": [
    "#распределение оттока по балансу (balance):\n",
    "sns.histplot(data=data.query('balance < 2000000'), x='balance', hue='churn', stat='density', common_norm=False, binwidth=30000)\n",
    "plt.title('Распределение оттока по балансу (balance)', fontsize=15)\n",
    "plt.xlabel('Баланс на счете')\n",
    "plt.ylabel('Отток');"
   ]
  },
  {
   "cell_type": "code",
   "execution_count": 30,
   "metadata": {},
   "outputs": [
    {
     "data": {
      "image/png": "[encoded data removed]",
      "text/plain": [
       "<Figure size 432x288 with 1 Axes>"
      ]
     },
     "metadata": {
      "needs_background": "light"
     },
     "output_type": "display_data"
    }
   ],
   "source": [
    "#Видно, что на одном из интервалов особенно сильный отток, посмотрим внимательнее на каком\n",
    "sns.histplot(data=data.query('balance < 250000'), x='balance', hue='churn', stat='density', common_norm=False, binwidth=10000)\n",
    "plt.title('Распределение оттока по балансу (balance)', fontsize=15)\n",
    "plt.xlabel('Баланс на счете')\n",
    "plt.ylabel('Отток');"
   ]
  },
  {
   "cell_type": "markdown",
   "metadata": {},
   "source": [
    "На графике видно, что отток больше среднего по банку среди клиентов со суммой на счете до 130 тысяч или более 140 тысяч"
   ]
  },
  {
   "cell_type": "code",
   "execution_count": 31,
   "metadata": {
    "scrolled": true
   },
   "outputs": [
    {
     "data": {
      "image/png": "[encoded data removed]",
      "text/plain": [
       "<Figure size 432x288 with 1 Axes>"
      ]
     },
     "metadata": {
      "needs_background": "light"
     },
     "output_type": "display_data"
    }
   ],
   "source": [
    "# распределение оттока по количеству продуктов (products)\n",
    "sns.barplot(data = data, x='products', y='churn')\n",
    "mean = data['churn'].mean()\n",
    "plt.axhline(y=mean)\n",
    "plt.title('Распределение оттока по количеству продуктов (products)', fontsize=15)\n",
    "plt.xlabel('Количество банковских продуктов')\n",
    "plt.ylabel('Отток');"
   ]
  },
  {
   "cell_type": "markdown",
   "metadata": {},
   "source": [
    "На графике видно, что отток больше среднего по банку среди клиентов, у которых 3-5 банковских продуктов. (У клиентов с 2 кредитными продуктами отток почти совпадает со средним по банку, поэтому эту группу клиентов брать не будем)."
   ]
  },
  {
   "cell_type": "code",
   "execution_count": 32,
   "metadata": {
    "scrolled": true
   },
   "outputs": [
    {
     "data": {
      "image/png": "[encoded data removed]",
      "text/plain": [
       "<Figure size 432x288 with 1 Axes>"
      ]
     },
     "metadata": {
      "needs_background": "light"
     },
     "output_type": "display_data"
    }
   ],
   "source": [
    "# распределение оттока по наличию кредитной карты (credit_card)\n",
    "sns.barplot(data = data, x='credit_card', y='churn')\n",
    "mean = data['churn'].mean()\n",
    "plt.axhline(y=mean)\n",
    "plt.title('Распределение оттока по наличию кредитной карты (credit_card)', fontsize=15)\n",
    "plt.xlabel('Отсутствие (0) и наличие (1) кредитной карты')\n",
    "plt.ylabel('Отток');"
   ]
  },
  {
   "cell_type": "markdown",
   "metadata": {},
   "source": [
    "На графике видно, что отток больше среднего по банку у клиентов, не имеющих кредитной карты."
   ]
  },
  {
   "cell_type": "code",
   "execution_count": 33,
   "metadata": {
    "scrolled": false
   },
   "outputs": [
    {
     "data": {
      "image/png": "[encoded data removed]",
      "text/plain": [
       "<Figure size 432x288 with 1 Axes>"
      ]
     },
     "metadata": {
      "needs_background": "light"
     },
     "output_type": "display_data"
    }
   ],
   "source": [
    "# распределение оттока по активности (last_activity)\n",
    "sns.barplot(data = data, x='last_activity', y='churn')\n",
    "mean = data['churn'].mean()\n",
    "plt.axhline(y=mean)\n",
    "plt.title('Распределение оттока по активности (last_activity)', fontsize=15)\n",
    "plt.xlabel('Неактивный (0) и активный (1) клиент')\n",
    "plt.ylabel('Отток');"
   ]
  },
  {
   "cell_type": "markdown",
   "metadata": {},
   "source": [
    "На графике видно, что отток больше среднего по банку среди активных клиентов."
   ]
  },
  {
   "cell_type": "code",
   "execution_count": 34,
   "metadata": {
    "scrolled": true
   },
   "outputs": [
    {
     "data": {
      "image/png": "[encoded data removed]",
      "text/plain": [
       "<Figure size 432x288 with 1 Axes>"
      ]
     },
     "metadata": {
      "needs_background": "light"
     },
     "output_type": "display_data"
    }
   ],
   "source": [
    "#распределение оттока по зарплате (salary):\n",
    "sns.histplot(data=data, x='salary', hue='churn', stat='density', common_norm=False, binwidth=30000)\n",
    "plt.title('Распределение оттока по зарплате (salary)', fontsize=15)\n",
    "plt.xlabel('Зарплата')\n",
    "plt.ylabel('Отток');"
   ]
  },
  {
   "cell_type": "code",
   "execution_count": 35,
   "metadata": {
    "scrolled": true
   },
   "outputs": [
    {
     "data": {
      "image/png": "[encoded data removed]",
      "text/plain": [
       "<Figure size 432x288 with 1 Axes>"
      ]
     },
     "metadata": {
      "needs_background": "light"
     },
     "output_type": "display_data"
    }
   ],
   "source": [
    "#посмотрим более внимательно\n",
    "#распределение оттока по зарплате (salary):\n",
    "sns.histplot(data=data.query('salary <400000'), x='salary', hue='churn', stat='density', common_norm=False, binwidth=10000, binrange=(0, 400000))\n",
    "plt.title('Распределение оттока по зарплате (salary)', fontsize=15)\n",
    "plt.xlabel('Зарплата')\n",
    "plt.ylabel('Отток');"
   ]
  },
  {
   "cell_type": "markdown",
   "metadata": {},
   "source": [
    "На графике видно, что отток больше среднего по банку среди клиентов с зарплатой 100-140 и 150-220 тыс"
   ]
  },
  {
   "cell_type": "markdown",
   "metadata": {},
   "source": [
    "**Подытожим** результаты анализа распределения. Отток больше среднего по банку: \n",
    "- в промежутке с 820 до 900 баллов кредитного скоринга\n",
    "- в Ярославле и Ростове\n",
    "- среди мужчин\n",
    "- среди возрастов 25-35, 50-60 лет\n",
    "- среди клиентов, у который 3-9 баллов собственности\n",
    "- среди клиентов со суммой на счете до 130 тысяч или более 140 тысяч\n",
    "- среди клиентов, у которых 3-5 банковских продуктов\n",
    "- у клиентов, не имеющих кредитной карты\n",
    "- среди активных клиентов\n",
    "- среди клиентов с зарплатой 100-140 и 150-220 тыс"
   ]
  },
  {
   "cell_type": "markdown",
   "metadata": {},
   "source": [
    "### Корреляция. Исследуем корреляцию всех признаков таблицы"
   ]
  },
  {
   "cell_type": "code",
   "execution_count": 36,
   "metadata": {},
   "outputs": [
    {
     "data": {
      "image/png": "[encoded data removed]",
      "text/plain": [
       "<Figure size 720x648 with 2 Axes>"
      ]
     },
     "metadata": {
      "needs_background": "light"
     },
     "output_type": "display_data"
    }
   ],
   "source": [
    "#построим матрицу корреляции для того, чтобы определить направление корреляции\n",
    "cm = data.loc[:, data.columns != 'user_id'].corr()\n",
    "fig, ax = plt.subplots(figsize=(10, 9))\n",
    "sns.heatmap(cm, annot=True, square=True, cmap='coolwarm', center=0)\n",
    "plt.title('Корреляция признаков', fontsize = 20)\n",
    "plt.xlabel('Признак', fontsize = 15)\n",
    "plt.ylabel('Признак', fontsize = 15); "
   ]
  },
  {
   "cell_type": "code",
   "execution_count": 37,
   "metadata": {},
   "outputs": [
    {
     "name": "stdout",
     "output_type": "stream",
     "text": [
      "Матрица корреляции методом phik:\n"
     ]
    },
    {
     "data": {
      "text/html": [
       "<div>\n",
       "<style scoped>\n",
       "    .dataframe tbody tr th:only-of-type {\n",
       "        vertical-align: middle;\n",
       "    }\n",
       "\n",
       "    .dataframe tbody tr th {\n",
       "        vertical-align: top;\n",
       "    }\n",
       "\n",
       "    .dataframe thead th {\n",
       "        text-align: right;\n",
       "    }\n",
       "</style>\n",
       "<table border=\"1\" class=\"dataframe\">\n",
       "  <thead>\n",
       "    <tr style=\"text-align: right;\">\n",
       "      <th></th>\n",
       "      <th>score</th>\n",
       "      <th>city</th>\n",
       "      <th>gender</th>\n",
       "      <th>age</th>\n",
       "      <th>equity</th>\n",
       "      <th>balance</th>\n",
       "      <th>products</th>\n",
       "      <th>credit_card</th>\n",
       "      <th>last_activity</th>\n",
       "      <th>salary</th>\n",
       "      <th>churn</th>\n",
       "      <th>flag_nan_balance</th>\n",
       "    </tr>\n",
       "  </thead>\n",
       "  <tbody>\n",
       "    <tr>\n",
       "      <th>score</th>\n",
       "      <td>1.00</td>\n",
       "      <td>0.09</td>\n",
       "      <td>0.07</td>\n",
       "      <td>0.03</td>\n",
       "      <td>0.53</td>\n",
       "      <td>0.15</td>\n",
       "      <td>0.42</td>\n",
       "      <td>0.21</td>\n",
       "      <td>0.05</td>\n",
       "      <td>0.40</td>\n",
       "      <td>0.23</td>\n",
       "      <td>0.75</td>\n",
       "    </tr>\n",
       "    <tr>\n",
       "      <th>city</th>\n",
       "      <td>0.09</td>\n",
       "      <td>1.00</td>\n",
       "      <td>0.01</td>\n",
       "      <td>0.09</td>\n",
       "      <td>0.06</td>\n",
       "      <td>0.03</td>\n",
       "      <td>0.13</td>\n",
       "      <td>0.07</td>\n",
       "      <td>0.03</td>\n",
       "      <td>0.17</td>\n",
       "      <td>0.02</td>\n",
       "      <td>0.04</td>\n",
       "    </tr>\n",
       "    <tr>\n",
       "      <th>gender</th>\n",
       "      <td>0.07</td>\n",
       "      <td>0.01</td>\n",
       "      <td>1.00</td>\n",
       "      <td>0.29</td>\n",
       "      <td>0.06</td>\n",
       "      <td>0.04</td>\n",
       "      <td>0.07</td>\n",
       "      <td>0.20</td>\n",
       "      <td>0.01</td>\n",
       "      <td>0.14</td>\n",
       "      <td>0.22</td>\n",
       "      <td>0.10</td>\n",
       "    </tr>\n",
       "    <tr>\n",
       "      <th>age</th>\n",
       "      <td>0.03</td>\n",
       "      <td>0.09</td>\n",
       "      <td>0.29</td>\n",
       "      <td>1.00</td>\n",
       "      <td>0.05</td>\n",
       "      <td>0.02</td>\n",
       "      <td>0.14</td>\n",
       "      <td>0.16</td>\n",
       "      <td>0.09</td>\n",
       "      <td>0.36</td>\n",
       "      <td>0.19</td>\n",
       "      <td>0.05</td>\n",
       "    </tr>\n",
       "    <tr>\n",
       "      <th>equity</th>\n",
       "      <td>0.53</td>\n",
       "      <td>0.06</td>\n",
       "      <td>0.06</td>\n",
       "      <td>0.05</td>\n",
       "      <td>1.00</td>\n",
       "      <td>0.00</td>\n",
       "      <td>0.58</td>\n",
       "      <td>0.22</td>\n",
       "      <td>0.05</td>\n",
       "      <td>0.29</td>\n",
       "      <td>0.35</td>\n",
       "      <td>0.98</td>\n",
       "    </tr>\n",
       "    <tr>\n",
       "      <th>balance</th>\n",
       "      <td>0.15</td>\n",
       "      <td>0.03</td>\n",
       "      <td>0.04</td>\n",
       "      <td>0.02</td>\n",
       "      <td>0.00</td>\n",
       "      <td>1.00</td>\n",
       "      <td>0.00</td>\n",
       "      <td>0.00</td>\n",
       "      <td>0.00</td>\n",
       "      <td>0.22</td>\n",
       "      <td>0.03</td>\n",
       "      <td>0.01</td>\n",
       "    </tr>\n",
       "    <tr>\n",
       "      <th>products</th>\n",
       "      <td>0.42</td>\n",
       "      <td>0.13</td>\n",
       "      <td>0.07</td>\n",
       "      <td>0.14</td>\n",
       "      <td>0.58</td>\n",
       "      <td>0.00</td>\n",
       "      <td>1.00</td>\n",
       "      <td>0.27</td>\n",
       "      <td>0.11</td>\n",
       "      <td>0.22</td>\n",
       "      <td>0.26</td>\n",
       "      <td>0.49</td>\n",
       "    </tr>\n",
       "    <tr>\n",
       "      <th>credit_card</th>\n",
       "      <td>0.21</td>\n",
       "      <td>0.07</td>\n",
       "      <td>0.20</td>\n",
       "      <td>0.16</td>\n",
       "      <td>0.22</td>\n",
       "      <td>0.00</td>\n",
       "      <td>0.27</td>\n",
       "      <td>1.00</td>\n",
       "      <td>0.05</td>\n",
       "      <td>0.04</td>\n",
       "      <td>0.20</td>\n",
       "      <td>0.24</td>\n",
       "    </tr>\n",
       "    <tr>\n",
       "      <th>last_activity</th>\n",
       "      <td>0.05</td>\n",
       "      <td>0.03</td>\n",
       "      <td>0.01</td>\n",
       "      <td>0.09</td>\n",
       "      <td>0.05</td>\n",
       "      <td>0.00</td>\n",
       "      <td>0.11</td>\n",
       "      <td>0.05</td>\n",
       "      <td>1.00</td>\n",
       "      <td>0.04</td>\n",
       "      <td>0.26</td>\n",
       "      <td>0.04</td>\n",
       "    </tr>\n",
       "    <tr>\n",
       "      <th>salary</th>\n",
       "      <td>0.40</td>\n",
       "      <td>0.17</td>\n",
       "      <td>0.14</td>\n",
       "      <td>0.36</td>\n",
       "      <td>0.29</td>\n",
       "      <td>0.22</td>\n",
       "      <td>0.22</td>\n",
       "      <td>0.04</td>\n",
       "      <td>0.04</td>\n",
       "      <td>1.00</td>\n",
       "      <td>0.05</td>\n",
       "      <td>0.43</td>\n",
       "    </tr>\n",
       "    <tr>\n",
       "      <th>churn</th>\n",
       "      <td>0.23</td>\n",
       "      <td>0.02</td>\n",
       "      <td>0.22</td>\n",
       "      <td>0.19</td>\n",
       "      <td>0.35</td>\n",
       "      <td>0.03</td>\n",
       "      <td>0.26</td>\n",
       "      <td>0.20</td>\n",
       "      <td>0.26</td>\n",
       "      <td>0.05</td>\n",
       "      <td>1.00</td>\n",
       "      <td>0.38</td>\n",
       "    </tr>\n",
       "    <tr>\n",
       "      <th>flag_nan_balance</th>\n",
       "      <td>0.75</td>\n",
       "      <td>0.04</td>\n",
       "      <td>0.10</td>\n",
       "      <td>0.05</td>\n",
       "      <td>0.98</td>\n",
       "      <td>0.01</td>\n",
       "      <td>0.49</td>\n",
       "      <td>0.24</td>\n",
       "      <td>0.04</td>\n",
       "      <td>0.43</td>\n",
       "      <td>0.38</td>\n",
       "      <td>1.00</td>\n",
       "    </tr>\n",
       "  </tbody>\n",
       "</table>\n",
       "</div>"
      ],
      "text/plain": [
       "                  score  city  gender   age  equity  balance  products  \\\n",
       "score              1.00  0.09    0.07  0.03    0.53     0.15      0.42   \n",
       "city               0.09  1.00    0.01  0.09    0.06     0.03      0.13   \n",
       "gender             0.07  0.01    1.00  0.29    0.06     0.04      0.07   \n",
       "age                0.03  0.09    0.29  1.00    0.05     0.02      0.14   \n",
       "equity             0.53  0.06    0.06  0.05    1.00     0.00      0.58   \n",
       "balance            0.15  0.03    0.04  0.02    0.00     1.00      0.00   \n",
       "products           0.42  0.13    0.07  0.14    0.58     0.00      1.00   \n",
       "credit_card        0.21  0.07    0.20  0.16    0.22     0.00      0.27   \n",
       "last_activity      0.05  0.03    0.01  0.09    0.05     0.00      0.11   \n",
       "salary             0.40  0.17    0.14  0.36    0.29     0.22      0.22   \n",
       "churn              0.23  0.02    0.22  0.19    0.35     0.03      0.26   \n",
       "flag_nan_balance   0.75  0.04    0.10  0.05    0.98     0.01      0.49   \n",
       "\n",
       "                  credit_card  last_activity  salary  churn  flag_nan_balance  \n",
       "score                    0.21           0.05    0.40   0.23              0.75  \n",
       "city                     0.07           0.03    0.17   0.02              0.04  \n",
       "gender                   0.20           0.01    0.14   0.22              0.10  \n",
       "age                      0.16           0.09    0.36   0.19              0.05  \n",
       "equity                   0.22           0.05    0.29   0.35              0.98  \n",
       "balance                  0.00           0.00    0.22   0.03              0.01  \n",
       "products                 0.27           0.11    0.22   0.26              0.49  \n",
       "credit_card              1.00           0.05    0.04   0.20              0.24  \n",
       "last_activity            0.05           1.00    0.04   0.26              0.04  \n",
       "salary                   0.04           0.04    1.00   0.05              0.43  \n",
       "churn                    0.20           0.26    0.05   1.00              0.38  \n",
       "flag_nan_balance         0.24           0.04    0.43   0.38              1.00  "
      ]
     },
     "execution_count": 37,
     "metadata": {},
     "output_type": "execute_result"
    }
   ],
   "source": [
    "# построим матрицу корреляции методом phik. Этот метод учитывает, какую величину мы оцениваем - категориальную или непрерывную.\n",
    "print('Матрица корреляции методом phik:')\n",
    "data.loc[:, data.columns != 'user_id'].phik_matrix(interval_cols=['score', 'age', 'balance', 'salary']).round(2)"
   ]
  },
  {
   "cell_type": "markdown",
   "metadata": {},
   "source": [
    "Оцениваем корреляцию оттока (churn) с остальными признаками. Для этого используем шкалу Чеддока.\n",
    "\n",
    "Шкала Чеддока:\n",
    "\n",
    "Количественная мера тесноты связи; Качественная характеристика силы связи\n",
    "\n",
    "0,1 - 0,3 Слабая\n",
    "\n",
    "0,3 - 0,5 Умеренная\n",
    "\n",
    "0,5 - 0,7 Заметная\n",
    "\n",
    "0,7 - 0,9 Высокая\n",
    "\n",
    "0,9 - 0,99 Весьма высокая\n",
    "\n",
    "Согдасно таблице Чеддока:\n",
    "\n",
    "- У параметров salary (0.05), balance (0.03) и city (0.02) связь отсутствует\n",
    "- У параметров age (0.19) и credit_card (0.2) связь слабая, отрицательная\n",
    "- У параметров score (0.23), gender (0.22), products (0.26) и last_activity(0.26) связь слабая положительная\n",
    "- У параметра equity (0.35) связь умеренная\n",
    "\n",
    "(Направление корреляции взято с графика выше)\n",
    "\n",
    "**Подытожим**\n",
    "Таким образом, параметр equity(количество баллов собственности) коррелирует с оттоком умеренно, остальные величины имеют слабую связь или не имеют вообще."
   ]
  },
  {
   "cell_type": "markdown",
   "metadata": {},
   "source": [
    "### Портрет клиента\n",
    "Создадим таблицу, описывающую портрет клиента по всем признакам:"
   ]
  },
  {
   "cell_type": "code",
   "execution_count": 38,
   "metadata": {},
   "outputs": [],
   "source": [
    "aggregations = {'score':'median', 'age':'median', 'balance':'median', 'salary':'median', 'city':lambda x:x.mode()[0], 'gender':lambda x:x.mode()[0], 'equity':lambda x:x.mode()[0], 'products':lambda x:x.mode()[0], 'credit_card':lambda x:x.mode()[0], 'last_activity':lambda x:x.mode()[0],'city':lambda x:x.mode()[0]}"
   ]
  },
  {
   "cell_type": "code",
   "execution_count": 39,
   "metadata": {},
   "outputs": [],
   "source": [
    "client_portrait = data.groupby('churn').agg(aggregations).reset_index().transpose()"
   ]
  },
  {
   "cell_type": "code",
   "execution_count": 40,
   "metadata": {},
   "outputs": [
    {
     "name": "stdout",
     "output_type": "stream",
     "text": [
      "Портрет клиента (1-отточный клиент, 0-лояльный клиент):\n"
     ]
    },
    {
     "data": {
      "text/html": [
       "<div>\n",
       "<style scoped>\n",
       "    .dataframe tbody tr th:only-of-type {\n",
       "        vertical-align: middle;\n",
       "    }\n",
       "\n",
       "    .dataframe tbody tr th {\n",
       "        vertical-align: top;\n",
       "    }\n",
       "\n",
       "    .dataframe thead th {\n",
       "        text-align: right;\n",
       "    }\n",
       "</style>\n",
       "<table border=\"1\" class=\"dataframe\">\n",
       "  <thead>\n",
       "    <tr style=\"text-align: right;\">\n",
       "      <th></th>\n",
       "      <th>0</th>\n",
       "      <th>1</th>\n",
       "    </tr>\n",
       "  </thead>\n",
       "  <tbody>\n",
       "    <tr>\n",
       "      <th>churn</th>\n",
       "      <td>0</td>\n",
       "      <td>1</td>\n",
       "    </tr>\n",
       "    <tr>\n",
       "      <th>score</th>\n",
       "      <td>848.0</td>\n",
       "      <td>866.0</td>\n",
       "    </tr>\n",
       "    <tr>\n",
       "      <th>age</th>\n",
       "      <td>40.0</td>\n",
       "      <td>39.0</td>\n",
       "    </tr>\n",
       "    <tr>\n",
       "      <th>balance</th>\n",
       "      <td>321642.56</td>\n",
       "      <td>775399.47</td>\n",
       "    </tr>\n",
       "    <tr>\n",
       "      <th>salary</th>\n",
       "      <td>118227.6</td>\n",
       "      <td>125408.88</td>\n",
       "    </tr>\n",
       "    <tr>\n",
       "      <th>city</th>\n",
       "      <td>Ярославль</td>\n",
       "      <td>Ярославль</td>\n",
       "    </tr>\n",
       "    <tr>\n",
       "      <th>gender</th>\n",
       "      <td>Ж</td>\n",
       "      <td>М</td>\n",
       "    </tr>\n",
       "    <tr>\n",
       "      <th>equity</th>\n",
       "      <td>0</td>\n",
       "      <td>5</td>\n",
       "    </tr>\n",
       "    <tr>\n",
       "      <th>products</th>\n",
       "      <td>2</td>\n",
       "      <td>2</td>\n",
       "    </tr>\n",
       "    <tr>\n",
       "      <th>credit_card</th>\n",
       "      <td>1</td>\n",
       "      <td>1</td>\n",
       "    </tr>\n",
       "    <tr>\n",
       "      <th>last_activity</th>\n",
       "      <td>0</td>\n",
       "      <td>1</td>\n",
       "    </tr>\n",
       "  </tbody>\n",
       "</table>\n",
       "</div>"
      ],
      "text/plain": [
       "                       0          1\n",
       "churn                  0          1\n",
       "score              848.0      866.0\n",
       "age                 40.0       39.0\n",
       "balance        321642.56  775399.47\n",
       "salary          118227.6  125408.88\n",
       "city           Ярославль  Ярославль\n",
       "gender                 Ж          М\n",
       "equity                 0          5\n",
       "products               2          2\n",
       "credit_card            1          1\n",
       "last_activity          0          1"
      ]
     },
     "execution_count": 40,
     "metadata": {},
     "output_type": "execute_result"
    }
   ],
   "source": [
    "print('Портрет клиента (1-отточный клиент, 0-лояльный клиент):')\n",
    "client_portrait"
   ]
  },
  {
   "cell_type": "markdown",
   "metadata": {},
   "source": [
    "**Вывод**\n",
    "\n",
    "Видим, что признаки имеют одинаковое значение у:\n",
    "- age (разница в 1 год незначительна)\n",
    "- salary (входит в один диапазон)\n",
    "- city\n",
    "- products\n",
    "- credit_card\n",
    "\n",
    "Признаки имеют разные значения у:\n",
    "- score\n",
    "- balance (примерно в 2 раза)\n",
    "- gender\n",
    "- equity\n",
    "- last_activity"
   ]
  },
  {
   "cell_type": "markdown",
   "metadata": {},
   "source": [
    "<div class=\"alert alert-block alert-success\">✔️\n",
    "    \n",
    "\n",
    "__Комментарий от тимлида №1__\n",
    "\n",
    "Портрет клиента корректный. Молодец"
   ]
  },
  {
   "cell_type": "markdown",
   "metadata": {},
   "source": [
    "## Проверка статистических гипотез"
   ]
  },
  {
   "cell_type": "markdown",
   "metadata": {},
   "source": [
    "### Проверим гипотезу различия дохода между лояльными и отточными клиентами"
   ]
  },
  {
   "cell_type": "markdown",
   "metadata": {},
   "source": [
    "Сначала определим имеет ли salary нормальное распределение (т.к. статистический t-test является приоритетным). Для этого используем Критерий Шапиро-Уилка:"
   ]
  },
  {
   "cell_type": "code",
   "execution_count": 41,
   "metadata": {},
   "outputs": [
    {
     "name": "stdout",
     "output_type": "stream",
     "text": [
      "p-значение:  0.0\n",
      "Отвергаем нулевую гипотезу: распределение не нормально\n"
     ]
    }
   ],
   "source": [
    "alpha = 0.05  # критический уровень статистической значимости\n",
    "\n",
    "results = st.shapiro(data['salary'])\n",
    "p_value = results[\n",
    "    1\n",
    "]  # второе значение в массиве результатов (с индексом 1) - p-value\n",
    "\n",
    "print('p-значение: ', p_value)\n",
    "\n",
    "if p_value < alpha:\n",
    "    print('Отвергаем нулевую гипотезу: распределение не нормально')\n",
    "else:\n",
    "    print('Не получилось отвергнуть нулевую гипотезу, всё нормально') "
   ]
  },
  {
   "cell_type": "markdown",
   "metadata": {},
   "source": [
    "Распределение не нормально (это заметно и на гистограмме). Есть выбросы, которые влияют на распределение, поэтому использовать t-test нельзя.\n",
    "Так как величина непрерывная используем непараметрический тест Уилкоксона-Манна-Уитни (u-test):"
   ]
  },
  {
   "cell_type": "markdown",
   "metadata": {},
   "source": [
    "**Сформулируем гипотезы:**\n",
    "\n",
    "- Нулевая гипотеза (Н0): статистически значимых различий между доходами лояльных клиентов и отточных клиентов нет.\n",
    "- Альтернативная гипотеза (Н1): есть статистически значимые различия между доходами лояльных клиентов и отточных клиентов. "
   ]
  },
  {
   "cell_type": "code",
   "execution_count": 42,
   "metadata": {
    "scrolled": true
   },
   "outputs": [
    {
     "name": "stdout",
     "output_type": "stream",
     "text": [
      "p-значение:  0.00016830729188229058\n",
      "Отвергаем нулевую гипотезу: разница статистически значима\n",
      "Относительное различие в медианной зарплате лояльных и отточных клиентов - 5.73%\n"
     ]
    }
   ],
   "source": [
    "churn_client = data.query('churn == 1')['salary']\n",
    "loyal_client = data.query('churn == 0')['salary']\n",
    "\n",
    "alpha = 0.5  # критический уровень статистической значимости\n",
    "\n",
    "results = st.mannwhitneyu(churn_client, loyal_client)\n",
    "\n",
    "print('p-значение: ', results.pvalue)\n",
    "\n",
    "if results.pvalue < alpha:\n",
    "    print('Отвергаем нулевую гипотезу: разница статистически значима')\n",
    "else:\n",
    "    print(\n",
    "        'Не получилось отвергнуть нулевую гипотезу, вывод о различии сделать нельзя'\n",
    "    ) \n",
    "print('Относительное различие в медианной зарплате лояльных и отточных клиентов -', \"{0:.2f}%\".format((churn_client.median()-loyal_client.median())*100/churn_client.median()) )   "
   ]
  },
  {
   "cell_type": "markdown",
   "metadata": {},
   "source": [
    "Таким образом, наша гипотеза была отвергнута. Есть статистически значимая разница в доходах клиентов. Она составляет 5,73%."
   ]
  },
  {
   "cell_type": "markdown",
   "metadata": {},
   "source": [
    "### Проверим гипотезу различия в баллах кредитного скоринга между лояльными и отточными клиентами"
   ]
  },
  {
   "cell_type": "markdown",
   "metadata": {},
   "source": [
    "Сначала определим имеет ли score нормальное распределение. Для этого используем Критерий Шапиро-Уилка:"
   ]
  },
  {
   "cell_type": "code",
   "execution_count": 43,
   "metadata": {},
   "outputs": [
    {
     "name": "stdout",
     "output_type": "stream",
     "text": [
      "p-значение:  9.527601434937905e-28\n",
      "Отвергаем нулевую гипотезу: распределение не нормально\n"
     ]
    }
   ],
   "source": [
    "alpha = 0.05  # критический уровень статистической значимости\n",
    "\n",
    "results = st.shapiro(data['score'])\n",
    "p_value = results[\n",
    "    1\n",
    "]  # второе значение в массиве результатов (с индексом 1) - p-value\n",
    "\n",
    "print('p-значение: ', p_value)\n",
    "\n",
    "if p_value < alpha:\n",
    "    print('Отвергаем нулевую гипотезу: распределение не нормально')\n",
    "else:\n",
    "    print('Не получилось отвергнуть нулевую гипотезу, всё нормально') "
   ]
  },
  {
   "cell_type": "markdown",
   "metadata": {},
   "source": [
    "Распределение не нормально. Есть выбросы, которые влияют на распределение, поэтому использовать t-test нельзя. Так как величина непрерывная используем непараметрический тест Уилкоксона-Манна-Уитни (u-test):\n",
    "\n",
    "**Сформулируем гипотезы:**\n",
    "\n",
    "- Нулевая гипотеза (Н0): статистически значимых различий между баллами кредитного скоринга лояльных клиентов и отточных клиентов нет.\n",
    "- Альтернативная гипотеза (Н1): есть статистически значимые различия между между баллами кредитного скоринга лояльных клиентов и отточных клиентов."
   ]
  },
  {
   "cell_type": "code",
   "execution_count": 44,
   "metadata": {},
   "outputs": [
    {
     "name": "stdout",
     "output_type": "stream",
     "text": [
      "p-значение:  4.508763537702903e-22\n",
      "Отвергаем нулевую гипотезу: разница статистически значима\n",
      "Относительное различие в медианной разплате лояльных и отточных клиентов - 2.08%\n"
     ]
    }
   ],
   "source": [
    "churn_client = data.query('churn == 1')['score']\n",
    "loyal_client = data.query('churn == 0')['score']\n",
    "\n",
    "alpha = 0.5  # критический уровень статистической значимости\n",
    "\n",
    "results = st.mannwhitneyu(churn_client, loyal_client)\n",
    "\n",
    "print('p-значение: ', results.pvalue)\n",
    "\n",
    "if results.pvalue < alpha:\n",
    "    print('Отвергаем нулевую гипотезу: разница статистически значима')\n",
    "else:\n",
    "    print(\n",
    "        'Не получилось отвергнуть нулевую гипотезу, вывод о различии сделать нельзя'\n",
    "    ) \n",
    "print('Относительное различие в медианной разплате лояльных и отточных клиентов -', \"{0:.2f}%\".format((churn_client.median()-loyal_client.median())*100/churn_client.median()) )   "
   ]
  },
  {
   "cell_type": "markdown",
   "metadata": {},
   "source": [
    "Таким образом, наша гипотеза была отвергнута. Есть статистически значимая разница между баллами кредитного скоринга у лояльных и отточных клиентов. Она составляет 2,08%."
   ]
  },
  {
   "cell_type": "markdown",
   "metadata": {},
   "source": [
    "**Вывод**\n",
    "\n",
    "Есть статистически значимая разница в доходах лояльных и отточных клиентов. Она составляет 5,73%.\n",
    "Есть статистически значимая разница между баллами кредитного скоринга у лояльных и отточных клиентов. Она составляет 2,08%."
   ]
  },
  {
   "cell_type": "markdown",
   "metadata": {},
   "source": []
  },
  {
   "cell_type": "markdown",
   "metadata": {},
   "source": [
    "## Промежуточные итоги"
   ]
  },
  {
   "cell_type": "markdown",
   "metadata": {},
   "source": [
    "Сделаем выводы по результатам EDA, корреляционного анализа и гипотез, выделим признаки, влияющие на отток"
   ]
  },
  {
   "cell_type": "markdown",
   "metadata": {},
   "source": [
    "**Результаты анализа распределения. Отток больше среднего по банку:** \n",
    "- в промежутке с 820 до 900 баллов кредитного скоринга\n",
    "- в Ярославле и Ростове\n",
    "- среди мужчин\n",
    "- среди возрастов 25-35, 50-60 лет\n",
    "- среди клиентов, у который 3-9 баллов собственности\n",
    "- среди клиентов со суммой на счете до 130 тысяч или более 140 тысяч\n",
    "- среди клиентов, у которых 3-5 банковских продуктов\n",
    "- у клиентов, не имеющих кредитной карты\n",
    "- среди активных клиентов\n",
    "- среди клиентов с зарплатой 100-140 и 150-220 тыс\n",
    "\n",
    "**Корреляция оттока (churn) с остальными признаками**\n",
    "- У параметров salary, balance и city связь отсутствует\n",
    "- У параметров age и credit_card связь слабая, отрицательная\n",
    "- У параметров score, gender, products и last_activity связь слабая положительная\n",
    "- У параметра equity связь умеренная\n",
    "\n",
    "Таким образом, параметр equity(количество баллов собственности) коррелирует с оттоком умеренно, остальные величины имеют слабую связь или не имеют вообще.\n",
    "\n",
    "**Портрет клиента**\n",
    "\n",
    "Видим, что признаки имеют одинаковое значение у:\n",
    "- age (разница в 1 год незначительна)\n",
    "- salary (входит в один диапазон)\n",
    "- city\n",
    "- products\n",
    "- credit_card\n",
    "\n",
    "Признаки имеют разные значения у:\n",
    "- score\n",
    "- balance (примерно в 2 раза)\n",
    "- gender\n",
    "- equity\n",
    "- last_activity\n",
    "\n",
    "**Статистические гипотезы**\n",
    "\n",
    "Есть статистически значимая разница в доходах лояльных и отточных клиентов. Она составляет 5,73%.\n",
    "\n",
    "Есть статистически значимая разница между баллами кредитного скоринга у лояльных и отточных клиентов. Она составляет 2,08%."
   ]
  },
  {
   "cell_type": "markdown",
   "metadata": {},
   "source": [
    "Для сегментации клиентов удобно будет использовать портрет отточного клиента, совмещенный с результатами анализа распределения, так же нужно будет учесть признаки, которые имеют разное значение в портрете клиента."
   ]
  },
  {
   "cell_type": "markdown",
   "metadata": {},
   "source": []
  },
  {
   "cell_type": "markdown",
   "metadata": {},
   "source": [
    "## Сегментация"
   ]
  },
  {
   "cell_type": "markdown",
   "metadata": {},
   "source": [
    "Задача создать сегменты с мин кол-вом 500 человек с оттоком выше, чем отток по банку. Для этого распределим признаки так, чтобы их сочетание давало сегмент около 500 человек."
   ]
  },
  {
   "cell_type": "markdown",
   "metadata": {},
   "source": [
    "**Первый сегмент**"
   ]
  },
  {
   "cell_type": "markdown",
   "metadata": {},
   "source": [
    "В первый сегмент добавили клиентов с параметрами:\n",
    "- баллы кредитного скоринга с 820 до 900 \n",
    "- посещают банк в Ярославле\n",
    "- мужчины"
   ]
  },
  {
   "cell_type": "code",
   "execution_count": 45,
   "metadata": {},
   "outputs": [],
   "source": [
    "segment_1 = data.query('gender == \"М\" and city == \"Ярославль\" and 820 < score < 900 and last_activity == 1')"
   ]
  },
  {
   "cell_type": "code",
   "execution_count": 46,
   "metadata": {
    "scrolled": true
   },
   "outputs": [
    {
     "name": "stdout",
     "output_type": "stream",
     "text": [
      "Количество клиентов в сегменте: 518\n"
     ]
    }
   ],
   "source": [
    "print('Количество клиентов в сегменте:', segment_1['user_id'].count())"
   ]
  },
  {
   "cell_type": "code",
   "execution_count": 47,
   "metadata": {},
   "outputs": [
    {
     "name": "stdout",
     "output_type": "stream",
     "text": [
      "Количество отточных клиентов в сегменте: 261\n"
     ]
    }
   ],
   "source": [
    "print('Количество отточных клиентов в сегменте:', segment_1['churn'].sum())"
   ]
  },
  {
   "cell_type": "code",
   "execution_count": 48,
   "metadata": {},
   "outputs": [
    {
     "name": "stdout",
     "output_type": "stream",
     "text": [
      "Уровень оттока в сегменте: 0.5\n"
     ]
    }
   ],
   "source": [
    "print('Уровень оттока в сегменте:', segment_1['churn'].mean().round(2))"
   ]
  },
  {
   "cell_type": "markdown",
   "metadata": {},
   "source": [
    "**Второй сегмент**"
   ]
  },
  {
   "cell_type": "markdown",
   "metadata": {},
   "source": [
    "Во второй сегмент добавили пользователей с параметрами:\n",
    "- возраст 25-30, 50-60 лет\n",
    "-  5-9 баллов собственности (3 и 4 брать не стали для сужения сегмента, у них ооточность меньше, чем у 5 - 9 баллов)\n",
    "- клиенты со суммой на счете до 130 тысяч или более 140 тысяч"
   ]
  },
  {
   "cell_type": "code",
   "execution_count": 49,
   "metadata": {},
   "outputs": [],
   "source": [
    "segment_2 = data.query('5 <= equity <= 9 and (balance <= 130000 or balance >= 140000) and (25 <= age <= 35 or 50 <= age <= 60)')"
   ]
  },
  {
   "cell_type": "code",
   "execution_count": 50,
   "metadata": {
    "scrolled": true
   },
   "outputs": [
    {
     "name": "stdout",
     "output_type": "stream",
     "text": [
      "Количество клиентов в сегменте: 1104\n"
     ]
    }
   ],
   "source": [
    "print('Количество клиентов в сегменте:', segment_2['user_id'].count())"
   ]
  },
  {
   "cell_type": "code",
   "execution_count": 51,
   "metadata": {},
   "outputs": [
    {
     "name": "stdout",
     "output_type": "stream",
     "text": [
      "Количество отточных клиентов в сегменте: 426\n"
     ]
    }
   ],
   "source": [
    "print('Количество отточных клиентов в сегменте:', segment_2['churn'].sum())"
   ]
  },
  {
   "cell_type": "code",
   "execution_count": 52,
   "metadata": {},
   "outputs": [
    {
     "name": "stdout",
     "output_type": "stream",
     "text": [
      "Уровень оттока в сегменте: 0.39\n"
     ]
    }
   ],
   "source": [
    "print('Уровень оттока в сегменте:', segment_2['churn'].mean().round(2))"
   ]
  },
  {
   "cell_type": "markdown",
   "metadata": {},
   "source": [
    "**Третий сегмент**"
   ]
  },
  {
   "cell_type": "markdown",
   "metadata": {},
   "source": [
    "Во третий сегмент добавили пользователей с параметрами:\n",
    "- клиенты, не имеющие кредитной карты\n",
    "- активные клиентов\n",
    "- зарплатой 100-140 и 150-220 тыс"
   ]
  },
  {
   "cell_type": "code",
   "execution_count": 53,
   "metadata": {},
   "outputs": [],
   "source": [
    "segment_3 = data.query('last_activity == 1 and credit_card == 0 and (100000 < salary< 140000 or 150000 < salary < 220000)')"
   ]
  },
  {
   "cell_type": "code",
   "execution_count": 54,
   "metadata": {
    "scrolled": true
   },
   "outputs": [
    {
     "name": "stdout",
     "output_type": "stream",
     "text": [
      "Количество клиентов в сегменте: 737\n"
     ]
    }
   ],
   "source": [
    "print('Количество клиентов в сегменте:', segment_3['user_id'].count())"
   ]
  },
  {
   "cell_type": "code",
   "execution_count": 55,
   "metadata": {},
   "outputs": [
    {
     "name": "stdout",
     "output_type": "stream",
     "text": [
      "Количество отточных клиентов в сегменте: 310\n"
     ]
    }
   ],
   "source": [
    "print('Количество отточных клиентов в сегменте:', segment_3['churn'].sum())"
   ]
  },
  {
   "cell_type": "code",
   "execution_count": 56,
   "metadata": {},
   "outputs": [
    {
     "name": "stdout",
     "output_type": "stream",
     "text": [
      "Уровень оттока в сегменте: 0.42\n"
     ]
    }
   ],
   "source": [
    "print('Уровень оттока в сегменте:', segment_3['churn'].mean().round(2))"
   ]
  },
  {
   "cell_type": "markdown",
   "metadata": {},
   "source": [
    "**Четвертый сегмент**"
   ]
  },
  {
   "cell_type": "markdown",
   "metadata": {},
   "source": [
    "Во четвертый сегмент добавили пользователей с параметром количество продуктов 4 и больше, так как на этот сегмент набирается почти 500 человек"
   ]
  },
  {
   "cell_type": "code",
   "execution_count": 57,
   "metadata": {},
   "outputs": [],
   "source": [
    "segment_4 = data.query('products >=4')"
   ]
  },
  {
   "cell_type": "code",
   "execution_count": 58,
   "metadata": {
    "scrolled": true
   },
   "outputs": [
    {
     "name": "stdout",
     "output_type": "stream",
     "text": [
      "Количество клиентов в сегменте: 493\n"
     ]
    }
   ],
   "source": [
    "print('Количество клиентов в сегменте:', segment_4['user_id'].count())"
   ]
  },
  {
   "cell_type": "code",
   "execution_count": 59,
   "metadata": {},
   "outputs": [
    {
     "name": "stdout",
     "output_type": "stream",
     "text": [
      "Количество отточных клиентов в сегменте: 308\n"
     ]
    }
   ],
   "source": [
    "print('Количество отточных клиентов в сегменте:', segment_4['churn'].sum())"
   ]
  },
  {
   "cell_type": "code",
   "execution_count": 60,
   "metadata": {
    "scrolled": true
   },
   "outputs": [
    {
     "name": "stdout",
     "output_type": "stream",
     "text": [
      "Уровень оттока в сегменте: 0.62\n"
     ]
    }
   ],
   "source": [
    "print('Уровень оттока в сегменте:', segment_4['churn'].mean().round(2))"
   ]
  },
  {
   "cell_type": "markdown",
   "metadata": {},
   "source": [
    "## Приоритезация сегментов"
   ]
  },
  {
   "cell_type": "markdown",
   "metadata": {},
   "source": [
    "Приоритизируем сегменты по мере убывания отточных клиентов:\n",
    "1. Четвертый сегмент (отток 0,62):\n",
    "     - количество продуктов 4 и больше\n",
    "2. Первый сегмент (отток 0,5)\n",
    "    - баллы кредитного скоринга с 820 до 900\n",
    "    - посещают банк в Ярославле\n",
    "    - мужчины\n",
    "3. Третий сегмент (отток 0,42)\n",
    "    - клиенты, не имеющие кредитной карты\n",
    "    - активные клиенты\n",
    "    - с зарплатой 100-140 и 150-220 тыс\n",
    "4. Второй сегмент (отток 0,39)\n",
    "    - возраст 25-35, 50-60 лет\n",
    "    - 5-9 баллов собственности\n",
    "    - клиенты со суммой на счете до 130 тысяч или более 140 тысяч    "
   ]
  },
  {
   "cell_type": "markdown",
   "metadata": {},
   "source": [
    "## Рекомендация по работе с сегментами отточных клиентов:\n"
   ]
  },
  {
   "cell_type": "markdown",
   "metadata": {},
   "source": [
    "**Четвертый сегмент**\n",
    "- Добавить разных активностей, акций и бонусов. Ведь банк покидают активные клиенты с большим количеством продуктов. Для таких постоянные акции и спец. предложения будут актуальны.\n",
    "- Уточнить, легко ли в банке закрыть какой-либо из продуктов. Например клиент хочет закрыть дебетовую карту и выясняет, что через мобильное приложение этого сделать нельзя, нужно идти в банк. Времени на это нет и клиент не может ибавиться от ненужного продукта, тем временем плата списывается ежемесячно. Это приводит к отказу клиента пользоваться банком. В таком случае отказ от продуктов нужно реализовать через мобильное приложение.\n",
    "\n",
    "**Первый сегмент**\n",
    "- Проверить часы работы отделений в Ярославле и Ростове. Возможно, банки не работают по субботам и многие люди не могут попасть в банк в рабочее время.\n",
    "- Проверить наличие очереди в отделениях и если очереди присутствуют на постоянной основе (час и больше), то это отталкивает клиентов. В таком случаем нужно сделать предварительную запись и большинство операций перенести в мобильное приложени или онлайн-банк.\n",
    "- Так как банк покидают преимущественно мужчины, то стоит предлагать повышенный кэшбек за \"мужские траты\": кашбек за АЗС, бары и рестораны, вино-водочные магазины и т.д.\n",
    "\n",
    "**Третий сегмент**\n",
    "- Активнее предлагать клиентам кредитную карту: устраивать акции, делеть специальные предложения для клиентов банка, дать рекламу кредитной карты. Мы видим, что клиенты с кредитной картой более лояльны. Возможно это потому что наша кредитная карта действительно нравится пользователям.\n",
    "- Улучшить мобильное приложение и онлайн-банк. Так как активные клиенты менее лояльны, то можно предположить что им не удобно пользоваться мобильным приложением и онлайн-банком.\n",
    "\n",
    "**Второй сегмент**\n",
    "- Предлагать клиентам разные бонусы за совершение операций в мобильном приложении, по сравнению с походом в офис. Многие клиенты (особенно постарше) предпочитают пойти в офис, вместо мобильного предложения (МП). Это создает очереди. Таким клиентам можно предлогать повышенный процент по накопительному счету, при открытии в МП, пониженную ставку за оформление кредита в МП.\n",
    "- Предлагать больше кредитов с пониженной ставкой за передачу имущества под залог банку. Потому что в данном сегменте клиенты с большим количеством баллов собственности\n",
    "- Придложить повышенную ставку за содержание на вкладе или накопительном счете суммы 130-140 тыс рублей, т.к. клиенты с такими суммами активно покидают банк."
   ]
  },
  {
   "cell_type": "markdown",
   "metadata": {},
   "source": [
    "## Вывод:"
   ]
  },
  {
   "cell_type": "markdown",
   "metadata": {},
   "source": [
    "Была поставлена задача: проанализировать клиентов регионального банка и выделить сегменты клиентов, которые склонны уходить из банка\n",
    "\n",
    "Для выполнения задачи мы:\n",
    "\n",
    "1. Загрузили данные\n",
    "2. Выполнили предобработку данных\n",
    " - заполнили пропуски\n",
    " - удалили дубликаты\n",
    " - удалили аномалии\n",
    "3. Выполнили анализ данных \n",
    " - сделали анализ распределения и нашли признаки отточных клиентов\n",
    " - отобразили корреляцию признаков с отточностью\n",
    " - составили портрет отточного клиента\n",
    "4. Предложили 2 статистические гипотезы и проверили их\n",
    "5. Сегментировали клиентов (создали 4 сегмента)\n",
    "6. Предложили рекомендации для работы с отточными клиентами\n",
    "\n",
    "**Таким образом мы определили сегменты отточных клиентов и предложили рекомендации для работы с ними.** Поставленная задача была выполнена"
   ]
  }
 ],
 "metadata": {
  "ExecuteTimeLog": [
   {
    "duration": 48,
    "start_time": "2024-02-20T09:01:37.977Z"
   },
   {
    "duration": 816,
    "start_time": "2024-02-20T09:02:16.562Z"
   },
   {
    "duration": 147,
    "start_time": "2024-02-20T09:02:17.417Z"
   },
   {
    "duration": 25,
    "start_time": "2024-02-20T09:02:31.937Z"
   },
   {
    "duration": 4,
    "start_time": "2024-02-20T09:12:13.710Z"
   },
   {
    "duration": 20,
    "start_time": "2024-02-20T09:12:17.360Z"
   },
   {
    "duration": 4,
    "start_time": "2024-02-20T09:12:48.072Z"
   },
   {
    "duration": 19,
    "start_time": "2024-02-20T09:12:48.617Z"
   },
   {
    "duration": 78,
    "start_time": "2024-02-20T09:14:20.536Z"
   },
   {
    "duration": 34,
    "start_time": "2024-02-20T09:16:22.225Z"
   },
   {
    "duration": 6,
    "start_time": "2024-02-20T09:16:35.504Z"
   },
   {
    "duration": 6,
    "start_time": "2024-02-20T09:17:20.264Z"
   },
   {
    "duration": 4,
    "start_time": "2024-02-20T09:18:29.729Z"
   },
   {
    "duration": 5,
    "start_time": "2024-02-20T09:20:42.440Z"
   },
   {
    "duration": 5,
    "start_time": "2024-02-20T09:49:27.480Z"
   },
   {
    "duration": 8,
    "start_time": "2024-02-20T09:52:26.624Z"
   },
   {
    "duration": 20,
    "start_time": "2024-02-20T09:52:30.200Z"
   },
   {
    "duration": 5,
    "start_time": "2024-02-20T09:53:05.095Z"
   },
   {
    "duration": 547,
    "start_time": "2024-02-20T09:56:20.631Z"
   },
   {
    "duration": 39,
    "start_time": "2024-02-20T09:56:21.180Z"
   },
   {
    "duration": 20,
    "start_time": "2024-02-20T09:56:21.221Z"
   },
   {
    "duration": 3,
    "start_time": "2024-02-20T09:56:21.243Z"
   },
   {
    "duration": 27,
    "start_time": "2024-02-20T09:56:21.248Z"
   },
   {
    "duration": 7,
    "start_time": "2024-02-20T09:56:21.276Z"
   },
   {
    "duration": 6,
    "start_time": "2024-02-20T09:56:21.285Z"
   },
   {
    "duration": 13,
    "start_time": "2024-02-20T09:56:21.292Z"
   },
   {
    "duration": 10,
    "start_time": "2024-02-20T10:02:05.680Z"
   },
   {
    "duration": 9,
    "start_time": "2024-02-20T10:03:39.512Z"
   },
   {
    "duration": 35,
    "start_time": "2024-02-20T10:09:34.521Z"
   },
   {
    "duration": 880,
    "start_time": "2024-02-20T10:09:42.617Z"
   },
   {
    "duration": 107,
    "start_time": "2024-02-20T10:10:13.001Z"
   },
   {
    "duration": 846,
    "start_time": "2024-02-20T10:10:23.330Z"
   },
   {
    "duration": 804,
    "start_time": "2024-02-20T10:14:41.841Z"
   },
   {
    "duration": 928,
    "start_time": "2024-02-20T10:16:00.953Z"
   },
   {
    "duration": 883,
    "start_time": "2024-02-20T10:20:46.529Z"
   },
   {
    "duration": 816,
    "start_time": "2024-02-20T10:20:57.985Z"
   },
   {
    "duration": 836,
    "start_time": "2024-02-20T10:21:19.930Z"
   },
   {
    "duration": 817,
    "start_time": "2024-02-20T10:21:27.793Z"
   },
   {
    "duration": 884,
    "start_time": "2024-02-20T10:21:38.722Z"
   },
   {
    "duration": 9,
    "start_time": "2024-02-20T10:22:12.449Z"
   },
   {
    "duration": 975,
    "start_time": "2024-02-20T10:22:18.057Z"
   },
   {
    "duration": 81,
    "start_time": "2024-02-20T10:41:22.890Z"
   },
   {
    "duration": 88,
    "start_time": "2024-02-20T10:41:46.802Z"
   },
   {
    "duration": 76,
    "start_time": "2024-02-20T10:41:53.681Z"
   },
   {
    "duration": 3,
    "start_time": "2024-02-20T10:42:36.161Z"
   },
   {
    "duration": 42,
    "start_time": "2024-02-20T10:42:36.166Z"
   },
   {
    "duration": 21,
    "start_time": "2024-02-20T10:42:36.210Z"
   },
   {
    "duration": 3,
    "start_time": "2024-02-20T10:42:36.233Z"
   },
   {
    "duration": 20,
    "start_time": "2024-02-20T10:42:36.238Z"
   },
   {
    "duration": 8,
    "start_time": "2024-02-20T10:42:36.259Z"
   },
   {
    "duration": 8,
    "start_time": "2024-02-20T10:42:36.268Z"
   },
   {
    "duration": 6,
    "start_time": "2024-02-20T10:42:52.274Z"
   },
   {
    "duration": 80,
    "start_time": "2024-02-20T10:43:19.722Z"
   },
   {
    "duration": 97,
    "start_time": "2024-02-20T10:43:30.571Z"
   },
   {
    "duration": 8,
    "start_time": "2024-02-20T10:43:37.482Z"
   },
   {
    "duration": 20,
    "start_time": "2024-02-20T10:43:48.529Z"
   },
   {
    "duration": 8,
    "start_time": "2024-02-20T10:44:15.490Z"
   },
   {
    "duration": 8,
    "start_time": "2024-02-20T10:44:25.290Z"
   },
   {
    "duration": 29,
    "start_time": "2024-02-20T10:44:25.809Z"
   },
   {
    "duration": 9,
    "start_time": "2024-02-20T10:44:46.793Z"
   },
   {
    "duration": 78,
    "start_time": "2024-02-20T10:44:56.707Z"
   },
   {
    "duration": 7,
    "start_time": "2024-02-20T10:45:04.035Z"
   },
   {
    "duration": 8,
    "start_time": "2024-02-20T10:45:34.209Z"
   },
   {
    "duration": 21,
    "start_time": "2024-02-20T10:45:36.882Z"
   },
   {
    "duration": 1041,
    "start_time": "2024-02-20T10:58:07.010Z"
   },
   {
    "duration": 7,
    "start_time": "2024-02-20T10:58:16.930Z"
   },
   {
    "duration": 21,
    "start_time": "2024-02-20T10:59:23.562Z"
   },
   {
    "duration": 3,
    "start_time": "2024-02-20T10:59:37.010Z"
   },
   {
    "duration": 60,
    "start_time": "2024-02-20T10:59:37.015Z"
   },
   {
    "duration": 20,
    "start_time": "2024-02-20T10:59:37.076Z"
   },
   {
    "duration": 3,
    "start_time": "2024-02-20T10:59:37.098Z"
   },
   {
    "duration": 21,
    "start_time": "2024-02-20T10:59:37.103Z"
   },
   {
    "duration": 5,
    "start_time": "2024-02-20T10:59:37.125Z"
   },
   {
    "duration": 6,
    "start_time": "2024-02-20T10:59:37.131Z"
   },
   {
    "duration": 5,
    "start_time": "2024-02-20T10:59:37.164Z"
   },
   {
    "duration": 5,
    "start_time": "2024-02-20T10:59:37.170Z"
   },
   {
    "duration": 5,
    "start_time": "2024-02-20T10:59:40.090Z"
   },
   {
    "duration": 20,
    "start_time": "2024-02-20T10:59:45.258Z"
   },
   {
    "duration": 318,
    "start_time": "2024-02-20T11:02:12.883Z"
   },
   {
    "duration": 5,
    "start_time": "2024-02-20T11:02:57.491Z"
   },
   {
    "duration": 14,
    "start_time": "2024-02-20T11:03:12.483Z"
   },
   {
    "duration": 21,
    "start_time": "2024-02-20T11:03:15.659Z"
   },
   {
    "duration": 5,
    "start_time": "2024-02-20T11:03:23.203Z"
   },
   {
    "duration": 13,
    "start_time": "2024-02-20T11:03:23.811Z"
   },
   {
    "duration": 19,
    "start_time": "2024-02-20T11:03:24.523Z"
   },
   {
    "duration": 3,
    "start_time": "2024-02-20T11:03:30.021Z"
   },
   {
    "duration": 85,
    "start_time": "2024-02-20T11:03:30.026Z"
   },
   {
    "duration": 24,
    "start_time": "2024-02-20T11:03:30.113Z"
   },
   {
    "duration": 50,
    "start_time": "2024-02-20T11:03:30.139Z"
   },
   {
    "duration": 101,
    "start_time": "2024-02-20T11:03:30.191Z"
   },
   {
    "duration": 54,
    "start_time": "2024-02-20T11:03:30.294Z"
   },
   {
    "duration": 43,
    "start_time": "2024-02-20T11:03:30.349Z"
   },
   {
    "duration": 31,
    "start_time": "2024-02-20T11:03:30.394Z"
   },
   {
    "duration": 37,
    "start_time": "2024-02-20T11:03:30.426Z"
   },
   {
    "duration": 43,
    "start_time": "2024-02-20T11:03:30.464Z"
   },
   {
    "duration": 48,
    "start_time": "2024-02-20T11:03:30.508Z"
   },
   {
    "duration": 42,
    "start_time": "2024-02-20T11:03:30.557Z"
   },
   {
    "duration": 899,
    "start_time": "2024-02-20T11:03:30.601Z"
   },
   {
    "duration": 20,
    "start_time": "2024-02-20T11:03:47.217Z"
   },
   {
    "duration": 4,
    "start_time": "2024-02-20T11:03:49.498Z"
   },
   {
    "duration": 20,
    "start_time": "2024-02-20T11:03:50.099Z"
   },
   {
    "duration": 14,
    "start_time": "2024-02-20T11:03:50.754Z"
   },
   {
    "duration": 20,
    "start_time": "2024-02-20T11:03:52.002Z"
   },
   {
    "duration": 4,
    "start_time": "2024-02-20T11:04:00.265Z"
   },
   {
    "duration": 69,
    "start_time": "2024-02-20T11:04:00.271Z"
   },
   {
    "duration": 41,
    "start_time": "2024-02-20T11:04:00.341Z"
   },
   {
    "duration": 37,
    "start_time": "2024-02-20T11:04:00.383Z"
   },
   {
    "duration": 59,
    "start_time": "2024-02-20T11:04:00.422Z"
   },
   {
    "duration": 33,
    "start_time": "2024-02-20T11:04:00.483Z"
   },
   {
    "duration": 42,
    "start_time": "2024-02-20T11:04:00.518Z"
   },
   {
    "duration": 30,
    "start_time": "2024-02-20T11:04:00.563Z"
   },
   {
    "duration": 27,
    "start_time": "2024-02-20T11:04:00.595Z"
   },
   {
    "duration": 5,
    "start_time": "2024-02-20T11:04:02.307Z"
   },
   {
    "duration": 4,
    "start_time": "2024-02-20T11:04:03.338Z"
   },
   {
    "duration": 18,
    "start_time": "2024-02-20T11:04:04.139Z"
   },
   {
    "duration": 14,
    "start_time": "2024-02-20T11:04:04.971Z"
   },
   {
    "duration": 5,
    "start_time": "2024-02-20T11:04:53.050Z"
   },
   {
    "duration": 19,
    "start_time": "2024-02-20T11:04:53.622Z"
   },
   {
    "duration": 13,
    "start_time": "2024-02-20T11:04:54.290Z"
   },
   {
    "duration": 19,
    "start_time": "2024-02-20T11:04:55.051Z"
   },
   {
    "duration": 3,
    "start_time": "2024-02-20T11:06:22.195Z"
   },
   {
    "duration": 5,
    "start_time": "2024-02-20T11:06:27.970Z"
   },
   {
    "duration": 15,
    "start_time": "2024-02-20T11:06:44.147Z"
   },
   {
    "duration": 20,
    "start_time": "2024-02-20T11:06:46.067Z"
   },
   {
    "duration": 3,
    "start_time": "2024-02-20T11:06:52.276Z"
   },
   {
    "duration": 44,
    "start_time": "2024-02-20T11:06:52.282Z"
   },
   {
    "duration": 20,
    "start_time": "2024-02-20T11:06:52.328Z"
   },
   {
    "duration": 3,
    "start_time": "2024-02-20T11:06:52.349Z"
   },
   {
    "duration": 40,
    "start_time": "2024-02-20T11:06:52.354Z"
   },
   {
    "duration": 4,
    "start_time": "2024-02-20T11:06:52.396Z"
   },
   {
    "duration": 6,
    "start_time": "2024-02-20T11:06:52.402Z"
   },
   {
    "duration": 4,
    "start_time": "2024-02-20T11:06:52.409Z"
   },
   {
    "duration": 8,
    "start_time": "2024-02-20T11:06:52.415Z"
   },
   {
    "duration": 6,
    "start_time": "2024-02-20T11:06:52.424Z"
   },
   {
    "duration": 3,
    "start_time": "2024-02-20T11:06:52.432Z"
   },
   {
    "duration": 5,
    "start_time": "2024-02-20T11:06:52.437Z"
   },
   {
    "duration": 22,
    "start_time": "2024-02-20T11:06:52.465Z"
   },
   {
    "duration": 21,
    "start_time": "2024-02-20T11:06:52.489Z"
   },
   {
    "duration": 895,
    "start_time": "2024-02-20T11:06:52.512Z"
   },
   {
    "duration": 14,
    "start_time": "2024-02-20T11:06:57.442Z"
   },
   {
    "duration": 21,
    "start_time": "2024-02-20T11:06:58.043Z"
   },
   {
    "duration": 3,
    "start_time": "2024-02-20T11:07:48.859Z"
   },
   {
    "duration": 41,
    "start_time": "2024-02-20T11:07:48.864Z"
   },
   {
    "duration": 30,
    "start_time": "2024-02-20T11:07:48.908Z"
   },
   {
    "duration": 4,
    "start_time": "2024-02-20T11:07:48.940Z"
   },
   {
    "duration": 28,
    "start_time": "2024-02-20T11:07:48.946Z"
   },
   {
    "duration": 7,
    "start_time": "2024-02-20T11:07:48.976Z"
   },
   {
    "duration": 7,
    "start_time": "2024-02-20T11:07:48.984Z"
   },
   {
    "duration": 7,
    "start_time": "2024-02-20T11:07:48.993Z"
   },
   {
    "duration": 6,
    "start_time": "2024-02-20T11:07:49.001Z"
   },
   {
    "duration": 9,
    "start_time": "2024-02-20T11:07:49.008Z"
   },
   {
    "duration": 11,
    "start_time": "2024-02-20T11:07:49.019Z"
   },
   {
    "duration": 10,
    "start_time": "2024-02-20T11:07:49.031Z"
   },
   {
    "duration": 30,
    "start_time": "2024-02-20T11:07:49.043Z"
   },
   {
    "duration": 19,
    "start_time": "2024-02-20T11:07:52.115Z"
   },
   {
    "duration": 84,
    "start_time": "2024-02-20T11:11:46.060Z"
   },
   {
    "duration": 71,
    "start_time": "2024-02-20T11:12:06.195Z"
   },
   {
    "duration": 20,
    "start_time": "2024-02-20T11:16:23.707Z"
   },
   {
    "duration": 3,
    "start_time": "2024-02-20T11:16:29.309Z"
   },
   {
    "duration": 45,
    "start_time": "2024-02-20T11:16:29.314Z"
   },
   {
    "duration": 19,
    "start_time": "2024-02-20T11:16:29.360Z"
   },
   {
    "duration": 3,
    "start_time": "2024-02-20T11:16:29.380Z"
   },
   {
    "duration": 17,
    "start_time": "2024-02-20T11:16:29.385Z"
   },
   {
    "duration": 4,
    "start_time": "2024-02-20T11:16:29.403Z"
   },
   {
    "duration": 7,
    "start_time": "2024-02-20T11:16:29.408Z"
   },
   {
    "duration": 14,
    "start_time": "2024-02-20T11:16:29.416Z"
   },
   {
    "duration": 11,
    "start_time": "2024-02-20T11:16:29.431Z"
   },
   {
    "duration": 18,
    "start_time": "2024-02-20T11:16:31.299Z"
   },
   {
    "duration": 5,
    "start_time": "2024-02-20T11:18:45.636Z"
   },
   {
    "duration": 5,
    "start_time": "2024-02-20T11:18:47.571Z"
   },
   {
    "duration": 19,
    "start_time": "2024-02-20T11:18:48.154Z"
   },
   {
    "duration": 81,
    "start_time": "2024-02-20T11:19:58.683Z"
   },
   {
    "duration": 81,
    "start_time": "2024-02-20T11:20:05.387Z"
   },
   {
    "duration": 14,
    "start_time": "2024-02-20T11:20:15.739Z"
   },
   {
    "duration": 89,
    "start_time": "2024-02-20T11:20:36.732Z"
   },
   {
    "duration": 10,
    "start_time": "2024-02-20T11:24:08.467Z"
   },
   {
    "duration": 2,
    "start_time": "2024-02-20T11:24:20.636Z"
   },
   {
    "duration": 47,
    "start_time": "2024-02-20T11:24:20.640Z"
   },
   {
    "duration": 19,
    "start_time": "2024-02-20T11:24:20.688Z"
   },
   {
    "duration": 3,
    "start_time": "2024-02-20T11:24:20.709Z"
   },
   {
    "duration": 20,
    "start_time": "2024-02-20T11:24:20.714Z"
   },
   {
    "duration": 9,
    "start_time": "2024-02-20T11:24:20.736Z"
   },
   {
    "duration": 21,
    "start_time": "2024-02-20T11:24:20.747Z"
   },
   {
    "duration": 5,
    "start_time": "2024-02-20T11:24:20.770Z"
   },
   {
    "duration": 7,
    "start_time": "2024-02-20T11:24:20.777Z"
   },
   {
    "duration": 5,
    "start_time": "2024-02-20T11:24:20.785Z"
   },
   {
    "duration": 24,
    "start_time": "2024-02-20T11:24:20.791Z"
   },
   {
    "duration": 10,
    "start_time": "2024-02-20T11:24:24.140Z"
   },
   {
    "duration": 10,
    "start_time": "2024-02-20T11:24:33.329Z"
   },
   {
    "duration": 2,
    "start_time": "2024-02-20T11:25:01.936Z"
   },
   {
    "duration": 53,
    "start_time": "2024-02-20T11:25:01.940Z"
   },
   {
    "duration": 20,
    "start_time": "2024-02-20T11:25:01.995Z"
   },
   {
    "duration": 4,
    "start_time": "2024-02-20T11:25:02.016Z"
   },
   {
    "duration": 36,
    "start_time": "2024-02-20T11:25:02.021Z"
   },
   {
    "duration": 19,
    "start_time": "2024-02-20T11:25:02.058Z"
   },
   {
    "duration": 10,
    "start_time": "2024-02-20T11:25:02.078Z"
   },
   {
    "duration": 9,
    "start_time": "2024-02-20T11:25:02.089Z"
   },
   {
    "duration": 7,
    "start_time": "2024-02-20T11:25:02.100Z"
   },
   {
    "duration": 15,
    "start_time": "2024-02-20T11:25:02.108Z"
   },
   {
    "duration": 4,
    "start_time": "2024-02-20T11:25:02.125Z"
   },
   {
    "duration": 911,
    "start_time": "2024-02-20T11:25:11.740Z"
   },
   {
    "duration": 0,
    "start_time": "2024-02-20T11:25:12.652Z"
   },
   {
    "duration": 961,
    "start_time": "2024-02-20T11:25:45.611Z"
   },
   {
    "duration": 868,
    "start_time": "2024-02-20T11:25:57.947Z"
   },
   {
    "duration": 2,
    "start_time": "2024-02-20T11:26:07.197Z"
   },
   {
    "duration": 42,
    "start_time": "2024-02-20T11:26:07.201Z"
   },
   {
    "duration": 20,
    "start_time": "2024-02-20T11:26:07.244Z"
   },
   {
    "duration": 3,
    "start_time": "2024-02-20T11:26:07.265Z"
   },
   {
    "duration": 20,
    "start_time": "2024-02-20T11:26:07.270Z"
   },
   {
    "duration": 4,
    "start_time": "2024-02-20T11:26:07.291Z"
   },
   {
    "duration": 8,
    "start_time": "2024-02-20T11:26:07.296Z"
   },
   {
    "duration": 4,
    "start_time": "2024-02-20T11:26:07.305Z"
   },
   {
    "duration": 5,
    "start_time": "2024-02-20T11:26:07.311Z"
   },
   {
    "duration": 10,
    "start_time": "2024-02-20T11:26:07.318Z"
   },
   {
    "duration": 45,
    "start_time": "2024-02-20T11:26:07.330Z"
   },
   {
    "duration": 11,
    "start_time": "2024-02-20T11:26:07.376Z"
   },
   {
    "duration": 0,
    "start_time": "2024-02-20T11:26:07.388Z"
   },
   {
    "duration": 0,
    "start_time": "2024-02-20T11:26:07.389Z"
   },
   {
    "duration": 0,
    "start_time": "2024-02-20T11:26:07.390Z"
   },
   {
    "duration": 0,
    "start_time": "2024-02-20T11:26:07.391Z"
   },
   {
    "duration": 0,
    "start_time": "2024-02-20T11:26:07.392Z"
   },
   {
    "duration": 3,
    "start_time": "2024-02-20T11:26:48.594Z"
   },
   {
    "duration": 43,
    "start_time": "2024-02-20T11:26:48.599Z"
   },
   {
    "duration": 20,
    "start_time": "2024-02-20T11:26:48.644Z"
   },
   {
    "duration": 4,
    "start_time": "2024-02-20T11:26:48.665Z"
   },
   {
    "duration": 20,
    "start_time": "2024-02-20T11:26:48.671Z"
   },
   {
    "duration": 5,
    "start_time": "2024-02-20T11:26:48.693Z"
   },
   {
    "duration": 10,
    "start_time": "2024-02-20T11:26:48.699Z"
   },
   {
    "duration": 19,
    "start_time": "2024-02-20T11:26:48.710Z"
   },
   {
    "duration": 12,
    "start_time": "2024-02-20T11:26:48.730Z"
   },
   {
    "duration": 3,
    "start_time": "2024-02-20T11:26:48.744Z"
   },
   {
    "duration": 29,
    "start_time": "2024-02-20T11:26:48.749Z"
   },
   {
    "duration": 21,
    "start_time": "2024-02-20T11:26:54.131Z"
   },
   {
    "duration": 11,
    "start_time": "2024-02-20T11:26:57.483Z"
   },
   {
    "duration": 3,
    "start_time": "2024-02-20T11:30:25.580Z"
   },
   {
    "duration": 54,
    "start_time": "2024-02-20T11:30:25.584Z"
   },
   {
    "duration": 19,
    "start_time": "2024-02-20T11:30:25.639Z"
   },
   {
    "duration": 3,
    "start_time": "2024-02-20T11:30:25.660Z"
   },
   {
    "duration": 37,
    "start_time": "2024-02-20T11:30:25.665Z"
   },
   {
    "duration": 12,
    "start_time": "2024-02-20T11:30:25.703Z"
   },
   {
    "duration": 28,
    "start_time": "2024-02-20T11:30:25.717Z"
   },
   {
    "duration": 21,
    "start_time": "2024-02-20T11:30:25.747Z"
   },
   {
    "duration": 11,
    "start_time": "2024-02-20T11:30:25.770Z"
   },
   {
    "duration": 14,
    "start_time": "2024-02-20T11:30:25.782Z"
   },
   {
    "duration": 19,
    "start_time": "2024-02-20T11:30:25.797Z"
   },
   {
    "duration": 634,
    "start_time": "2024-02-20T11:30:25.817Z"
   },
   {
    "duration": 951,
    "start_time": "2024-02-20T11:30:26.453Z"
   },
   {
    "duration": 0,
    "start_time": "2024-02-20T11:30:27.405Z"
   },
   {
    "duration": 0,
    "start_time": "2024-02-20T11:30:27.408Z"
   },
   {
    "duration": 0,
    "start_time": "2024-02-20T11:30:27.409Z"
   },
   {
    "duration": 0,
    "start_time": "2024-02-20T11:30:27.410Z"
   },
   {
    "duration": 20,
    "start_time": "2024-02-20T11:31:12.796Z"
   },
   {
    "duration": 2,
    "start_time": "2024-02-20T11:31:27.458Z"
   },
   {
    "duration": 44,
    "start_time": "2024-02-20T11:31:27.462Z"
   },
   {
    "duration": 19,
    "start_time": "2024-02-20T11:31:27.508Z"
   },
   {
    "duration": 4,
    "start_time": "2024-02-20T11:31:27.529Z"
   },
   {
    "duration": 19,
    "start_time": "2024-02-20T11:31:27.536Z"
   },
   {
    "duration": 9,
    "start_time": "2024-02-20T11:31:27.556Z"
   },
   {
    "duration": 17,
    "start_time": "2024-02-20T11:31:27.567Z"
   },
   {
    "duration": 5,
    "start_time": "2024-02-20T11:31:27.585Z"
   },
   {
    "duration": 9,
    "start_time": "2024-02-20T11:31:27.592Z"
   },
   {
    "duration": 12,
    "start_time": "2024-02-20T11:31:27.603Z"
   },
   {
    "duration": 18,
    "start_time": "2024-02-20T11:31:27.616Z"
   },
   {
    "duration": 670,
    "start_time": "2024-02-20T11:31:27.636Z"
   },
   {
    "duration": 5,
    "start_time": "2024-02-20T11:32:10.996Z"
   },
   {
    "duration": 5,
    "start_time": "2024-02-20T11:32:32.541Z"
   },
   {
    "duration": 6,
    "start_time": "2024-02-20T11:32:44.948Z"
   },
   {
    "duration": 2,
    "start_time": "2024-02-20T11:33:11.350Z"
   },
   {
    "duration": 42,
    "start_time": "2024-02-20T11:33:11.354Z"
   },
   {
    "duration": 20,
    "start_time": "2024-02-20T11:33:11.397Z"
   },
   {
    "duration": 3,
    "start_time": "2024-02-20T11:33:11.418Z"
   },
   {
    "duration": 18,
    "start_time": "2024-02-20T11:33:11.423Z"
   },
   {
    "duration": 4,
    "start_time": "2024-02-20T11:33:11.442Z"
   },
   {
    "duration": 17,
    "start_time": "2024-02-20T11:33:11.448Z"
   },
   {
    "duration": 4,
    "start_time": "2024-02-20T11:33:11.466Z"
   },
   {
    "duration": 6,
    "start_time": "2024-02-20T11:33:11.471Z"
   },
   {
    "duration": 4,
    "start_time": "2024-02-20T11:33:11.478Z"
   },
   {
    "duration": 4,
    "start_time": "2024-02-20T11:33:15.148Z"
   },
   {
    "duration": 5,
    "start_time": "2024-02-20T11:33:15.716Z"
   },
   {
    "duration": 638,
    "start_time": "2024-02-20T11:33:16.612Z"
   },
   {
    "duration": 21,
    "start_time": "2024-02-20T11:33:17.676Z"
   },
   {
    "duration": 850,
    "start_time": "2024-02-20T11:33:18.580Z"
   },
   {
    "duration": 3,
    "start_time": "2024-02-20T11:40:56.307Z"
   },
   {
    "duration": 49,
    "start_time": "2024-02-20T11:40:56.312Z"
   },
   {
    "duration": 19,
    "start_time": "2024-02-20T11:40:56.362Z"
   },
   {
    "duration": 4,
    "start_time": "2024-02-20T11:40:56.383Z"
   },
   {
    "duration": 26,
    "start_time": "2024-02-20T11:40:56.388Z"
   },
   {
    "duration": 4,
    "start_time": "2024-02-20T11:40:56.416Z"
   },
   {
    "duration": 6,
    "start_time": "2024-02-20T11:40:56.421Z"
   },
   {
    "duration": 4,
    "start_time": "2024-02-20T11:40:56.429Z"
   },
   {
    "duration": 31,
    "start_time": "2024-02-20T11:40:56.435Z"
   },
   {
    "duration": 5,
    "start_time": "2024-02-20T11:41:00.389Z"
   },
   {
    "duration": 80,
    "start_time": "2024-02-20T11:41:01.660Z"
   },
   {
    "duration": 2,
    "start_time": "2024-02-20T11:43:07.836Z"
   },
   {
    "duration": 8,
    "start_time": "2024-02-20T11:44:49.149Z"
   },
   {
    "duration": 3,
    "start_time": "2024-02-20T11:45:02.443Z"
   },
   {
    "duration": 2,
    "start_time": "2024-02-20T11:45:03.172Z"
   },
   {
    "duration": 3,
    "start_time": "2024-02-20T11:45:08.166Z"
   },
   {
    "duration": 42,
    "start_time": "2024-02-20T11:45:08.171Z"
   },
   {
    "duration": 19,
    "start_time": "2024-02-20T11:45:08.215Z"
   },
   {
    "duration": 8,
    "start_time": "2024-02-20T11:45:08.235Z"
   },
   {
    "duration": 20,
    "start_time": "2024-02-20T11:45:08.245Z"
   },
   {
    "duration": 8,
    "start_time": "2024-02-20T11:45:08.266Z"
   },
   {
    "duration": 13,
    "start_time": "2024-02-20T11:45:08.275Z"
   },
   {
    "duration": 10,
    "start_time": "2024-02-20T11:45:08.289Z"
   },
   {
    "duration": 9,
    "start_time": "2024-02-20T11:45:08.300Z"
   },
   {
    "duration": 10,
    "start_time": "2024-02-20T11:45:08.310Z"
   },
   {
    "duration": 14,
    "start_time": "2024-02-20T11:45:08.321Z"
   },
   {
    "duration": 6,
    "start_time": "2024-02-20T11:45:08.336Z"
   },
   {
    "duration": 11,
    "start_time": "2024-02-20T11:45:08.343Z"
   },
   {
    "duration": 20,
    "start_time": "2024-02-20T11:45:08.357Z"
   },
   {
    "duration": 877,
    "start_time": "2024-02-20T11:45:08.379Z"
   },
   {
    "duration": 8,
    "start_time": "2024-02-20T11:45:14.540Z"
   },
   {
    "duration": 2,
    "start_time": "2024-02-20T11:45:15.084Z"
   },
   {
    "duration": 3,
    "start_time": "2024-02-20T11:45:15.572Z"
   },
   {
    "duration": 2,
    "start_time": "2024-02-20T11:45:16.052Z"
   },
   {
    "duration": 19,
    "start_time": "2024-02-20T11:45:16.885Z"
   },
   {
    "duration": 315,
    "start_time": "2024-02-20T11:46:14.180Z"
   },
   {
    "duration": 2,
    "start_time": "2024-02-20T11:46:19.599Z"
   },
   {
    "duration": 42,
    "start_time": "2024-02-20T11:46:19.603Z"
   },
   {
    "duration": 21,
    "start_time": "2024-02-20T11:46:19.647Z"
   },
   {
    "duration": 4,
    "start_time": "2024-02-20T11:46:19.670Z"
   },
   {
    "duration": 25,
    "start_time": "2024-02-20T11:46:19.676Z"
   },
   {
    "duration": 5,
    "start_time": "2024-02-20T11:46:19.703Z"
   },
   {
    "duration": 7,
    "start_time": "2024-02-20T11:46:19.709Z"
   },
   {
    "duration": 3,
    "start_time": "2024-02-20T11:46:19.718Z"
   },
   {
    "duration": 6,
    "start_time": "2024-02-20T11:46:19.723Z"
   },
   {
    "duration": 443,
    "start_time": "2024-02-20T11:46:19.730Z"
   },
   {
    "duration": 0,
    "start_time": "2024-02-20T11:46:20.175Z"
   },
   {
    "duration": 0,
    "start_time": "2024-02-20T11:46:20.176Z"
   },
   {
    "duration": 0,
    "start_time": "2024-02-20T11:46:20.177Z"
   },
   {
    "duration": 0,
    "start_time": "2024-02-20T11:46:20.178Z"
   },
   {
    "duration": 0,
    "start_time": "2024-02-20T11:46:20.180Z"
   },
   {
    "duration": 11,
    "start_time": "2024-02-20T11:46:27.261Z"
   },
   {
    "duration": 3,
    "start_time": "2024-02-20T11:46:29.681Z"
   },
   {
    "duration": 42,
    "start_time": "2024-02-20T11:46:29.686Z"
   },
   {
    "duration": 23,
    "start_time": "2024-02-20T11:46:29.729Z"
   },
   {
    "duration": 4,
    "start_time": "2024-02-20T11:46:29.754Z"
   },
   {
    "duration": 18,
    "start_time": "2024-02-20T11:46:29.761Z"
   },
   {
    "duration": 4,
    "start_time": "2024-02-20T11:46:29.781Z"
   },
   {
    "duration": 22,
    "start_time": "2024-02-20T11:46:29.787Z"
   },
   {
    "duration": 18,
    "start_time": "2024-02-20T11:46:29.810Z"
   },
   {
    "duration": 13,
    "start_time": "2024-02-20T11:46:29.830Z"
   },
   {
    "duration": 16,
    "start_time": "2024-02-20T11:46:29.844Z"
   },
   {
    "duration": 4,
    "start_time": "2024-02-20T11:46:29.862Z"
   },
   {
    "duration": 4,
    "start_time": "2024-02-20T11:46:29.868Z"
   },
   {
    "duration": 12,
    "start_time": "2024-02-20T11:46:29.873Z"
   },
   {
    "duration": 22,
    "start_time": "2024-02-20T11:46:29.887Z"
   },
   {
    "duration": 859,
    "start_time": "2024-02-20T11:46:29.910Z"
   },
   {
    "duration": 8,
    "start_time": "2024-02-20T11:46:55.964Z"
   },
   {
    "duration": 3,
    "start_time": "2024-02-20T11:47:02.299Z"
   },
   {
    "duration": 53,
    "start_time": "2024-02-20T11:47:02.304Z"
   },
   {
    "duration": 20,
    "start_time": "2024-02-20T11:47:02.359Z"
   },
   {
    "duration": 3,
    "start_time": "2024-02-20T11:47:02.381Z"
   },
   {
    "duration": 49,
    "start_time": "2024-02-20T11:47:02.386Z"
   },
   {
    "duration": 27,
    "start_time": "2024-02-20T11:47:02.436Z"
   },
   {
    "duration": 14,
    "start_time": "2024-02-20T11:47:02.464Z"
   },
   {
    "duration": 24,
    "start_time": "2024-02-20T11:47:02.480Z"
   },
   {
    "duration": 24,
    "start_time": "2024-02-20T11:47:02.505Z"
   },
   {
    "duration": 10,
    "start_time": "2024-02-20T11:47:02.531Z"
   },
   {
    "duration": 4,
    "start_time": "2024-02-20T11:47:02.543Z"
   },
   {
    "duration": 6,
    "start_time": "2024-02-20T11:47:02.548Z"
   },
   {
    "duration": 15,
    "start_time": "2024-02-20T11:47:02.556Z"
   },
   {
    "duration": 22,
    "start_time": "2024-02-20T11:47:02.572Z"
   },
   {
    "duration": 967,
    "start_time": "2024-02-20T11:47:02.596Z"
   },
   {
    "duration": 3,
    "start_time": "2024-02-20T11:55:04.850Z"
   },
   {
    "duration": 41,
    "start_time": "2024-02-20T11:55:04.855Z"
   },
   {
    "duration": 18,
    "start_time": "2024-02-20T11:55:04.897Z"
   },
   {
    "duration": 3,
    "start_time": "2024-02-20T11:55:04.917Z"
   },
   {
    "duration": 23,
    "start_time": "2024-02-20T11:55:04.922Z"
   },
   {
    "duration": 12,
    "start_time": "2024-02-20T11:55:04.947Z"
   },
   {
    "duration": 9,
    "start_time": "2024-02-20T11:55:04.960Z"
   },
   {
    "duration": 5,
    "start_time": "2024-02-20T11:55:04.971Z"
   },
   {
    "duration": 5,
    "start_time": "2024-02-20T11:55:04.978Z"
   },
   {
    "duration": 83,
    "start_time": "2024-02-20T11:55:04.985Z"
   },
   {
    "duration": 0,
    "start_time": "2024-02-20T11:55:05.070Z"
   },
   {
    "duration": 0,
    "start_time": "2024-02-20T11:55:05.071Z"
   },
   {
    "duration": 0,
    "start_time": "2024-02-20T11:55:05.073Z"
   },
   {
    "duration": 0,
    "start_time": "2024-02-20T11:55:05.074Z"
   },
   {
    "duration": 0,
    "start_time": "2024-02-20T11:55:05.075Z"
   },
   {
    "duration": 20,
    "start_time": "2024-02-20T12:01:07.525Z"
   },
   {
    "duration": 95,
    "start_time": "2024-02-20T12:01:40.606Z"
   },
   {
    "duration": 67,
    "start_time": "2024-02-20T12:01:48.357Z"
   },
   {
    "duration": 3,
    "start_time": "2024-02-20T12:01:51.961Z"
   },
   {
    "duration": 44,
    "start_time": "2024-02-20T12:01:51.966Z"
   },
   {
    "duration": 20,
    "start_time": "2024-02-20T12:01:52.012Z"
   },
   {
    "duration": 10,
    "start_time": "2024-02-20T12:01:52.034Z"
   },
   {
    "duration": 27,
    "start_time": "2024-02-20T12:01:52.046Z"
   },
   {
    "duration": 4,
    "start_time": "2024-02-20T12:01:52.075Z"
   },
   {
    "duration": 8,
    "start_time": "2024-02-20T12:01:52.081Z"
   },
   {
    "duration": 17,
    "start_time": "2024-02-20T12:01:52.090Z"
   },
   {
    "duration": 5,
    "start_time": "2024-02-20T12:01:52.109Z"
   },
   {
    "duration": 380,
    "start_time": "2024-02-20T12:01:52.116Z"
   },
   {
    "duration": 0,
    "start_time": "2024-02-20T12:01:52.498Z"
   },
   {
    "duration": 0,
    "start_time": "2024-02-20T12:01:52.499Z"
   },
   {
    "duration": 0,
    "start_time": "2024-02-20T12:01:52.500Z"
   },
   {
    "duration": 0,
    "start_time": "2024-02-20T12:01:52.501Z"
   },
   {
    "duration": 0,
    "start_time": "2024-02-20T12:01:52.502Z"
   },
   {
    "duration": 0,
    "start_time": "2024-02-20T12:01:52.503Z"
   },
   {
    "duration": 348,
    "start_time": "2024-02-20T12:01:58.878Z"
   },
   {
    "duration": 9,
    "start_time": "2024-02-20T12:02:22.382Z"
   },
   {
    "duration": 94,
    "start_time": "2024-02-20T12:02:44.853Z"
   },
   {
    "duration": 3,
    "start_time": "2024-02-20T12:10:56.510Z"
   },
   {
    "duration": 45,
    "start_time": "2024-02-20T12:10:56.515Z"
   },
   {
    "duration": 19,
    "start_time": "2024-02-20T12:10:56.562Z"
   },
   {
    "duration": 3,
    "start_time": "2024-02-20T12:10:56.583Z"
   },
   {
    "duration": 19,
    "start_time": "2024-02-20T12:10:56.587Z"
   },
   {
    "duration": 4,
    "start_time": "2024-02-20T12:10:56.607Z"
   },
   {
    "duration": 6,
    "start_time": "2024-02-20T12:10:56.612Z"
   },
   {
    "duration": 7,
    "start_time": "2024-02-20T12:10:56.619Z"
   },
   {
    "duration": 10,
    "start_time": "2024-02-20T12:10:56.627Z"
   },
   {
    "duration": 335,
    "start_time": "2024-02-20T12:10:56.664Z"
   },
   {
    "duration": 0,
    "start_time": "2024-02-20T12:10:57.001Z"
   },
   {
    "duration": 0,
    "start_time": "2024-02-20T12:10:57.002Z"
   },
   {
    "duration": 0,
    "start_time": "2024-02-20T12:10:57.003Z"
   },
   {
    "duration": 0,
    "start_time": "2024-02-20T12:10:57.004Z"
   },
   {
    "duration": 0,
    "start_time": "2024-02-20T12:10:57.005Z"
   },
   {
    "duration": 0,
    "start_time": "2024-02-20T12:10:57.006Z"
   },
   {
    "duration": 21,
    "start_time": "2024-02-20T12:11:28.526Z"
   },
   {
    "duration": 303,
    "start_time": "2024-02-20T12:12:07.455Z"
   },
   {
    "duration": 12,
    "start_time": "2024-02-20T12:12:19.543Z"
   },
   {
    "duration": 6,
    "start_time": "2024-02-20T12:14:07.206Z"
   },
   {
    "duration": 3,
    "start_time": "2024-02-20T12:14:43.066Z"
   },
   {
    "duration": 43,
    "start_time": "2024-02-20T12:14:43.071Z"
   },
   {
    "duration": 21,
    "start_time": "2024-02-20T12:14:43.115Z"
   },
   {
    "duration": 4,
    "start_time": "2024-02-20T12:14:43.138Z"
   },
   {
    "duration": 27,
    "start_time": "2024-02-20T12:14:43.144Z"
   },
   {
    "duration": 4,
    "start_time": "2024-02-20T12:14:43.173Z"
   },
   {
    "duration": 6,
    "start_time": "2024-02-20T12:14:43.179Z"
   },
   {
    "duration": 4,
    "start_time": "2024-02-20T12:14:43.186Z"
   },
   {
    "duration": 10,
    "start_time": "2024-02-20T12:14:43.191Z"
   },
   {
    "duration": 22,
    "start_time": "2024-02-20T12:14:43.203Z"
   },
   {
    "duration": 76,
    "start_time": "2024-02-20T12:14:43.227Z"
   },
   {
    "duration": 0,
    "start_time": "2024-02-20T12:14:43.305Z"
   },
   {
    "duration": 0,
    "start_time": "2024-02-20T12:14:43.306Z"
   },
   {
    "duration": 0,
    "start_time": "2024-02-20T12:14:43.307Z"
   },
   {
    "duration": 0,
    "start_time": "2024-02-20T12:14:43.308Z"
   },
   {
    "duration": 0,
    "start_time": "2024-02-20T12:14:43.310Z"
   },
   {
    "duration": 0,
    "start_time": "2024-02-20T12:14:43.311Z"
   },
   {
    "duration": 0,
    "start_time": "2024-02-20T12:14:43.312Z"
   },
   {
    "duration": 81,
    "start_time": "2024-02-20T12:14:54.031Z"
   },
   {
    "duration": 367,
    "start_time": "2024-02-20T12:15:01.808Z"
   },
   {
    "duration": 326,
    "start_time": "2024-02-20T12:15:30.918Z"
   },
   {
    "duration": 3,
    "start_time": "2024-02-20T12:55:25.410Z"
   },
   {
    "duration": 53,
    "start_time": "2024-02-20T12:55:25.415Z"
   },
   {
    "duration": 21,
    "start_time": "2024-02-20T12:55:25.469Z"
   },
   {
    "duration": 3,
    "start_time": "2024-02-20T12:55:25.491Z"
   },
   {
    "duration": 25,
    "start_time": "2024-02-20T12:55:25.496Z"
   },
   {
    "duration": 4,
    "start_time": "2024-02-20T12:55:25.523Z"
   },
   {
    "duration": 22,
    "start_time": "2024-02-20T12:55:25.528Z"
   },
   {
    "duration": 4,
    "start_time": "2024-02-20T12:55:25.552Z"
   },
   {
    "duration": 5,
    "start_time": "2024-02-20T12:55:25.565Z"
   },
   {
    "duration": 22,
    "start_time": "2024-02-20T12:55:25.571Z"
   },
   {
    "duration": 342,
    "start_time": "2024-02-20T12:55:25.595Z"
   },
   {
    "duration": 0,
    "start_time": "2024-02-20T12:55:25.939Z"
   },
   {
    "duration": 0,
    "start_time": "2024-02-20T12:55:25.941Z"
   },
   {
    "duration": 0,
    "start_time": "2024-02-20T12:55:25.942Z"
   },
   {
    "duration": 0,
    "start_time": "2024-02-20T12:55:25.943Z"
   },
   {
    "duration": 0,
    "start_time": "2024-02-20T12:55:25.944Z"
   },
   {
    "duration": 0,
    "start_time": "2024-02-20T12:55:25.945Z"
   },
   {
    "duration": 0,
    "start_time": "2024-02-20T12:55:25.947Z"
   },
   {
    "duration": 13,
    "start_time": "2024-02-20T12:57:31.191Z"
   },
   {
    "duration": 12,
    "start_time": "2024-02-20T12:58:09.263Z"
   },
   {
    "duration": 4,
    "start_time": "2024-02-20T12:58:48.207Z"
   },
   {
    "duration": 19,
    "start_time": "2024-02-20T12:58:51.863Z"
   },
   {
    "duration": 12,
    "start_time": "2024-02-20T12:59:10.456Z"
   },
   {
    "duration": 12,
    "start_time": "2024-02-20T13:02:41.216Z"
   },
   {
    "duration": 3,
    "start_time": "2024-02-20T13:02:52.853Z"
   },
   {
    "duration": 43,
    "start_time": "2024-02-20T13:02:52.857Z"
   },
   {
    "duration": 21,
    "start_time": "2024-02-20T13:02:52.901Z"
   },
   {
    "duration": 3,
    "start_time": "2024-02-20T13:02:52.923Z"
   },
   {
    "duration": 39,
    "start_time": "2024-02-20T13:02:52.928Z"
   },
   {
    "duration": 11,
    "start_time": "2024-02-20T13:02:52.969Z"
   },
   {
    "duration": 5,
    "start_time": "2024-02-20T13:02:52.982Z"
   },
   {
    "duration": 5,
    "start_time": "2024-02-20T13:02:52.989Z"
   },
   {
    "duration": 8,
    "start_time": "2024-02-20T13:02:52.995Z"
   },
   {
    "duration": 3,
    "start_time": "2024-02-20T13:02:53.004Z"
   },
   {
    "duration": 4,
    "start_time": "2024-02-20T13:02:55.031Z"
   },
   {
    "duration": 13,
    "start_time": "2024-02-20T13:02:55.592Z"
   },
   {
    "duration": 13,
    "start_time": "2024-02-20T13:02:56.287Z"
   },
   {
    "duration": 14,
    "start_time": "2024-02-20T13:04:26.016Z"
   },
   {
    "duration": 3,
    "start_time": "2024-02-20T13:04:32.319Z"
   },
   {
    "duration": 40,
    "start_time": "2024-02-20T13:04:32.324Z"
   },
   {
    "duration": 22,
    "start_time": "2024-02-20T13:04:32.365Z"
   },
   {
    "duration": 4,
    "start_time": "2024-02-20T13:04:32.389Z"
   },
   {
    "duration": 22,
    "start_time": "2024-02-20T13:04:32.396Z"
   },
   {
    "duration": 4,
    "start_time": "2024-02-20T13:04:32.420Z"
   },
   {
    "duration": 11,
    "start_time": "2024-02-20T13:04:32.425Z"
   },
   {
    "duration": 29,
    "start_time": "2024-02-20T13:04:32.437Z"
   },
   {
    "duration": 7,
    "start_time": "2024-02-20T13:04:32.468Z"
   },
   {
    "duration": 8,
    "start_time": "2024-02-20T13:04:32.477Z"
   },
   {
    "duration": 15,
    "start_time": "2024-02-20T13:04:32.486Z"
   },
   {
    "duration": 0,
    "start_time": "2024-02-20T13:04:32.504Z"
   },
   {
    "duration": 0,
    "start_time": "2024-02-20T13:04:32.505Z"
   },
   {
    "duration": 0,
    "start_time": "2024-02-20T13:04:32.507Z"
   },
   {
    "duration": 0,
    "start_time": "2024-02-20T13:04:32.508Z"
   },
   {
    "duration": 0,
    "start_time": "2024-02-20T13:04:32.510Z"
   },
   {
    "duration": 0,
    "start_time": "2024-02-20T13:04:32.512Z"
   },
   {
    "duration": 0,
    "start_time": "2024-02-20T13:04:32.513Z"
   },
   {
    "duration": 0,
    "start_time": "2024-02-20T13:04:32.514Z"
   },
   {
    "duration": 0,
    "start_time": "2024-02-20T13:04:32.516Z"
   },
   {
    "duration": 8,
    "start_time": "2024-02-20T13:05:18.223Z"
   },
   {
    "duration": 9,
    "start_time": "2024-02-20T13:05:27.559Z"
   },
   {
    "duration": 8,
    "start_time": "2024-02-20T13:05:36.552Z"
   },
   {
    "duration": 3,
    "start_time": "2024-02-20T13:06:49.751Z"
   },
   {
    "duration": 44,
    "start_time": "2024-02-20T13:06:49.757Z"
   },
   {
    "duration": 27,
    "start_time": "2024-02-20T13:06:49.803Z"
   },
   {
    "duration": 4,
    "start_time": "2024-02-20T13:06:49.831Z"
   },
   {
    "duration": 25,
    "start_time": "2024-02-20T13:06:49.838Z"
   },
   {
    "duration": 11,
    "start_time": "2024-02-20T13:06:49.864Z"
   },
   {
    "duration": 13,
    "start_time": "2024-02-20T13:06:49.876Z"
   },
   {
    "duration": 6,
    "start_time": "2024-02-20T13:06:49.891Z"
   },
   {
    "duration": 21,
    "start_time": "2024-02-20T13:06:49.899Z"
   },
   {
    "duration": 20,
    "start_time": "2024-02-20T13:06:49.921Z"
   },
   {
    "duration": 362,
    "start_time": "2024-02-20T13:06:49.943Z"
   },
   {
    "duration": 0,
    "start_time": "2024-02-20T13:06:50.307Z"
   },
   {
    "duration": 0,
    "start_time": "2024-02-20T13:06:50.308Z"
   },
   {
    "duration": 0,
    "start_time": "2024-02-20T13:06:50.310Z"
   },
   {
    "duration": 0,
    "start_time": "2024-02-20T13:06:50.312Z"
   },
   {
    "duration": 0,
    "start_time": "2024-02-20T13:06:50.313Z"
   },
   {
    "duration": 0,
    "start_time": "2024-02-20T13:06:50.314Z"
   },
   {
    "duration": 0,
    "start_time": "2024-02-20T13:06:50.316Z"
   },
   {
    "duration": 302,
    "start_time": "2024-02-20T13:07:47.936Z"
   },
   {
    "duration": 3,
    "start_time": "2024-02-20T13:07:50.519Z"
   },
   {
    "duration": 48,
    "start_time": "2024-02-20T13:07:50.523Z"
   },
   {
    "duration": 19,
    "start_time": "2024-02-20T13:07:50.573Z"
   },
   {
    "duration": 3,
    "start_time": "2024-02-20T13:07:50.593Z"
   },
   {
    "duration": 19,
    "start_time": "2024-02-20T13:07:50.598Z"
   },
   {
    "duration": 6,
    "start_time": "2024-02-20T13:07:50.618Z"
   },
   {
    "duration": 14,
    "start_time": "2024-02-20T13:07:50.625Z"
   },
   {
    "duration": 7,
    "start_time": "2024-02-20T13:07:50.640Z"
   },
   {
    "duration": 5,
    "start_time": "2024-02-20T13:07:50.664Z"
   },
   {
    "duration": 12,
    "start_time": "2024-02-20T13:07:50.671Z"
   },
   {
    "duration": 357,
    "start_time": "2024-02-20T13:07:50.684Z"
   },
   {
    "duration": 0,
    "start_time": "2024-02-20T13:07:51.043Z"
   },
   {
    "duration": 0,
    "start_time": "2024-02-20T13:07:51.044Z"
   },
   {
    "duration": 0,
    "start_time": "2024-02-20T13:07:51.046Z"
   },
   {
    "duration": 0,
    "start_time": "2024-02-20T13:07:51.047Z"
   },
   {
    "duration": 0,
    "start_time": "2024-02-20T13:07:51.048Z"
   },
   {
    "duration": 0,
    "start_time": "2024-02-20T13:07:51.049Z"
   },
   {
    "duration": 0,
    "start_time": "2024-02-20T13:07:51.050Z"
   },
   {
    "duration": 3,
    "start_time": "2024-02-20T13:08:13.240Z"
   },
   {
    "duration": 45,
    "start_time": "2024-02-20T13:08:13.245Z"
   },
   {
    "duration": 21,
    "start_time": "2024-02-20T13:08:13.291Z"
   },
   {
    "duration": 3,
    "start_time": "2024-02-20T13:08:13.314Z"
   },
   {
    "duration": 19,
    "start_time": "2024-02-20T13:08:13.318Z"
   },
   {
    "duration": 3,
    "start_time": "2024-02-20T13:08:13.339Z"
   },
   {
    "duration": 23,
    "start_time": "2024-02-20T13:08:13.344Z"
   },
   {
    "duration": 3,
    "start_time": "2024-02-20T13:08:13.369Z"
   },
   {
    "duration": 9,
    "start_time": "2024-02-20T13:08:13.374Z"
   },
   {
    "duration": 14,
    "start_time": "2024-02-20T13:08:13.384Z"
   },
   {
    "duration": 283,
    "start_time": "2024-02-20T13:08:13.399Z"
   },
   {
    "duration": 0,
    "start_time": "2024-02-20T13:08:13.683Z"
   },
   {
    "duration": 0,
    "start_time": "2024-02-20T13:08:13.685Z"
   },
   {
    "duration": 0,
    "start_time": "2024-02-20T13:08:13.686Z"
   },
   {
    "duration": 0,
    "start_time": "2024-02-20T13:08:13.687Z"
   },
   {
    "duration": 0,
    "start_time": "2024-02-20T13:08:13.688Z"
   },
   {
    "duration": 0,
    "start_time": "2024-02-20T13:08:13.689Z"
   },
   {
    "duration": 0,
    "start_time": "2024-02-20T13:08:13.690Z"
   },
   {
    "duration": 1361,
    "start_time": "2024-02-21T10:00:41.447Z"
   },
   {
    "duration": 136,
    "start_time": "2024-02-21T10:00:42.810Z"
   },
   {
    "duration": 24,
    "start_time": "2024-02-21T10:00:42.948Z"
   },
   {
    "duration": 3,
    "start_time": "2024-02-21T10:00:42.974Z"
   },
   {
    "duration": 22,
    "start_time": "2024-02-21T10:00:42.979Z"
   },
   {
    "duration": 18,
    "start_time": "2024-02-21T10:00:43.003Z"
   },
   {
    "duration": 7,
    "start_time": "2024-02-21T10:00:43.023Z"
   },
   {
    "duration": 5,
    "start_time": "2024-02-21T10:00:43.032Z"
   },
   {
    "duration": 19,
    "start_time": "2024-02-21T10:00:43.038Z"
   },
   {
    "duration": 42,
    "start_time": "2024-02-21T10:00:43.058Z"
   },
   {
    "duration": 1139,
    "start_time": "2024-02-21T10:00:43.101Z"
   },
   {
    "duration": 9,
    "start_time": "2024-02-21T10:05:51.424Z"
   },
   {
    "duration": 2,
    "start_time": "2024-02-21T10:06:28.346Z"
   },
   {
    "duration": 52,
    "start_time": "2024-02-21T10:06:28.350Z"
   },
   {
    "duration": 23,
    "start_time": "2024-02-21T10:06:28.404Z"
   },
   {
    "duration": 3,
    "start_time": "2024-02-21T10:06:28.429Z"
   },
   {
    "duration": 23,
    "start_time": "2024-02-21T10:06:28.434Z"
   },
   {
    "duration": 25,
    "start_time": "2024-02-21T10:06:28.459Z"
   },
   {
    "duration": 6,
    "start_time": "2024-02-21T10:06:28.485Z"
   },
   {
    "duration": 7,
    "start_time": "2024-02-21T10:06:28.492Z"
   },
   {
    "duration": 9,
    "start_time": "2024-02-21T10:06:28.500Z"
   },
   {
    "duration": 24,
    "start_time": "2024-02-21T10:06:28.510Z"
   },
   {
    "duration": 1091,
    "start_time": "2024-02-21T10:06:28.535Z"
   },
   {
    "duration": 1005,
    "start_time": "2024-02-21T10:08:18.904Z"
   },
   {
    "duration": 3,
    "start_time": "2024-02-21T10:27:27.932Z"
   },
   {
    "duration": 45,
    "start_time": "2024-02-21T10:27:27.936Z"
   },
   {
    "duration": 22,
    "start_time": "2024-02-21T10:27:27.982Z"
   },
   {
    "duration": 4,
    "start_time": "2024-02-21T10:27:28.006Z"
   },
   {
    "duration": 45,
    "start_time": "2024-02-21T10:27:28.012Z"
   },
   {
    "duration": 4,
    "start_time": "2024-02-21T10:27:28.059Z"
   },
   {
    "duration": 10,
    "start_time": "2024-02-21T10:27:28.064Z"
   },
   {
    "duration": 9,
    "start_time": "2024-02-21T10:27:28.075Z"
   },
   {
    "duration": 21,
    "start_time": "2024-02-21T10:27:28.085Z"
   },
   {
    "duration": 29,
    "start_time": "2024-02-21T10:27:28.108Z"
   },
   {
    "duration": 1063,
    "start_time": "2024-02-21T10:27:28.139Z"
   },
   {
    "duration": 192,
    "start_time": "2024-02-21T10:29:43.473Z"
   },
   {
    "duration": 249,
    "start_time": "2024-02-21T10:29:52.529Z"
   },
   {
    "duration": 4,
    "start_time": "2024-02-21T10:30:26.666Z"
   },
   {
    "duration": 117,
    "start_time": "2024-02-21T10:30:37.377Z"
   },
   {
    "duration": 128,
    "start_time": "2024-02-21T10:30:41.842Z"
   },
   {
    "duration": 134,
    "start_time": "2024-02-21T10:30:52.449Z"
   },
   {
    "duration": 3,
    "start_time": "2024-02-21T10:32:38.584Z"
   },
   {
    "duration": 40,
    "start_time": "2024-02-21T10:32:38.589Z"
   },
   {
    "duration": 23,
    "start_time": "2024-02-21T10:32:38.630Z"
   },
   {
    "duration": 3,
    "start_time": "2024-02-21T10:32:38.655Z"
   },
   {
    "duration": 36,
    "start_time": "2024-02-21T10:32:38.660Z"
   },
   {
    "duration": 5,
    "start_time": "2024-02-21T10:32:38.698Z"
   },
   {
    "duration": 8,
    "start_time": "2024-02-21T10:32:38.705Z"
   },
   {
    "duration": 8,
    "start_time": "2024-02-21T10:32:38.714Z"
   },
   {
    "duration": 24,
    "start_time": "2024-02-21T10:32:38.726Z"
   },
   {
    "duration": 37,
    "start_time": "2024-02-21T10:32:38.752Z"
   },
   {
    "duration": 1033,
    "start_time": "2024-02-21T10:32:38.791Z"
   },
   {
    "duration": 136,
    "start_time": "2024-02-21T10:32:39.826Z"
   },
   {
    "duration": 3,
    "start_time": "2024-02-21T10:33:07.705Z"
   },
   {
    "duration": 3,
    "start_time": "2024-02-21T10:33:09.514Z"
   },
   {
    "duration": 4,
    "start_time": "2024-02-21T10:33:09.518Z"
   },
   {
    "duration": 2,
    "start_time": "2024-02-21T10:33:12.307Z"
   },
   {
    "duration": 18,
    "start_time": "2024-02-21T10:33:12.311Z"
   },
   {
    "duration": 48,
    "start_time": "2024-02-21T10:33:12.331Z"
   },
   {
    "duration": 20,
    "start_time": "2024-02-21T10:33:12.381Z"
   },
   {
    "duration": 4,
    "start_time": "2024-02-21T10:33:12.403Z"
   },
   {
    "duration": 26,
    "start_time": "2024-02-21T10:33:12.408Z"
   },
   {
    "duration": 4,
    "start_time": "2024-02-21T10:33:12.436Z"
   },
   {
    "duration": 11,
    "start_time": "2024-02-21T10:33:12.442Z"
   },
   {
    "duration": 28,
    "start_time": "2024-02-21T10:33:12.455Z"
   },
   {
    "duration": 17,
    "start_time": "2024-02-21T10:33:12.485Z"
   },
   {
    "duration": 26,
    "start_time": "2024-02-21T10:33:12.504Z"
   },
   {
    "duration": 1163,
    "start_time": "2024-02-21T10:33:12.533Z"
   },
   {
    "duration": 127,
    "start_time": "2024-02-21T10:33:13.697Z"
   },
   {
    "duration": 5,
    "start_time": "2024-02-21T10:34:36.305Z"
   },
   {
    "duration": 2,
    "start_time": "2024-02-21T10:42:45.419Z"
   },
   {
    "duration": 13,
    "start_time": "2024-02-21T10:42:45.423Z"
   },
   {
    "duration": 42,
    "start_time": "2024-02-21T10:42:45.438Z"
   },
   {
    "duration": 22,
    "start_time": "2024-02-21T10:42:45.481Z"
   },
   {
    "duration": 4,
    "start_time": "2024-02-21T10:42:45.505Z"
   },
   {
    "duration": 13,
    "start_time": "2024-02-21T10:42:45.511Z"
   },
   {
    "duration": 10,
    "start_time": "2024-02-21T10:42:45.526Z"
   },
   {
    "duration": 29,
    "start_time": "2024-02-21T10:42:45.538Z"
   },
   {
    "duration": 8,
    "start_time": "2024-02-21T10:42:45.569Z"
   },
   {
    "duration": 30,
    "start_time": "2024-02-21T10:42:45.579Z"
   },
   {
    "duration": 1018,
    "start_time": "2024-02-21T10:42:45.611Z"
   },
   {
    "duration": 132,
    "start_time": "2024-02-21T10:42:46.631Z"
   },
   {
    "duration": 34,
    "start_time": "2024-02-21T10:42:46.764Z"
   },
   {
    "duration": 22,
    "start_time": "2024-02-21T10:42:46.801Z"
   },
   {
    "duration": 1353,
    "start_time": "2024-02-21T10:42:46.825Z"
   },
   {
    "duration": 1037,
    "start_time": "2024-02-21T10:43:49.819Z"
   },
   {
    "duration": 3,
    "start_time": "2024-02-21T10:43:58.014Z"
   },
   {
    "duration": 3,
    "start_time": "2024-02-21T10:43:58.020Z"
   },
   {
    "duration": 47,
    "start_time": "2024-02-21T10:43:58.025Z"
   },
   {
    "duration": 23,
    "start_time": "2024-02-21T10:43:58.074Z"
   },
   {
    "duration": 4,
    "start_time": "2024-02-21T10:43:58.100Z"
   },
   {
    "duration": 10,
    "start_time": "2024-02-21T10:43:58.105Z"
   },
   {
    "duration": 22,
    "start_time": "2024-02-21T10:43:58.116Z"
   },
   {
    "duration": 4,
    "start_time": "2024-02-21T10:43:58.140Z"
   },
   {
    "duration": 8,
    "start_time": "2024-02-21T10:43:58.146Z"
   },
   {
    "duration": 36,
    "start_time": "2024-02-21T10:43:58.155Z"
   },
   {
    "duration": 1021,
    "start_time": "2024-02-21T10:43:58.194Z"
   },
   {
    "duration": 139,
    "start_time": "2024-02-21T10:43:59.216Z"
   },
   {
    "duration": 34,
    "start_time": "2024-02-21T10:43:59.356Z"
   },
   {
    "duration": 21,
    "start_time": "2024-02-21T10:43:59.393Z"
   },
   {
    "duration": 1153,
    "start_time": "2024-02-21T10:43:59.415Z"
   },
   {
    "duration": 1290,
    "start_time": "2024-02-21T10:44:00.569Z"
   },
   {
    "duration": 13,
    "start_time": "2024-02-21T10:44:32.523Z"
   },
   {
    "duration": 3,
    "start_time": "2024-02-21T10:45:20.538Z"
   },
   {
    "duration": 16,
    "start_time": "2024-02-21T10:45:20.543Z"
   },
   {
    "duration": 47,
    "start_time": "2024-02-21T10:45:20.561Z"
   },
   {
    "duration": 31,
    "start_time": "2024-02-21T10:45:20.609Z"
   },
   {
    "duration": 4,
    "start_time": "2024-02-21T10:45:20.642Z"
   },
   {
    "duration": 11,
    "start_time": "2024-02-21T10:45:20.648Z"
   },
   {
    "duration": 7,
    "start_time": "2024-02-21T10:45:20.661Z"
   },
   {
    "duration": 16,
    "start_time": "2024-02-21T10:45:20.669Z"
   },
   {
    "duration": 14,
    "start_time": "2024-02-21T10:45:20.686Z"
   },
   {
    "duration": 25,
    "start_time": "2024-02-21T10:45:20.701Z"
   },
   {
    "duration": 1069,
    "start_time": "2024-02-21T10:45:20.728Z"
   },
   {
    "duration": 150,
    "start_time": "2024-02-21T10:45:21.799Z"
   },
   {
    "duration": 38,
    "start_time": "2024-02-21T10:45:21.951Z"
   },
   {
    "duration": 28,
    "start_time": "2024-02-21T10:45:21.993Z"
   },
   {
    "duration": 12,
    "start_time": "2024-02-21T10:45:22.022Z"
   },
   {
    "duration": 1278,
    "start_time": "2024-02-21T10:45:22.036Z"
   },
   {
    "duration": 3,
    "start_time": "2024-02-21T10:45:31.395Z"
   },
   {
    "duration": 71,
    "start_time": "2024-02-21T10:45:31.400Z"
   },
   {
    "duration": 76,
    "start_time": "2024-02-21T10:45:31.472Z"
   },
   {
    "duration": 23,
    "start_time": "2024-02-21T10:45:31.550Z"
   },
   {
    "duration": 31,
    "start_time": "2024-02-21T10:45:31.576Z"
   },
   {
    "duration": 25,
    "start_time": "2024-02-21T10:45:31.609Z"
   },
   {
    "duration": 42,
    "start_time": "2024-02-21T10:45:31.636Z"
   },
   {
    "duration": 29,
    "start_time": "2024-02-21T10:45:31.680Z"
   },
   {
    "duration": 25,
    "start_time": "2024-02-21T10:45:31.711Z"
   },
   {
    "duration": 40,
    "start_time": "2024-02-21T10:45:31.737Z"
   },
   {
    "duration": 1111,
    "start_time": "2024-02-21T10:45:31.779Z"
   },
   {
    "duration": 129,
    "start_time": "2024-02-21T10:45:32.892Z"
   },
   {
    "duration": 20,
    "start_time": "2024-02-21T10:45:33.023Z"
   },
   {
    "duration": 23,
    "start_time": "2024-02-21T10:45:33.046Z"
   },
   {
    "duration": 24,
    "start_time": "2024-02-21T10:45:33.082Z"
   },
   {
    "duration": 1305,
    "start_time": "2024-02-21T10:45:33.108Z"
   },
   {
    "duration": 3,
    "start_time": "2024-02-21T10:45:50.726Z"
   },
   {
    "duration": 15,
    "start_time": "2024-02-21T10:45:50.731Z"
   },
   {
    "duration": 51,
    "start_time": "2024-02-21T10:45:50.748Z"
   },
   {
    "duration": 22,
    "start_time": "2024-02-21T10:45:50.800Z"
   },
   {
    "duration": 4,
    "start_time": "2024-02-21T10:45:50.824Z"
   },
   {
    "duration": 14,
    "start_time": "2024-02-21T10:45:50.829Z"
   },
   {
    "duration": 19,
    "start_time": "2024-02-21T10:45:50.845Z"
   },
   {
    "duration": 12,
    "start_time": "2024-02-21T10:45:50.866Z"
   },
   {
    "duration": 8,
    "start_time": "2024-02-21T10:45:50.882Z"
   },
   {
    "duration": 30,
    "start_time": "2024-02-21T10:45:50.892Z"
   },
   {
    "duration": 1099,
    "start_time": "2024-02-21T10:45:50.924Z"
   },
   {
    "duration": 135,
    "start_time": "2024-02-21T10:45:52.025Z"
   },
   {
    "duration": 27,
    "start_time": "2024-02-21T10:45:52.162Z"
   },
   {
    "duration": 28,
    "start_time": "2024-02-21T10:45:52.193Z"
   },
   {
    "duration": 13,
    "start_time": "2024-02-21T10:45:52.222Z"
   },
   {
    "duration": 1117,
    "start_time": "2024-02-21T10:45:52.236Z"
   },
   {
    "duration": 1239,
    "start_time": "2024-02-21T10:45:53.356Z"
   },
   {
    "duration": 21,
    "start_time": "2024-02-21T10:46:51.543Z"
   },
   {
    "duration": 5,
    "start_time": "2024-02-21T10:47:05.847Z"
   },
   {
    "duration": 3,
    "start_time": "2024-02-21T10:49:09.855Z"
   },
   {
    "duration": 5,
    "start_time": "2024-02-21T10:49:09.860Z"
   },
   {
    "duration": 43,
    "start_time": "2024-02-21T10:49:09.867Z"
   },
   {
    "duration": 22,
    "start_time": "2024-02-21T10:49:09.911Z"
   },
   {
    "duration": 4,
    "start_time": "2024-02-21T10:49:09.935Z"
   },
   {
    "duration": 6,
    "start_time": "2024-02-21T10:49:09.940Z"
   },
   {
    "duration": 6,
    "start_time": "2024-02-21T10:49:09.947Z"
   },
   {
    "duration": 4,
    "start_time": "2024-02-21T10:49:09.954Z"
   },
   {
    "duration": 26,
    "start_time": "2024-02-21T10:49:09.960Z"
   },
   {
    "duration": 22,
    "start_time": "2024-02-21T10:49:09.987Z"
   },
   {
    "duration": 1165,
    "start_time": "2024-02-21T10:49:10.010Z"
   },
   {
    "duration": 5,
    "start_time": "2024-02-21T10:49:11.177Z"
   },
   {
    "duration": 22,
    "start_time": "2024-02-21T10:49:11.184Z"
   },
   {
    "duration": 3,
    "start_time": "2024-02-21T10:55:32.596Z"
   },
   {
    "duration": 3,
    "start_time": "2024-02-21T10:56:09.363Z"
   },
   {
    "duration": 2,
    "start_time": "2024-02-21T10:56:39.437Z"
   },
   {
    "duration": 3,
    "start_time": "2024-02-21T10:57:32.404Z"
   },
   {
    "duration": 13,
    "start_time": "2024-02-21T10:57:59.540Z"
   },
   {
    "duration": 10,
    "start_time": "2024-02-21T10:58:08.628Z"
   },
   {
    "duration": 10,
    "start_time": "2024-02-21T10:59:57.286Z"
   },
   {
    "duration": 7,
    "start_time": "2024-02-21T11:03:33.382Z"
   },
   {
    "duration": 6,
    "start_time": "2024-02-21T11:03:38.766Z"
   },
   {
    "duration": 4,
    "start_time": "2024-02-21T11:04:52.287Z"
   },
   {
    "duration": 5,
    "start_time": "2024-02-21T11:04:57.135Z"
   },
   {
    "duration": 7,
    "start_time": "2024-02-21T11:06:36.840Z"
   },
   {
    "duration": 7,
    "start_time": "2024-02-21T11:06:43.111Z"
   },
   {
    "duration": 6,
    "start_time": "2024-02-21T11:06:55.679Z"
   },
   {
    "duration": 5,
    "start_time": "2024-02-21T11:07:45.968Z"
   },
   {
    "duration": 10,
    "start_time": "2024-02-21T11:10:02.926Z"
   },
   {
    "duration": 76,
    "start_time": "2024-02-21T11:10:37.056Z"
   },
   {
    "duration": 1023,
    "start_time": "2024-02-21T11:11:26.903Z"
   },
   {
    "duration": 174,
    "start_time": "2024-02-21T11:12:34.080Z"
   },
   {
    "duration": 2,
    "start_time": "2024-02-21T11:14:27.680Z"
   },
   {
    "duration": 10,
    "start_time": "2024-02-21T12:00:56.764Z"
   },
   {
    "duration": 864,
    "start_time": "2024-02-21T12:01:04.805Z"
   },
   {
    "duration": 1970,
    "start_time": "2024-02-21T12:02:27.517Z"
   },
   {
    "duration": 1759,
    "start_time": "2024-02-21T12:03:07.076Z"
   },
   {
    "duration": 397,
    "start_time": "2024-02-21T12:10:44.989Z"
   },
   {
    "duration": 254,
    "start_time": "2024-02-21T12:10:54.308Z"
   },
   {
    "duration": 171,
    "start_time": "2024-02-21T12:11:05.048Z"
   },
   {
    "duration": 81,
    "start_time": "2024-02-21T12:11:20.892Z"
   },
   {
    "duration": 161,
    "start_time": "2024-02-21T12:11:46.972Z"
   },
   {
    "duration": 159,
    "start_time": "2024-02-21T12:11:50.316Z"
   },
   {
    "duration": 287,
    "start_time": "2024-02-21T12:12:12.868Z"
   },
   {
    "duration": 239,
    "start_time": "2024-02-21T12:12:19.645Z"
   },
   {
    "duration": 249,
    "start_time": "2024-02-21T12:12:46.853Z"
   },
   {
    "duration": 258,
    "start_time": "2024-02-21T12:12:53.581Z"
   },
   {
    "duration": 219,
    "start_time": "2024-02-21T12:13:37.004Z"
   },
   {
    "duration": 1580,
    "start_time": "2024-02-21T12:13:45.772Z"
   },
   {
    "duration": 164,
    "start_time": "2024-02-21T12:13:51.844Z"
   },
   {
    "duration": 384,
    "start_time": "2024-02-21T12:15:07.141Z"
   },
   {
    "duration": 133,
    "start_time": "2024-02-21T12:15:13.515Z"
   },
   {
    "duration": 145,
    "start_time": "2024-02-21T12:15:37.557Z"
   },
   {
    "duration": 260,
    "start_time": "2024-02-21T12:15:56.725Z"
   },
   {
    "duration": 12,
    "start_time": "2024-02-21T12:20:27.068Z"
   },
   {
    "duration": 9,
    "start_time": "2024-02-21T12:20:34.812Z"
   },
   {
    "duration": 10,
    "start_time": "2024-02-21T12:20:42.307Z"
   },
   {
    "duration": 3,
    "start_time": "2024-02-21T12:22:02.500Z"
   },
   {
    "duration": 21,
    "start_time": "2024-02-21T12:22:02.506Z"
   },
   {
    "duration": 57,
    "start_time": "2024-02-21T12:22:02.529Z"
   },
   {
    "duration": 22,
    "start_time": "2024-02-21T12:22:02.587Z"
   },
   {
    "duration": 17,
    "start_time": "2024-02-21T12:22:02.611Z"
   },
   {
    "duration": 27,
    "start_time": "2024-02-21T12:22:02.630Z"
   },
   {
    "duration": 42,
    "start_time": "2024-02-21T12:22:02.658Z"
   },
   {
    "duration": 20,
    "start_time": "2024-02-21T12:22:02.702Z"
   },
   {
    "duration": 15,
    "start_time": "2024-02-21T12:22:02.723Z"
   },
   {
    "duration": 33,
    "start_time": "2024-02-21T12:22:02.739Z"
   },
   {
    "duration": 1324,
    "start_time": "2024-02-21T12:22:02.774Z"
   },
   {
    "duration": 5,
    "start_time": "2024-02-21T12:22:04.099Z"
   },
   {
    "duration": 23,
    "start_time": "2024-02-21T12:22:04.106Z"
   },
   {
    "duration": 11,
    "start_time": "2024-02-21T12:22:04.132Z"
   },
   {
    "duration": 40,
    "start_time": "2024-02-21T12:22:04.145Z"
   },
   {
    "duration": 6,
    "start_time": "2024-02-21T12:22:04.187Z"
   },
   {
    "duration": 1827,
    "start_time": "2024-02-21T12:22:04.195Z"
   },
   {
    "duration": 195,
    "start_time": "2024-02-21T12:22:06.023Z"
   },
   {
    "duration": 279,
    "start_time": "2024-02-21T12:22:06.220Z"
   },
   {
    "duration": 259,
    "start_time": "2024-02-21T12:22:06.500Z"
   },
   {
    "duration": 10,
    "start_time": "2024-02-21T12:22:06.761Z"
   },
   {
    "duration": 159,
    "start_time": "2024-02-21T12:22:06.783Z"
   },
   {
    "duration": 139,
    "start_time": "2024-02-21T12:22:22.292Z"
   },
   {
    "duration": 117,
    "start_time": "2024-02-21T12:23:13.108Z"
   },
   {
    "duration": 6,
    "start_time": "2024-02-21T12:25:55.010Z"
   },
   {
    "duration": 127,
    "start_time": "2024-02-21T12:25:58.602Z"
   },
   {
    "duration": 1340,
    "start_time": "2024-02-21T12:29:08.286Z"
   },
   {
    "duration": 127,
    "start_time": "2024-02-21T12:29:26.094Z"
   },
   {
    "duration": 4,
    "start_time": "2024-02-21T12:30:35.574Z"
   },
   {
    "duration": 14,
    "start_time": "2024-02-21T12:32:51.109Z"
   },
   {
    "duration": 6,
    "start_time": "2024-02-21T12:33:41.496Z"
   },
   {
    "duration": 8,
    "start_time": "2024-02-21T12:34:02.468Z"
   },
   {
    "duration": 22,
    "start_time": "2024-02-21T12:34:05.812Z"
   },
   {
    "duration": 3,
    "start_time": "2024-02-21T12:36:42.623Z"
   },
   {
    "duration": 3,
    "start_time": "2024-02-21T12:36:42.628Z"
   },
   {
    "duration": 38,
    "start_time": "2024-02-21T12:36:42.633Z"
   },
   {
    "duration": 28,
    "start_time": "2024-02-21T12:36:42.673Z"
   },
   {
    "duration": 3,
    "start_time": "2024-02-21T12:36:42.704Z"
   },
   {
    "duration": 15,
    "start_time": "2024-02-21T12:36:42.708Z"
   },
   {
    "duration": 17,
    "start_time": "2024-02-21T12:36:42.725Z"
   },
   {
    "duration": 7,
    "start_time": "2024-02-21T12:36:42.744Z"
   },
   {
    "duration": 8,
    "start_time": "2024-02-21T12:36:42.752Z"
   },
   {
    "duration": 40,
    "start_time": "2024-02-21T12:36:42.762Z"
   },
   {
    "duration": 1101,
    "start_time": "2024-02-21T12:36:42.803Z"
   },
   {
    "duration": 5,
    "start_time": "2024-02-21T12:36:43.906Z"
   },
   {
    "duration": 22,
    "start_time": "2024-02-21T12:36:43.913Z"
   },
   {
    "duration": 11,
    "start_time": "2024-02-21T12:36:43.938Z"
   },
   {
    "duration": 42,
    "start_time": "2024-02-21T12:36:43.951Z"
   },
   {
    "duration": 9,
    "start_time": "2024-02-21T12:36:43.994Z"
   },
   {
    "duration": 2041,
    "start_time": "2024-02-21T12:36:44.005Z"
   },
   {
    "duration": 185,
    "start_time": "2024-02-21T12:36:46.047Z"
   },
   {
    "duration": 265,
    "start_time": "2024-02-21T12:36:46.234Z"
   },
   {
    "duration": 10,
    "start_time": "2024-02-21T12:36:46.501Z"
   },
   {
    "duration": 8,
    "start_time": "2024-02-21T12:36:46.513Z"
   },
   {
    "duration": 14,
    "start_time": "2024-02-21T12:36:46.522Z"
   },
   {
    "duration": 6,
    "start_time": "2024-02-21T12:36:46.538Z"
   },
   {
    "duration": 17,
    "start_time": "2024-02-21T12:37:00.578Z"
   },
   {
    "duration": 12,
    "start_time": "2024-02-21T12:38:37.306Z"
   },
   {
    "duration": 10,
    "start_time": "2024-02-21T12:38:43.562Z"
   },
   {
    "duration": 3,
    "start_time": "2024-02-21T12:39:19.558Z"
   },
   {
    "duration": 11,
    "start_time": "2024-02-21T12:39:19.563Z"
   },
   {
    "duration": 44,
    "start_time": "2024-02-21T12:39:19.575Z"
   },
   {
    "duration": 22,
    "start_time": "2024-02-21T12:39:19.621Z"
   },
   {
    "duration": 13,
    "start_time": "2024-02-21T12:39:19.645Z"
   },
   {
    "duration": 27,
    "start_time": "2024-02-21T12:39:19.659Z"
   },
   {
    "duration": 21,
    "start_time": "2024-02-21T12:39:19.687Z"
   },
   {
    "duration": 25,
    "start_time": "2024-02-21T12:39:19.710Z"
   },
   {
    "duration": 28,
    "start_time": "2024-02-21T12:39:19.736Z"
   },
   {
    "duration": 28,
    "start_time": "2024-02-21T12:39:19.766Z"
   },
   {
    "duration": 1031,
    "start_time": "2024-02-21T12:39:19.796Z"
   },
   {
    "duration": 5,
    "start_time": "2024-02-21T12:39:20.828Z"
   },
   {
    "duration": 36,
    "start_time": "2024-02-21T12:39:20.834Z"
   },
   {
    "duration": 12,
    "start_time": "2024-02-21T12:39:20.872Z"
   },
   {
    "duration": 4,
    "start_time": "2024-02-21T12:39:20.886Z"
   },
   {
    "duration": 6,
    "start_time": "2024-02-21T12:39:20.892Z"
   },
   {
    "duration": 1761,
    "start_time": "2024-02-21T12:39:20.899Z"
   },
   {
    "duration": 186,
    "start_time": "2024-02-21T12:39:22.662Z"
   },
   {
    "duration": 260,
    "start_time": "2024-02-21T12:39:22.850Z"
   },
   {
    "duration": 11,
    "start_time": "2024-02-21T12:39:23.112Z"
   },
   {
    "duration": 7,
    "start_time": "2024-02-21T12:39:23.124Z"
   },
   {
    "duration": 14,
    "start_time": "2024-02-21T12:39:23.133Z"
   },
   {
    "duration": 34,
    "start_time": "2024-02-21T12:39:23.148Z"
   },
   {
    "duration": 23,
    "start_time": "2024-02-21T13:03:52.896Z"
   },
   {
    "duration": 11,
    "start_time": "2024-02-21T13:05:46.733Z"
   },
   {
    "duration": 687,
    "start_time": "2024-02-21T13:06:02.510Z"
   },
   {
    "duration": 311,
    "start_time": "2024-02-21T13:06:13.709Z"
   },
   {
    "duration": 285,
    "start_time": "2024-02-21T13:06:23.342Z"
   },
   {
    "duration": 3,
    "start_time": "2024-02-21T13:06:38.044Z"
   },
   {
    "duration": 4,
    "start_time": "2024-02-21T13:06:38.048Z"
   },
   {
    "duration": 38,
    "start_time": "2024-02-21T13:06:38.054Z"
   },
   {
    "duration": 22,
    "start_time": "2024-02-21T13:06:38.094Z"
   },
   {
    "duration": 4,
    "start_time": "2024-02-21T13:06:38.118Z"
   },
   {
    "duration": 7,
    "start_time": "2024-02-21T13:06:38.123Z"
   },
   {
    "duration": 7,
    "start_time": "2024-02-21T13:06:38.131Z"
   },
   {
    "duration": 7,
    "start_time": "2024-02-21T13:06:38.139Z"
   },
   {
    "duration": 37,
    "start_time": "2024-02-21T13:06:38.147Z"
   },
   {
    "duration": 22,
    "start_time": "2024-02-21T13:06:38.185Z"
   },
   {
    "duration": 1037,
    "start_time": "2024-02-21T13:06:38.208Z"
   },
   {
    "duration": 4,
    "start_time": "2024-02-21T13:06:39.247Z"
   },
   {
    "duration": 36,
    "start_time": "2024-02-21T13:06:39.254Z"
   },
   {
    "duration": 11,
    "start_time": "2024-02-21T13:06:39.292Z"
   },
   {
    "duration": 14,
    "start_time": "2024-02-21T13:06:39.304Z"
   },
   {
    "duration": 7,
    "start_time": "2024-02-21T13:06:39.320Z"
   },
   {
    "duration": 1709,
    "start_time": "2024-02-21T13:06:39.328Z"
   },
   {
    "duration": 188,
    "start_time": "2024-02-21T13:06:41.039Z"
   },
   {
    "duration": 248,
    "start_time": "2024-02-21T13:06:41.229Z"
   },
   {
    "duration": 10,
    "start_time": "2024-02-21T13:06:41.481Z"
   },
   {
    "duration": 5,
    "start_time": "2024-02-21T13:06:41.492Z"
   },
   {
    "duration": 14,
    "start_time": "2024-02-21T13:06:41.499Z"
   },
   {
    "duration": 6,
    "start_time": "2024-02-21T13:06:41.514Z"
   },
   {
    "duration": 30,
    "start_time": "2024-02-21T13:06:41.522Z"
   },
   {
    "duration": 318,
    "start_time": "2024-02-21T13:06:41.553Z"
   },
   {
    "duration": 2,
    "start_time": "2024-02-21T13:06:51.701Z"
   },
   {
    "duration": 15,
    "start_time": "2024-02-21T13:06:51.705Z"
   },
   {
    "duration": 41,
    "start_time": "2024-02-21T13:06:51.721Z"
   },
   {
    "duration": 21,
    "start_time": "2024-02-21T13:06:51.765Z"
   },
   {
    "duration": 3,
    "start_time": "2024-02-21T13:06:51.787Z"
   },
   {
    "duration": 9,
    "start_time": "2024-02-21T13:06:51.792Z"
   },
   {
    "duration": 7,
    "start_time": "2024-02-21T13:06:51.802Z"
   },
   {
    "duration": 5,
    "start_time": "2024-02-21T13:06:51.810Z"
   },
   {
    "duration": 9,
    "start_time": "2024-02-21T13:06:51.816Z"
   },
   {
    "duration": 21,
    "start_time": "2024-02-21T13:06:51.829Z"
   },
   {
    "duration": 1079,
    "start_time": "2024-02-21T13:06:51.852Z"
   },
   {
    "duration": 4,
    "start_time": "2024-02-21T13:06:52.933Z"
   },
   {
    "duration": 21,
    "start_time": "2024-02-21T13:06:52.939Z"
   },
   {
    "duration": 11,
    "start_time": "2024-02-21T13:06:52.984Z"
   },
   {
    "duration": 6,
    "start_time": "2024-02-21T13:06:52.997Z"
   },
   {
    "duration": 7,
    "start_time": "2024-02-21T13:06:53.005Z"
   },
   {
    "duration": 2086,
    "start_time": "2024-02-21T13:06:53.014Z"
   },
   {
    "duration": 180,
    "start_time": "2024-02-21T13:06:55.102Z"
   },
   {
    "duration": 240,
    "start_time": "2024-02-21T13:06:55.284Z"
   },
   {
    "duration": 9,
    "start_time": "2024-02-21T13:06:55.526Z"
   },
   {
    "duration": 6,
    "start_time": "2024-02-21T13:06:55.536Z"
   },
   {
    "duration": 13,
    "start_time": "2024-02-21T13:06:55.543Z"
   },
   {
    "duration": 26,
    "start_time": "2024-02-21T13:06:55.558Z"
   },
   {
    "duration": 24,
    "start_time": "2024-02-21T13:06:55.586Z"
   },
   {
    "duration": 314,
    "start_time": "2024-02-21T13:06:55.611Z"
   },
   {
    "duration": 321,
    "start_time": "2024-02-21T13:07:52.406Z"
   },
   {
    "duration": 314,
    "start_time": "2024-02-21T13:08:21.822Z"
   },
   {
    "duration": 296,
    "start_time": "2024-02-21T13:08:36.086Z"
   },
   {
    "duration": 308,
    "start_time": "2024-02-21T13:10:42.862Z"
   },
   {
    "duration": 311,
    "start_time": "2024-02-21T13:10:52.879Z"
   },
   {
    "duration": 516,
    "start_time": "2024-02-21T13:11:52.919Z"
   },
   {
    "duration": 297,
    "start_time": "2024-02-21T13:12:13.887Z"
   },
   {
    "duration": 11,
    "start_time": "2024-02-21T13:14:39.976Z"
   },
   {
    "duration": 197,
    "start_time": "2024-02-21T13:59:58.763Z"
   },
   {
    "duration": 290,
    "start_time": "2024-02-21T14:00:10.442Z"
   },
   {
    "duration": 1722,
    "start_time": "2024-02-21T14:01:16.161Z"
   },
   {
    "duration": 322,
    "start_time": "2024-02-21T14:01:29.162Z"
   },
   {
    "duration": 10,
    "start_time": "2024-02-21T14:01:55.058Z"
   },
   {
    "duration": 3,
    "start_time": "2024-02-21T14:02:00.026Z"
   },
   {
    "duration": 47,
    "start_time": "2024-02-21T14:02:00.031Z"
   },
   {
    "duration": 46,
    "start_time": "2024-02-21T14:02:00.080Z"
   },
   {
    "duration": 22,
    "start_time": "2024-02-21T14:02:00.128Z"
   },
   {
    "duration": 49,
    "start_time": "2024-02-21T14:02:00.153Z"
   },
   {
    "duration": 57,
    "start_time": "2024-02-21T14:02:00.205Z"
   },
   {
    "duration": 76,
    "start_time": "2024-02-21T14:02:00.264Z"
   },
   {
    "duration": 53,
    "start_time": "2024-02-21T14:02:00.341Z"
   },
   {
    "duration": 51,
    "start_time": "2024-02-21T14:02:00.397Z"
   },
   {
    "duration": 58,
    "start_time": "2024-02-21T14:02:00.449Z"
   },
   {
    "duration": 1190,
    "start_time": "2024-02-21T14:02:00.509Z"
   },
   {
    "duration": 6,
    "start_time": "2024-02-21T14:02:01.701Z"
   },
   {
    "duration": 82,
    "start_time": "2024-02-21T14:02:01.710Z"
   },
   {
    "duration": 24,
    "start_time": "2024-02-21T14:02:01.793Z"
   },
   {
    "duration": 28,
    "start_time": "2024-02-21T14:02:01.818Z"
   },
   {
    "duration": 34,
    "start_time": "2024-02-21T14:02:01.848Z"
   },
   {
    "duration": 1826,
    "start_time": "2024-02-21T14:02:01.885Z"
   },
   {
    "duration": 199,
    "start_time": "2024-02-21T14:02:03.712Z"
   },
   {
    "duration": 264,
    "start_time": "2024-02-21T14:02:03.913Z"
   },
   {
    "duration": 14,
    "start_time": "2024-02-21T14:02:04.182Z"
   },
   {
    "duration": 6,
    "start_time": "2024-02-21T14:02:04.199Z"
   },
   {
    "duration": 14,
    "start_time": "2024-02-21T14:02:04.207Z"
   },
   {
    "duration": 7,
    "start_time": "2024-02-21T14:02:04.222Z"
   },
   {
    "duration": 58,
    "start_time": "2024-02-21T14:02:04.230Z"
   },
   {
    "duration": 326,
    "start_time": "2024-02-21T14:02:04.290Z"
   },
   {
    "duration": 11,
    "start_time": "2024-02-21T14:02:04.618Z"
   },
   {
    "duration": 8,
    "start_time": "2024-02-21T14:04:32.113Z"
   },
   {
    "duration": 250,
    "start_time": "2024-02-21T14:06:30.242Z"
   },
   {
    "duration": 233,
    "start_time": "2024-02-21T14:06:34.217Z"
   },
   {
    "duration": 767,
    "start_time": "2024-02-21T14:08:53.577Z"
   },
   {
    "duration": 378,
    "start_time": "2024-02-21T14:09:09.337Z"
   },
   {
    "duration": 405,
    "start_time": "2024-02-21T14:10:20.329Z"
   },
   {
    "duration": 4,
    "start_time": "2024-02-21T14:10:32.009Z"
   },
   {
    "duration": 3,
    "start_time": "2024-02-21T14:10:48.843Z"
   },
   {
    "duration": 14,
    "start_time": "2024-02-21T14:10:48.847Z"
   },
   {
    "duration": 46,
    "start_time": "2024-02-21T14:10:48.863Z"
   },
   {
    "duration": 23,
    "start_time": "2024-02-21T14:10:48.910Z"
   },
   {
    "duration": 3,
    "start_time": "2024-02-21T14:10:48.934Z"
   },
   {
    "duration": 6,
    "start_time": "2024-02-21T14:10:48.939Z"
   },
   {
    "duration": 5,
    "start_time": "2024-02-21T14:10:48.946Z"
   },
   {
    "duration": 4,
    "start_time": "2024-02-21T14:10:48.952Z"
   },
   {
    "duration": 29,
    "start_time": "2024-02-21T14:10:48.959Z"
   },
   {
    "duration": 23,
    "start_time": "2024-02-21T14:10:48.990Z"
   },
   {
    "duration": 1096,
    "start_time": "2024-02-21T14:10:49.015Z"
   },
   {
    "duration": 5,
    "start_time": "2024-02-21T14:10:50.113Z"
   },
   {
    "duration": 22,
    "start_time": "2024-02-21T14:10:50.119Z"
   },
   {
    "duration": 10,
    "start_time": "2024-02-21T14:10:50.143Z"
   },
   {
    "duration": 28,
    "start_time": "2024-02-21T14:10:50.155Z"
   },
   {
    "duration": 8,
    "start_time": "2024-02-21T14:10:50.185Z"
   },
   {
    "duration": 1813,
    "start_time": "2024-02-21T14:10:50.196Z"
   },
   {
    "duration": 191,
    "start_time": "2024-02-21T14:10:52.011Z"
   },
   {
    "duration": 265,
    "start_time": "2024-02-21T14:10:52.204Z"
   },
   {
    "duration": 25,
    "start_time": "2024-02-21T14:10:52.470Z"
   },
   {
    "duration": 22,
    "start_time": "2024-02-21T14:10:52.497Z"
   },
   {
    "duration": 25,
    "start_time": "2024-02-21T14:10:52.521Z"
   },
   {
    "duration": 7,
    "start_time": "2024-02-21T14:10:52.547Z"
   },
   {
    "duration": 54,
    "start_time": "2024-02-21T14:10:52.559Z"
   },
   {
    "duration": 329,
    "start_time": "2024-02-21T14:10:52.615Z"
   },
   {
    "duration": 7,
    "start_time": "2024-02-21T14:10:52.946Z"
   },
   {
    "duration": 375,
    "start_time": "2024-02-21T14:10:52.954Z"
   },
   {
    "duration": 4,
    "start_time": "2024-02-21T14:10:53.330Z"
   },
   {
    "duration": 263,
    "start_time": "2024-02-21T14:11:27.642Z"
   },
   {
    "duration": 3,
    "start_time": "2024-02-21T14:12:06.807Z"
   },
   {
    "duration": 6,
    "start_time": "2024-02-21T14:12:06.812Z"
   },
   {
    "duration": 66,
    "start_time": "2024-02-21T14:12:06.820Z"
   },
   {
    "duration": 31,
    "start_time": "2024-02-21T14:12:06.888Z"
   },
   {
    "duration": 4,
    "start_time": "2024-02-21T14:12:06.921Z"
   },
   {
    "duration": 8,
    "start_time": "2024-02-21T14:12:06.926Z"
   },
   {
    "duration": 5,
    "start_time": "2024-02-21T14:12:06.936Z"
   },
   {
    "duration": 4,
    "start_time": "2024-02-21T14:12:06.943Z"
   },
   {
    "duration": 36,
    "start_time": "2024-02-21T14:12:06.949Z"
   },
   {
    "duration": 29,
    "start_time": "2024-02-21T14:12:06.987Z"
   },
   {
    "duration": 1117,
    "start_time": "2024-02-21T14:12:07.018Z"
   },
   {
    "duration": 4,
    "start_time": "2024-02-21T14:12:08.136Z"
   },
   {
    "duration": 39,
    "start_time": "2024-02-21T14:12:08.142Z"
   },
   {
    "duration": 11,
    "start_time": "2024-02-21T14:12:08.185Z"
   },
   {
    "duration": 19,
    "start_time": "2024-02-21T14:12:08.198Z"
   },
   {
    "duration": 19,
    "start_time": "2024-02-21T14:12:08.220Z"
   },
   {
    "duration": 2193,
    "start_time": "2024-02-21T14:12:08.241Z"
   },
   {
    "duration": 194,
    "start_time": "2024-02-21T14:12:10.435Z"
   },
   {
    "duration": 259,
    "start_time": "2024-02-21T14:12:10.630Z"
   },
   {
    "duration": 13,
    "start_time": "2024-02-21T14:12:10.890Z"
   },
   {
    "duration": 7,
    "start_time": "2024-02-21T14:12:10.904Z"
   },
   {
    "duration": 13,
    "start_time": "2024-02-21T14:12:10.912Z"
   },
   {
    "duration": 6,
    "start_time": "2024-02-21T14:12:10.926Z"
   },
   {
    "duration": 54,
    "start_time": "2024-02-21T14:12:10.933Z"
   },
   {
    "duration": 342,
    "start_time": "2024-02-21T14:12:10.989Z"
   },
   {
    "duration": 8,
    "start_time": "2024-02-21T14:12:11.332Z"
   },
   {
    "duration": 419,
    "start_time": "2024-02-21T14:12:11.341Z"
   },
   {
    "duration": 3,
    "start_time": "2024-02-21T14:12:11.762Z"
   },
   {
    "duration": 311,
    "start_time": "2024-02-21T14:13:36.137Z"
   },
   {
    "duration": 344,
    "start_time": "2024-02-21T14:14:14.409Z"
   },
   {
    "duration": 316,
    "start_time": "2024-02-21T14:14:32.330Z"
   },
   {
    "duration": 374,
    "start_time": "2024-02-21T14:14:45.009Z"
   },
   {
    "duration": 257,
    "start_time": "2024-02-21T14:15:32.082Z"
   },
   {
    "duration": 217,
    "start_time": "2024-02-21T14:15:49.626Z"
   },
   {
    "duration": 32,
    "start_time": "2024-02-21T14:18:24.378Z"
   },
   {
    "duration": 23,
    "start_time": "2024-02-21T14:18:35.690Z"
   },
   {
    "duration": 3,
    "start_time": "2024-02-21T14:19:30.123Z"
   },
   {
    "duration": 25,
    "start_time": "2024-02-21T14:19:30.129Z"
   },
   {
    "duration": 81,
    "start_time": "2024-02-21T14:19:30.157Z"
   },
   {
    "duration": 54,
    "start_time": "2024-02-21T14:19:30.240Z"
   },
   {
    "duration": 40,
    "start_time": "2024-02-21T14:19:30.296Z"
   },
   {
    "duration": 45,
    "start_time": "2024-02-21T14:19:30.337Z"
   },
   {
    "duration": 35,
    "start_time": "2024-02-21T14:19:30.386Z"
   },
   {
    "duration": 43,
    "start_time": "2024-02-21T14:19:30.423Z"
   },
   {
    "duration": 44,
    "start_time": "2024-02-21T14:19:30.470Z"
   },
   {
    "duration": 63,
    "start_time": "2024-02-21T14:19:30.516Z"
   },
   {
    "duration": 1121,
    "start_time": "2024-02-21T14:19:30.581Z"
   },
   {
    "duration": 5,
    "start_time": "2024-02-21T14:19:31.704Z"
   },
   {
    "duration": 59,
    "start_time": "2024-02-21T14:19:31.711Z"
   },
   {
    "duration": 13,
    "start_time": "2024-02-21T14:19:31.771Z"
   },
   {
    "duration": 16,
    "start_time": "2024-02-21T14:19:31.786Z"
   },
   {
    "duration": 34,
    "start_time": "2024-02-21T14:19:31.804Z"
   },
   {
    "duration": 1776,
    "start_time": "2024-02-21T14:19:31.840Z"
   },
   {
    "duration": 185,
    "start_time": "2024-02-21T14:19:33.618Z"
   },
   {
    "duration": 252,
    "start_time": "2024-02-21T14:19:33.804Z"
   },
   {
    "duration": 10,
    "start_time": "2024-02-21T14:19:34.057Z"
   },
   {
    "duration": 15,
    "start_time": "2024-02-21T14:19:34.068Z"
   },
   {
    "duration": 15,
    "start_time": "2024-02-21T14:19:34.084Z"
   },
   {
    "duration": 6,
    "start_time": "2024-02-21T14:19:34.101Z"
   },
   {
    "duration": 21,
    "start_time": "2024-02-21T14:19:34.110Z"
   },
   {
    "duration": 316,
    "start_time": "2024-02-21T14:19:34.133Z"
   },
   {
    "duration": 9,
    "start_time": "2024-02-21T14:19:34.451Z"
   },
   {
    "duration": 378,
    "start_time": "2024-02-21T14:19:34.461Z"
   },
   {
    "duration": 370,
    "start_time": "2024-02-21T14:19:34.841Z"
   },
   {
    "duration": 23,
    "start_time": "2024-02-21T14:19:35.213Z"
   },
   {
    "duration": 21,
    "start_time": "2024-02-21T14:19:35.238Z"
   },
   {
    "duration": 575,
    "start_time": "2024-02-21T14:21:55.682Z"
   },
   {
    "duration": 4,
    "start_time": "2024-02-21T14:24:27.989Z"
   },
   {
    "duration": 4,
    "start_time": "2024-02-21T14:24:27.995Z"
   },
   {
    "duration": 39,
    "start_time": "2024-02-21T14:24:28.001Z"
   },
   {
    "duration": 20,
    "start_time": "2024-02-21T14:24:28.042Z"
   },
   {
    "duration": 20,
    "start_time": "2024-02-21T14:24:28.064Z"
   },
   {
    "duration": 9,
    "start_time": "2024-02-21T14:24:28.086Z"
   },
   {
    "duration": 8,
    "start_time": "2024-02-21T14:24:28.097Z"
   },
   {
    "duration": 7,
    "start_time": "2024-02-21T14:24:28.106Z"
   },
   {
    "duration": 22,
    "start_time": "2024-02-21T14:24:28.115Z"
   },
   {
    "duration": 20,
    "start_time": "2024-02-21T14:24:28.140Z"
   },
   {
    "duration": 1601,
    "start_time": "2024-02-21T14:24:28.161Z"
   },
   {
    "duration": 4,
    "start_time": "2024-02-21T14:24:29.764Z"
   },
   {
    "duration": 32,
    "start_time": "2024-02-21T14:24:29.770Z"
   },
   {
    "duration": 12,
    "start_time": "2024-02-21T14:24:29.804Z"
   },
   {
    "duration": 10,
    "start_time": "2024-02-21T14:24:29.818Z"
   },
   {
    "duration": 6,
    "start_time": "2024-02-21T14:24:29.830Z"
   },
   {
    "duration": 1797,
    "start_time": "2024-02-21T14:24:29.838Z"
   },
   {
    "duration": 188,
    "start_time": "2024-02-21T14:24:31.637Z"
   },
   {
    "duration": 249,
    "start_time": "2024-02-21T14:24:31.827Z"
   },
   {
    "duration": 10,
    "start_time": "2024-02-21T14:24:32.081Z"
   },
   {
    "duration": 5,
    "start_time": "2024-02-21T14:24:32.093Z"
   },
   {
    "duration": 21,
    "start_time": "2024-02-21T14:24:32.100Z"
   },
   {
    "duration": 5,
    "start_time": "2024-02-21T14:24:32.123Z"
   },
   {
    "duration": 27,
    "start_time": "2024-02-21T14:24:32.130Z"
   },
   {
    "duration": 349,
    "start_time": "2024-02-21T14:24:32.158Z"
   },
   {
    "duration": 8,
    "start_time": "2024-02-21T14:24:32.509Z"
   },
   {
    "duration": 416,
    "start_time": "2024-02-21T14:24:32.519Z"
   },
   {
    "duration": 377,
    "start_time": "2024-02-21T14:24:32.938Z"
   },
   {
    "duration": 565,
    "start_time": "2024-02-21T14:24:33.317Z"
   },
   {
    "duration": 459,
    "start_time": "2024-02-21T14:24:33.884Z"
   },
   {
    "duration": 277,
    "start_time": "2024-02-21T14:24:34.344Z"
   },
   {
    "duration": 330,
    "start_time": "2024-02-21T14:24:34.683Z"
   },
   {
    "duration": 207,
    "start_time": "2024-02-21T14:27:11.945Z"
   },
   {
    "duration": 237,
    "start_time": "2024-02-21T14:27:37.450Z"
   },
   {
    "duration": 18416,
    "start_time": "2024-02-21T14:28:20.425Z"
   },
   {
    "duration": 4,
    "start_time": "2024-02-21T14:29:21.883Z"
   },
   {
    "duration": 7,
    "start_time": "2024-02-21T14:29:21.890Z"
   },
   {
    "duration": 51,
    "start_time": "2024-02-21T14:29:21.900Z"
   },
   {
    "duration": 28,
    "start_time": "2024-02-21T14:29:21.953Z"
   },
   {
    "duration": 5,
    "start_time": "2024-02-21T14:29:21.984Z"
   },
   {
    "duration": 22,
    "start_time": "2024-02-21T14:29:21.991Z"
   },
   {
    "duration": 6,
    "start_time": "2024-02-21T14:29:22.015Z"
   },
   {
    "duration": 5,
    "start_time": "2024-02-21T14:29:22.023Z"
   },
   {
    "duration": 13,
    "start_time": "2024-02-21T14:29:22.030Z"
   },
   {
    "duration": 21,
    "start_time": "2024-02-21T14:29:22.044Z"
   },
   {
    "duration": 1159,
    "start_time": "2024-02-21T14:29:22.083Z"
   },
   {
    "duration": 4,
    "start_time": "2024-02-21T14:29:23.243Z"
   },
   {
    "duration": 35,
    "start_time": "2024-02-21T14:29:23.249Z"
   },
   {
    "duration": 15,
    "start_time": "2024-02-21T14:29:23.287Z"
   },
   {
    "duration": 6,
    "start_time": "2024-02-21T14:29:23.304Z"
   },
   {
    "duration": 7,
    "start_time": "2024-02-21T14:29:23.311Z"
   },
   {
    "duration": 2343,
    "start_time": "2024-02-21T14:29:23.320Z"
   },
   {
    "duration": 188,
    "start_time": "2024-02-21T14:29:25.665Z"
   },
   {
    "duration": 299,
    "start_time": "2024-02-21T14:29:25.855Z"
   },
   {
    "duration": 10,
    "start_time": "2024-02-21T14:29:26.155Z"
   },
   {
    "duration": 56,
    "start_time": "2024-02-21T14:29:26.167Z"
   },
   {
    "duration": 48,
    "start_time": "2024-02-21T14:29:26.225Z"
   },
   {
    "duration": 6,
    "start_time": "2024-02-21T14:29:26.275Z"
   },
   {
    "duration": 22,
    "start_time": "2024-02-21T14:29:26.284Z"
   },
   {
    "duration": 393,
    "start_time": "2024-02-21T14:29:26.308Z"
   },
   {
    "duration": 8,
    "start_time": "2024-02-21T14:29:26.703Z"
   },
   {
    "duration": 409,
    "start_time": "2024-02-21T14:29:26.713Z"
   },
   {
    "duration": 304,
    "start_time": "2024-02-21T14:29:27.124Z"
   },
   {
    "duration": 300,
    "start_time": "2024-02-21T14:29:27.430Z"
   },
   {
    "duration": 553,
    "start_time": "2024-02-21T14:29:27.732Z"
   },
   {
    "duration": 15788,
    "start_time": "2024-02-21T14:29:28.287Z"
   },
   {
    "duration": 448,
    "start_time": "2024-02-21T14:29:44.083Z"
   },
   {
    "duration": 301,
    "start_time": "2024-02-21T14:29:44.532Z"
   },
   {
    "duration": 379,
    "start_time": "2024-02-21T14:29:44.834Z"
   },
   {
    "duration": 767,
    "start_time": "2024-02-21T14:30:58.391Z"
   },
   {
    "duration": 441,
    "start_time": "2024-02-21T14:31:05.352Z"
   },
   {
    "duration": 307,
    "start_time": "2024-02-21T14:31:23.488Z"
   },
   {
    "duration": 447,
    "start_time": "2024-02-21T14:33:32.224Z"
   },
   {
    "duration": 211,
    "start_time": "2024-02-21T14:46:43.840Z"
   },
   {
    "duration": 257,
    "start_time": "2024-02-21T14:46:56.447Z"
   },
   {
    "duration": 323,
    "start_time": "2024-02-21T14:48:39.623Z"
   },
   {
    "duration": 256,
    "start_time": "2024-02-21T14:49:59.775Z"
   },
   {
    "duration": 334,
    "start_time": "2024-02-21T14:50:05.670Z"
   },
   {
    "duration": 4,
    "start_time": "2024-02-21T14:56:51.471Z"
   },
   {
    "duration": 243,
    "start_time": "2024-02-21T14:57:05.871Z"
   },
   {
    "duration": 238,
    "start_time": "2024-02-21T14:57:10.449Z"
   },
   {
    "duration": 6,
    "start_time": "2024-02-21T14:57:23.287Z"
   },
   {
    "duration": 232,
    "start_time": "2024-02-21T14:57:30.359Z"
   },
   {
    "duration": 313,
    "start_time": "2024-02-21T15:09:51.312Z"
   },
   {
    "duration": 4,
    "start_time": "2024-02-21T15:12:43.600Z"
   },
   {
    "duration": 332,
    "start_time": "2024-02-21T15:13:29.880Z"
   },
   {
    "duration": 3,
    "start_time": "2024-02-21T15:15:55.216Z"
   },
   {
    "duration": 6,
    "start_time": "2024-02-21T15:15:55.221Z"
   },
   {
    "duration": 43,
    "start_time": "2024-02-21T15:15:55.228Z"
   },
   {
    "duration": 21,
    "start_time": "2024-02-21T15:15:55.273Z"
   },
   {
    "duration": 4,
    "start_time": "2024-02-21T15:15:55.296Z"
   },
   {
    "duration": 10,
    "start_time": "2024-02-21T15:15:55.301Z"
   },
   {
    "duration": 6,
    "start_time": "2024-02-21T15:15:55.313Z"
   },
   {
    "duration": 4,
    "start_time": "2024-02-21T15:15:55.321Z"
   },
   {
    "duration": 8,
    "start_time": "2024-02-21T15:15:55.327Z"
   },
   {
    "duration": 52,
    "start_time": "2024-02-21T15:15:55.337Z"
   },
   {
    "duration": 1062,
    "start_time": "2024-02-21T15:15:55.390Z"
   },
   {
    "duration": 5,
    "start_time": "2024-02-21T15:15:56.454Z"
   },
   {
    "duration": 34,
    "start_time": "2024-02-21T15:15:56.460Z"
   },
   {
    "duration": 11,
    "start_time": "2024-02-21T15:15:56.495Z"
   },
   {
    "duration": 6,
    "start_time": "2024-02-21T15:15:56.507Z"
   },
   {
    "duration": 15,
    "start_time": "2024-02-21T15:15:56.514Z"
   },
   {
    "duration": 1696,
    "start_time": "2024-02-21T15:15:56.531Z"
   },
   {
    "duration": 181,
    "start_time": "2024-02-21T15:15:58.229Z"
   },
   {
    "duration": 245,
    "start_time": "2024-02-21T15:15:58.412Z"
   },
   {
    "duration": 10,
    "start_time": "2024-02-21T15:15:58.659Z"
   },
   {
    "duration": 16,
    "start_time": "2024-02-21T15:15:58.670Z"
   },
   {
    "duration": 15,
    "start_time": "2024-02-21T15:15:58.687Z"
   },
   {
    "duration": 6,
    "start_time": "2024-02-21T15:15:58.703Z"
   },
   {
    "duration": 24,
    "start_time": "2024-02-21T15:15:58.712Z"
   },
   {
    "duration": 302,
    "start_time": "2024-02-21T15:15:58.738Z"
   },
   {
    "duration": 371,
    "start_time": "2024-02-21T15:15:59.041Z"
   },
   {
    "duration": 318,
    "start_time": "2024-02-21T15:15:59.414Z"
   },
   {
    "duration": 236,
    "start_time": "2024-02-21T15:15:59.733Z"
   },
   {
    "duration": 547,
    "start_time": "2024-02-21T15:15:59.970Z"
   },
   {
    "duration": 407,
    "start_time": "2024-02-21T15:16:00.519Z"
   },
   {
    "duration": 284,
    "start_time": "2024-02-21T15:16:00.928Z"
   },
   {
    "duration": 1696,
    "start_time": "2024-02-21T15:16:01.214Z"
   },
   {
    "duration": 302,
    "start_time": "2024-02-21T15:16:02.912Z"
   },
   {
    "duration": 292,
    "start_time": "2024-02-21T15:16:03.216Z"
   },
   {
    "duration": 338,
    "start_time": "2024-02-21T15:16:03.510Z"
   },
   {
    "duration": 5,
    "start_time": "2024-02-21T15:16:03.849Z"
   },
   {
    "duration": 331,
    "start_time": "2024-02-21T15:16:03.856Z"
   },
   {
    "duration": 3,
    "start_time": "2024-02-21T15:25:01.280Z"
   },
   {
    "duration": 81,
    "start_time": "2024-02-21T15:30:59.464Z"
   },
   {
    "duration": 326,
    "start_time": "2024-02-21T15:31:53.576Z"
   },
   {
    "duration": 311,
    "start_time": "2024-02-21T15:32:05.410Z"
   },
   {
    "duration": 311,
    "start_time": "2024-02-21T15:32:21.089Z"
   },
   {
    "duration": 340,
    "start_time": "2024-02-21T15:32:28.481Z"
   },
   {
    "duration": 318,
    "start_time": "2024-02-21T15:33:24.914Z"
   },
   {
    "duration": 360,
    "start_time": "2024-02-21T15:34:11.226Z"
   },
   {
    "duration": 301,
    "start_time": "2024-02-21T15:34:50.106Z"
   },
   {
    "duration": 251,
    "start_time": "2024-02-21T15:35:12.961Z"
   },
   {
    "duration": 546,
    "start_time": "2024-02-21T15:35:30.392Z"
   },
   {
    "duration": 386,
    "start_time": "2024-02-21T15:35:55.106Z"
   },
   {
    "duration": 253,
    "start_time": "2024-02-21T15:36:21.552Z"
   },
   {
    "duration": 251,
    "start_time": "2024-02-21T15:36:24.832Z"
   },
   {
    "duration": 369,
    "start_time": "2024-02-21T15:36:47.272Z"
   },
   {
    "duration": 330,
    "start_time": "2024-02-21T15:37:17.882Z"
   },
   {
    "duration": 307,
    "start_time": "2024-02-21T15:38:05.402Z"
   },
   {
    "duration": 320,
    "start_time": "2024-02-21T15:38:33.322Z"
   },
   {
    "duration": 3,
    "start_time": "2024-02-21T15:38:54.429Z"
   },
   {
    "duration": 5,
    "start_time": "2024-02-21T15:38:54.434Z"
   },
   {
    "duration": 45,
    "start_time": "2024-02-21T15:38:54.440Z"
   },
   {
    "duration": 23,
    "start_time": "2024-02-21T15:38:54.486Z"
   },
   {
    "duration": 4,
    "start_time": "2024-02-21T15:38:54.511Z"
   },
   {
    "duration": 5,
    "start_time": "2024-02-21T15:38:54.516Z"
   },
   {
    "duration": 7,
    "start_time": "2024-02-21T15:38:54.523Z"
   },
   {
    "duration": 5,
    "start_time": "2024-02-21T15:38:54.532Z"
   },
   {
    "duration": 12,
    "start_time": "2024-02-21T15:38:54.538Z"
   },
   {
    "duration": 47,
    "start_time": "2024-02-21T15:38:54.552Z"
   },
   {
    "duration": 1024,
    "start_time": "2024-02-21T15:38:54.600Z"
   },
   {
    "duration": 5,
    "start_time": "2024-02-21T15:38:55.626Z"
   },
   {
    "duration": 25,
    "start_time": "2024-02-21T15:38:55.633Z"
   },
   {
    "duration": 24,
    "start_time": "2024-02-21T15:38:55.660Z"
   },
   {
    "duration": 5,
    "start_time": "2024-02-21T15:38:55.686Z"
   },
   {
    "duration": 17,
    "start_time": "2024-02-21T15:38:55.693Z"
   },
   {
    "duration": 2149,
    "start_time": "2024-02-21T15:38:55.712Z"
   },
   {
    "duration": 180,
    "start_time": "2024-02-21T15:38:57.863Z"
   },
   {
    "duration": 245,
    "start_time": "2024-02-21T15:38:58.045Z"
   },
   {
    "duration": 10,
    "start_time": "2024-02-21T15:38:58.293Z"
   },
   {
    "duration": 9,
    "start_time": "2024-02-21T15:38:58.304Z"
   },
   {
    "duration": 16,
    "start_time": "2024-02-21T15:38:58.315Z"
   },
   {
    "duration": 6,
    "start_time": "2024-02-21T15:38:58.333Z"
   },
   {
    "duration": 311,
    "start_time": "2024-02-21T15:38:58.341Z"
   },
   {
    "duration": 377,
    "start_time": "2024-02-21T15:38:58.654Z"
   },
   {
    "duration": 374,
    "start_time": "2024-02-21T15:38:59.033Z"
   },
   {
    "duration": 246,
    "start_time": "2024-02-21T15:38:59.408Z"
   },
   {
    "duration": 538,
    "start_time": "2024-02-21T15:38:59.656Z"
   },
   {
    "duration": 408,
    "start_time": "2024-02-21T15:39:00.196Z"
   },
   {
    "duration": 263,
    "start_time": "2024-02-21T15:39:00.606Z"
   },
   {
    "duration": 377,
    "start_time": "2024-02-21T15:39:00.871Z"
   },
   {
    "duration": 363,
    "start_time": "2024-02-21T15:39:01.250Z"
   },
   {
    "duration": 314,
    "start_time": "2024-02-21T15:39:01.615Z"
   },
   {
    "duration": 360,
    "start_time": "2024-02-21T15:39:01.930Z"
   },
   {
    "duration": 359,
    "start_time": "2024-02-21T15:39:02.293Z"
   },
   {
    "duration": 8425,
    "start_time": "2024-02-21T16:10:19.995Z"
   },
   {
    "duration": 8339,
    "start_time": "2024-02-21T16:10:36.483Z"
   },
   {
    "duration": 8872,
    "start_time": "2024-02-21T16:10:59.907Z"
   },
   {
    "duration": 1080,
    "start_time": "2024-02-21T16:12:13.746Z"
   },
   {
    "duration": 72,
    "start_time": "2024-02-21T16:20:00.645Z"
   },
   {
    "duration": 10,
    "start_time": "2024-02-21T16:30:33.343Z"
   },
   {
    "duration": 0,
    "start_time": "2024-02-21T16:30:33.355Z"
   },
   {
    "duration": 0,
    "start_time": "2024-02-21T16:30:33.356Z"
   },
   {
    "duration": 0,
    "start_time": "2024-02-21T16:30:33.357Z"
   },
   {
    "duration": 0,
    "start_time": "2024-02-21T16:30:33.358Z"
   },
   {
    "duration": 0,
    "start_time": "2024-02-21T16:30:33.359Z"
   },
   {
    "duration": 0,
    "start_time": "2024-02-21T16:30:33.360Z"
   },
   {
    "duration": 0,
    "start_time": "2024-02-21T16:30:33.361Z"
   },
   {
    "duration": 0,
    "start_time": "2024-02-21T16:30:33.362Z"
   },
   {
    "duration": 22,
    "start_time": "2024-02-21T16:30:33.364Z"
   },
   {
    "duration": 1049,
    "start_time": "2024-02-21T16:30:33.388Z"
   },
   {
    "duration": 4,
    "start_time": "2024-02-21T16:30:34.439Z"
   },
   {
    "duration": 21,
    "start_time": "2024-02-21T16:30:34.445Z"
   },
   {
    "duration": 10,
    "start_time": "2024-02-21T16:30:34.482Z"
   },
   {
    "duration": 7,
    "start_time": "2024-02-21T16:30:34.494Z"
   },
   {
    "duration": 6,
    "start_time": "2024-02-21T16:30:34.503Z"
   },
   {
    "duration": 2322,
    "start_time": "2024-02-21T16:30:34.510Z"
   },
   {
    "duration": 177,
    "start_time": "2024-02-21T16:30:36.834Z"
   },
   {
    "duration": 240,
    "start_time": "2024-02-21T16:30:37.012Z"
   },
   {
    "duration": 9,
    "start_time": "2024-02-21T16:30:37.253Z"
   },
   {
    "duration": 7,
    "start_time": "2024-02-21T16:30:37.263Z"
   },
   {
    "duration": 9,
    "start_time": "2024-02-21T16:30:37.282Z"
   },
   {
    "duration": 8,
    "start_time": "2024-02-21T16:30:37.293Z"
   },
   {
    "duration": 300,
    "start_time": "2024-02-21T16:30:37.302Z"
   },
   {
    "duration": 347,
    "start_time": "2024-02-21T16:30:37.604Z"
   },
   {
    "duration": 342,
    "start_time": "2024-02-21T16:30:37.953Z"
   },
   {
    "duration": 235,
    "start_time": "2024-02-21T16:30:38.297Z"
   },
   {
    "duration": 542,
    "start_time": "2024-02-21T16:30:38.534Z"
   },
   {
    "duration": 409,
    "start_time": "2024-02-21T16:30:39.083Z"
   },
   {
    "duration": 253,
    "start_time": "2024-02-21T16:30:39.494Z"
   },
   {
    "duration": 391,
    "start_time": "2024-02-21T16:30:39.749Z"
   },
   {
    "duration": 284,
    "start_time": "2024-02-21T16:30:40.142Z"
   },
   {
    "duration": 385,
    "start_time": "2024-02-21T16:30:40.428Z"
   },
   {
    "duration": 338,
    "start_time": "2024-02-21T16:30:40.815Z"
   },
   {
    "duration": 316,
    "start_time": "2024-02-21T16:30:41.155Z"
   },
   {
    "duration": 1097,
    "start_time": "2024-02-21T16:30:41.473Z"
   },
   {
    "duration": 9,
    "start_time": "2024-02-21T16:32:02.257Z"
   },
   {
    "duration": 10,
    "start_time": "2024-02-21T16:32:05.688Z"
   },
   {
    "duration": 8,
    "start_time": "2024-02-21T16:32:36.233Z"
   },
   {
    "duration": 8,
    "start_time": "2024-02-21T16:32:40.424Z"
   },
   {
    "duration": 9,
    "start_time": "2024-02-21T16:33:25.792Z"
   },
   {
    "duration": 9,
    "start_time": "2024-02-21T16:33:28.304Z"
   },
   {
    "duration": 3,
    "start_time": "2024-02-21T16:33:28.816Z"
   },
   {
    "duration": 9,
    "start_time": "2024-02-21T16:33:31.576Z"
   },
   {
    "duration": 3,
    "start_time": "2024-02-21T16:33:32.016Z"
   },
   {
    "duration": 70,
    "start_time": "2024-02-21T16:34:40.871Z"
   },
   {
    "duration": 9,
    "start_time": "2024-02-21T16:35:14.448Z"
   },
   {
    "duration": 9,
    "start_time": "2024-02-21T16:35:32.742Z"
   },
   {
    "duration": 11164,
    "start_time": "2024-02-21T16:36:28.344Z"
   },
   {
    "duration": 19,
    "start_time": "2024-02-21T16:37:13.319Z"
   },
   {
    "duration": 2,
    "start_time": "2024-02-21T16:37:39.743Z"
   },
   {
    "duration": 2560,
    "start_time": "2024-02-21T16:37:44.456Z"
   },
   {
    "duration": 3,
    "start_time": "2024-02-21T16:37:47.018Z"
   },
   {
    "duration": 4,
    "start_time": "2024-02-21T16:37:47.023Z"
   },
   {
    "duration": 45,
    "start_time": "2024-02-21T16:37:47.029Z"
   },
   {
    "duration": 26,
    "start_time": "2024-02-21T16:37:47.075Z"
   },
   {
    "duration": 4,
    "start_time": "2024-02-21T16:37:47.102Z"
   },
   {
    "duration": 8,
    "start_time": "2024-02-21T16:37:47.107Z"
   },
   {
    "duration": 6,
    "start_time": "2024-02-21T16:37:47.116Z"
   },
   {
    "duration": 5,
    "start_time": "2024-02-21T16:37:47.123Z"
   },
   {
    "duration": 9,
    "start_time": "2024-02-21T16:37:47.130Z"
   },
   {
    "duration": 54,
    "start_time": "2024-02-21T16:37:47.140Z"
   },
   {
    "duration": 1137,
    "start_time": "2024-02-21T16:37:47.195Z"
   },
   {
    "duration": 4,
    "start_time": "2024-02-21T16:37:48.334Z"
   },
   {
    "duration": 25,
    "start_time": "2024-02-21T16:37:48.340Z"
   },
   {
    "duration": 24,
    "start_time": "2024-02-21T16:37:48.367Z"
   },
   {
    "duration": 6,
    "start_time": "2024-02-21T16:37:48.392Z"
   },
   {
    "duration": 10,
    "start_time": "2024-02-21T16:37:48.399Z"
   },
   {
    "duration": 1718,
    "start_time": "2024-02-21T16:37:48.411Z"
   },
   {
    "duration": 802,
    "start_time": "2024-02-21T16:37:50.131Z"
   },
   {
    "duration": 255,
    "start_time": "2024-02-21T16:37:50.935Z"
   },
   {
    "duration": 10,
    "start_time": "2024-02-21T16:37:51.192Z"
   },
   {
    "duration": 17,
    "start_time": "2024-02-21T16:37:51.204Z"
   },
   {
    "duration": 18,
    "start_time": "2024-02-21T16:37:51.223Z"
   },
   {
    "duration": 7,
    "start_time": "2024-02-21T16:37:51.242Z"
   },
   {
    "duration": 327,
    "start_time": "2024-02-21T16:37:51.250Z"
   },
   {
    "duration": 351,
    "start_time": "2024-02-21T16:37:51.579Z"
   },
   {
    "duration": 297,
    "start_time": "2024-02-21T16:37:51.931Z"
   },
   {
    "duration": 291,
    "start_time": "2024-02-21T16:37:52.231Z"
   },
   {
    "duration": 550,
    "start_time": "2024-02-21T16:37:52.524Z"
   },
   {
    "duration": 419,
    "start_time": "2024-02-21T16:37:53.081Z"
   },
   {
    "duration": 262,
    "start_time": "2024-02-21T16:37:53.502Z"
   },
   {
    "duration": 475,
    "start_time": "2024-02-21T16:37:53.765Z"
   },
   {
    "duration": 354,
    "start_time": "2024-02-21T16:37:54.242Z"
   },
   {
    "duration": 333,
    "start_time": "2024-02-21T16:37:54.598Z"
   },
   {
    "duration": 351,
    "start_time": "2024-02-21T16:37:54.933Z"
   },
   {
    "duration": 345,
    "start_time": "2024-02-21T16:37:55.286Z"
   },
   {
    "duration": 1097,
    "start_time": "2024-02-21T16:37:55.632Z"
   },
   {
    "duration": 679,
    "start_time": "2024-02-21T16:37:56.731Z"
   },
   {
    "duration": 630,
    "start_time": "2024-02-21T16:39:14.822Z"
   },
   {
    "duration": 32,
    "start_time": "2024-02-21T16:41:49.680Z"
   },
   {
    "duration": 14224,
    "start_time": "2024-02-21T16:43:10.865Z"
   },
   {
    "duration": 1132,
    "start_time": "2024-02-21T16:45:31.739Z"
   },
   {
    "duration": 109,
    "start_time": "2024-02-21T17:01:23.944Z"
   },
   {
    "duration": 2511,
    "start_time": "2024-02-21T17:01:34.158Z"
   },
   {
    "duration": 3,
    "start_time": "2024-02-21T17:01:36.672Z"
   },
   {
    "duration": 7,
    "start_time": "2024-02-21T17:01:36.677Z"
   },
   {
    "duration": 48,
    "start_time": "2024-02-21T17:01:36.686Z"
   },
   {
    "duration": 23,
    "start_time": "2024-02-21T17:01:36.736Z"
   },
   {
    "duration": 3,
    "start_time": "2024-02-21T17:01:36.761Z"
   },
   {
    "duration": 6,
    "start_time": "2024-02-21T17:01:36.765Z"
   },
   {
    "duration": 7,
    "start_time": "2024-02-21T17:01:36.772Z"
   },
   {
    "duration": 5,
    "start_time": "2024-02-21T17:01:36.780Z"
   },
   {
    "duration": 8,
    "start_time": "2024-02-21T17:01:36.786Z"
   },
   {
    "duration": 35,
    "start_time": "2024-02-21T17:01:36.796Z"
   },
   {
    "duration": 1143,
    "start_time": "2024-02-21T17:01:36.832Z"
   },
   {
    "duration": 4,
    "start_time": "2024-02-21T17:01:37.982Z"
   },
   {
    "duration": 20,
    "start_time": "2024-02-21T17:01:37.989Z"
   },
   {
    "duration": 9,
    "start_time": "2024-02-21T17:01:38.011Z"
   },
   {
    "duration": 5,
    "start_time": "2024-02-21T17:01:38.022Z"
   },
   {
    "duration": 6,
    "start_time": "2024-02-21T17:01:38.028Z"
   },
   {
    "duration": 1710,
    "start_time": "2024-02-21T17:01:38.036Z"
   },
   {
    "duration": 175,
    "start_time": "2024-02-21T17:01:39.748Z"
   },
   {
    "duration": 242,
    "start_time": "2024-02-21T17:01:39.925Z"
   },
   {
    "duration": 18,
    "start_time": "2024-02-21T17:01:40.169Z"
   },
   {
    "duration": 21,
    "start_time": "2024-02-21T17:01:40.189Z"
   },
   {
    "duration": 14,
    "start_time": "2024-02-21T17:01:40.212Z"
   },
   {
    "duration": 6,
    "start_time": "2024-02-21T17:01:40.228Z"
   },
   {
    "duration": 311,
    "start_time": "2024-02-21T17:01:40.236Z"
   },
   {
    "duration": 374,
    "start_time": "2024-02-21T17:01:40.549Z"
   },
   {
    "duration": 291,
    "start_time": "2024-02-21T17:01:40.925Z"
   },
   {
    "duration": 265,
    "start_time": "2024-02-21T17:01:41.217Z"
   },
   {
    "duration": 569,
    "start_time": "2024-02-21T17:01:41.484Z"
   },
   {
    "duration": 413,
    "start_time": "2024-02-21T17:01:42.055Z"
   },
   {
    "duration": 287,
    "start_time": "2024-02-21T17:01:42.470Z"
   },
   {
    "duration": 386,
    "start_time": "2024-02-21T17:01:42.759Z"
   },
   {
    "duration": 280,
    "start_time": "2024-02-21T17:01:43.147Z"
   },
   {
    "duration": 318,
    "start_time": "2024-02-21T17:01:43.481Z"
   },
   {
    "duration": 347,
    "start_time": "2024-02-21T17:01:43.800Z"
   },
   {
    "duration": 346,
    "start_time": "2024-02-21T17:01:44.149Z"
   },
   {
    "duration": 1032,
    "start_time": "2024-02-21T17:01:44.496Z"
   },
   {
    "duration": 14228,
    "start_time": "2024-02-21T17:01:45.530Z"
   },
   {
    "duration": 13947,
    "start_time": "2024-02-21T17:02:19.016Z"
   },
   {
    "duration": 3,
    "start_time": "2024-02-21T17:03:00.513Z"
   },
   {
    "duration": 2594,
    "start_time": "2024-02-21T17:03:01.255Z"
   },
   {
    "duration": 2555,
    "start_time": "2024-02-21T17:03:20.400Z"
   },
   {
    "duration": 3,
    "start_time": "2024-02-21T17:03:32.396Z"
   },
   {
    "duration": 2580,
    "start_time": "2024-02-21T17:03:32.401Z"
   },
   {
    "duration": 45,
    "start_time": "2024-02-21T17:03:34.983Z"
   },
   {
    "duration": 24,
    "start_time": "2024-02-21T17:03:35.029Z"
   },
   {
    "duration": 4,
    "start_time": "2024-02-21T17:03:35.055Z"
   },
   {
    "duration": 11,
    "start_time": "2024-02-21T17:03:35.060Z"
   },
   {
    "duration": 12,
    "start_time": "2024-02-21T17:03:35.072Z"
   },
   {
    "duration": 8,
    "start_time": "2024-02-21T17:03:35.085Z"
   },
   {
    "duration": 14,
    "start_time": "2024-02-21T17:03:35.094Z"
   },
   {
    "duration": 21,
    "start_time": "2024-02-21T17:03:35.110Z"
   },
   {
    "duration": 1127,
    "start_time": "2024-02-21T17:03:35.133Z"
   },
   {
    "duration": 4,
    "start_time": "2024-02-21T17:03:36.262Z"
   },
   {
    "duration": 30,
    "start_time": "2024-02-21T17:03:36.269Z"
   },
   {
    "duration": 10,
    "start_time": "2024-02-21T17:03:36.300Z"
   },
   {
    "duration": 5,
    "start_time": "2024-02-21T17:03:36.312Z"
   },
   {
    "duration": 6,
    "start_time": "2024-02-21T17:03:36.319Z"
   },
   {
    "duration": 1744,
    "start_time": "2024-02-21T17:03:36.326Z"
   },
   {
    "duration": 178,
    "start_time": "2024-02-21T17:03:38.072Z"
   },
   {
    "duration": 259,
    "start_time": "2024-02-21T17:03:38.252Z"
   },
   {
    "duration": 12,
    "start_time": "2024-02-21T17:03:38.513Z"
   },
   {
    "duration": 13,
    "start_time": "2024-02-21T17:03:38.527Z"
   },
   {
    "duration": 24,
    "start_time": "2024-02-21T17:03:38.542Z"
   },
   {
    "duration": 19,
    "start_time": "2024-02-21T17:03:38.567Z"
   },
   {
    "duration": 328,
    "start_time": "2024-02-21T17:03:38.587Z"
   },
   {
    "duration": 828,
    "start_time": "2024-02-21T17:03:38.916Z"
   },
   {
    "duration": 347,
    "start_time": "2024-02-21T17:03:39.746Z"
   },
   {
    "duration": 246,
    "start_time": "2024-02-21T17:03:40.095Z"
   },
   {
    "duration": 519,
    "start_time": "2024-02-21T17:03:40.343Z"
   },
   {
    "duration": 412,
    "start_time": "2024-02-21T17:03:40.864Z"
   },
   {
    "duration": 278,
    "start_time": "2024-02-21T17:03:41.278Z"
   },
   {
    "duration": 404,
    "start_time": "2024-02-21T17:03:41.557Z"
   },
   {
    "duration": 340,
    "start_time": "2024-02-21T17:03:41.963Z"
   },
   {
    "duration": 330,
    "start_time": "2024-02-21T17:03:42.305Z"
   },
   {
    "duration": 359,
    "start_time": "2024-02-21T17:03:42.637Z"
   },
   {
    "duration": 330,
    "start_time": "2024-02-21T17:03:42.997Z"
   },
   {
    "duration": 1058,
    "start_time": "2024-02-21T17:03:43.329Z"
   },
   {
    "duration": 13930,
    "start_time": "2024-02-21T17:03:44.390Z"
   },
   {
    "duration": 7,
    "start_time": "2024-02-21T17:16:45.064Z"
   },
   {
    "duration": 20,
    "start_time": "2024-02-21T17:16:50.192Z"
   },
   {
    "duration": 19,
    "start_time": "2024-02-21T17:20:40.694Z"
   },
   {
    "duration": 18,
    "start_time": "2024-02-21T17:21:37.496Z"
   },
   {
    "duration": 15,
    "start_time": "2024-02-21T17:23:00.080Z"
   },
   {
    "duration": 15,
    "start_time": "2024-02-21T17:23:10.471Z"
   },
   {
    "duration": 12,
    "start_time": "2024-02-21T17:26:29.096Z"
   },
   {
    "duration": 6,
    "start_time": "2024-02-21T17:27:58.399Z"
   },
   {
    "duration": 16,
    "start_time": "2024-02-21T17:28:08.023Z"
   },
   {
    "duration": 16,
    "start_time": "2024-02-21T17:29:06.111Z"
   },
   {
    "duration": 12,
    "start_time": "2024-02-21T17:29:18.704Z"
   },
   {
    "duration": 11,
    "start_time": "2024-02-21T17:29:37.535Z"
   },
   {
    "duration": 24,
    "start_time": "2024-02-21T17:33:22.455Z"
   },
   {
    "duration": 9,
    "start_time": "2024-02-21T17:33:49.135Z"
   },
   {
    "duration": 11,
    "start_time": "2024-02-21T17:34:17.039Z"
   },
   {
    "duration": 9,
    "start_time": "2024-02-21T17:34:30.119Z"
   },
   {
    "duration": 10,
    "start_time": "2024-02-21T17:34:38.014Z"
   },
   {
    "duration": 15,
    "start_time": "2024-02-21T17:36:00.095Z"
   },
   {
    "duration": 67,
    "start_time": "2024-02-21T17:36:19.071Z"
   },
   {
    "duration": 6,
    "start_time": "2024-02-21T17:36:28.839Z"
   },
   {
    "duration": 8,
    "start_time": "2024-02-21T17:36:31.503Z"
   },
   {
    "duration": 25,
    "start_time": "2024-02-21T17:36:55.838Z"
   },
   {
    "duration": 11,
    "start_time": "2024-02-21T17:37:14.135Z"
   },
   {
    "duration": 11,
    "start_time": "2024-02-21T17:37:37.679Z"
   },
   {
    "duration": 6,
    "start_time": "2024-02-21T17:37:50.055Z"
   },
   {
    "duration": 5,
    "start_time": "2024-02-21T17:38:02.319Z"
   },
   {
    "duration": 9,
    "start_time": "2024-02-21T17:38:11.326Z"
   },
   {
    "duration": 8,
    "start_time": "2024-02-21T17:38:30.345Z"
   },
   {
    "duration": 8,
    "start_time": "2024-02-21T17:39:22.246Z"
   },
   {
    "duration": 5,
    "start_time": "2024-02-21T17:39:42.279Z"
   },
   {
    "duration": 4,
    "start_time": "2024-02-21T17:40:09.063Z"
   },
   {
    "duration": 6,
    "start_time": "2024-02-21T17:40:11.719Z"
   },
   {
    "duration": 11,
    "start_time": "2024-02-21T17:40:25.030Z"
   },
   {
    "duration": 9,
    "start_time": "2024-02-21T17:40:49.975Z"
   },
   {
    "duration": 8,
    "start_time": "2024-02-21T17:40:50.663Z"
   },
   {
    "duration": 7,
    "start_time": "2024-02-21T17:40:51.358Z"
   },
   {
    "duration": 7,
    "start_time": "2024-02-21T17:40:59.118Z"
   },
   {
    "duration": 6,
    "start_time": "2024-02-21T17:41:57.886Z"
   },
   {
    "duration": 7,
    "start_time": "2024-02-21T17:41:58.558Z"
   },
   {
    "duration": 11,
    "start_time": "2024-02-21T17:47:37.502Z"
   },
   {
    "duration": 8,
    "start_time": "2024-02-21T18:16:53.421Z"
   },
   {
    "duration": 8,
    "start_time": "2024-02-21T18:17:10.499Z"
   },
   {
    "duration": 1156,
    "start_time": "2024-02-21T18:17:38.907Z"
   },
   {
    "duration": 7,
    "start_time": "2024-02-21T18:17:46.211Z"
   },
   {
    "duration": 9,
    "start_time": "2024-02-21T18:18:45.203Z"
   },
   {
    "duration": 4,
    "start_time": "2024-02-21T18:19:03.732Z"
   },
   {
    "duration": 9,
    "start_time": "2024-02-21T18:19:07.875Z"
   },
   {
    "duration": 10,
    "start_time": "2024-02-21T18:19:36.731Z"
   },
   {
    "duration": 7,
    "start_time": "2024-02-21T18:19:51.396Z"
   },
   {
    "duration": 8,
    "start_time": "2024-02-21T18:21:20.683Z"
   },
   {
    "duration": 15,
    "start_time": "2024-02-21T18:21:23.267Z"
   },
   {
    "duration": 8,
    "start_time": "2024-02-21T18:21:23.971Z"
   },
   {
    "duration": 3,
    "start_time": "2024-02-21T18:21:28.873Z"
   },
   {
    "duration": 2659,
    "start_time": "2024-02-21T18:21:28.877Z"
   },
   {
    "duration": 56,
    "start_time": "2024-02-21T18:21:31.538Z"
   },
   {
    "duration": 25,
    "start_time": "2024-02-21T18:21:31.596Z"
   },
   {
    "duration": 34,
    "start_time": "2024-02-21T18:21:31.623Z"
   },
   {
    "duration": 50,
    "start_time": "2024-02-21T18:21:31.658Z"
   },
   {
    "duration": 37,
    "start_time": "2024-02-21T18:21:31.710Z"
   },
   {
    "duration": 36,
    "start_time": "2024-02-21T18:21:31.749Z"
   },
   {
    "duration": 42,
    "start_time": "2024-02-21T18:21:31.788Z"
   },
   {
    "duration": 32,
    "start_time": "2024-02-21T18:21:31.833Z"
   },
   {
    "duration": 1115,
    "start_time": "2024-02-21T18:21:31.867Z"
   },
   {
    "duration": 5,
    "start_time": "2024-02-21T18:21:32.984Z"
   },
   {
    "duration": 30,
    "start_time": "2024-02-21T18:21:32.991Z"
   },
   {
    "duration": 11,
    "start_time": "2024-02-21T18:21:33.022Z"
   },
   {
    "duration": 10,
    "start_time": "2024-02-21T18:21:33.034Z"
   },
   {
    "duration": 6,
    "start_time": "2024-02-21T18:21:33.046Z"
   },
   {
    "duration": 1751,
    "start_time": "2024-02-21T18:21:33.053Z"
   },
   {
    "duration": 178,
    "start_time": "2024-02-21T18:21:34.806Z"
   },
   {
    "duration": 251,
    "start_time": "2024-02-21T18:21:34.986Z"
   },
   {
    "duration": 13,
    "start_time": "2024-02-21T18:21:35.239Z"
   },
   {
    "duration": 7,
    "start_time": "2024-02-21T18:21:35.253Z"
   },
   {
    "duration": 29,
    "start_time": "2024-02-21T18:21:35.261Z"
   },
   {
    "duration": 8,
    "start_time": "2024-02-21T18:21:35.292Z"
   },
   {
    "duration": 319,
    "start_time": "2024-02-21T18:21:35.305Z"
   },
   {
    "duration": 394,
    "start_time": "2024-02-21T18:21:35.625Z"
   },
   {
    "duration": 298,
    "start_time": "2024-02-21T18:21:36.022Z"
   },
   {
    "duration": 256,
    "start_time": "2024-02-21T18:21:36.322Z"
   },
   {
    "duration": 530,
    "start_time": "2024-02-21T18:21:36.582Z"
   },
   {
    "duration": 415,
    "start_time": "2024-02-21T18:21:37.114Z"
   },
   {
    "duration": 261,
    "start_time": "2024-02-21T18:21:37.531Z"
   },
   {
    "duration": 418,
    "start_time": "2024-02-21T18:21:37.794Z"
   },
   {
    "duration": 309,
    "start_time": "2024-02-21T18:21:38.214Z"
   },
   {
    "duration": 299,
    "start_time": "2024-02-21T18:21:38.524Z"
   },
   {
    "duration": 372,
    "start_time": "2024-02-21T18:21:38.825Z"
   },
   {
    "duration": 326,
    "start_time": "2024-02-21T18:21:39.198Z"
   },
   {
    "duration": 1065,
    "start_time": "2024-02-21T18:21:39.526Z"
   },
   {
    "duration": 14265,
    "start_time": "2024-02-21T18:21:40.593Z"
   },
   {
    "duration": 6,
    "start_time": "2024-02-21T18:21:54.859Z"
   },
   {
    "duration": 21,
    "start_time": "2024-02-21T18:21:54.867Z"
   },
   {
    "duration": 32,
    "start_time": "2024-02-21T18:21:54.889Z"
   },
   {
    "duration": 7,
    "start_time": "2024-02-21T18:21:54.923Z"
   },
   {
    "duration": 47,
    "start_time": "2024-02-21T18:21:54.931Z"
   },
   {
    "duration": 19,
    "start_time": "2024-02-21T18:21:54.979Z"
   },
   {
    "duration": 22,
    "start_time": "2024-02-21T18:21:55.000Z"
   },
   {
    "duration": 4,
    "start_time": "2024-02-21T18:21:55.023Z"
   },
   {
    "duration": 16,
    "start_time": "2024-02-21T18:21:55.029Z"
   },
   {
    "duration": 20,
    "start_time": "2024-02-21T18:21:55.047Z"
   },
   {
    "duration": 21,
    "start_time": "2024-02-21T18:21:55.068Z"
   },
   {
    "duration": 895,
    "start_time": "2024-02-21T18:23:12.774Z"
   },
   {
    "duration": 6,
    "start_time": "2024-02-21T18:23:34.116Z"
   },
   {
    "duration": 16,
    "start_time": "2024-02-21T18:23:56.027Z"
   },
   {
    "duration": 7,
    "start_time": "2024-02-21T18:25:13.098Z"
   },
   {
    "duration": 6,
    "start_time": "2024-02-21T18:26:29.905Z"
   },
   {
    "duration": 6,
    "start_time": "2024-02-21T18:26:30.432Z"
   },
   {
    "duration": 6,
    "start_time": "2024-02-21T18:26:30.921Z"
   },
   {
    "duration": 6,
    "start_time": "2024-02-21T18:26:31.400Z"
   },
   {
    "duration": 10,
    "start_time": "2024-02-21T18:26:36.121Z"
   },
   {
    "duration": 5,
    "start_time": "2024-02-21T18:26:36.649Z"
   },
   {
    "duration": 8,
    "start_time": "2024-02-21T18:26:37.081Z"
   },
   {
    "duration": 5,
    "start_time": "2024-02-21T18:26:37.529Z"
   },
   {
    "duration": 3,
    "start_time": "2024-02-21T18:26:41.361Z"
   },
   {
    "duration": 2689,
    "start_time": "2024-02-21T18:26:41.366Z"
   },
   {
    "duration": 52,
    "start_time": "2024-02-21T18:26:44.058Z"
   },
   {
    "duration": 26,
    "start_time": "2024-02-21T18:26:44.113Z"
   },
   {
    "duration": 4,
    "start_time": "2024-02-21T18:26:44.140Z"
   },
   {
    "duration": 7,
    "start_time": "2024-02-21T18:26:44.145Z"
   },
   {
    "duration": 29,
    "start_time": "2024-02-21T18:26:44.154Z"
   },
   {
    "duration": 6,
    "start_time": "2024-02-21T18:26:44.185Z"
   },
   {
    "duration": 9,
    "start_time": "2024-02-21T18:26:44.194Z"
   },
   {
    "duration": 21,
    "start_time": "2024-02-21T18:26:44.205Z"
   },
   {
    "duration": 1153,
    "start_time": "2024-02-21T18:26:44.227Z"
   },
   {
    "duration": 5,
    "start_time": "2024-02-21T18:26:45.382Z"
   },
   {
    "duration": 29,
    "start_time": "2024-02-21T18:26:45.388Z"
   },
   {
    "duration": 11,
    "start_time": "2024-02-21T18:26:45.419Z"
   },
   {
    "duration": 9,
    "start_time": "2024-02-21T18:26:45.431Z"
   },
   {
    "duration": 7,
    "start_time": "2024-02-21T18:26:45.441Z"
   },
   {
    "duration": 1741,
    "start_time": "2024-02-21T18:26:45.482Z"
   },
   {
    "duration": 178,
    "start_time": "2024-02-21T18:26:47.224Z"
   },
   {
    "duration": 254,
    "start_time": "2024-02-21T18:26:47.403Z"
   },
   {
    "duration": 22,
    "start_time": "2024-02-21T18:26:47.660Z"
   },
   {
    "duration": 5,
    "start_time": "2024-02-21T18:26:47.683Z"
   },
   {
    "duration": 14,
    "start_time": "2024-02-21T18:26:47.689Z"
   },
   {
    "duration": 6,
    "start_time": "2024-02-21T18:26:47.705Z"
   },
   {
    "duration": 348,
    "start_time": "2024-02-21T18:26:47.714Z"
   },
   {
    "duration": 387,
    "start_time": "2024-02-21T18:26:48.064Z"
   },
   {
    "duration": 365,
    "start_time": "2024-02-21T18:26:48.453Z"
   },
   {
    "duration": 247,
    "start_time": "2024-02-21T18:26:48.820Z"
   },
   {
    "duration": 544,
    "start_time": "2024-02-21T18:26:49.069Z"
   },
   {
    "duration": 417,
    "start_time": "2024-02-21T18:26:49.615Z"
   },
   {
    "duration": 813,
    "start_time": "2024-02-21T18:26:50.033Z"
   },
   {
    "duration": 401,
    "start_time": "2024-02-21T18:26:50.848Z"
   },
   {
    "duration": 350,
    "start_time": "2024-02-21T18:26:51.251Z"
   },
   {
    "duration": 320,
    "start_time": "2024-02-21T18:26:51.603Z"
   },
   {
    "duration": 349,
    "start_time": "2024-02-21T18:26:51.925Z"
   },
   {
    "duration": 354,
    "start_time": "2024-02-21T18:26:52.282Z"
   },
   {
    "duration": 1132,
    "start_time": "2024-02-21T18:26:52.638Z"
   },
   {
    "duration": 14416,
    "start_time": "2024-02-21T18:26:53.771Z"
   },
   {
    "duration": 8,
    "start_time": "2024-02-21T18:27:08.189Z"
   },
   {
    "duration": 15,
    "start_time": "2024-02-21T18:27:08.198Z"
   },
   {
    "duration": 29,
    "start_time": "2024-02-21T18:27:08.214Z"
   },
   {
    "duration": 5,
    "start_time": "2024-02-21T18:27:08.245Z"
   },
   {
    "duration": 30,
    "start_time": "2024-02-21T18:27:08.252Z"
   },
   {
    "duration": 5,
    "start_time": "2024-02-21T18:27:08.284Z"
   },
   {
    "duration": 23,
    "start_time": "2024-02-21T18:27:08.291Z"
   },
   {
    "duration": 12,
    "start_time": "2024-02-21T18:27:08.315Z"
   },
   {
    "duration": 12,
    "start_time": "2024-02-21T18:27:08.328Z"
   },
   {
    "duration": 11,
    "start_time": "2024-02-21T18:27:08.341Z"
   },
   {
    "duration": 19,
    "start_time": "2024-02-21T18:27:08.354Z"
   },
   {
    "duration": 8,
    "start_time": "2024-02-21T18:27:08.374Z"
   },
   {
    "duration": 4,
    "start_time": "2024-02-21T18:27:08.384Z"
   },
   {
    "duration": 3,
    "start_time": "2024-02-21T18:27:23.046Z"
   },
   {
    "duration": 2626,
    "start_time": "2024-02-21T18:27:23.050Z"
   },
   {
    "duration": 43,
    "start_time": "2024-02-21T18:27:25.678Z"
   },
   {
    "duration": 24,
    "start_time": "2024-02-21T18:27:25.723Z"
   },
   {
    "duration": 18,
    "start_time": "2024-02-21T18:27:25.748Z"
   },
   {
    "duration": 38,
    "start_time": "2024-02-21T18:27:25.768Z"
   },
   {
    "duration": 25,
    "start_time": "2024-02-21T18:27:25.807Z"
   },
   {
    "duration": 32,
    "start_time": "2024-02-21T18:27:25.834Z"
   },
   {
    "duration": 23,
    "start_time": "2024-02-21T18:27:25.868Z"
   },
   {
    "duration": 44,
    "start_time": "2024-02-21T18:27:25.894Z"
   },
   {
    "duration": 1214,
    "start_time": "2024-02-21T18:27:25.940Z"
   },
   {
    "duration": 4,
    "start_time": "2024-02-21T18:27:27.156Z"
   },
   {
    "duration": 44,
    "start_time": "2024-02-21T18:27:27.162Z"
   },
   {
    "duration": 24,
    "start_time": "2024-02-21T18:27:27.207Z"
   },
   {
    "duration": 28,
    "start_time": "2024-02-21T18:27:27.232Z"
   },
   {
    "duration": 31,
    "start_time": "2024-02-21T18:27:27.261Z"
   },
   {
    "duration": 1740,
    "start_time": "2024-02-21T18:27:27.294Z"
   },
   {
    "duration": 189,
    "start_time": "2024-02-21T18:27:29.036Z"
   },
   {
    "duration": 257,
    "start_time": "2024-02-21T18:27:29.227Z"
   },
   {
    "duration": 14,
    "start_time": "2024-02-21T18:27:29.485Z"
   },
   {
    "duration": 5,
    "start_time": "2024-02-21T18:27:29.500Z"
   },
   {
    "duration": 15,
    "start_time": "2024-02-21T18:27:29.507Z"
   },
   {
    "duration": 6,
    "start_time": "2024-02-21T18:27:29.523Z"
   },
   {
    "duration": 332,
    "start_time": "2024-02-21T18:27:29.530Z"
   },
   {
    "duration": 367,
    "start_time": "2024-02-21T18:27:29.864Z"
   },
   {
    "duration": 388,
    "start_time": "2024-02-21T18:27:30.233Z"
   },
   {
    "duration": 260,
    "start_time": "2024-02-21T18:27:30.622Z"
   },
   {
    "duration": 586,
    "start_time": "2024-02-21T18:27:30.885Z"
   },
   {
    "duration": 420,
    "start_time": "2024-02-21T18:27:31.473Z"
   },
   {
    "duration": 295,
    "start_time": "2024-02-21T18:27:31.895Z"
   },
   {
    "duration": 454,
    "start_time": "2024-02-21T18:27:32.192Z"
   },
   {
    "duration": 368,
    "start_time": "2024-02-21T18:27:32.648Z"
   },
   {
    "duration": 316,
    "start_time": "2024-02-21T18:27:33.018Z"
   },
   {
    "duration": 364,
    "start_time": "2024-02-21T18:27:33.337Z"
   },
   {
    "duration": 337,
    "start_time": "2024-02-21T18:27:33.703Z"
   },
   {
    "duration": 1076,
    "start_time": "2024-02-21T18:27:34.042Z"
   },
   {
    "duration": 2,
    "start_time": "2024-02-21T18:27:35.120Z"
   },
   {
    "duration": 15,
    "start_time": "2024-02-21T18:27:35.124Z"
   },
   {
    "duration": 7,
    "start_time": "2024-02-21T18:27:35.140Z"
   },
   {
    "duration": 14,
    "start_time": "2024-02-21T18:27:35.148Z"
   },
   {
    "duration": 6,
    "start_time": "2024-02-21T18:27:35.163Z"
   },
   {
    "duration": 21,
    "start_time": "2024-02-21T18:27:35.182Z"
   },
   {
    "duration": 6,
    "start_time": "2024-02-21T18:27:35.205Z"
   },
   {
    "duration": 6,
    "start_time": "2024-02-21T18:27:35.212Z"
   },
   {
    "duration": 5,
    "start_time": "2024-02-21T18:27:35.220Z"
   },
   {
    "duration": 6,
    "start_time": "2024-02-21T18:27:35.226Z"
   },
   {
    "duration": 50,
    "start_time": "2024-02-21T18:27:35.233Z"
   },
   {
    "duration": 5,
    "start_time": "2024-02-21T18:27:35.285Z"
   },
   {
    "duration": 8,
    "start_time": "2024-02-21T18:27:35.291Z"
   },
   {
    "duration": 5,
    "start_time": "2024-02-21T18:27:35.300Z"
   },
   {
    "duration": 3,
    "start_time": "2024-02-21T18:30:32.193Z"
   },
   {
    "duration": 18,
    "start_time": "2024-02-21T18:30:32.198Z"
   },
   {
    "duration": 71,
    "start_time": "2024-02-21T18:30:32.218Z"
   },
   {
    "duration": 24,
    "start_time": "2024-02-21T18:30:32.291Z"
   },
   {
    "duration": 4,
    "start_time": "2024-02-21T18:30:32.316Z"
   },
   {
    "duration": 6,
    "start_time": "2024-02-21T18:30:32.321Z"
   },
   {
    "duration": 6,
    "start_time": "2024-02-21T18:30:32.328Z"
   },
   {
    "duration": 14,
    "start_time": "2024-02-21T18:30:32.336Z"
   },
   {
    "duration": 8,
    "start_time": "2024-02-21T18:30:32.352Z"
   },
   {
    "duration": 50,
    "start_time": "2024-02-21T18:30:32.361Z"
   },
   {
    "duration": 1066,
    "start_time": "2024-02-21T18:30:32.413Z"
   },
   {
    "duration": 6,
    "start_time": "2024-02-21T18:30:33.482Z"
   },
   {
    "duration": 25,
    "start_time": "2024-02-21T18:30:33.490Z"
   },
   {
    "duration": 12,
    "start_time": "2024-02-21T18:30:33.516Z"
   },
   {
    "duration": 5,
    "start_time": "2024-02-21T18:30:33.529Z"
   },
   {
    "duration": 9,
    "start_time": "2024-02-21T18:30:33.535Z"
   },
   {
    "duration": 2347,
    "start_time": "2024-02-21T18:30:33.545Z"
   },
   {
    "duration": 181,
    "start_time": "2024-02-21T18:30:35.894Z"
   },
   {
    "duration": 256,
    "start_time": "2024-02-21T18:30:36.084Z"
   },
   {
    "duration": 10,
    "start_time": "2024-02-21T18:30:36.341Z"
   },
   {
    "duration": 4,
    "start_time": "2024-02-21T18:30:36.353Z"
   },
   {
    "duration": 39,
    "start_time": "2024-02-21T18:30:36.358Z"
   },
   {
    "duration": 6,
    "start_time": "2024-02-21T18:30:36.399Z"
   },
   {
    "duration": 307,
    "start_time": "2024-02-21T18:30:36.409Z"
   },
   {
    "duration": 369,
    "start_time": "2024-02-21T18:30:36.718Z"
   },
   {
    "duration": 341,
    "start_time": "2024-02-21T18:30:37.088Z"
   },
   {
    "duration": 249,
    "start_time": "2024-02-21T18:30:37.431Z"
   },
   {
    "duration": 615,
    "start_time": "2024-02-21T18:30:37.682Z"
   },
   {
    "duration": 433,
    "start_time": "2024-02-21T18:30:38.299Z"
   },
   {
    "duration": 284,
    "start_time": "2024-02-21T18:30:38.735Z"
   },
   {
    "duration": 428,
    "start_time": "2024-02-21T18:30:39.020Z"
   },
   {
    "duration": 363,
    "start_time": "2024-02-21T18:30:39.450Z"
   },
   {
    "duration": 306,
    "start_time": "2024-02-21T18:30:39.815Z"
   },
   {
    "duration": 353,
    "start_time": "2024-02-21T18:30:40.122Z"
   },
   {
    "duration": 327,
    "start_time": "2024-02-21T18:30:40.476Z"
   },
   {
    "duration": 1054,
    "start_time": "2024-02-21T18:30:40.805Z"
   },
   {
    "duration": 3,
    "start_time": "2024-02-21T18:30:41.861Z"
   },
   {
    "duration": 26,
    "start_time": "2024-02-21T18:30:41.865Z"
   },
   {
    "duration": 4,
    "start_time": "2024-02-21T18:30:41.896Z"
   },
   {
    "duration": 23,
    "start_time": "2024-02-21T18:30:41.901Z"
   },
   {
    "duration": 6,
    "start_time": "2024-02-21T18:30:41.925Z"
   },
   {
    "duration": 20,
    "start_time": "2024-02-21T18:30:41.933Z"
   },
   {
    "duration": 5,
    "start_time": "2024-02-21T18:30:41.955Z"
   },
   {
    "duration": 29,
    "start_time": "2024-02-21T18:30:41.962Z"
   },
   {
    "duration": 5,
    "start_time": "2024-02-21T18:30:41.994Z"
   },
   {
    "duration": 5,
    "start_time": "2024-02-21T18:30:42.001Z"
   },
   {
    "duration": 19,
    "start_time": "2024-02-21T18:31:01.325Z"
   },
   {
    "duration": 8,
    "start_time": "2024-02-21T18:31:36.801Z"
   },
   {
    "duration": 1216,
    "start_time": "2024-02-21T18:31:36.811Z"
   },
   {
    "duration": 42,
    "start_time": "2024-02-21T18:31:38.029Z"
   },
   {
    "duration": 30,
    "start_time": "2024-02-21T18:31:38.072Z"
   },
   {
    "duration": 3,
    "start_time": "2024-02-21T18:31:38.104Z"
   },
   {
    "duration": 5,
    "start_time": "2024-02-21T18:31:38.109Z"
   },
   {
    "duration": 9,
    "start_time": "2024-02-21T18:31:38.115Z"
   },
   {
    "duration": 4,
    "start_time": "2024-02-21T18:31:38.125Z"
   },
   {
    "duration": 12,
    "start_time": "2024-02-21T18:31:38.131Z"
   },
   {
    "duration": 52,
    "start_time": "2024-02-21T18:31:38.145Z"
   },
   {
    "duration": 1103,
    "start_time": "2024-02-21T18:31:38.199Z"
   },
   {
    "duration": 4,
    "start_time": "2024-02-21T18:31:39.304Z"
   },
   {
    "duration": 21,
    "start_time": "2024-02-21T18:31:39.309Z"
   },
   {
    "duration": 10,
    "start_time": "2024-02-21T18:31:39.333Z"
   },
   {
    "duration": 5,
    "start_time": "2024-02-21T18:31:39.344Z"
   },
   {
    "duration": 43,
    "start_time": "2024-02-21T18:31:39.350Z"
   },
   {
    "duration": 1839,
    "start_time": "2024-02-21T18:31:39.394Z"
   },
   {
    "duration": 185,
    "start_time": "2024-02-21T18:31:41.234Z"
   },
   {
    "duration": 283,
    "start_time": "2024-02-21T18:31:41.421Z"
   },
   {
    "duration": 10,
    "start_time": "2024-02-21T18:31:41.706Z"
   },
   {
    "duration": 25,
    "start_time": "2024-02-21T18:31:41.717Z"
   },
   {
    "duration": 19,
    "start_time": "2024-02-21T18:31:41.743Z"
   },
   {
    "duration": 7,
    "start_time": "2024-02-21T18:31:41.763Z"
   },
   {
    "duration": 315,
    "start_time": "2024-02-21T18:31:41.771Z"
   },
   {
    "duration": 353,
    "start_time": "2024-02-21T18:31:42.088Z"
   },
   {
    "duration": 370,
    "start_time": "2024-02-21T18:31:42.442Z"
   },
   {
    "duration": 277,
    "start_time": "2024-02-21T18:31:42.813Z"
   },
   {
    "duration": 692,
    "start_time": "2024-02-21T18:31:43.092Z"
   },
   {
    "duration": 423,
    "start_time": "2024-02-21T18:31:43.791Z"
   },
   {
    "duration": 286,
    "start_time": "2024-02-21T18:31:44.216Z"
   },
   {
    "duration": 439,
    "start_time": "2024-02-21T18:31:44.503Z"
   },
   {
    "duration": 366,
    "start_time": "2024-02-21T18:31:44.944Z"
   },
   {
    "duration": 318,
    "start_time": "2024-02-21T18:31:45.312Z"
   },
   {
    "duration": 374,
    "start_time": "2024-02-21T18:31:45.632Z"
   },
   {
    "duration": 440,
    "start_time": "2024-02-21T18:31:46.008Z"
   },
   {
    "duration": 1109,
    "start_time": "2024-02-21T18:31:46.450Z"
   },
   {
    "duration": 3,
    "start_time": "2024-02-21T18:31:47.560Z"
   },
   {
    "duration": 27,
    "start_time": "2024-02-21T18:31:47.564Z"
   },
   {
    "duration": 4,
    "start_time": "2024-02-21T18:31:47.596Z"
   },
   {
    "duration": 15,
    "start_time": "2024-02-21T18:31:47.602Z"
   },
   {
    "duration": 5,
    "start_time": "2024-02-21T18:31:47.621Z"
   },
   {
    "duration": 31,
    "start_time": "2024-02-21T18:31:47.627Z"
   },
   {
    "duration": 5,
    "start_time": "2024-02-21T18:31:47.659Z"
   },
   {
    "duration": 25,
    "start_time": "2024-02-21T18:31:47.666Z"
   },
   {
    "duration": 5,
    "start_time": "2024-02-21T18:31:47.693Z"
   },
   {
    "duration": 6,
    "start_time": "2024-02-21T18:31:47.700Z"
   },
   {
    "duration": 13,
    "start_time": "2024-02-21T18:31:56.013Z"
   },
   {
    "duration": 110,
    "start_time": "2024-02-21T18:32:09.934Z"
   },
   {
    "duration": 11,
    "start_time": "2024-02-21T18:32:14.694Z"
   },
   {
    "duration": 13,
    "start_time": "2024-02-21T18:33:32.158Z"
   },
   {
    "duration": 10,
    "start_time": "2024-02-21T18:34:05.045Z"
   },
   {
    "duration": 10,
    "start_time": "2024-02-21T18:34:36.821Z"
   },
   {
    "duration": 25,
    "start_time": "2024-02-21T18:35:40.492Z"
   },
   {
    "duration": 3,
    "start_time": "2024-02-21T18:35:45.232Z"
   },
   {
    "duration": 25,
    "start_time": "2024-02-21T18:35:45.237Z"
   },
   {
    "duration": 47,
    "start_time": "2024-02-21T18:35:45.263Z"
   },
   {
    "duration": 23,
    "start_time": "2024-02-21T18:35:45.313Z"
   },
   {
    "duration": 3,
    "start_time": "2024-02-21T18:35:45.338Z"
   },
   {
    "duration": 12,
    "start_time": "2024-02-21T18:35:45.343Z"
   },
   {
    "duration": 16,
    "start_time": "2024-02-21T18:35:45.356Z"
   },
   {
    "duration": 12,
    "start_time": "2024-02-21T18:35:45.374Z"
   },
   {
    "duration": 12,
    "start_time": "2024-02-21T18:35:45.390Z"
   },
   {
    "duration": 39,
    "start_time": "2024-02-21T18:35:45.404Z"
   },
   {
    "duration": 1071,
    "start_time": "2024-02-21T18:35:45.444Z"
   },
   {
    "duration": 5,
    "start_time": "2024-02-21T18:35:46.517Z"
   },
   {
    "duration": 32,
    "start_time": "2024-02-21T18:35:46.524Z"
   },
   {
    "duration": 29,
    "start_time": "2024-02-21T18:35:46.558Z"
   },
   {
    "duration": 6,
    "start_time": "2024-02-21T18:35:46.588Z"
   },
   {
    "duration": 27,
    "start_time": "2024-02-21T18:35:46.595Z"
   },
   {
    "duration": 1756,
    "start_time": "2024-02-21T18:35:46.623Z"
   },
   {
    "duration": 180,
    "start_time": "2024-02-21T18:35:48.381Z"
   },
   {
    "duration": 255,
    "start_time": "2024-02-21T18:35:48.563Z"
   },
   {
    "duration": 10,
    "start_time": "2024-02-21T18:35:48.819Z"
   },
   {
    "duration": 7,
    "start_time": "2024-02-21T18:35:48.830Z"
   },
   {
    "duration": 18,
    "start_time": "2024-02-21T18:35:48.838Z"
   },
   {
    "duration": 24,
    "start_time": "2024-02-21T18:35:48.858Z"
   },
   {
    "duration": 301,
    "start_time": "2024-02-21T18:35:48.886Z"
   },
   {
    "duration": 348,
    "start_time": "2024-02-21T18:35:49.190Z"
   },
   {
    "duration": 281,
    "start_time": "2024-02-21T18:35:49.540Z"
   },
   {
    "duration": 403,
    "start_time": "2024-02-21T18:35:49.823Z"
   },
   {
    "duration": 529,
    "start_time": "2024-02-21T18:35:50.227Z"
   },
   {
    "duration": 407,
    "start_time": "2024-02-21T18:35:50.758Z"
   },
   {
    "duration": 272,
    "start_time": "2024-02-21T18:35:51.167Z"
   },
   {
    "duration": 394,
    "start_time": "2024-02-21T18:35:51.441Z"
   },
   {
    "duration": 291,
    "start_time": "2024-02-21T18:35:51.836Z"
   },
   {
    "duration": 374,
    "start_time": "2024-02-21T18:35:52.128Z"
   },
   {
    "duration": 437,
    "start_time": "2024-02-21T18:35:52.504Z"
   },
   {
    "duration": 339,
    "start_time": "2024-02-21T18:35:52.943Z"
   },
   {
    "duration": 1055,
    "start_time": "2024-02-21T18:35:53.283Z"
   },
   {
    "duration": 3,
    "start_time": "2024-02-21T18:35:54.339Z"
   },
   {
    "duration": 7,
    "start_time": "2024-02-21T18:35:54.343Z"
   },
   {
    "duration": 8,
    "start_time": "2024-02-21T18:35:54.352Z"
   },
   {
    "duration": 23,
    "start_time": "2024-02-21T18:35:54.361Z"
   },
   {
    "duration": 5,
    "start_time": "2024-02-21T18:35:54.386Z"
   },
   {
    "duration": 21,
    "start_time": "2024-02-21T18:35:54.392Z"
   },
   {
    "duration": 4,
    "start_time": "2024-02-21T18:35:54.415Z"
   },
   {
    "duration": 9,
    "start_time": "2024-02-21T18:35:54.420Z"
   },
   {
    "duration": 4,
    "start_time": "2024-02-21T18:35:54.431Z"
   },
   {
    "duration": 5,
    "start_time": "2024-02-21T18:35:54.437Z"
   },
   {
    "duration": 12,
    "start_time": "2024-02-21T18:35:57.045Z"
   },
   {
    "duration": 8,
    "start_time": "2024-02-21T18:35:58.149Z"
   },
   {
    "duration": 3,
    "start_time": "2024-02-21T18:38:51.246Z"
   },
   {
    "duration": 17,
    "start_time": "2024-02-21T18:38:51.251Z"
   },
   {
    "duration": 44,
    "start_time": "2024-02-21T18:38:51.269Z"
   },
   {
    "duration": 24,
    "start_time": "2024-02-21T18:38:51.315Z"
   },
   {
    "duration": 5,
    "start_time": "2024-02-21T18:38:51.341Z"
   },
   {
    "duration": 8,
    "start_time": "2024-02-21T18:38:51.348Z"
   },
   {
    "duration": 25,
    "start_time": "2024-02-21T18:38:51.357Z"
   },
   {
    "duration": 15,
    "start_time": "2024-02-21T18:38:51.384Z"
   },
   {
    "duration": 8,
    "start_time": "2024-02-21T18:38:51.401Z"
   },
   {
    "duration": 22,
    "start_time": "2024-02-21T18:38:51.411Z"
   },
   {
    "duration": 1089,
    "start_time": "2024-02-21T18:38:51.434Z"
   },
   {
    "duration": 6,
    "start_time": "2024-02-21T18:38:52.524Z"
   },
   {
    "duration": 29,
    "start_time": "2024-02-21T18:38:52.532Z"
   },
   {
    "duration": 28,
    "start_time": "2024-02-21T18:38:52.562Z"
   },
   {
    "duration": 6,
    "start_time": "2024-02-21T18:38:52.591Z"
   },
   {
    "duration": 6,
    "start_time": "2024-02-21T18:38:52.599Z"
   },
   {
    "duration": 1835,
    "start_time": "2024-02-21T18:38:52.606Z"
   },
   {
    "duration": 185,
    "start_time": "2024-02-21T18:38:54.443Z"
   },
   {
    "duration": 254,
    "start_time": "2024-02-21T18:38:54.630Z"
   },
   {
    "duration": 10,
    "start_time": "2024-02-21T18:38:54.886Z"
   },
   {
    "duration": 5,
    "start_time": "2024-02-21T18:38:54.897Z"
   },
   {
    "duration": 13,
    "start_time": "2024-02-21T18:38:54.903Z"
   },
   {
    "duration": 6,
    "start_time": "2024-02-21T18:38:54.917Z"
   },
   {
    "duration": 318,
    "start_time": "2024-02-21T18:38:54.926Z"
   },
   {
    "duration": 368,
    "start_time": "2024-02-21T18:38:55.246Z"
   },
   {
    "duration": 420,
    "start_time": "2024-02-21T18:38:55.616Z"
   },
   {
    "duration": 267,
    "start_time": "2024-02-21T18:38:56.037Z"
   },
   {
    "duration": 541,
    "start_time": "2024-02-21T18:38:56.305Z"
   },
   {
    "duration": 399,
    "start_time": "2024-02-21T18:38:56.848Z"
   },
   {
    "duration": 263,
    "start_time": "2024-02-21T18:38:57.249Z"
   },
   {
    "duration": 409,
    "start_time": "2024-02-21T18:38:57.514Z"
   },
   {
    "duration": 298,
    "start_time": "2024-02-21T18:38:57.925Z"
   },
   {
    "duration": 299,
    "start_time": "2024-02-21T18:38:58.224Z"
   },
   {
    "duration": 435,
    "start_time": "2024-02-21T18:38:58.524Z"
   },
   {
    "duration": 323,
    "start_time": "2024-02-21T18:38:58.960Z"
   },
   {
    "duration": 1055,
    "start_time": "2024-02-21T18:38:59.285Z"
   },
   {
    "duration": 3,
    "start_time": "2024-02-21T18:39:00.341Z"
   },
   {
    "duration": 76,
    "start_time": "2024-02-21T18:39:00.345Z"
   },
   {
    "duration": 21,
    "start_time": "2024-02-21T18:39:00.422Z"
   },
   {
    "duration": 35,
    "start_time": "2024-02-21T18:39:00.444Z"
   },
   {
    "duration": 12,
    "start_time": "2024-02-21T18:39:00.480Z"
   },
   {
    "duration": 75,
    "start_time": "2024-02-21T18:39:00.493Z"
   },
   {
    "duration": 37,
    "start_time": "2024-02-21T18:39:00.570Z"
   },
   {
    "duration": 45,
    "start_time": "2024-02-21T18:39:00.608Z"
   },
   {
    "duration": 41,
    "start_time": "2024-02-21T18:39:00.654Z"
   },
   {
    "duration": 31,
    "start_time": "2024-02-21T18:39:00.697Z"
   },
   {
    "duration": 60,
    "start_time": "2024-02-21T18:39:00.730Z"
   },
   {
    "duration": 40,
    "start_time": "2024-02-21T18:39:00.791Z"
   },
   {
    "duration": 1235,
    "start_time": "2024-02-21T18:39:00.833Z"
   },
   {
    "duration": 0,
    "start_time": "2024-02-21T18:39:02.070Z"
   },
   {
    "duration": 3,
    "start_time": "2024-02-21T18:39:10.588Z"
   },
   {
    "duration": 4,
    "start_time": "2024-02-21T18:39:10.593Z"
   },
   {
    "duration": 41,
    "start_time": "2024-02-21T18:39:10.598Z"
   },
   {
    "duration": 24,
    "start_time": "2024-02-21T18:39:10.640Z"
   },
   {
    "duration": 17,
    "start_time": "2024-02-21T18:39:10.666Z"
   },
   {
    "duration": 27,
    "start_time": "2024-02-21T18:39:10.685Z"
   },
   {
    "duration": 12,
    "start_time": "2024-02-21T18:39:10.714Z"
   },
   {
    "duration": 9,
    "start_time": "2024-02-21T18:39:10.728Z"
   },
   {
    "duration": 29,
    "start_time": "2024-02-21T18:39:10.738Z"
   },
   {
    "duration": 45,
    "start_time": "2024-02-21T18:39:10.769Z"
   },
   {
    "duration": 1042,
    "start_time": "2024-02-21T18:39:10.816Z"
   },
   {
    "duration": 5,
    "start_time": "2024-02-21T18:39:11.860Z"
   },
   {
    "duration": 34,
    "start_time": "2024-02-21T18:39:11.866Z"
   },
   {
    "duration": 10,
    "start_time": "2024-02-21T18:39:11.902Z"
   },
   {
    "duration": 5,
    "start_time": "2024-02-21T18:39:11.913Z"
   },
   {
    "duration": 17,
    "start_time": "2024-02-21T18:39:11.919Z"
   },
   {
    "duration": 1807,
    "start_time": "2024-02-21T18:39:11.938Z"
   },
   {
    "duration": 200,
    "start_time": "2024-02-21T18:39:13.746Z"
   },
   {
    "duration": 238,
    "start_time": "2024-02-21T18:39:13.948Z"
   },
   {
    "duration": 9,
    "start_time": "2024-02-21T18:39:14.188Z"
   },
   {
    "duration": 11,
    "start_time": "2024-02-21T18:39:14.199Z"
   },
   {
    "duration": 24,
    "start_time": "2024-02-21T18:39:14.211Z"
   },
   {
    "duration": 7,
    "start_time": "2024-02-21T18:39:14.237Z"
   },
   {
    "duration": 328,
    "start_time": "2024-02-21T18:39:14.246Z"
   },
   {
    "duration": 471,
    "start_time": "2024-02-21T18:39:14.581Z"
   },
   {
    "duration": 349,
    "start_time": "2024-02-21T18:39:15.053Z"
   },
   {
    "duration": 253,
    "start_time": "2024-02-21T18:39:15.404Z"
   },
   {
    "duration": 576,
    "start_time": "2024-02-21T18:39:15.658Z"
   },
   {
    "duration": 419,
    "start_time": "2024-02-21T18:39:16.236Z"
   },
   {
    "duration": 256,
    "start_time": "2024-02-21T18:39:16.656Z"
   },
   {
    "duration": 411,
    "start_time": "2024-02-21T18:39:16.913Z"
   },
   {
    "duration": 308,
    "start_time": "2024-02-21T18:39:17.326Z"
   },
   {
    "duration": 404,
    "start_time": "2024-02-21T18:39:17.636Z"
   },
   {
    "duration": 364,
    "start_time": "2024-02-21T18:39:18.042Z"
   },
   {
    "duration": 334,
    "start_time": "2024-02-21T18:39:18.408Z"
   },
   {
    "duration": 1070,
    "start_time": "2024-02-21T18:39:18.744Z"
   },
   {
    "duration": 2,
    "start_time": "2024-02-21T18:39:19.816Z"
   },
   {
    "duration": 14,
    "start_time": "2024-02-21T18:39:19.820Z"
   },
   {
    "duration": 3,
    "start_time": "2024-02-21T18:39:19.835Z"
   },
   {
    "duration": 16,
    "start_time": "2024-02-21T18:39:19.839Z"
   },
   {
    "duration": 7,
    "start_time": "2024-02-21T18:39:19.857Z"
   },
   {
    "duration": 37,
    "start_time": "2024-02-21T18:39:19.865Z"
   },
   {
    "duration": 14,
    "start_time": "2024-02-21T18:39:19.904Z"
   },
   {
    "duration": 22,
    "start_time": "2024-02-21T18:39:19.920Z"
   },
   {
    "duration": 11,
    "start_time": "2024-02-21T18:39:19.943Z"
   },
   {
    "duration": 4,
    "start_time": "2024-02-21T18:39:19.955Z"
   },
   {
    "duration": 11,
    "start_time": "2024-02-21T18:39:19.961Z"
   },
   {
    "duration": 10,
    "start_time": "2024-02-21T18:39:19.974Z"
   },
   {
    "duration": 11,
    "start_time": "2024-02-21T18:39:19.985Z"
   },
   {
    "duration": 16,
    "start_time": "2024-02-21T18:39:19.997Z"
   },
   {
    "duration": 4,
    "start_time": "2024-02-21T18:39:41.587Z"
   },
   {
    "duration": 12,
    "start_time": "2024-02-21T18:40:25.732Z"
   },
   {
    "duration": 8,
    "start_time": "2024-02-21T18:40:33.235Z"
   },
   {
    "duration": 3,
    "start_time": "2024-02-21T18:40:40.994Z"
   },
   {
    "duration": 7,
    "start_time": "2024-02-21T18:40:40.998Z"
   },
   {
    "duration": 40,
    "start_time": "2024-02-21T18:40:41.007Z"
   },
   {
    "duration": 20,
    "start_time": "2024-02-21T18:40:41.049Z"
   },
   {
    "duration": 13,
    "start_time": "2024-02-21T18:40:41.070Z"
   },
   {
    "duration": 24,
    "start_time": "2024-02-21T18:40:41.084Z"
   },
   {
    "duration": 8,
    "start_time": "2024-02-21T18:40:41.109Z"
   },
   {
    "duration": 16,
    "start_time": "2024-02-21T18:40:41.118Z"
   },
   {
    "duration": 8,
    "start_time": "2024-02-21T18:40:41.135Z"
   },
   {
    "duration": 22,
    "start_time": "2024-02-21T18:40:41.146Z"
   },
   {
    "duration": 1042,
    "start_time": "2024-02-21T18:40:41.170Z"
   },
   {
    "duration": 5,
    "start_time": "2024-02-21T18:40:42.214Z"
   },
   {
    "duration": 22,
    "start_time": "2024-02-21T18:40:42.220Z"
   },
   {
    "duration": 10,
    "start_time": "2024-02-21T18:40:42.244Z"
   },
   {
    "duration": 30,
    "start_time": "2024-02-21T18:40:42.255Z"
   },
   {
    "duration": 7,
    "start_time": "2024-02-21T18:40:42.287Z"
   },
   {
    "duration": 1810,
    "start_time": "2024-02-21T18:40:42.295Z"
   },
   {
    "duration": 176,
    "start_time": "2024-02-21T18:40:44.106Z"
   },
   {
    "duration": 246,
    "start_time": "2024-02-21T18:40:44.283Z"
   },
   {
    "duration": 11,
    "start_time": "2024-02-21T18:40:44.530Z"
   },
   {
    "duration": 7,
    "start_time": "2024-02-21T18:40:44.543Z"
   },
   {
    "duration": 36,
    "start_time": "2024-02-21T18:40:44.552Z"
   },
   {
    "duration": 8,
    "start_time": "2024-02-21T18:40:44.590Z"
   },
   {
    "duration": 445,
    "start_time": "2024-02-21T18:40:44.600Z"
   },
   {
    "duration": 391,
    "start_time": "2024-02-21T18:40:45.047Z"
   },
   {
    "duration": 288,
    "start_time": "2024-02-21T18:40:45.439Z"
   },
   {
    "duration": 297,
    "start_time": "2024-02-21T18:40:45.729Z"
   },
   {
    "duration": 527,
    "start_time": "2024-02-21T18:40:46.030Z"
   },
   {
    "duration": 400,
    "start_time": "2024-02-21T18:40:46.558Z"
   },
   {
    "duration": 253,
    "start_time": "2024-02-21T18:40:46.960Z"
   },
   {
    "duration": 410,
    "start_time": "2024-02-21T18:40:47.215Z"
   },
   {
    "duration": 396,
    "start_time": "2024-02-21T18:40:47.627Z"
   },
   {
    "duration": 291,
    "start_time": "2024-02-21T18:40:48.024Z"
   },
   {
    "duration": 344,
    "start_time": "2024-02-21T18:40:48.317Z"
   },
   {
    "duration": 342,
    "start_time": "2024-02-21T18:40:48.663Z"
   },
   {
    "duration": 1022,
    "start_time": "2024-02-21T18:40:49.007Z"
   },
   {
    "duration": 3,
    "start_time": "2024-02-21T18:40:50.030Z"
   },
   {
    "duration": 8,
    "start_time": "2024-02-21T18:40:50.035Z"
   },
   {
    "duration": 5,
    "start_time": "2024-02-21T18:40:50.044Z"
   },
   {
    "duration": 15,
    "start_time": "2024-02-21T18:40:50.051Z"
   },
   {
    "duration": 17,
    "start_time": "2024-02-21T18:40:50.068Z"
   },
   {
    "duration": 34,
    "start_time": "2024-02-21T18:40:50.086Z"
   },
   {
    "duration": 6,
    "start_time": "2024-02-21T18:40:50.121Z"
   },
   {
    "duration": 5,
    "start_time": "2024-02-21T18:40:50.128Z"
   },
   {
    "duration": 5,
    "start_time": "2024-02-21T18:40:50.134Z"
   },
   {
    "duration": 4,
    "start_time": "2024-02-21T18:40:50.141Z"
   },
   {
    "duration": 45,
    "start_time": "2024-02-21T18:40:50.147Z"
   },
   {
    "duration": 16,
    "start_time": "2024-02-21T18:40:50.193Z"
   },
   {
    "duration": 10,
    "start_time": "2024-02-21T18:40:50.210Z"
   },
   {
    "duration": 8,
    "start_time": "2024-02-21T18:40:50.221Z"
   },
   {
    "duration": 7,
    "start_time": "2024-02-21T18:40:50.231Z"
   },
   {
    "duration": 12,
    "start_time": "2024-02-21T18:40:50.239Z"
   },
   {
    "duration": 15,
    "start_time": "2024-02-21T18:42:59.939Z"
   },
   {
    "duration": 2,
    "start_time": "2024-02-21T18:43:07.107Z"
   },
   {
    "duration": 13,
    "start_time": "2024-02-21T18:43:07.111Z"
   },
   {
    "duration": 41,
    "start_time": "2024-02-21T18:43:07.125Z"
   },
   {
    "duration": 24,
    "start_time": "2024-02-21T18:43:07.168Z"
   },
   {
    "duration": 4,
    "start_time": "2024-02-21T18:43:07.194Z"
   },
   {
    "duration": 9,
    "start_time": "2024-02-21T18:43:07.199Z"
   },
   {
    "duration": 6,
    "start_time": "2024-02-21T18:43:07.209Z"
   },
   {
    "duration": 8,
    "start_time": "2024-02-21T18:43:07.217Z"
   },
   {
    "duration": 9,
    "start_time": "2024-02-21T18:43:07.226Z"
   },
   {
    "duration": 46,
    "start_time": "2024-02-21T18:43:07.237Z"
   },
   {
    "duration": 1025,
    "start_time": "2024-02-21T18:43:07.285Z"
   },
   {
    "duration": 5,
    "start_time": "2024-02-21T18:43:08.311Z"
   },
   {
    "duration": 32,
    "start_time": "2024-02-21T18:43:08.318Z"
   },
   {
    "duration": 11,
    "start_time": "2024-02-21T18:43:08.352Z"
   },
   {
    "duration": 21,
    "start_time": "2024-02-21T18:43:08.365Z"
   },
   {
    "duration": 6,
    "start_time": "2024-02-21T18:43:08.387Z"
   },
   {
    "duration": 1793,
    "start_time": "2024-02-21T18:43:08.394Z"
   },
   {
    "duration": 195,
    "start_time": "2024-02-21T18:43:10.189Z"
   },
   {
    "duration": 241,
    "start_time": "2024-02-21T18:43:10.386Z"
   },
   {
    "duration": 10,
    "start_time": "2024-02-21T18:43:10.628Z"
   },
   {
    "duration": 5,
    "start_time": "2024-02-21T18:43:10.639Z"
   },
   {
    "duration": 23,
    "start_time": "2024-02-21T18:43:10.645Z"
   },
   {
    "duration": 16,
    "start_time": "2024-02-21T18:43:10.670Z"
   },
   {
    "duration": 402,
    "start_time": "2024-02-21T18:43:10.687Z"
   },
   {
    "duration": 345,
    "start_time": "2024-02-21T18:43:11.090Z"
   },
   {
    "duration": 290,
    "start_time": "2024-02-21T18:43:11.436Z"
   },
   {
    "duration": 311,
    "start_time": "2024-02-21T18:43:11.728Z"
   },
   {
    "duration": 570,
    "start_time": "2024-02-21T18:43:12.041Z"
   },
   {
    "duration": 407,
    "start_time": "2024-02-21T18:43:12.613Z"
   },
   {
    "duration": 286,
    "start_time": "2024-02-21T18:43:13.022Z"
   },
   {
    "duration": 513,
    "start_time": "2024-02-21T18:43:13.310Z"
   },
   {
    "duration": 301,
    "start_time": "2024-02-21T18:43:13.825Z"
   },
   {
    "duration": 313,
    "start_time": "2024-02-21T18:43:14.127Z"
   },
   {
    "duration": 347,
    "start_time": "2024-02-21T18:43:14.442Z"
   },
   {
    "duration": 326,
    "start_time": "2024-02-21T18:43:14.790Z"
   },
   {
    "duration": 1066,
    "start_time": "2024-02-21T18:43:15.118Z"
   },
   {
    "duration": 3,
    "start_time": "2024-02-21T18:43:16.188Z"
   },
   {
    "duration": 7,
    "start_time": "2024-02-21T18:43:16.192Z"
   },
   {
    "duration": 2,
    "start_time": "2024-02-21T18:43:16.200Z"
   },
   {
    "duration": 14,
    "start_time": "2024-02-21T18:43:16.204Z"
   },
   {
    "duration": 5,
    "start_time": "2024-02-21T18:43:16.219Z"
   },
   {
    "duration": 28,
    "start_time": "2024-02-21T18:43:16.225Z"
   },
   {
    "duration": 29,
    "start_time": "2024-02-21T18:43:16.255Z"
   },
   {
    "duration": 5,
    "start_time": "2024-02-21T18:43:16.286Z"
   },
   {
    "duration": 22,
    "start_time": "2024-02-21T18:43:16.293Z"
   },
   {
    "duration": 18,
    "start_time": "2024-02-21T18:43:16.316Z"
   },
   {
    "duration": 13,
    "start_time": "2024-02-21T18:43:16.336Z"
   },
   {
    "duration": 15,
    "start_time": "2024-02-21T18:43:16.351Z"
   },
   {
    "duration": 11,
    "start_time": "2024-02-21T18:43:16.368Z"
   },
   {
    "duration": 10,
    "start_time": "2024-02-21T18:43:16.380Z"
   },
   {
    "duration": 8,
    "start_time": "2024-02-21T18:43:16.392Z"
   },
   {
    "duration": 18,
    "start_time": "2024-02-21T18:43:16.402Z"
   },
   {
    "duration": 103,
    "start_time": "2024-02-21T18:45:12.834Z"
   },
   {
    "duration": 69,
    "start_time": "2024-02-21T18:45:18.146Z"
   },
   {
    "duration": 70,
    "start_time": "2024-02-21T18:45:23.809Z"
   },
   {
    "duration": 70,
    "start_time": "2024-02-21T18:45:33.641Z"
   },
   {
    "duration": 91,
    "start_time": "2024-02-21T18:46:02.786Z"
   },
   {
    "duration": 3,
    "start_time": "2024-02-21T18:46:08.391Z"
   },
   {
    "duration": 5,
    "start_time": "2024-02-21T18:46:08.396Z"
   },
   {
    "duration": 40,
    "start_time": "2024-02-21T18:46:08.403Z"
   },
   {
    "duration": 22,
    "start_time": "2024-02-21T18:46:08.445Z"
   },
   {
    "duration": 14,
    "start_time": "2024-02-21T18:46:08.469Z"
   },
   {
    "duration": 18,
    "start_time": "2024-02-21T18:46:08.484Z"
   },
   {
    "duration": 5,
    "start_time": "2024-02-21T18:46:08.504Z"
   },
   {
    "duration": 5,
    "start_time": "2024-02-21T18:46:08.510Z"
   },
   {
    "duration": 13,
    "start_time": "2024-02-21T18:46:08.516Z"
   },
   {
    "duration": 24,
    "start_time": "2024-02-21T18:46:08.531Z"
   },
   {
    "duration": 1058,
    "start_time": "2024-02-21T18:46:08.556Z"
   },
   {
    "duration": 5,
    "start_time": "2024-02-21T18:46:09.615Z"
   },
   {
    "duration": 23,
    "start_time": "2024-02-21T18:46:09.621Z"
   },
   {
    "duration": 11,
    "start_time": "2024-02-21T18:46:09.646Z"
   },
   {
    "duration": 25,
    "start_time": "2024-02-21T18:46:09.658Z"
   },
   {
    "duration": 6,
    "start_time": "2024-02-21T18:46:09.685Z"
   },
   {
    "duration": 1822,
    "start_time": "2024-02-21T18:46:09.692Z"
   },
   {
    "duration": 185,
    "start_time": "2024-02-21T18:46:11.517Z"
   },
   {
    "duration": 350,
    "start_time": "2024-02-21T18:46:11.703Z"
   },
   {
    "duration": 9,
    "start_time": "2024-02-21T18:46:12.054Z"
   },
   {
    "duration": 17,
    "start_time": "2024-02-21T18:46:12.065Z"
   },
   {
    "duration": 29,
    "start_time": "2024-02-21T18:46:12.084Z"
   },
   {
    "duration": 23,
    "start_time": "2024-02-21T18:46:12.114Z"
   },
   {
    "duration": 304,
    "start_time": "2024-02-21T18:46:12.139Z"
   },
   {
    "duration": 385,
    "start_time": "2024-02-21T18:46:12.445Z"
   },
   {
    "duration": 297,
    "start_time": "2024-02-21T18:46:12.832Z"
   },
   {
    "duration": 274,
    "start_time": "2024-02-21T18:46:13.130Z"
   },
   {
    "duration": 560,
    "start_time": "2024-02-21T18:46:13.406Z"
   },
   {
    "duration": 420,
    "start_time": "2024-02-21T18:46:13.967Z"
   },
   {
    "duration": 250,
    "start_time": "2024-02-21T18:46:14.390Z"
   },
   {
    "duration": 489,
    "start_time": "2024-02-21T18:46:14.642Z"
   },
   {
    "duration": 313,
    "start_time": "2024-02-21T18:46:15.133Z"
   },
   {
    "duration": 358,
    "start_time": "2024-02-21T18:46:15.447Z"
   },
   {
    "duration": 350,
    "start_time": "2024-02-21T18:46:15.806Z"
   },
   {
    "duration": 326,
    "start_time": "2024-02-21T18:46:16.157Z"
   },
   {
    "duration": 1056,
    "start_time": "2024-02-21T18:46:16.484Z"
   },
   {
    "duration": 2,
    "start_time": "2024-02-21T18:46:17.542Z"
   },
   {
    "duration": 6,
    "start_time": "2024-02-21T18:46:17.546Z"
   },
   {
    "duration": 3,
    "start_time": "2024-02-21T18:46:17.554Z"
   },
   {
    "duration": 30,
    "start_time": "2024-02-21T18:46:17.559Z"
   },
   {
    "duration": 5,
    "start_time": "2024-02-21T18:46:17.594Z"
   },
   {
    "duration": 22,
    "start_time": "2024-02-21T18:46:17.600Z"
   },
   {
    "duration": 4,
    "start_time": "2024-02-21T18:46:17.623Z"
   },
   {
    "duration": 9,
    "start_time": "2024-02-21T18:46:17.629Z"
   },
   {
    "duration": 13,
    "start_time": "2024-02-21T18:46:17.639Z"
   },
   {
    "duration": 6,
    "start_time": "2024-02-21T18:46:17.654Z"
   },
   {
    "duration": 47,
    "start_time": "2024-02-21T18:46:17.663Z"
   },
   {
    "duration": 23,
    "start_time": "2024-02-21T18:46:17.711Z"
   },
   {
    "duration": 17,
    "start_time": "2024-02-21T18:46:17.735Z"
   },
   {
    "duration": 17,
    "start_time": "2024-02-21T18:46:17.753Z"
   },
   {
    "duration": 13,
    "start_time": "2024-02-21T18:46:17.771Z"
   },
   {
    "duration": 67,
    "start_time": "2024-02-21T18:46:17.785Z"
   },
   {
    "duration": 3,
    "start_time": "2024-02-21T18:53:04.604Z"
   },
   {
    "duration": 5,
    "start_time": "2024-02-21T18:53:04.609Z"
   },
   {
    "duration": 43,
    "start_time": "2024-02-21T18:53:04.615Z"
   },
   {
    "duration": 28,
    "start_time": "2024-02-21T18:53:04.659Z"
   },
   {
    "duration": 4,
    "start_time": "2024-02-21T18:53:04.689Z"
   },
   {
    "duration": 6,
    "start_time": "2024-02-21T18:53:04.694Z"
   },
   {
    "duration": 6,
    "start_time": "2024-02-21T18:53:04.701Z"
   },
   {
    "duration": 5,
    "start_time": "2024-02-21T18:53:04.709Z"
   },
   {
    "duration": 9,
    "start_time": "2024-02-21T18:53:04.716Z"
   },
   {
    "duration": 68,
    "start_time": "2024-02-21T18:53:04.726Z"
   },
   {
    "duration": 1047,
    "start_time": "2024-02-21T18:53:04.796Z"
   },
   {
    "duration": 4,
    "start_time": "2024-02-21T18:53:05.845Z"
   },
   {
    "duration": 37,
    "start_time": "2024-02-21T18:53:05.852Z"
   },
   {
    "duration": 9,
    "start_time": "2024-02-21T18:53:05.891Z"
   },
   {
    "duration": 5,
    "start_time": "2024-02-21T18:53:05.902Z"
   },
   {
    "duration": 24,
    "start_time": "2024-02-21T18:53:05.908Z"
   },
   {
    "duration": 1835,
    "start_time": "2024-02-21T18:53:05.934Z"
   },
   {
    "duration": 201,
    "start_time": "2024-02-21T18:53:07.771Z"
   },
   {
    "duration": 356,
    "start_time": "2024-02-21T18:53:07.973Z"
   },
   {
    "duration": 9,
    "start_time": "2024-02-21T18:53:08.330Z"
   },
   {
    "duration": 11,
    "start_time": "2024-02-21T18:53:08.341Z"
   },
   {
    "duration": 14,
    "start_time": "2024-02-21T18:53:08.354Z"
   },
   {
    "duration": 16,
    "start_time": "2024-02-21T18:53:08.369Z"
   },
   {
    "duration": 308,
    "start_time": "2024-02-21T18:53:08.387Z"
   },
   {
    "duration": 359,
    "start_time": "2024-02-21T18:53:08.697Z"
   },
   {
    "duration": 360,
    "start_time": "2024-02-21T18:53:09.058Z"
   },
   {
    "duration": 239,
    "start_time": "2024-02-21T18:53:09.419Z"
   },
   {
    "duration": 506,
    "start_time": "2024-02-21T18:53:09.660Z"
   },
   {
    "duration": 408,
    "start_time": "2024-02-21T18:53:10.182Z"
   },
   {
    "duration": 249,
    "start_time": "2024-02-21T18:53:10.592Z"
   },
   {
    "duration": 491,
    "start_time": "2024-02-21T18:53:10.842Z"
   },
   {
    "duration": 296,
    "start_time": "2024-02-21T18:53:11.335Z"
   },
   {
    "duration": 295,
    "start_time": "2024-02-21T18:53:11.632Z"
   },
   {
    "duration": 378,
    "start_time": "2024-02-21T18:53:11.929Z"
   },
   {
    "duration": 346,
    "start_time": "2024-02-21T18:53:12.309Z"
   },
   {
    "duration": 1074,
    "start_time": "2024-02-21T18:53:12.656Z"
   },
   {
    "duration": 2,
    "start_time": "2024-02-21T18:53:13.735Z"
   },
   {
    "duration": 6,
    "start_time": "2024-02-21T18:53:13.739Z"
   },
   {
    "duration": 4,
    "start_time": "2024-02-21T18:53:13.747Z"
   },
   {
    "duration": 31,
    "start_time": "2024-02-21T18:53:13.753Z"
   },
   {
    "duration": 5,
    "start_time": "2024-02-21T18:53:13.785Z"
   },
   {
    "duration": 25,
    "start_time": "2024-02-21T18:53:13.791Z"
   },
   {
    "duration": 5,
    "start_time": "2024-02-21T18:53:13.818Z"
   },
   {
    "duration": 8,
    "start_time": "2024-02-21T18:53:13.824Z"
   },
   {
    "duration": 4,
    "start_time": "2024-02-21T18:53:13.834Z"
   },
   {
    "duration": 12,
    "start_time": "2024-02-21T18:53:13.840Z"
   },
   {
    "duration": 36,
    "start_time": "2024-02-21T18:53:13.854Z"
   },
   {
    "duration": 15,
    "start_time": "2024-02-21T18:53:13.892Z"
   },
   {
    "duration": 14,
    "start_time": "2024-02-21T18:53:13.912Z"
   },
   {
    "duration": 10,
    "start_time": "2024-02-21T18:53:13.928Z"
   },
   {
    "duration": 13,
    "start_time": "2024-02-21T18:53:13.940Z"
   },
   {
    "duration": 27,
    "start_time": "2024-02-21T18:53:13.955Z"
   },
   {
    "duration": 2,
    "start_time": "2024-02-21T18:53:13.984Z"
   },
   {
    "duration": 14,
    "start_time": "2024-02-21T18:53:13.988Z"
   },
   {
    "duration": 4,
    "start_time": "2024-02-21T18:56:05.648Z"
   },
   {
    "duration": 10,
    "start_time": "2024-02-21T18:56:05.654Z"
   },
   {
    "duration": 40,
    "start_time": "2024-02-21T18:56:05.665Z"
   },
   {
    "duration": 26,
    "start_time": "2024-02-21T18:56:05.708Z"
   },
   {
    "duration": 4,
    "start_time": "2024-02-21T18:56:05.735Z"
   },
   {
    "duration": 14,
    "start_time": "2024-02-21T18:56:05.740Z"
   },
   {
    "duration": 30,
    "start_time": "2024-02-21T18:56:05.755Z"
   },
   {
    "duration": 24,
    "start_time": "2024-02-21T18:56:05.787Z"
   },
   {
    "duration": 10,
    "start_time": "2024-02-21T18:56:05.814Z"
   },
   {
    "duration": 40,
    "start_time": "2024-02-21T18:56:05.825Z"
   },
   {
    "duration": 1060,
    "start_time": "2024-02-21T18:56:05.867Z"
   },
   {
    "duration": 5,
    "start_time": "2024-02-21T18:56:06.928Z"
   },
   {
    "duration": 23,
    "start_time": "2024-02-21T18:56:06.934Z"
   },
   {
    "duration": 27,
    "start_time": "2024-02-21T18:56:06.958Z"
   },
   {
    "duration": 5,
    "start_time": "2024-02-21T18:56:06.987Z"
   },
   {
    "duration": 6,
    "start_time": "2024-02-21T18:56:06.994Z"
   },
   {
    "duration": 1809,
    "start_time": "2024-02-21T18:56:07.001Z"
   },
   {
    "duration": 173,
    "start_time": "2024-02-21T18:56:08.811Z"
   },
   {
    "duration": 340,
    "start_time": "2024-02-21T18:56:08.986Z"
   },
   {
    "duration": 9,
    "start_time": "2024-02-21T18:56:09.327Z"
   },
   {
    "duration": 16,
    "start_time": "2024-02-21T18:56:09.337Z"
   },
   {
    "duration": 37,
    "start_time": "2024-02-21T18:56:09.355Z"
   },
   {
    "duration": 12,
    "start_time": "2024-02-21T18:56:09.394Z"
   },
   {
    "duration": 303,
    "start_time": "2024-02-21T18:56:09.410Z"
   },
   {
    "duration": 422,
    "start_time": "2024-02-21T18:56:09.714Z"
   },
   {
    "duration": 296,
    "start_time": "2024-02-21T18:56:10.137Z"
   },
   {
    "duration": 280,
    "start_time": "2024-02-21T18:56:10.434Z"
   },
   {
    "duration": 551,
    "start_time": "2024-02-21T18:56:10.716Z"
   },
   {
    "duration": 415,
    "start_time": "2024-02-21T18:56:11.269Z"
   },
   {
    "duration": 254,
    "start_time": "2024-02-21T18:56:11.685Z"
   },
   {
    "duration": 497,
    "start_time": "2024-02-21T18:56:11.940Z"
   },
   {
    "duration": 386,
    "start_time": "2024-02-21T18:56:12.439Z"
   },
   {
    "duration": 295,
    "start_time": "2024-02-21T18:56:12.826Z"
   },
   {
    "duration": 335,
    "start_time": "2024-02-21T18:56:13.123Z"
   },
   {
    "duration": 319,
    "start_time": "2024-02-21T18:56:13.460Z"
   },
   {
    "duration": 1020,
    "start_time": "2024-02-21T18:56:13.781Z"
   },
   {
    "duration": 3,
    "start_time": "2024-02-21T18:56:14.802Z"
   },
   {
    "duration": 17,
    "start_time": "2024-02-21T18:56:14.806Z"
   },
   {
    "duration": 7,
    "start_time": "2024-02-21T18:56:14.824Z"
   },
   {
    "duration": 17,
    "start_time": "2024-02-21T18:56:14.833Z"
   },
   {
    "duration": 5,
    "start_time": "2024-02-21T18:56:14.852Z"
   },
   {
    "duration": 32,
    "start_time": "2024-02-21T18:56:14.859Z"
   },
   {
    "duration": 5,
    "start_time": "2024-02-21T18:56:14.893Z"
   },
   {
    "duration": 6,
    "start_time": "2024-02-21T18:56:14.900Z"
   },
   {
    "duration": 13,
    "start_time": "2024-02-21T18:56:14.907Z"
   },
   {
    "duration": 5,
    "start_time": "2024-02-21T18:56:14.921Z"
   },
   {
    "duration": 11,
    "start_time": "2024-02-21T18:56:14.928Z"
   },
   {
    "duration": 8,
    "start_time": "2024-02-21T18:56:14.941Z"
   },
   {
    "duration": 39,
    "start_time": "2024-02-21T18:56:14.951Z"
   },
   {
    "duration": 17,
    "start_time": "2024-02-21T18:56:14.991Z"
   },
   {
    "duration": 18,
    "start_time": "2024-02-21T18:56:15.010Z"
   },
   {
    "duration": 35,
    "start_time": "2024-02-21T18:56:15.029Z"
   },
   {
    "duration": 6,
    "start_time": "2024-02-21T18:56:15.065Z"
   },
   {
    "duration": 37,
    "start_time": "2024-02-21T18:56:15.072Z"
   },
   {
    "duration": 43,
    "start_time": "2024-02-21T18:56:15.111Z"
   },
   {
    "duration": 19,
    "start_time": "2024-02-21T18:56:15.155Z"
   },
   {
    "duration": 10,
    "start_time": "2024-02-21T18:56:15.176Z"
   },
   {
    "duration": 17,
    "start_time": "2024-02-21T18:56:15.188Z"
   },
   {
    "duration": 18,
    "start_time": "2024-02-21T18:56:15.207Z"
   },
   {
    "duration": 8,
    "start_time": "2024-02-21T18:56:31.847Z"
   },
   {
    "duration": 2,
    "start_time": "2024-02-21T18:56:38.624Z"
   },
   {
    "duration": 21,
    "start_time": "2024-02-21T18:56:38.628Z"
   },
   {
    "duration": 45,
    "start_time": "2024-02-21T18:56:38.651Z"
   },
   {
    "duration": 22,
    "start_time": "2024-02-21T18:56:38.698Z"
   },
   {
    "duration": 4,
    "start_time": "2024-02-21T18:56:38.721Z"
   },
   {
    "duration": 12,
    "start_time": "2024-02-21T18:56:38.726Z"
   },
   {
    "duration": 5,
    "start_time": "2024-02-21T18:56:38.740Z"
   },
   {
    "duration": 38,
    "start_time": "2024-02-21T18:56:38.746Z"
   },
   {
    "duration": 7,
    "start_time": "2024-02-21T18:56:38.787Z"
   },
   {
    "duration": 22,
    "start_time": "2024-02-21T18:56:38.796Z"
   },
   {
    "duration": 1088,
    "start_time": "2024-02-21T18:56:38.819Z"
   },
   {
    "duration": 4,
    "start_time": "2024-02-21T18:56:39.909Z"
   },
   {
    "duration": 29,
    "start_time": "2024-02-21T18:56:39.915Z"
   },
   {
    "duration": 37,
    "start_time": "2024-02-21T18:56:39.946Z"
   },
   {
    "duration": 5,
    "start_time": "2024-02-21T18:56:39.985Z"
   },
   {
    "duration": 9,
    "start_time": "2024-02-21T18:56:39.992Z"
   },
   {
    "duration": 1794,
    "start_time": "2024-02-21T18:56:40.003Z"
   },
   {
    "duration": 185,
    "start_time": "2024-02-21T18:56:41.799Z"
   },
   {
    "duration": 346,
    "start_time": "2024-02-21T18:56:41.985Z"
   },
   {
    "duration": 9,
    "start_time": "2024-02-21T18:56:42.333Z"
   },
   {
    "duration": 4,
    "start_time": "2024-02-21T18:56:42.344Z"
   },
   {
    "duration": 37,
    "start_time": "2024-02-21T18:56:42.350Z"
   },
   {
    "duration": 6,
    "start_time": "2024-02-21T18:56:42.389Z"
   },
   {
    "duration": 314,
    "start_time": "2024-02-21T18:56:42.399Z"
   },
   {
    "duration": 325,
    "start_time": "2024-02-21T18:56:42.715Z"
   },
   {
    "duration": 363,
    "start_time": "2024-02-21T18:56:43.042Z"
   },
   {
    "duration": 250,
    "start_time": "2024-02-21T18:56:43.407Z"
   },
   {
    "duration": 551,
    "start_time": "2024-02-21T18:56:43.660Z"
   },
   {
    "duration": 406,
    "start_time": "2024-02-21T18:56:44.213Z"
   },
   {
    "duration": 261,
    "start_time": "2024-02-21T18:56:44.621Z"
   },
   {
    "duration": 555,
    "start_time": "2024-02-21T18:56:44.883Z"
   },
   {
    "duration": 288,
    "start_time": "2024-02-21T18:56:45.440Z"
   },
   {
    "duration": 375,
    "start_time": "2024-02-21T18:56:45.730Z"
   },
   {
    "duration": 335,
    "start_time": "2024-02-21T18:56:46.106Z"
   },
   {
    "duration": 341,
    "start_time": "2024-02-21T18:56:46.443Z"
   },
   {
    "duration": 1037,
    "start_time": "2024-02-21T18:56:46.786Z"
   },
   {
    "duration": 3,
    "start_time": "2024-02-21T18:56:47.825Z"
   },
   {
    "duration": 16,
    "start_time": "2024-02-21T18:56:47.829Z"
   },
   {
    "duration": 3,
    "start_time": "2024-02-21T18:56:47.847Z"
   },
   {
    "duration": 14,
    "start_time": "2024-02-21T18:56:47.852Z"
   },
   {
    "duration": 7,
    "start_time": "2024-02-21T18:56:47.881Z"
   },
   {
    "duration": 36,
    "start_time": "2024-02-21T18:56:47.890Z"
   },
   {
    "duration": 4,
    "start_time": "2024-02-21T18:56:47.928Z"
   },
   {
    "duration": 10,
    "start_time": "2024-02-21T18:56:47.934Z"
   },
   {
    "duration": 5,
    "start_time": "2024-02-21T18:56:47.945Z"
   },
   {
    "duration": 30,
    "start_time": "2024-02-21T18:56:47.952Z"
   },
   {
    "duration": 13,
    "start_time": "2024-02-21T18:56:47.983Z"
   },
   {
    "duration": 8,
    "start_time": "2024-02-21T18:56:47.998Z"
   },
   {
    "duration": 12,
    "start_time": "2024-02-21T18:56:48.007Z"
   },
   {
    "duration": 12,
    "start_time": "2024-02-21T18:56:48.020Z"
   },
   {
    "duration": 9,
    "start_time": "2024-02-21T18:56:48.033Z"
   },
   {
    "duration": 7,
    "start_time": "2024-02-21T18:56:48.043Z"
   },
   {
    "duration": 30,
    "start_time": "2024-02-21T18:56:48.052Z"
   },
   {
    "duration": 6,
    "start_time": "2024-02-21T18:56:48.083Z"
   },
   {
    "duration": 6,
    "start_time": "2024-02-21T18:56:56.248Z"
   },
   {
    "duration": 6,
    "start_time": "2024-02-21T18:56:57.296Z"
   },
   {
    "duration": 6,
    "start_time": "2024-02-21T18:56:58.551Z"
   },
   {
    "duration": 3,
    "start_time": "2024-02-21T18:57:39.738Z"
   },
   {
    "duration": 4,
    "start_time": "2024-02-21T18:57:39.743Z"
   },
   {
    "duration": 41,
    "start_time": "2024-02-21T18:57:39.748Z"
   },
   {
    "duration": 22,
    "start_time": "2024-02-21T18:57:39.791Z"
   },
   {
    "duration": 3,
    "start_time": "2024-02-21T18:57:39.815Z"
   },
   {
    "duration": 8,
    "start_time": "2024-02-21T18:57:39.819Z"
   },
   {
    "duration": 8,
    "start_time": "2024-02-21T18:57:39.829Z"
   },
   {
    "duration": 44,
    "start_time": "2024-02-21T18:57:39.839Z"
   },
   {
    "duration": 9,
    "start_time": "2024-02-21T18:57:39.886Z"
   },
   {
    "duration": 30,
    "start_time": "2024-02-21T18:57:39.896Z"
   },
   {
    "duration": 1067,
    "start_time": "2024-02-21T18:57:39.928Z"
   },
   {
    "duration": 5,
    "start_time": "2024-02-21T18:57:40.996Z"
   },
   {
    "duration": 32,
    "start_time": "2024-02-21T18:57:41.002Z"
   },
   {
    "duration": 10,
    "start_time": "2024-02-21T18:57:41.035Z"
   },
   {
    "duration": 22,
    "start_time": "2024-02-21T18:57:41.047Z"
   },
   {
    "duration": 18,
    "start_time": "2024-02-21T18:57:41.070Z"
   },
   {
    "duration": 1811,
    "start_time": "2024-02-21T18:57:41.090Z"
   },
   {
    "duration": 181,
    "start_time": "2024-02-21T18:57:42.903Z"
   },
   {
    "duration": 355,
    "start_time": "2024-02-21T18:57:43.086Z"
   },
   {
    "duration": 10,
    "start_time": "2024-02-21T18:57:43.442Z"
   },
   {
    "duration": 17,
    "start_time": "2024-02-21T18:57:43.453Z"
   },
   {
    "duration": 19,
    "start_time": "2024-02-21T18:57:43.472Z"
   },
   {
    "duration": 5,
    "start_time": "2024-02-21T18:57:43.493Z"
   },
   {
    "duration": 294,
    "start_time": "2024-02-21T18:57:43.502Z"
   },
   {
    "duration": 388,
    "start_time": "2024-02-21T18:57:43.798Z"
   },
   {
    "duration": 342,
    "start_time": "2024-02-21T18:57:44.188Z"
   },
   {
    "duration": 250,
    "start_time": "2024-02-21T18:57:44.532Z"
   },
   {
    "duration": 569,
    "start_time": "2024-02-21T18:57:44.783Z"
   },
   {
    "duration": 407,
    "start_time": "2024-02-21T18:57:45.353Z"
   },
   {
    "duration": 258,
    "start_time": "2024-02-21T18:57:45.762Z"
   },
   {
    "duration": 506,
    "start_time": "2024-02-21T18:57:46.022Z"
   },
   {
    "duration": 294,
    "start_time": "2024-02-21T18:57:46.530Z"
   },
   {
    "duration": 297,
    "start_time": "2024-02-21T18:57:46.825Z"
   },
   {
    "duration": 367,
    "start_time": "2024-02-21T18:57:47.124Z"
   },
   {
    "duration": 327,
    "start_time": "2024-02-21T18:57:47.492Z"
   },
   {
    "duration": 1093,
    "start_time": "2024-02-21T18:57:47.821Z"
   },
   {
    "duration": 2,
    "start_time": "2024-02-21T18:57:48.916Z"
   },
   {
    "duration": 7,
    "start_time": "2024-02-21T18:57:48.920Z"
   },
   {
    "duration": 3,
    "start_time": "2024-02-21T18:57:48.928Z"
   },
   {
    "duration": 11,
    "start_time": "2024-02-21T18:57:48.932Z"
   },
   {
    "duration": 5,
    "start_time": "2024-02-21T18:57:48.944Z"
   },
   {
    "duration": 43,
    "start_time": "2024-02-21T18:57:48.950Z"
   },
   {
    "duration": 8,
    "start_time": "2024-02-21T18:57:48.995Z"
   },
   {
    "duration": 4,
    "start_time": "2024-02-21T18:57:49.005Z"
   },
   {
    "duration": 8,
    "start_time": "2024-02-21T18:57:49.011Z"
   },
   {
    "duration": 5,
    "start_time": "2024-02-21T18:57:49.020Z"
   },
   {
    "duration": 12,
    "start_time": "2024-02-21T18:57:49.026Z"
   },
   {
    "duration": 7,
    "start_time": "2024-02-21T18:57:49.039Z"
   },
   {
    "duration": 44,
    "start_time": "2024-02-21T18:57:49.047Z"
   },
   {
    "duration": 14,
    "start_time": "2024-02-21T18:57:49.093Z"
   },
   {
    "duration": 16,
    "start_time": "2024-02-21T18:57:49.108Z"
   },
   {
    "duration": 6,
    "start_time": "2024-02-21T18:57:49.125Z"
   },
   {
    "duration": 13,
    "start_time": "2024-02-21T18:57:49.133Z"
   },
   {
    "duration": 8,
    "start_time": "2024-02-21T18:57:49.149Z"
   },
   {
    "duration": 7,
    "start_time": "2024-02-21T18:57:51.303Z"
   },
   {
    "duration": 7,
    "start_time": "2024-02-21T18:57:52.199Z"
   },
   {
    "duration": 7,
    "start_time": "2024-02-21T18:57:53.471Z"
   },
   {
    "duration": 13,
    "start_time": "2024-02-21T18:59:05.400Z"
   },
   {
    "duration": 16,
    "start_time": "2024-02-21T18:59:40.449Z"
   },
   {
    "duration": 3,
    "start_time": "2024-02-21T19:01:43.783Z"
   },
   {
    "duration": 5,
    "start_time": "2024-02-21T19:01:43.788Z"
   },
   {
    "duration": 49,
    "start_time": "2024-02-21T19:01:43.795Z"
   },
   {
    "duration": 37,
    "start_time": "2024-02-21T19:01:43.846Z"
   },
   {
    "duration": 5,
    "start_time": "2024-02-21T19:01:43.885Z"
   },
   {
    "duration": 9,
    "start_time": "2024-02-21T19:01:43.892Z"
   },
   {
    "duration": 8,
    "start_time": "2024-02-21T19:01:43.903Z"
   },
   {
    "duration": 24,
    "start_time": "2024-02-21T19:01:43.913Z"
   },
   {
    "duration": 19,
    "start_time": "2024-02-21T19:01:43.940Z"
   },
   {
    "duration": 40,
    "start_time": "2024-02-21T19:01:43.960Z"
   },
   {
    "duration": 1033,
    "start_time": "2024-02-21T19:01:44.002Z"
   },
   {
    "duration": 5,
    "start_time": "2024-02-21T19:01:45.036Z"
   },
   {
    "duration": 44,
    "start_time": "2024-02-21T19:01:45.043Z"
   },
   {
    "duration": 10,
    "start_time": "2024-02-21T19:01:45.088Z"
   },
   {
    "duration": 9,
    "start_time": "2024-02-21T19:01:45.100Z"
   },
   {
    "duration": 44,
    "start_time": "2024-02-21T19:01:45.110Z"
   },
   {
    "duration": 1759,
    "start_time": "2024-02-21T19:01:45.156Z"
   },
   {
    "duration": 168,
    "start_time": "2024-02-21T19:01:46.917Z"
   },
   {
    "duration": 340,
    "start_time": "2024-02-21T19:01:47.087Z"
   },
   {
    "duration": 10,
    "start_time": "2024-02-21T19:01:47.429Z"
   },
   {
    "duration": 4,
    "start_time": "2024-02-21T19:01:47.440Z"
   },
   {
    "duration": 13,
    "start_time": "2024-02-21T19:01:47.445Z"
   },
   {
    "duration": 26,
    "start_time": "2024-02-21T19:01:47.460Z"
   },
   {
    "duration": 299,
    "start_time": "2024-02-21T19:01:47.489Z"
   },
   {
    "duration": 409,
    "start_time": "2024-02-21T19:01:47.790Z"
   },
   {
    "duration": 306,
    "start_time": "2024-02-21T19:01:48.201Z"
   },
   {
    "duration": 245,
    "start_time": "2024-02-21T19:01:48.509Z"
   },
   {
    "duration": 514,
    "start_time": "2024-02-21T19:01:48.756Z"
   },
   {
    "duration": 398,
    "start_time": "2024-02-21T19:01:49.272Z"
   },
   {
    "duration": 255,
    "start_time": "2024-02-21T19:01:49.672Z"
   },
   {
    "duration": 517,
    "start_time": "2024-02-21T19:01:49.929Z"
   },
   {
    "duration": 351,
    "start_time": "2024-02-21T19:01:50.448Z"
   },
   {
    "duration": 316,
    "start_time": "2024-02-21T19:01:50.801Z"
   },
   {
    "duration": 351,
    "start_time": "2024-02-21T19:01:51.119Z"
   },
   {
    "duration": 330,
    "start_time": "2024-02-21T19:01:51.472Z"
   },
   {
    "duration": 1034,
    "start_time": "2024-02-21T19:01:51.805Z"
   },
   {
    "duration": 2,
    "start_time": "2024-02-21T19:01:52.841Z"
   },
   {
    "duration": 10,
    "start_time": "2024-02-21T19:01:52.845Z"
   },
   {
    "duration": 2,
    "start_time": "2024-02-21T19:01:52.856Z"
   },
   {
    "duration": 25,
    "start_time": "2024-02-21T19:01:52.860Z"
   },
   {
    "duration": 5,
    "start_time": "2024-02-21T19:01:52.887Z"
   },
   {
    "duration": 32,
    "start_time": "2024-02-21T19:01:52.893Z"
   },
   {
    "duration": 5,
    "start_time": "2024-02-21T19:01:52.926Z"
   },
   {
    "duration": 4,
    "start_time": "2024-02-21T19:01:52.932Z"
   },
   {
    "duration": 4,
    "start_time": "2024-02-21T19:01:52.938Z"
   },
   {
    "duration": 5,
    "start_time": "2024-02-21T19:01:52.943Z"
   },
   {
    "duration": 38,
    "start_time": "2024-02-21T19:01:52.949Z"
   },
   {
    "duration": 8,
    "start_time": "2024-02-21T19:01:52.989Z"
   },
   {
    "duration": 14,
    "start_time": "2024-02-21T19:01:52.999Z"
   },
   {
    "duration": 9,
    "start_time": "2024-02-21T19:01:53.015Z"
   },
   {
    "duration": 8,
    "start_time": "2024-02-21T19:01:53.025Z"
   },
   {
    "duration": 7,
    "start_time": "2024-02-21T19:01:53.035Z"
   },
   {
    "duration": 9,
    "start_time": "2024-02-21T19:01:53.043Z"
   },
   {
    "duration": 34,
    "start_time": "2024-02-21T19:01:53.054Z"
   },
   {
    "duration": 25,
    "start_time": "2024-02-21T19:01:53.090Z"
   },
   {
    "duration": 19,
    "start_time": "2024-02-21T19:01:53.117Z"
   },
   {
    "duration": 20,
    "start_time": "2024-02-21T19:01:53.138Z"
   },
   {
    "duration": 7,
    "start_time": "2024-02-21T19:01:53.160Z"
   },
   {
    "duration": 5,
    "start_time": "2024-02-21T19:01:53.168Z"
   },
   {
    "duration": 17,
    "start_time": "2024-02-21T19:01:53.175Z"
   },
   {
    "duration": 16,
    "start_time": "2024-02-21T19:03:28.722Z"
   },
   {
    "duration": 3,
    "start_time": "2024-02-21T19:12:10.987Z"
   },
   {
    "duration": 3,
    "start_time": "2024-02-21T19:12:10.992Z"
   },
   {
    "duration": 43,
    "start_time": "2024-02-21T19:12:10.996Z"
   },
   {
    "duration": 23,
    "start_time": "2024-02-21T19:12:11.041Z"
   },
   {
    "duration": 19,
    "start_time": "2024-02-21T19:12:11.065Z"
   },
   {
    "duration": 9,
    "start_time": "2024-02-21T19:12:11.085Z"
   },
   {
    "duration": 5,
    "start_time": "2024-02-21T19:12:11.096Z"
   },
   {
    "duration": 9,
    "start_time": "2024-02-21T19:12:11.102Z"
   },
   {
    "duration": 9,
    "start_time": "2024-02-21T19:12:11.113Z"
   },
   {
    "duration": 23,
    "start_time": "2024-02-21T19:12:11.123Z"
   },
   {
    "duration": 1069,
    "start_time": "2024-02-21T19:12:11.147Z"
   },
   {
    "duration": 5,
    "start_time": "2024-02-21T19:12:12.217Z"
   },
   {
    "duration": 27,
    "start_time": "2024-02-21T19:12:12.223Z"
   },
   {
    "duration": 31,
    "start_time": "2024-02-21T19:12:12.252Z"
   },
   {
    "duration": 5,
    "start_time": "2024-02-21T19:12:12.285Z"
   },
   {
    "duration": 16,
    "start_time": "2024-02-21T19:12:12.292Z"
   },
   {
    "duration": 1859,
    "start_time": "2024-02-21T19:12:12.309Z"
   },
   {
    "duration": 182,
    "start_time": "2024-02-21T19:12:14.169Z"
   },
   {
    "duration": 374,
    "start_time": "2024-02-21T19:12:14.352Z"
   },
   {
    "duration": 10,
    "start_time": "2024-02-21T19:12:14.727Z"
   },
   {
    "duration": 3,
    "start_time": "2024-02-21T19:12:14.739Z"
   },
   {
    "duration": 16,
    "start_time": "2024-02-21T19:12:14.744Z"
   },
   {
    "duration": 24,
    "start_time": "2024-02-21T19:12:14.762Z"
   },
   {
    "duration": 292,
    "start_time": "2024-02-21T19:12:14.789Z"
   },
   {
    "duration": 348,
    "start_time": "2024-02-21T19:12:15.083Z"
   },
   {
    "duration": 283,
    "start_time": "2024-02-21T19:12:15.433Z"
   },
   {
    "duration": 307,
    "start_time": "2024-02-21T19:12:15.718Z"
   },
   {
    "duration": 557,
    "start_time": "2024-02-21T19:12:16.027Z"
   },
   {
    "duration": 412,
    "start_time": "2024-02-21T19:12:16.586Z"
   },
   {
    "duration": 287,
    "start_time": "2024-02-21T19:12:17.000Z"
   },
   {
    "duration": 541,
    "start_time": "2024-02-21T19:12:17.289Z"
   },
   {
    "duration": 365,
    "start_time": "2024-02-21T19:12:17.832Z"
   },
   {
    "duration": 333,
    "start_time": "2024-02-21T19:12:18.198Z"
   },
   {
    "duration": 352,
    "start_time": "2024-02-21T19:12:18.532Z"
   },
   {
    "duration": 335,
    "start_time": "2024-02-21T19:12:18.886Z"
   },
   {
    "duration": 1069,
    "start_time": "2024-02-21T19:12:19.223Z"
   },
   {
    "duration": 3,
    "start_time": "2024-02-21T19:12:20.293Z"
   },
   {
    "duration": 17,
    "start_time": "2024-02-21T19:12:20.297Z"
   },
   {
    "duration": 24,
    "start_time": "2024-02-21T19:12:20.315Z"
   },
   {
    "duration": 17,
    "start_time": "2024-02-21T19:12:20.340Z"
   },
   {
    "duration": 0,
    "start_time": "2024-02-21T19:12:20.358Z"
   },
   {
    "duration": 0,
    "start_time": "2024-02-21T19:12:20.359Z"
   },
   {
    "duration": 0,
    "start_time": "2024-02-21T19:12:20.360Z"
   },
   {
    "duration": 0,
    "start_time": "2024-02-21T19:12:20.361Z"
   },
   {
    "duration": 0,
    "start_time": "2024-02-21T19:12:20.362Z"
   },
   {
    "duration": 0,
    "start_time": "2024-02-21T19:12:20.363Z"
   },
   {
    "duration": 0,
    "start_time": "2024-02-21T19:12:20.365Z"
   },
   {
    "duration": 0,
    "start_time": "2024-02-21T19:12:20.366Z"
   },
   {
    "duration": 0,
    "start_time": "2024-02-21T19:12:20.367Z"
   },
   {
    "duration": 0,
    "start_time": "2024-02-21T19:12:20.368Z"
   },
   {
    "duration": 0,
    "start_time": "2024-02-21T19:12:20.369Z"
   },
   {
    "duration": 0,
    "start_time": "2024-02-21T19:12:20.370Z"
   },
   {
    "duration": 0,
    "start_time": "2024-02-21T19:12:20.371Z"
   },
   {
    "duration": 0,
    "start_time": "2024-02-21T19:12:20.381Z"
   },
   {
    "duration": 2,
    "start_time": "2024-02-21T19:13:18.710Z"
   },
   {
    "duration": 16,
    "start_time": "2024-02-21T19:13:18.715Z"
   },
   {
    "duration": 47,
    "start_time": "2024-02-21T19:13:18.732Z"
   },
   {
    "duration": 25,
    "start_time": "2024-02-21T19:13:18.780Z"
   },
   {
    "duration": 4,
    "start_time": "2024-02-21T19:13:18.808Z"
   },
   {
    "duration": 18,
    "start_time": "2024-02-21T19:13:18.814Z"
   },
   {
    "duration": 6,
    "start_time": "2024-02-21T19:13:18.833Z"
   },
   {
    "duration": 5,
    "start_time": "2024-02-21T19:13:18.840Z"
   },
   {
    "duration": 42,
    "start_time": "2024-02-21T19:13:18.846Z"
   },
   {
    "duration": 31,
    "start_time": "2024-02-21T19:13:18.889Z"
   },
   {
    "duration": 1037,
    "start_time": "2024-02-21T19:13:18.921Z"
   },
   {
    "duration": 4,
    "start_time": "2024-02-21T19:13:19.959Z"
   },
   {
    "duration": 35,
    "start_time": "2024-02-21T19:13:19.966Z"
   },
   {
    "duration": 10,
    "start_time": "2024-02-21T19:13:20.002Z"
   },
   {
    "duration": 16,
    "start_time": "2024-02-21T19:13:20.014Z"
   },
   {
    "duration": 25,
    "start_time": "2024-02-21T19:13:20.031Z"
   },
   {
    "duration": 1750,
    "start_time": "2024-02-21T19:13:20.057Z"
   },
   {
    "duration": 177,
    "start_time": "2024-02-21T19:13:21.809Z"
   },
   {
    "duration": 354,
    "start_time": "2024-02-21T19:13:21.988Z"
   },
   {
    "duration": 10,
    "start_time": "2024-02-21T19:13:22.343Z"
   },
   {
    "duration": 5,
    "start_time": "2024-02-21T19:13:22.355Z"
   },
   {
    "duration": 31,
    "start_time": "2024-02-21T19:13:22.361Z"
   },
   {
    "duration": 7,
    "start_time": "2024-02-21T19:13:22.394Z"
   },
   {
    "duration": 312,
    "start_time": "2024-02-21T19:13:22.403Z"
   },
   {
    "duration": 372,
    "start_time": "2024-02-21T19:13:22.717Z"
   },
   {
    "duration": 319,
    "start_time": "2024-02-21T19:13:23.090Z"
   },
   {
    "duration": 251,
    "start_time": "2024-02-21T19:13:23.411Z"
   },
   {
    "duration": 592,
    "start_time": "2024-02-21T19:13:23.664Z"
   },
   {
    "duration": 401,
    "start_time": "2024-02-21T19:13:24.257Z"
   },
   {
    "duration": 261,
    "start_time": "2024-02-21T19:13:24.659Z"
   },
   {
    "duration": 510,
    "start_time": "2024-02-21T19:13:24.921Z"
   },
   {
    "duration": 293,
    "start_time": "2024-02-21T19:13:25.434Z"
   },
   {
    "duration": 369,
    "start_time": "2024-02-21T19:13:25.729Z"
   },
   {
    "duration": 361,
    "start_time": "2024-02-21T19:13:26.100Z"
   },
   {
    "duration": 361,
    "start_time": "2024-02-21T19:13:26.462Z"
   },
   {
    "duration": 1124,
    "start_time": "2024-02-21T19:13:26.825Z"
   },
   {
    "duration": 2,
    "start_time": "2024-02-21T19:13:27.953Z"
   },
   {
    "duration": 7,
    "start_time": "2024-02-21T19:13:27.956Z"
   },
   {
    "duration": 3,
    "start_time": "2024-02-21T19:13:27.964Z"
   },
   {
    "duration": 16,
    "start_time": "2024-02-21T19:13:27.982Z"
   },
   {
    "duration": 0,
    "start_time": "2024-02-21T19:13:28.000Z"
   },
   {
    "duration": 0,
    "start_time": "2024-02-21T19:13:28.002Z"
   },
   {
    "duration": 0,
    "start_time": "2024-02-21T19:13:28.003Z"
   },
   {
    "duration": 0,
    "start_time": "2024-02-21T19:13:28.004Z"
   },
   {
    "duration": 0,
    "start_time": "2024-02-21T19:13:28.006Z"
   },
   {
    "duration": 0,
    "start_time": "2024-02-21T19:13:28.007Z"
   },
   {
    "duration": 0,
    "start_time": "2024-02-21T19:13:28.008Z"
   },
   {
    "duration": 0,
    "start_time": "2024-02-21T19:13:28.009Z"
   },
   {
    "duration": 0,
    "start_time": "2024-02-21T19:13:28.010Z"
   },
   {
    "duration": 1,
    "start_time": "2024-02-21T19:13:28.011Z"
   },
   {
    "duration": 0,
    "start_time": "2024-02-21T19:13:28.013Z"
   },
   {
    "duration": 0,
    "start_time": "2024-02-21T19:13:28.014Z"
   },
   {
    "duration": 0,
    "start_time": "2024-02-21T19:13:28.014Z"
   },
   {
    "duration": 0,
    "start_time": "2024-02-21T19:13:28.015Z"
   },
   {
    "duration": 3,
    "start_time": "2024-02-21T19:13:43.921Z"
   },
   {
    "duration": 5,
    "start_time": "2024-02-21T19:13:43.926Z"
   },
   {
    "duration": 39,
    "start_time": "2024-02-21T19:13:43.932Z"
   },
   {
    "duration": 23,
    "start_time": "2024-02-21T19:13:43.973Z"
   },
   {
    "duration": 3,
    "start_time": "2024-02-21T19:13:43.998Z"
   },
   {
    "duration": 22,
    "start_time": "2024-02-21T19:13:44.003Z"
   },
   {
    "duration": 10,
    "start_time": "2024-02-21T19:13:44.026Z"
   },
   {
    "duration": 9,
    "start_time": "2024-02-21T19:13:44.037Z"
   },
   {
    "duration": 10,
    "start_time": "2024-02-21T19:13:44.047Z"
   },
   {
    "duration": 32,
    "start_time": "2024-02-21T19:13:44.059Z"
   },
   {
    "duration": 1046,
    "start_time": "2024-02-21T19:13:44.093Z"
   },
   {
    "duration": 5,
    "start_time": "2024-02-21T19:13:45.141Z"
   },
   {
    "duration": 38,
    "start_time": "2024-02-21T19:13:45.149Z"
   },
   {
    "duration": 9,
    "start_time": "2024-02-21T19:13:45.189Z"
   },
   {
    "duration": 14,
    "start_time": "2024-02-21T19:13:45.200Z"
   },
   {
    "duration": 18,
    "start_time": "2024-02-21T19:13:45.215Z"
   },
   {
    "duration": 1810,
    "start_time": "2024-02-21T19:13:45.234Z"
   },
   {
    "duration": 171,
    "start_time": "2024-02-21T19:13:47.045Z"
   },
   {
    "duration": 352,
    "start_time": "2024-02-21T19:13:47.218Z"
   },
   {
    "duration": 17,
    "start_time": "2024-02-21T19:13:47.572Z"
   },
   {
    "duration": 5,
    "start_time": "2024-02-21T19:13:47.591Z"
   },
   {
    "duration": 14,
    "start_time": "2024-02-21T19:13:47.598Z"
   },
   {
    "duration": 5,
    "start_time": "2024-02-21T19:13:47.613Z"
   },
   {
    "duration": 340,
    "start_time": "2024-02-21T19:13:47.620Z"
   },
   {
    "duration": 368,
    "start_time": "2024-02-21T19:13:47.962Z"
   },
   {
    "duration": 351,
    "start_time": "2024-02-21T19:13:48.333Z"
   },
   {
    "duration": 261,
    "start_time": "2024-02-21T19:13:48.686Z"
   },
   {
    "duration": 612,
    "start_time": "2024-02-21T19:13:48.950Z"
   },
   {
    "duration": 418,
    "start_time": "2024-02-21T19:13:49.564Z"
   },
   {
    "duration": 248,
    "start_time": "2024-02-21T19:13:49.984Z"
   },
   {
    "duration": 498,
    "start_time": "2024-02-21T19:13:50.234Z"
   },
   {
    "duration": 359,
    "start_time": "2024-02-21T19:13:50.733Z"
   },
   {
    "duration": 315,
    "start_time": "2024-02-21T19:13:51.094Z"
   },
   {
    "duration": 345,
    "start_time": "2024-02-21T19:13:51.411Z"
   },
   {
    "duration": 382,
    "start_time": "2024-02-21T19:13:51.758Z"
   },
   {
    "duration": 1143,
    "start_time": "2024-02-21T19:13:52.142Z"
   },
   {
    "duration": 2,
    "start_time": "2024-02-21T19:13:53.289Z"
   },
   {
    "duration": 20,
    "start_time": "2024-02-21T19:13:53.293Z"
   },
   {
    "duration": 3,
    "start_time": "2024-02-21T19:13:53.314Z"
   },
   {
    "duration": 32,
    "start_time": "2024-02-21T19:13:53.319Z"
   },
   {
    "duration": 0,
    "start_time": "2024-02-21T19:13:53.353Z"
   },
   {
    "duration": 0,
    "start_time": "2024-02-21T19:13:53.354Z"
   },
   {
    "duration": 0,
    "start_time": "2024-02-21T19:13:53.360Z"
   },
   {
    "duration": 0,
    "start_time": "2024-02-21T19:13:53.361Z"
   },
   {
    "duration": 0,
    "start_time": "2024-02-21T19:13:53.362Z"
   },
   {
    "duration": 0,
    "start_time": "2024-02-21T19:13:53.363Z"
   },
   {
    "duration": 1,
    "start_time": "2024-02-21T19:13:53.363Z"
   },
   {
    "duration": 0,
    "start_time": "2024-02-21T19:13:53.364Z"
   },
   {
    "duration": 0,
    "start_time": "2024-02-21T19:13:53.365Z"
   },
   {
    "duration": 0,
    "start_time": "2024-02-21T19:13:53.366Z"
   },
   {
    "duration": 0,
    "start_time": "2024-02-21T19:13:53.367Z"
   },
   {
    "duration": 0,
    "start_time": "2024-02-21T19:13:53.368Z"
   },
   {
    "duration": 0,
    "start_time": "2024-02-21T19:13:53.369Z"
   },
   {
    "duration": 0,
    "start_time": "2024-02-21T19:13:53.370Z"
   },
   {
    "duration": 16,
    "start_time": "2024-02-21T19:14:16.601Z"
   },
   {
    "duration": 3,
    "start_time": "2024-02-21T19:14:31.325Z"
   },
   {
    "duration": 30,
    "start_time": "2024-02-21T19:14:31.331Z"
   },
   {
    "duration": 74,
    "start_time": "2024-02-21T19:14:31.362Z"
   },
   {
    "duration": 24,
    "start_time": "2024-02-21T19:14:31.438Z"
   },
   {
    "duration": 44,
    "start_time": "2024-02-21T19:14:31.463Z"
   },
   {
    "duration": 57,
    "start_time": "2024-02-21T19:14:31.509Z"
   },
   {
    "duration": 42,
    "start_time": "2024-02-21T19:14:31.568Z"
   },
   {
    "duration": 30,
    "start_time": "2024-02-21T19:14:31.612Z"
   },
   {
    "duration": 30,
    "start_time": "2024-02-21T19:14:31.643Z"
   },
   {
    "duration": 58,
    "start_time": "2024-02-21T19:14:31.676Z"
   },
   {
    "duration": 1106,
    "start_time": "2024-02-21T19:14:31.736Z"
   },
   {
    "duration": 5,
    "start_time": "2024-02-21T19:14:32.844Z"
   },
   {
    "duration": 50,
    "start_time": "2024-02-21T19:14:32.850Z"
   },
   {
    "duration": 16,
    "start_time": "2024-02-21T19:14:32.901Z"
   },
   {
    "duration": 5,
    "start_time": "2024-02-21T19:14:32.919Z"
   },
   {
    "duration": 25,
    "start_time": "2024-02-21T19:14:32.925Z"
   },
   {
    "duration": 1826,
    "start_time": "2024-02-21T19:14:32.951Z"
   },
   {
    "duration": 170,
    "start_time": "2024-02-21T19:14:34.778Z"
   },
   {
    "duration": 345,
    "start_time": "2024-02-21T19:14:34.949Z"
   },
   {
    "duration": 11,
    "start_time": "2024-02-21T19:14:35.297Z"
   },
   {
    "duration": 8,
    "start_time": "2024-02-21T19:14:35.310Z"
   },
   {
    "duration": 13,
    "start_time": "2024-02-21T19:14:35.321Z"
   },
   {
    "duration": 5,
    "start_time": "2024-02-21T19:14:35.336Z"
   },
   {
    "duration": 341,
    "start_time": "2024-02-21T19:14:35.343Z"
   },
   {
    "duration": 347,
    "start_time": "2024-02-21T19:14:35.686Z"
   },
   {
    "duration": 293,
    "start_time": "2024-02-21T19:14:36.035Z"
   },
   {
    "duration": 281,
    "start_time": "2024-02-21T19:14:36.329Z"
   },
   {
    "duration": 546,
    "start_time": "2024-02-21T19:14:36.614Z"
   },
   {
    "duration": 405,
    "start_time": "2024-02-21T19:14:37.161Z"
   },
   {
    "duration": 258,
    "start_time": "2024-02-21T19:14:37.568Z"
   },
   {
    "duration": 503,
    "start_time": "2024-02-21T19:14:37.828Z"
   },
   {
    "duration": 310,
    "start_time": "2024-02-21T19:14:38.333Z"
   },
   {
    "duration": 377,
    "start_time": "2024-02-21T19:14:38.645Z"
   },
   {
    "duration": 342,
    "start_time": "2024-02-21T19:14:39.024Z"
   },
   {
    "duration": 342,
    "start_time": "2024-02-21T19:14:39.368Z"
   },
   {
    "duration": 1024,
    "start_time": "2024-02-21T19:14:39.712Z"
   },
   {
    "duration": 3,
    "start_time": "2024-02-21T19:14:40.738Z"
   },
   {
    "duration": 20,
    "start_time": "2024-02-21T19:14:40.743Z"
   },
   {
    "duration": 6,
    "start_time": "2024-02-21T19:14:40.765Z"
   },
   {
    "duration": 8,
    "start_time": "2024-02-21T19:14:40.773Z"
   },
   {
    "duration": 10,
    "start_time": "2024-02-21T19:14:40.782Z"
   },
   {
    "duration": 20,
    "start_time": "2024-02-21T19:14:40.794Z"
   },
   {
    "duration": 14,
    "start_time": "2024-02-21T19:14:40.815Z"
   },
   {
    "duration": 10,
    "start_time": "2024-02-21T19:14:40.831Z"
   },
   {
    "duration": 14,
    "start_time": "2024-02-21T19:14:40.843Z"
   },
   {
    "duration": 8,
    "start_time": "2024-02-21T19:14:40.859Z"
   },
   {
    "duration": 12,
    "start_time": "2024-02-21T19:14:40.869Z"
   },
   {
    "duration": 16,
    "start_time": "2024-02-21T19:14:40.883Z"
   },
   {
    "duration": 9,
    "start_time": "2024-02-21T19:14:40.900Z"
   },
   {
    "duration": 7,
    "start_time": "2024-02-21T19:14:40.911Z"
   },
   {
    "duration": 8,
    "start_time": "2024-02-21T19:14:40.919Z"
   },
   {
    "duration": 7,
    "start_time": "2024-02-21T19:14:40.928Z"
   },
   {
    "duration": 12,
    "start_time": "2024-02-21T19:14:40.937Z"
   },
   {
    "duration": 40,
    "start_time": "2024-02-21T19:14:40.951Z"
   },
   {
    "duration": 3,
    "start_time": "2024-02-21T19:15:41.346Z"
   },
   {
    "duration": 4,
    "start_time": "2024-02-21T19:15:41.351Z"
   },
   {
    "duration": 44,
    "start_time": "2024-02-21T19:15:41.356Z"
   },
   {
    "duration": 23,
    "start_time": "2024-02-21T19:15:41.402Z"
   },
   {
    "duration": 3,
    "start_time": "2024-02-21T19:15:41.427Z"
   },
   {
    "duration": 14,
    "start_time": "2024-02-21T19:15:41.432Z"
   },
   {
    "duration": 37,
    "start_time": "2024-02-21T19:15:41.447Z"
   },
   {
    "duration": 7,
    "start_time": "2024-02-21T19:15:41.486Z"
   },
   {
    "duration": 12,
    "start_time": "2024-02-21T19:15:41.494Z"
   },
   {
    "duration": 24,
    "start_time": "2024-02-21T19:15:41.507Z"
   },
   {
    "duration": 1069,
    "start_time": "2024-02-21T19:15:41.533Z"
   },
   {
    "duration": 4,
    "start_time": "2024-02-21T19:15:42.604Z"
   },
   {
    "duration": 29,
    "start_time": "2024-02-21T19:15:42.611Z"
   },
   {
    "duration": 11,
    "start_time": "2024-02-21T19:15:42.641Z"
   },
   {
    "duration": 30,
    "start_time": "2024-02-21T19:15:42.653Z"
   },
   {
    "duration": 6,
    "start_time": "2024-02-21T19:15:42.685Z"
   },
   {
    "duration": 1820,
    "start_time": "2024-02-21T19:15:42.692Z"
   },
   {
    "duration": 175,
    "start_time": "2024-02-21T19:15:44.513Z"
   },
   {
    "duration": 348,
    "start_time": "2024-02-21T19:15:44.689Z"
   },
   {
    "duration": 10,
    "start_time": "2024-02-21T19:15:45.038Z"
   },
   {
    "duration": 15,
    "start_time": "2024-02-21T19:15:45.049Z"
   },
   {
    "duration": 22,
    "start_time": "2024-02-21T19:15:45.066Z"
   },
   {
    "duration": 17,
    "start_time": "2024-02-21T19:15:45.089Z"
   },
   {
    "duration": 335,
    "start_time": "2024-02-21T19:15:45.108Z"
   },
   {
    "duration": 386,
    "start_time": "2024-02-21T19:15:45.444Z"
   },
   {
    "duration": 293,
    "start_time": "2024-02-21T19:15:45.832Z"
   },
   {
    "duration": 288,
    "start_time": "2024-02-21T19:15:46.126Z"
   },
   {
    "duration": 540,
    "start_time": "2024-02-21T19:15:46.416Z"
   },
   {
    "duration": 415,
    "start_time": "2024-02-21T19:15:46.958Z"
   },
   {
    "duration": 269,
    "start_time": "2024-02-21T19:15:47.375Z"
   },
   {
    "duration": 500,
    "start_time": "2024-02-21T19:15:47.647Z"
   },
   {
    "duration": 338,
    "start_time": "2024-02-21T19:15:48.149Z"
   },
   {
    "duration": 321,
    "start_time": "2024-02-21T19:15:48.489Z"
   },
   {
    "duration": 351,
    "start_time": "2024-02-21T19:15:48.812Z"
   },
   {
    "duration": 334,
    "start_time": "2024-02-21T19:15:49.165Z"
   },
   {
    "duration": 1023,
    "start_time": "2024-02-21T19:15:49.500Z"
   },
   {
    "duration": 2,
    "start_time": "2024-02-21T19:15:50.527Z"
   },
   {
    "duration": 13,
    "start_time": "2024-02-21T19:15:50.531Z"
   },
   {
    "duration": 5,
    "start_time": "2024-02-21T19:15:50.546Z"
   },
   {
    "duration": 4,
    "start_time": "2024-02-21T19:15:50.553Z"
   },
   {
    "duration": 24,
    "start_time": "2024-02-21T19:15:50.559Z"
   },
   {
    "duration": 21,
    "start_time": "2024-02-21T19:15:50.585Z"
   },
   {
    "duration": 5,
    "start_time": "2024-02-21T19:15:50.608Z"
   },
   {
    "duration": 7,
    "start_time": "2024-02-21T19:15:50.615Z"
   },
   {
    "duration": 13,
    "start_time": "2024-02-21T19:15:50.624Z"
   },
   {
    "duration": 12,
    "start_time": "2024-02-21T19:15:50.639Z"
   },
   {
    "duration": 10,
    "start_time": "2024-02-21T19:15:50.653Z"
   },
   {
    "duration": 17,
    "start_time": "2024-02-21T19:15:50.665Z"
   },
   {
    "duration": 7,
    "start_time": "2024-02-21T19:15:50.684Z"
   },
   {
    "duration": 6,
    "start_time": "2024-02-21T19:15:50.693Z"
   },
   {
    "duration": 18,
    "start_time": "2024-02-21T19:15:50.700Z"
   },
   {
    "duration": 21,
    "start_time": "2024-02-21T19:15:50.720Z"
   },
   {
    "duration": 14,
    "start_time": "2024-02-21T19:15:50.743Z"
   },
   {
    "duration": 22,
    "start_time": "2024-02-21T19:15:50.758Z"
   },
   {
    "duration": 53,
    "start_time": "2024-02-22T09:13:15.640Z"
   },
   {
    "duration": 3,
    "start_time": "2024-02-22T09:13:19.553Z"
   },
   {
    "duration": 1428,
    "start_time": "2024-02-22T09:13:19.558Z"
   },
   {
    "duration": 141,
    "start_time": "2024-02-22T09:13:20.987Z"
   },
   {
    "duration": 27,
    "start_time": "2024-02-22T09:13:21.130Z"
   },
   {
    "duration": 3,
    "start_time": "2024-02-22T09:13:21.159Z"
   },
   {
    "duration": 6,
    "start_time": "2024-02-22T09:13:21.164Z"
   },
   {
    "duration": 7,
    "start_time": "2024-02-22T09:13:21.171Z"
   },
   {
    "duration": 9,
    "start_time": "2024-02-22T09:13:21.180Z"
   },
   {
    "duration": 21,
    "start_time": "2024-02-22T09:13:21.191Z"
   },
   {
    "duration": 23,
    "start_time": "2024-02-22T09:13:21.223Z"
   },
   {
    "duration": 1114,
    "start_time": "2024-02-22T09:13:21.248Z"
   },
   {
    "duration": 6,
    "start_time": "2024-02-22T09:13:22.364Z"
   },
   {
    "duration": 26,
    "start_time": "2024-02-22T09:13:22.374Z"
   },
   {
    "duration": 13,
    "start_time": "2024-02-22T09:13:22.402Z"
   },
   {
    "duration": 10,
    "start_time": "2024-02-22T09:13:22.417Z"
   },
   {
    "duration": 9,
    "start_time": "2024-02-22T09:13:22.429Z"
   },
   {
    "duration": 1813,
    "start_time": "2024-02-22T09:13:22.440Z"
   },
   {
    "duration": 177,
    "start_time": "2024-02-22T09:13:24.255Z"
   },
   {
    "duration": 248,
    "start_time": "2024-02-22T09:13:24.434Z"
   },
   {
    "duration": 10,
    "start_time": "2024-02-22T09:13:24.683Z"
   },
   {
    "duration": 6,
    "start_time": "2024-02-22T09:13:24.695Z"
   },
   {
    "duration": 31,
    "start_time": "2024-02-22T09:13:24.703Z"
   },
   {
    "duration": 7,
    "start_time": "2024-02-22T09:13:24.736Z"
   },
   {
    "duration": 334,
    "start_time": "2024-02-22T09:13:24.745Z"
   },
   {
    "duration": 380,
    "start_time": "2024-02-22T09:13:25.081Z"
   },
   {
    "duration": 303,
    "start_time": "2024-02-22T09:13:25.462Z"
   },
   {
    "duration": 283,
    "start_time": "2024-02-22T09:13:25.766Z"
   },
   {
    "duration": 693,
    "start_time": "2024-02-22T09:13:26.051Z"
   },
   {
    "duration": 409,
    "start_time": "2024-02-22T09:13:26.747Z"
   },
   {
    "duration": 258,
    "start_time": "2024-02-22T09:13:27.158Z"
   },
   {
    "duration": 453,
    "start_time": "2024-02-22T09:13:27.423Z"
   },
   {
    "duration": 288,
    "start_time": "2024-02-22T09:13:27.879Z"
   },
   {
    "duration": 362,
    "start_time": "2024-02-22T09:13:28.169Z"
   },
   {
    "duration": 331,
    "start_time": "2024-02-22T09:13:28.533Z"
   },
   {
    "duration": 408,
    "start_time": "2024-02-22T09:13:28.866Z"
   },
   {
    "duration": 1068,
    "start_time": "2024-02-22T09:13:29.276Z"
   },
   {
    "duration": 3,
    "start_time": "2024-02-22T09:13:30.348Z"
   },
   {
    "duration": 105,
    "start_time": "2024-02-22T09:13:30.352Z"
   },
   {
    "duration": 48,
    "start_time": "2024-02-22T09:13:30.458Z"
   },
   {
    "duration": 40,
    "start_time": "2024-02-22T09:13:30.508Z"
   },
   {
    "duration": 68,
    "start_time": "2024-02-22T09:13:30.549Z"
   },
   {
    "duration": 140,
    "start_time": "2024-02-22T09:13:30.618Z"
   },
   {
    "duration": 414,
    "start_time": "2024-02-22T09:13:30.759Z"
   },
   {
    "duration": 61,
    "start_time": "2024-02-22T09:13:31.175Z"
   },
   {
    "duration": 51,
    "start_time": "2024-02-22T09:13:31.237Z"
   },
   {
    "duration": 70,
    "start_time": "2024-02-22T09:13:31.290Z"
   },
   {
    "duration": 64,
    "start_time": "2024-02-22T09:13:31.362Z"
   },
   {
    "duration": 52,
    "start_time": "2024-02-22T09:13:31.428Z"
   },
   {
    "duration": 39,
    "start_time": "2024-02-22T09:13:31.482Z"
   },
   {
    "duration": 42,
    "start_time": "2024-02-22T09:13:31.522Z"
   },
   {
    "duration": 87,
    "start_time": "2024-02-22T09:13:31.566Z"
   },
   {
    "duration": 50,
    "start_time": "2024-02-22T09:13:31.655Z"
   },
   {
    "duration": 51,
    "start_time": "2024-02-22T09:13:31.707Z"
   },
   {
    "duration": 3,
    "start_time": "2024-02-22T09:16:25.754Z"
   },
   {
    "duration": 19,
    "start_time": "2024-02-22T09:16:25.759Z"
   },
   {
    "duration": 69,
    "start_time": "2024-02-22T09:16:25.780Z"
   },
   {
    "duration": 26,
    "start_time": "2024-02-22T09:16:25.852Z"
   },
   {
    "duration": 5,
    "start_time": "2024-02-22T09:16:25.879Z"
   },
   {
    "duration": 21,
    "start_time": "2024-02-22T09:16:25.886Z"
   },
   {
    "duration": 51,
    "start_time": "2024-02-22T09:16:25.909Z"
   },
   {
    "duration": 45,
    "start_time": "2024-02-22T09:16:25.962Z"
   },
   {
    "duration": 32,
    "start_time": "2024-02-22T09:16:26.011Z"
   },
   {
    "duration": 37,
    "start_time": "2024-02-22T09:16:26.044Z"
   },
   {
    "duration": 1041,
    "start_time": "2024-02-22T09:16:26.083Z"
   },
   {
    "duration": 5,
    "start_time": "2024-02-22T09:16:27.126Z"
   },
   {
    "duration": 27,
    "start_time": "2024-02-22T09:16:27.132Z"
   },
   {
    "duration": 10,
    "start_time": "2024-02-22T09:16:27.160Z"
   },
   {
    "duration": 24,
    "start_time": "2024-02-22T09:16:27.172Z"
   },
   {
    "duration": 26,
    "start_time": "2024-02-22T09:16:27.198Z"
   },
   {
    "duration": 1763,
    "start_time": "2024-02-22T09:16:27.226Z"
   },
   {
    "duration": 174,
    "start_time": "2024-02-22T09:16:28.991Z"
   },
   {
    "duration": 238,
    "start_time": "2024-02-22T09:16:29.167Z"
   },
   {
    "duration": 18,
    "start_time": "2024-02-22T09:16:29.406Z"
   },
   {
    "duration": 5,
    "start_time": "2024-02-22T09:16:29.425Z"
   },
   {
    "duration": 28,
    "start_time": "2024-02-22T09:16:29.431Z"
   },
   {
    "duration": 8,
    "start_time": "2024-02-22T09:16:29.460Z"
   },
   {
    "duration": 318,
    "start_time": "2024-02-22T09:16:29.472Z"
   },
   {
    "duration": 370,
    "start_time": "2024-02-22T09:16:29.792Z"
   },
   {
    "duration": 290,
    "start_time": "2024-02-22T09:16:30.164Z"
   },
   {
    "duration": 386,
    "start_time": "2024-02-22T09:16:30.456Z"
   },
   {
    "duration": 558,
    "start_time": "2024-02-22T09:16:30.844Z"
   },
   {
    "duration": 411,
    "start_time": "2024-02-22T09:16:31.404Z"
   },
   {
    "duration": 257,
    "start_time": "2024-02-22T09:16:31.817Z"
   },
   {
    "duration": 405,
    "start_time": "2024-02-22T09:16:32.076Z"
   },
   {
    "duration": 351,
    "start_time": "2024-02-22T09:16:32.483Z"
   },
   {
    "duration": 314,
    "start_time": "2024-02-22T09:16:32.836Z"
   },
   {
    "duration": 433,
    "start_time": "2024-02-22T09:16:33.151Z"
   },
   {
    "duration": 332,
    "start_time": "2024-02-22T09:16:33.586Z"
   },
   {
    "duration": 1060,
    "start_time": "2024-02-22T09:16:33.922Z"
   },
   {
    "duration": 3,
    "start_time": "2024-02-22T09:16:34.983Z"
   },
   {
    "duration": 9,
    "start_time": "2024-02-22T09:16:34.987Z"
   },
   {
    "duration": 11,
    "start_time": "2024-02-22T09:16:34.998Z"
   },
   {
    "duration": 13,
    "start_time": "2024-02-22T09:16:35.010Z"
   },
   {
    "duration": 29,
    "start_time": "2024-02-22T09:16:35.025Z"
   },
   {
    "duration": 32,
    "start_time": "2024-02-22T09:16:35.056Z"
   },
   {
    "duration": 26,
    "start_time": "2024-02-22T09:16:35.090Z"
   },
   {
    "duration": 13,
    "start_time": "2024-02-22T09:16:35.117Z"
   },
   {
    "duration": 9,
    "start_time": "2024-02-22T09:16:35.132Z"
   },
   {
    "duration": 8,
    "start_time": "2024-02-22T09:16:35.142Z"
   },
   {
    "duration": 7,
    "start_time": "2024-02-22T09:16:35.151Z"
   },
   {
    "duration": 16,
    "start_time": "2024-02-22T09:16:35.160Z"
   },
   {
    "duration": 6,
    "start_time": "2024-02-22T09:16:35.178Z"
   },
   {
    "duration": 94,
    "start_time": "2024-02-22T09:16:35.185Z"
   },
   {
    "duration": 15,
    "start_time": "2024-02-22T09:16:44.701Z"
   },
   {
    "duration": 74,
    "start_time": "2024-02-22T09:16:49.599Z"
   },
   {
    "duration": 14,
    "start_time": "2024-02-22T09:16:56.599Z"
   },
   {
    "duration": 15,
    "start_time": "2024-02-22T09:18:02.032Z"
   },
   {
    "duration": 5,
    "start_time": "2024-02-22T09:22:41.501Z"
   },
   {
    "duration": 8,
    "start_time": "2024-02-22T09:22:47.278Z"
   },
   {
    "duration": 5,
    "start_time": "2024-02-22T09:23:39.975Z"
   },
   {
    "duration": 7,
    "start_time": "2024-02-22T09:23:40.535Z"
   },
   {
    "duration": 3,
    "start_time": "2024-02-22T09:23:45.523Z"
   },
   {
    "duration": 23,
    "start_time": "2024-02-22T09:23:45.528Z"
   },
   {
    "duration": 58,
    "start_time": "2024-02-22T09:23:45.553Z"
   },
   {
    "duration": 21,
    "start_time": "2024-02-22T09:23:45.613Z"
   },
   {
    "duration": 15,
    "start_time": "2024-02-22T09:23:45.636Z"
   },
   {
    "duration": 31,
    "start_time": "2024-02-22T09:23:45.653Z"
   },
   {
    "duration": 34,
    "start_time": "2024-02-22T09:23:45.685Z"
   },
   {
    "duration": 26,
    "start_time": "2024-02-22T09:23:45.721Z"
   },
   {
    "duration": 14,
    "start_time": "2024-02-22T09:23:45.749Z"
   },
   {
    "duration": 37,
    "start_time": "2024-02-22T09:23:45.764Z"
   },
   {
    "duration": 1067,
    "start_time": "2024-02-22T09:23:45.803Z"
   },
   {
    "duration": 5,
    "start_time": "2024-02-22T09:23:46.873Z"
   },
   {
    "duration": 26,
    "start_time": "2024-02-22T09:23:46.881Z"
   },
   {
    "duration": 12,
    "start_time": "2024-02-22T09:23:46.922Z"
   },
   {
    "duration": 5,
    "start_time": "2024-02-22T09:23:46.935Z"
   },
   {
    "duration": 8,
    "start_time": "2024-02-22T09:23:46.942Z"
   },
   {
    "duration": 1838,
    "start_time": "2024-02-22T09:23:46.952Z"
   },
   {
    "duration": 174,
    "start_time": "2024-02-22T09:23:48.791Z"
   },
   {
    "duration": 237,
    "start_time": "2024-02-22T09:23:48.966Z"
   },
   {
    "duration": 20,
    "start_time": "2024-02-22T09:23:49.204Z"
   },
   {
    "duration": 10,
    "start_time": "2024-02-22T09:23:49.226Z"
   },
   {
    "duration": 30,
    "start_time": "2024-02-22T09:23:49.238Z"
   },
   {
    "duration": 11,
    "start_time": "2024-02-22T09:23:49.270Z"
   },
   {
    "duration": 306,
    "start_time": "2024-02-22T09:23:49.283Z"
   },
   {
    "duration": 369,
    "start_time": "2024-02-22T09:23:49.591Z"
   },
   {
    "duration": 399,
    "start_time": "2024-02-22T09:23:49.962Z"
   },
   {
    "duration": 286,
    "start_time": "2024-02-22T09:23:50.363Z"
   },
   {
    "duration": 551,
    "start_time": "2024-02-22T09:23:50.650Z"
   },
   {
    "duration": 441,
    "start_time": "2024-02-22T09:23:51.203Z"
   },
   {
    "duration": 260,
    "start_time": "2024-02-22T09:23:51.646Z"
   },
   {
    "duration": 426,
    "start_time": "2024-02-22T09:23:51.908Z"
   },
   {
    "duration": 315,
    "start_time": "2024-02-22T09:23:52.336Z"
   },
   {
    "duration": 301,
    "start_time": "2024-02-22T09:23:52.653Z"
   },
   {
    "duration": 427,
    "start_time": "2024-02-22T09:23:52.955Z"
   },
   {
    "duration": 357,
    "start_time": "2024-02-22T09:23:53.384Z"
   },
   {
    "duration": 992,
    "start_time": "2024-02-22T09:23:53.743Z"
   },
   {
    "duration": 2,
    "start_time": "2024-02-22T09:23:54.739Z"
   },
   {
    "duration": 14,
    "start_time": "2024-02-22T09:23:54.743Z"
   },
   {
    "duration": 5,
    "start_time": "2024-02-22T09:23:54.759Z"
   },
   {
    "duration": 16,
    "start_time": "2024-02-22T09:23:54.765Z"
   },
   {
    "duration": 11,
    "start_time": "2024-02-22T09:23:54.783Z"
   },
   {
    "duration": 36,
    "start_time": "2024-02-22T09:23:54.796Z"
   },
   {
    "duration": 6,
    "start_time": "2024-02-22T09:23:54.834Z"
   },
   {
    "duration": 19,
    "start_time": "2024-02-22T09:23:54.842Z"
   },
   {
    "duration": 8,
    "start_time": "2024-02-22T09:23:54.863Z"
   },
   {
    "duration": 8,
    "start_time": "2024-02-22T09:23:54.873Z"
   },
   {
    "duration": 7,
    "start_time": "2024-02-22T09:23:54.884Z"
   },
   {
    "duration": 37,
    "start_time": "2024-02-22T09:23:54.893Z"
   },
   {
    "duration": 8,
    "start_time": "2024-02-22T09:23:54.932Z"
   },
   {
    "duration": 15,
    "start_time": "2024-02-22T09:23:54.942Z"
   },
   {
    "duration": 8,
    "start_time": "2024-02-22T09:23:54.959Z"
   },
   {
    "duration": 19,
    "start_time": "2024-02-22T09:23:54.969Z"
   },
   {
    "duration": 3,
    "start_time": "2024-02-22T09:24:32.769Z"
   },
   {
    "duration": 55,
    "start_time": "2024-02-22T09:24:32.775Z"
   },
   {
    "duration": 53,
    "start_time": "2024-02-22T09:24:32.832Z"
   },
   {
    "duration": 24,
    "start_time": "2024-02-22T09:24:32.887Z"
   },
   {
    "duration": 28,
    "start_time": "2024-02-22T09:24:32.914Z"
   },
   {
    "duration": 27,
    "start_time": "2024-02-22T09:24:32.944Z"
   },
   {
    "duration": 44,
    "start_time": "2024-02-22T09:24:32.973Z"
   },
   {
    "duration": 21,
    "start_time": "2024-02-22T09:24:33.018Z"
   },
   {
    "duration": 19,
    "start_time": "2024-02-22T09:24:33.042Z"
   },
   {
    "duration": 40,
    "start_time": "2024-02-22T09:24:33.062Z"
   },
   {
    "duration": 1108,
    "start_time": "2024-02-22T09:24:33.104Z"
   },
   {
    "duration": 5,
    "start_time": "2024-02-22T09:24:34.223Z"
   },
   {
    "duration": 42,
    "start_time": "2024-02-22T09:24:34.229Z"
   },
   {
    "duration": 11,
    "start_time": "2024-02-22T09:24:34.274Z"
   },
   {
    "duration": 15,
    "start_time": "2024-02-22T09:24:34.286Z"
   },
   {
    "duration": 30,
    "start_time": "2024-02-22T09:24:34.302Z"
   },
   {
    "duration": 1892,
    "start_time": "2024-02-22T09:24:34.334Z"
   },
   {
    "duration": 190,
    "start_time": "2024-02-22T09:24:36.228Z"
   },
   {
    "duration": 252,
    "start_time": "2024-02-22T09:24:36.420Z"
   },
   {
    "duration": 10,
    "start_time": "2024-02-22T09:24:36.674Z"
   },
   {
    "duration": 22,
    "start_time": "2024-02-22T09:24:36.687Z"
   },
   {
    "duration": 32,
    "start_time": "2024-02-22T09:24:36.712Z"
   },
   {
    "duration": 22,
    "start_time": "2024-02-22T09:24:36.746Z"
   },
   {
    "duration": 374,
    "start_time": "2024-02-22T09:24:36.770Z"
   },
   {
    "duration": 521,
    "start_time": "2024-02-22T09:24:37.147Z"
   },
   {
    "duration": 293,
    "start_time": "2024-02-22T09:24:37.670Z"
   },
   {
    "duration": 281,
    "start_time": "2024-02-22T09:24:37.965Z"
   },
   {
    "duration": 550,
    "start_time": "2024-02-22T09:24:38.248Z"
   },
   {
    "duration": 411,
    "start_time": "2024-02-22T09:24:38.800Z"
   },
   {
    "duration": 285,
    "start_time": "2024-02-22T09:24:39.213Z"
   },
   {
    "duration": 427,
    "start_time": "2024-02-22T09:24:39.500Z"
   },
   {
    "duration": 327,
    "start_time": "2024-02-22T09:24:39.929Z"
   },
   {
    "duration": 400,
    "start_time": "2024-02-22T09:24:40.259Z"
   },
   {
    "duration": 398,
    "start_time": "2024-02-22T09:24:40.661Z"
   },
   {
    "duration": 327,
    "start_time": "2024-02-22T09:24:41.061Z"
   },
   {
    "duration": 1099,
    "start_time": "2024-02-22T09:24:41.390Z"
   },
   {
    "duration": 3,
    "start_time": "2024-02-22T09:24:42.491Z"
   },
   {
    "duration": 14,
    "start_time": "2024-02-22T09:24:42.496Z"
   },
   {
    "duration": 14,
    "start_time": "2024-02-22T09:24:42.512Z"
   },
   {
    "duration": 19,
    "start_time": "2024-02-22T09:24:42.528Z"
   },
   {
    "duration": 25,
    "start_time": "2024-02-22T09:24:42.551Z"
   },
   {
    "duration": 44,
    "start_time": "2024-02-22T09:24:42.578Z"
   },
   {
    "duration": 10,
    "start_time": "2024-02-22T09:24:42.624Z"
   },
   {
    "duration": 36,
    "start_time": "2024-02-22T09:24:42.636Z"
   },
   {
    "duration": 35,
    "start_time": "2024-02-22T09:24:42.674Z"
   },
   {
    "duration": 15,
    "start_time": "2024-02-22T09:24:42.711Z"
   },
   {
    "duration": 18,
    "start_time": "2024-02-22T09:24:42.728Z"
   },
   {
    "duration": 26,
    "start_time": "2024-02-22T09:24:42.748Z"
   },
   {
    "duration": 10,
    "start_time": "2024-02-22T09:24:42.776Z"
   },
   {
    "duration": 86,
    "start_time": "2024-02-22T09:24:42.788Z"
   },
   {
    "duration": 0,
    "start_time": "2024-02-22T09:24:42.875Z"
   },
   {
    "duration": 0,
    "start_time": "2024-02-22T09:24:42.876Z"
   },
   {
    "duration": 80,
    "start_time": "2024-02-22T09:24:50.406Z"
   },
   {
    "duration": 17,
    "start_time": "2024-02-22T09:24:57.775Z"
   },
   {
    "duration": 7,
    "start_time": "2024-02-22T16:24:37.202Z"
   },
   {
    "duration": 1311,
    "start_time": "2024-02-22T16:24:37.211Z"
   },
   {
    "duration": 149,
    "start_time": "2024-02-22T16:24:38.524Z"
   },
   {
    "duration": 24,
    "start_time": "2024-02-22T16:24:38.675Z"
   },
   {
    "duration": 4,
    "start_time": "2024-02-22T16:24:38.700Z"
   },
   {
    "duration": 8,
    "start_time": "2024-02-22T16:24:38.705Z"
   },
   {
    "duration": 8,
    "start_time": "2024-02-22T16:24:38.714Z"
   },
   {
    "duration": 14,
    "start_time": "2024-02-22T16:24:38.723Z"
   },
   {
    "duration": 10,
    "start_time": "2024-02-22T16:24:38.738Z"
   },
   {
    "duration": 22,
    "start_time": "2024-02-22T16:24:38.750Z"
   },
   {
    "duration": 1070,
    "start_time": "2024-02-22T16:24:38.773Z"
   },
   {
    "duration": 5,
    "start_time": "2024-02-22T16:24:39.844Z"
   },
   {
    "duration": 24,
    "start_time": "2024-02-22T16:24:39.850Z"
   },
   {
    "duration": 10,
    "start_time": "2024-02-22T16:24:39.876Z"
   },
   {
    "duration": 5,
    "start_time": "2024-02-22T16:24:39.887Z"
   },
   {
    "duration": 10,
    "start_time": "2024-02-22T16:24:39.893Z"
   },
   {
    "duration": 1641,
    "start_time": "2024-02-22T16:24:39.904Z"
   },
   {
    "duration": 159,
    "start_time": "2024-02-22T16:24:41.547Z"
   },
   {
    "duration": 238,
    "start_time": "2024-02-22T16:24:41.708Z"
   },
   {
    "duration": 9,
    "start_time": "2024-02-22T16:24:41.947Z"
   },
   {
    "duration": 4,
    "start_time": "2024-02-22T16:24:41.958Z"
   },
   {
    "duration": 20,
    "start_time": "2024-02-22T16:24:41.964Z"
   },
   {
    "duration": 6,
    "start_time": "2024-02-22T16:24:41.985Z"
   },
   {
    "duration": 291,
    "start_time": "2024-02-22T16:24:41.992Z"
   },
   {
    "duration": 380,
    "start_time": "2024-02-22T16:24:42.285Z"
   },
   {
    "duration": 282,
    "start_time": "2024-02-22T16:24:42.667Z"
   },
   {
    "duration": 247,
    "start_time": "2024-02-22T16:24:42.951Z"
   },
   {
    "duration": 587,
    "start_time": "2024-02-22T16:24:43.201Z"
   },
   {
    "duration": 377,
    "start_time": "2024-02-22T16:24:43.790Z"
   },
   {
    "duration": 274,
    "start_time": "2024-02-22T16:24:44.169Z"
   },
   {
    "duration": 395,
    "start_time": "2024-02-22T16:24:44.445Z"
   },
   {
    "duration": 298,
    "start_time": "2024-02-22T16:24:44.841Z"
   },
   {
    "duration": 296,
    "start_time": "2024-02-22T16:24:45.140Z"
   },
   {
    "duration": 354,
    "start_time": "2024-02-22T16:24:45.438Z"
   },
   {
    "duration": 379,
    "start_time": "2024-02-22T16:24:45.794Z"
   },
   {
    "duration": 992,
    "start_time": "2024-02-22T16:24:46.174Z"
   },
   {
    "duration": 3,
    "start_time": "2024-02-22T16:24:47.167Z"
   },
   {
    "duration": 6,
    "start_time": "2024-02-22T16:24:47.171Z"
   },
   {
    "duration": 4,
    "start_time": "2024-02-22T16:24:47.179Z"
   },
   {
    "duration": 4,
    "start_time": "2024-02-22T16:24:47.185Z"
   },
   {
    "duration": 24,
    "start_time": "2024-02-22T16:24:47.191Z"
   },
   {
    "duration": 13,
    "start_time": "2024-02-22T16:24:47.216Z"
   },
   {
    "duration": 5,
    "start_time": "2024-02-22T16:24:47.230Z"
   },
   {
    "duration": 18,
    "start_time": "2024-02-22T16:24:47.237Z"
   },
   {
    "duration": 7,
    "start_time": "2024-02-22T16:24:47.256Z"
   },
   {
    "duration": 8,
    "start_time": "2024-02-22T16:24:47.265Z"
   },
   {
    "duration": 6,
    "start_time": "2024-02-22T16:24:47.274Z"
   },
   {
    "duration": 9,
    "start_time": "2024-02-22T16:24:47.281Z"
   },
   {
    "duration": 25,
    "start_time": "2024-02-22T16:24:47.291Z"
   },
   {
    "duration": 17,
    "start_time": "2024-02-22T16:24:47.318Z"
   },
   {
    "duration": 102,
    "start_time": "2024-02-22T16:28:53.502Z"
   },
   {
    "duration": 2,
    "start_time": "2024-02-22T16:29:01.799Z"
   },
   {
    "duration": 42,
    "start_time": "2024-02-22T16:29:01.803Z"
   },
   {
    "duration": 56,
    "start_time": "2024-02-22T16:29:01.846Z"
   },
   {
    "duration": 19,
    "start_time": "2024-02-22T16:29:01.904Z"
   },
   {
    "duration": 14,
    "start_time": "2024-02-22T16:29:01.925Z"
   },
   {
    "duration": 19,
    "start_time": "2024-02-22T16:29:01.940Z"
   },
   {
    "duration": 33,
    "start_time": "2024-02-22T16:29:01.961Z"
   },
   {
    "duration": 13,
    "start_time": "2024-02-22T16:29:01.996Z"
   },
   {
    "duration": 20,
    "start_time": "2024-02-22T16:29:02.011Z"
   },
   {
    "duration": 41,
    "start_time": "2024-02-22T16:29:02.032Z"
   },
   {
    "duration": 1012,
    "start_time": "2024-02-22T16:29:02.075Z"
   },
   {
    "duration": 4,
    "start_time": "2024-02-22T16:29:03.089Z"
   },
   {
    "duration": 58,
    "start_time": "2024-02-22T16:29:03.095Z"
   },
   {
    "duration": 29,
    "start_time": "2024-02-22T16:29:03.154Z"
   },
   {
    "duration": 10,
    "start_time": "2024-02-22T16:29:03.184Z"
   },
   {
    "duration": 16,
    "start_time": "2024-02-22T16:29:03.196Z"
   },
   {
    "duration": 1749,
    "start_time": "2024-02-22T16:29:03.213Z"
   },
   {
    "duration": 164,
    "start_time": "2024-02-22T16:29:04.963Z"
   },
   {
    "duration": 221,
    "start_time": "2024-02-22T16:29:05.128Z"
   },
   {
    "duration": 9,
    "start_time": "2024-02-22T16:29:05.351Z"
   },
   {
    "duration": 24,
    "start_time": "2024-02-22T16:29:05.361Z"
   },
   {
    "duration": 37,
    "start_time": "2024-02-22T16:29:05.386Z"
   },
   {
    "duration": 5,
    "start_time": "2024-02-22T16:29:05.424Z"
   },
   {
    "duration": 295,
    "start_time": "2024-02-22T16:29:05.433Z"
   },
   {
    "duration": 341,
    "start_time": "2024-02-22T16:29:05.730Z"
   },
   {
    "duration": 350,
    "start_time": "2024-02-22T16:29:06.073Z"
   },
   {
    "duration": 347,
    "start_time": "2024-02-22T16:29:06.425Z"
   },
   {
    "duration": 502,
    "start_time": "2024-02-22T16:29:06.773Z"
   },
   {
    "duration": 371,
    "start_time": "2024-02-22T16:29:07.276Z"
   },
   {
    "duration": 250,
    "start_time": "2024-02-22T16:29:07.649Z"
   },
   {
    "duration": 369,
    "start_time": "2024-02-22T16:29:07.900Z"
   },
   {
    "duration": 281,
    "start_time": "2024-02-22T16:29:08.272Z"
   },
   {
    "duration": 301,
    "start_time": "2024-02-22T16:29:08.554Z"
   },
   {
    "duration": 405,
    "start_time": "2024-02-22T16:29:08.857Z"
   },
   {
    "duration": 287,
    "start_time": "2024-02-22T16:29:09.264Z"
   },
   {
    "duration": 974,
    "start_time": "2024-02-22T16:29:09.552Z"
   },
   {
    "duration": 3,
    "start_time": "2024-02-22T16:29:10.527Z"
   },
   {
    "duration": 37,
    "start_time": "2024-02-22T16:29:10.531Z"
   },
   {
    "duration": 24,
    "start_time": "2024-02-22T16:29:10.569Z"
   },
   {
    "duration": 28,
    "start_time": "2024-02-22T16:29:10.595Z"
   },
   {
    "duration": 26,
    "start_time": "2024-02-22T16:29:10.624Z"
   },
   {
    "duration": 30,
    "start_time": "2024-02-22T16:29:10.651Z"
   },
   {
    "duration": 18,
    "start_time": "2024-02-22T16:29:10.683Z"
   },
   {
    "duration": 24,
    "start_time": "2024-02-22T16:29:10.702Z"
   },
   {
    "duration": 13,
    "start_time": "2024-02-22T16:29:10.728Z"
   },
   {
    "duration": 22,
    "start_time": "2024-02-22T16:29:10.743Z"
   },
   {
    "duration": 20,
    "start_time": "2024-02-22T16:29:10.766Z"
   },
   {
    "duration": 25,
    "start_time": "2024-02-22T16:29:10.787Z"
   },
   {
    "duration": 23,
    "start_time": "2024-02-22T16:29:10.814Z"
   },
   {
    "duration": 23,
    "start_time": "2024-02-22T16:29:10.838Z"
   },
   {
    "duration": 19,
    "start_time": "2024-02-22T16:29:33.372Z"
   },
   {
    "duration": 71,
    "start_time": "2024-02-22T16:30:56.261Z"
   },
   {
    "duration": 17,
    "start_time": "2024-02-22T16:31:06.444Z"
   },
   {
    "duration": 30,
    "start_time": "2024-02-22T16:34:05.085Z"
   },
   {
    "duration": 6,
    "start_time": "2024-02-22T16:35:03.148Z"
   },
   {
    "duration": 131,
    "start_time": "2024-02-22T16:35:35.468Z"
   },
   {
    "duration": 241,
    "start_time": "2024-02-22T16:35:42.380Z"
   },
   {
    "duration": 11,
    "start_time": "2024-02-22T16:37:15.076Z"
   },
   {
    "duration": 254,
    "start_time": "2024-02-22T16:37:39.891Z"
   },
   {
    "duration": 6,
    "start_time": "2024-02-22T16:37:45.564Z"
   },
   {
    "duration": 74,
    "start_time": "2024-02-22T16:38:05.155Z"
   },
   {
    "duration": 340,
    "start_time": "2024-02-22T16:38:10.355Z"
   },
   {
    "duration": 6,
    "start_time": "2024-02-22T16:38:13.059Z"
   },
   {
    "duration": 234,
    "start_time": "2024-02-22T16:38:16.244Z"
   },
   {
    "duration": 6,
    "start_time": "2024-02-22T16:38:16.819Z"
   },
   {
    "duration": 5,
    "start_time": "2024-02-22T16:38:28.227Z"
   },
   {
    "duration": 239,
    "start_time": "2024-02-22T16:38:31.227Z"
   },
   {
    "duration": 5,
    "start_time": "2024-02-22T16:38:31.763Z"
   },
   {
    "duration": 250,
    "start_time": "2024-02-22T16:39:17.700Z"
   },
   {
    "duration": 6,
    "start_time": "2024-02-22T16:39:28.820Z"
   },
   {
    "duration": 5,
    "start_time": "2024-02-22T16:39:41.868Z"
   },
   {
    "duration": 5,
    "start_time": "2024-02-22T16:39:47.012Z"
   },
   {
    "duration": 7,
    "start_time": "2024-02-22T16:39:54.763Z"
   },
   {
    "duration": 5,
    "start_time": "2024-02-22T16:40:09.059Z"
   },
   {
    "duration": 9,
    "start_time": "2024-02-22T16:41:33.396Z"
   },
   {
    "duration": 5,
    "start_time": "2024-02-22T16:41:35.843Z"
   },
   {
    "duration": 8,
    "start_time": "2024-02-22T16:41:36.771Z"
   },
   {
    "duration": 4,
    "start_time": "2024-02-22T16:42:18.284Z"
   },
   {
    "duration": 7,
    "start_time": "2024-02-22T16:42:44.165Z"
   },
   {
    "duration": 4,
    "start_time": "2024-02-22T16:45:18.564Z"
   },
   {
    "duration": 6,
    "start_time": "2024-02-22T16:45:19.275Z"
   },
   {
    "duration": 5,
    "start_time": "2024-02-22T16:45:22.003Z"
   },
   {
    "duration": 5,
    "start_time": "2024-02-22T16:45:33.052Z"
   },
   {
    "duration": 6,
    "start_time": "2024-02-22T16:45:33.772Z"
   },
   {
    "duration": 4,
    "start_time": "2024-02-22T16:45:34.596Z"
   },
   {
    "duration": 241,
    "start_time": "2024-02-22T16:45:52.171Z"
   },
   {
    "duration": 170,
    "start_time": "2024-02-22T16:45:56.252Z"
   },
   {
    "duration": 135,
    "start_time": "2024-02-22T16:46:02.868Z"
   },
   {
    "duration": 229,
    "start_time": "2024-02-22T16:46:07.612Z"
   },
   {
    "duration": 135,
    "start_time": "2024-02-22T16:46:21.036Z"
   },
   {
    "duration": 6,
    "start_time": "2024-02-22T17:01:02.604Z"
   },
   {
    "duration": 5,
    "start_time": "2024-02-22T17:07:15.661Z"
   },
   {
    "duration": 8,
    "start_time": "2024-02-22T17:07:23.694Z"
   },
   {
    "duration": 8,
    "start_time": "2024-02-22T17:07:55.932Z"
   },
   {
    "duration": 12,
    "start_time": "2024-02-22T17:08:39.597Z"
   },
   {
    "duration": 12,
    "start_time": "2024-02-22T17:09:30.845Z"
   },
   {
    "duration": 73,
    "start_time": "2024-02-22T17:24:11.348Z"
   },
   {
    "duration": 74,
    "start_time": "2024-02-22T17:24:17.106Z"
   },
   {
    "duration": 14,
    "start_time": "2024-02-22T17:24:51.154Z"
   },
   {
    "duration": 4,
    "start_time": "2024-02-22T17:25:20.411Z"
   },
   {
    "duration": 4,
    "start_time": "2024-02-22T17:25:32.699Z"
   },
   {
    "duration": 5,
    "start_time": "2024-02-22T17:25:50.635Z"
   },
   {
    "duration": 13,
    "start_time": "2024-02-22T17:27:10.707Z"
   },
   {
    "duration": 13,
    "start_time": "2024-02-22T17:27:22.491Z"
   },
   {
    "duration": 13,
    "start_time": "2024-02-22T17:27:30.930Z"
   },
   {
    "duration": 13,
    "start_time": "2024-02-22T17:27:41.267Z"
   },
   {
    "duration": 14,
    "start_time": "2024-02-22T17:28:09.466Z"
   },
   {
    "duration": 13,
    "start_time": "2024-02-22T17:28:24.178Z"
   },
   {
    "duration": 14,
    "start_time": "2024-02-22T17:28:32.106Z"
   },
   {
    "duration": 14,
    "start_time": "2024-02-22T17:28:37.250Z"
   },
   {
    "duration": 13,
    "start_time": "2024-02-22T17:28:57.778Z"
   },
   {
    "duration": 14,
    "start_time": "2024-02-22T17:29:07.218Z"
   },
   {
    "duration": 15,
    "start_time": "2024-02-22T17:29:10.818Z"
   },
   {
    "duration": 14,
    "start_time": "2024-02-22T17:29:14.762Z"
   },
   {
    "duration": 3,
    "start_time": "2024-02-22T17:34:00.435Z"
   },
   {
    "duration": 31,
    "start_time": "2024-02-22T17:34:00.440Z"
   },
   {
    "duration": 60,
    "start_time": "2024-02-22T17:34:00.472Z"
   },
   {
    "duration": 21,
    "start_time": "2024-02-22T17:34:00.533Z"
   },
   {
    "duration": 34,
    "start_time": "2024-02-22T17:34:00.556Z"
   },
   {
    "duration": 37,
    "start_time": "2024-02-22T17:34:00.591Z"
   },
   {
    "duration": 49,
    "start_time": "2024-02-22T17:34:00.629Z"
   },
   {
    "duration": 44,
    "start_time": "2024-02-22T17:34:00.680Z"
   },
   {
    "duration": 56,
    "start_time": "2024-02-22T17:34:00.725Z"
   },
   {
    "duration": 122,
    "start_time": "2024-02-22T17:34:00.782Z"
   },
   {
    "duration": 1061,
    "start_time": "2024-02-22T17:34:00.906Z"
   },
   {
    "duration": 4,
    "start_time": "2024-02-22T17:34:01.969Z"
   },
   {
    "duration": 43,
    "start_time": "2024-02-22T17:34:01.975Z"
   },
   {
    "duration": 68,
    "start_time": "2024-02-22T17:34:02.022Z"
   },
   {
    "duration": 11,
    "start_time": "2024-02-22T17:34:02.092Z"
   },
   {
    "duration": 37,
    "start_time": "2024-02-22T17:34:02.106Z"
   },
   {
    "duration": 1713,
    "start_time": "2024-02-22T17:34:02.145Z"
   },
   {
    "duration": 160,
    "start_time": "2024-02-22T17:34:03.860Z"
   },
   {
    "duration": 223,
    "start_time": "2024-02-22T17:34:04.022Z"
   },
   {
    "duration": 10,
    "start_time": "2024-02-22T17:34:04.247Z"
   },
   {
    "duration": 4,
    "start_time": "2024-02-22T17:34:04.259Z"
   },
   {
    "duration": 26,
    "start_time": "2024-02-22T17:34:04.265Z"
   },
   {
    "duration": 23,
    "start_time": "2024-02-22T17:34:04.293Z"
   },
   {
    "duration": 295,
    "start_time": "2024-02-22T17:34:04.318Z"
   },
   {
    "duration": 338,
    "start_time": "2024-02-22T17:34:04.615Z"
   },
   {
    "duration": 280,
    "start_time": "2024-02-22T17:34:04.956Z"
   },
   {
    "duration": 229,
    "start_time": "2024-02-22T17:34:05.238Z"
   },
   {
    "duration": 518,
    "start_time": "2024-02-22T17:34:05.469Z"
   },
   {
    "duration": 516,
    "start_time": "2024-02-22T17:34:05.989Z"
   },
   {
    "duration": 230,
    "start_time": "2024-02-22T17:34:06.507Z"
   },
   {
    "duration": 427,
    "start_time": "2024-02-22T17:34:06.739Z"
   },
   {
    "duration": 291,
    "start_time": "2024-02-22T17:34:07.167Z"
   },
   {
    "duration": 287,
    "start_time": "2024-02-22T17:34:07.460Z"
   },
   {
    "duration": 302,
    "start_time": "2024-02-22T17:34:07.749Z"
   },
   {
    "duration": 331,
    "start_time": "2024-02-22T17:34:08.053Z"
   },
   {
    "duration": 965,
    "start_time": "2024-02-22T17:34:08.386Z"
   },
   {
    "duration": 2,
    "start_time": "2024-02-22T17:34:09.353Z"
   },
   {
    "duration": 10,
    "start_time": "2024-02-22T17:34:09.357Z"
   },
   {
    "duration": 5,
    "start_time": "2024-02-22T17:34:09.368Z"
   },
   {
    "duration": 6,
    "start_time": "2024-02-22T17:34:09.374Z"
   },
   {
    "duration": 7,
    "start_time": "2024-02-22T17:34:09.383Z"
   },
   {
    "duration": 25,
    "start_time": "2024-02-22T17:34:09.391Z"
   },
   {
    "duration": 5,
    "start_time": "2024-02-22T17:34:09.417Z"
   },
   {
    "duration": 24,
    "start_time": "2024-02-22T17:34:09.423Z"
   },
   {
    "duration": 7,
    "start_time": "2024-02-22T17:34:09.448Z"
   },
   {
    "duration": 6,
    "start_time": "2024-02-22T17:34:09.456Z"
   },
   {
    "duration": 7,
    "start_time": "2024-02-22T17:34:09.463Z"
   },
   {
    "duration": 8,
    "start_time": "2024-02-22T17:34:09.471Z"
   },
   {
    "duration": 6,
    "start_time": "2024-02-22T17:34:09.480Z"
   },
   {
    "duration": 36,
    "start_time": "2024-02-22T17:34:09.488Z"
   },
   {
    "duration": 8,
    "start_time": "2024-02-22T17:34:09.526Z"
   },
   {
    "duration": 14,
    "start_time": "2024-02-22T17:34:09.535Z"
   },
   {
    "duration": 15,
    "start_time": "2024-02-22T18:01:45.777Z"
   },
   {
    "duration": 6,
    "start_time": "2024-02-22T18:03:19.793Z"
   },
   {
    "duration": 15,
    "start_time": "2024-02-22T18:03:39.232Z"
   },
   {
    "duration": 11,
    "start_time": "2024-02-22T18:07:25.448Z"
   },
   {
    "duration": 76,
    "start_time": "2024-02-22T18:07:26.008Z"
   },
   {
    "duration": 2,
    "start_time": "2024-02-22T18:08:22.633Z"
   },
   {
    "duration": 19,
    "start_time": "2024-02-22T18:08:22.638Z"
   },
   {
    "duration": 45,
    "start_time": "2024-02-22T18:08:22.659Z"
   },
   {
    "duration": 25,
    "start_time": "2024-02-22T18:08:22.707Z"
   },
   {
    "duration": 4,
    "start_time": "2024-02-22T18:08:22.734Z"
   },
   {
    "duration": 7,
    "start_time": "2024-02-22T18:08:22.740Z"
   },
   {
    "duration": 20,
    "start_time": "2024-02-22T18:08:22.748Z"
   },
   {
    "duration": 10,
    "start_time": "2024-02-22T18:08:22.770Z"
   },
   {
    "duration": 8,
    "start_time": "2024-02-22T18:08:22.784Z"
   },
   {
    "duration": 34,
    "start_time": "2024-02-22T18:08:22.794Z"
   },
   {
    "duration": 1124,
    "start_time": "2024-02-22T18:08:22.830Z"
   },
   {
    "duration": 5,
    "start_time": "2024-02-22T18:08:23.956Z"
   },
   {
    "duration": 39,
    "start_time": "2024-02-22T18:08:23.963Z"
   },
   {
    "duration": 16,
    "start_time": "2024-02-22T18:08:24.004Z"
   },
   {
    "duration": 5,
    "start_time": "2024-02-22T18:08:24.022Z"
   },
   {
    "duration": 8,
    "start_time": "2024-02-22T18:08:24.029Z"
   },
   {
    "duration": 1574,
    "start_time": "2024-02-22T18:08:24.038Z"
   },
   {
    "duration": 176,
    "start_time": "2024-02-22T18:08:25.615Z"
   },
   {
    "duration": 389,
    "start_time": "2024-02-22T18:08:25.794Z"
   },
   {
    "duration": 10,
    "start_time": "2024-02-22T18:08:26.185Z"
   },
   {
    "duration": 27,
    "start_time": "2024-02-22T18:08:26.197Z"
   },
   {
    "duration": 24,
    "start_time": "2024-02-22T18:08:26.226Z"
   },
   {
    "duration": 8,
    "start_time": "2024-02-22T18:08:26.252Z"
   },
   {
    "duration": 290,
    "start_time": "2024-02-22T18:08:26.263Z"
   },
   {
    "duration": 315,
    "start_time": "2024-02-22T18:08:26.555Z"
   },
   {
    "duration": 280,
    "start_time": "2024-02-22T18:08:26.872Z"
   },
   {
    "duration": 285,
    "start_time": "2024-02-22T18:08:27.153Z"
   },
   {
    "duration": 485,
    "start_time": "2024-02-22T18:08:27.440Z"
   },
   {
    "duration": 390,
    "start_time": "2024-02-22T18:08:27.926Z"
   },
   {
    "duration": 354,
    "start_time": "2024-02-22T18:08:28.318Z"
   },
   {
    "duration": 603,
    "start_time": "2024-02-22T18:08:28.673Z"
   },
   {
    "duration": 381,
    "start_time": "2024-02-22T18:08:29.277Z"
   },
   {
    "duration": 288,
    "start_time": "2024-02-22T18:08:29.660Z"
   },
   {
    "duration": 313,
    "start_time": "2024-02-22T18:08:29.950Z"
   },
   {
    "duration": 301,
    "start_time": "2024-02-22T18:08:30.264Z"
   },
   {
    "duration": 1021,
    "start_time": "2024-02-22T18:08:30.567Z"
   },
   {
    "duration": 3,
    "start_time": "2024-02-22T18:08:31.590Z"
   },
   {
    "duration": 26,
    "start_time": "2024-02-22T18:08:31.595Z"
   },
   {
    "duration": 27,
    "start_time": "2024-02-22T18:08:31.623Z"
   },
   {
    "duration": 43,
    "start_time": "2024-02-22T18:08:31.651Z"
   },
   {
    "duration": 32,
    "start_time": "2024-02-22T18:08:31.695Z"
   },
   {
    "duration": 38,
    "start_time": "2024-02-22T18:08:31.728Z"
   },
   {
    "duration": 21,
    "start_time": "2024-02-22T18:08:31.768Z"
   },
   {
    "duration": 33,
    "start_time": "2024-02-22T18:08:31.791Z"
   },
   {
    "duration": 21,
    "start_time": "2024-02-22T18:08:31.826Z"
   },
   {
    "duration": 8,
    "start_time": "2024-02-22T18:08:31.849Z"
   },
   {
    "duration": 9,
    "start_time": "2024-02-22T18:08:31.859Z"
   },
   {
    "duration": 16,
    "start_time": "2024-02-22T18:08:31.870Z"
   },
   {
    "duration": 9,
    "start_time": "2024-02-22T18:08:31.888Z"
   },
   {
    "duration": 17,
    "start_time": "2024-02-22T18:08:31.898Z"
   },
   {
    "duration": 12,
    "start_time": "2024-02-22T18:08:31.916Z"
   },
   {
    "duration": 19,
    "start_time": "2024-02-22T18:08:31.929Z"
   },
   {
    "duration": 6,
    "start_time": "2024-02-22T18:08:31.949Z"
   },
   {
    "duration": 13,
    "start_time": "2024-02-22T18:08:31.957Z"
   },
   {
    "duration": 17,
    "start_time": "2024-02-22T18:09:35.840Z"
   },
   {
    "duration": 19,
    "start_time": "2024-02-22T18:09:57.479Z"
   },
   {
    "duration": 5,
    "start_time": "2024-02-22T18:10:00.431Z"
   },
   {
    "duration": 3,
    "start_time": "2024-02-22T18:10:05.116Z"
   },
   {
    "duration": 5,
    "start_time": "2024-02-22T18:10:05.121Z"
   },
   {
    "duration": 43,
    "start_time": "2024-02-22T18:10:05.128Z"
   },
   {
    "duration": 22,
    "start_time": "2024-02-22T18:10:05.173Z"
   },
   {
    "duration": 3,
    "start_time": "2024-02-22T18:10:05.196Z"
   },
   {
    "duration": 4,
    "start_time": "2024-02-22T18:10:05.215Z"
   },
   {
    "duration": 12,
    "start_time": "2024-02-22T18:10:05.221Z"
   },
   {
    "duration": 6,
    "start_time": "2024-02-22T18:10:05.234Z"
   },
   {
    "duration": 7,
    "start_time": "2024-02-22T18:10:05.242Z"
   },
   {
    "duration": 20,
    "start_time": "2024-02-22T18:10:05.251Z"
   },
   {
    "duration": 1022,
    "start_time": "2024-02-22T18:10:05.272Z"
   },
   {
    "duration": 4,
    "start_time": "2024-02-22T18:10:06.296Z"
   },
   {
    "duration": 28,
    "start_time": "2024-02-22T18:10:06.302Z"
   },
   {
    "duration": 10,
    "start_time": "2024-02-22T18:10:06.332Z"
   },
   {
    "duration": 5,
    "start_time": "2024-02-22T18:10:06.344Z"
   },
   {
    "duration": 5,
    "start_time": "2024-02-22T18:10:06.350Z"
   },
   {
    "duration": 1700,
    "start_time": "2024-02-22T18:10:06.357Z"
   },
   {
    "duration": 168,
    "start_time": "2024-02-22T18:10:08.059Z"
   },
   {
    "duration": 222,
    "start_time": "2024-02-22T18:10:08.228Z"
   },
   {
    "duration": 9,
    "start_time": "2024-02-22T18:10:08.451Z"
   },
   {
    "duration": 4,
    "start_time": "2024-02-22T18:10:08.461Z"
   },
   {
    "duration": 15,
    "start_time": "2024-02-22T18:10:08.467Z"
   },
   {
    "duration": 16,
    "start_time": "2024-02-22T18:10:08.483Z"
   },
   {
    "duration": 435,
    "start_time": "2024-02-22T18:10:08.502Z"
   },
   {
    "duration": 323,
    "start_time": "2024-02-22T18:10:08.939Z"
   },
   {
    "duration": 295,
    "start_time": "2024-02-22T18:10:09.264Z"
   },
   {
    "duration": 234,
    "start_time": "2024-02-22T18:10:09.561Z"
   },
   {
    "duration": 502,
    "start_time": "2024-02-22T18:10:09.797Z"
   },
   {
    "duration": 360,
    "start_time": "2024-02-22T18:10:10.300Z"
   },
   {
    "duration": 248,
    "start_time": "2024-02-22T18:10:10.662Z"
   },
   {
    "duration": 350,
    "start_time": "2024-02-22T18:10:10.914Z"
   },
   {
    "duration": 294,
    "start_time": "2024-02-22T18:10:11.266Z"
   },
   {
    "duration": 284,
    "start_time": "2024-02-22T18:10:11.562Z"
   },
   {
    "duration": 463,
    "start_time": "2024-02-22T18:10:11.848Z"
   },
   {
    "duration": 309,
    "start_time": "2024-02-22T18:10:12.312Z"
   },
   {
    "duration": 957,
    "start_time": "2024-02-22T18:10:12.622Z"
   },
   {
    "duration": 2,
    "start_time": "2024-02-22T18:10:13.581Z"
   },
   {
    "duration": 5,
    "start_time": "2024-02-22T18:10:13.585Z"
   },
   {
    "duration": 5,
    "start_time": "2024-02-22T18:10:13.592Z"
   },
   {
    "duration": 19,
    "start_time": "2024-02-22T18:10:13.598Z"
   },
   {
    "duration": 4,
    "start_time": "2024-02-22T18:10:13.618Z"
   },
   {
    "duration": 10,
    "start_time": "2024-02-22T18:10:13.624Z"
   },
   {
    "duration": 5,
    "start_time": "2024-02-22T18:10:13.636Z"
   },
   {
    "duration": 22,
    "start_time": "2024-02-22T18:10:13.643Z"
   },
   {
    "duration": 6,
    "start_time": "2024-02-22T18:10:13.667Z"
   },
   {
    "duration": 6,
    "start_time": "2024-02-22T18:10:13.674Z"
   },
   {
    "duration": 5,
    "start_time": "2024-02-22T18:10:13.682Z"
   },
   {
    "duration": 25,
    "start_time": "2024-02-22T18:10:13.689Z"
   },
   {
    "duration": 6,
    "start_time": "2024-02-22T18:10:13.716Z"
   },
   {
    "duration": 16,
    "start_time": "2024-02-22T18:10:13.723Z"
   },
   {
    "duration": 8,
    "start_time": "2024-02-22T18:10:13.740Z"
   },
   {
    "duration": 18,
    "start_time": "2024-02-22T18:10:13.749Z"
   },
   {
    "duration": 5,
    "start_time": "2024-02-22T18:10:13.769Z"
   },
   {
    "duration": 56,
    "start_time": "2024-02-22T18:10:13.775Z"
   },
   {
    "duration": 64,
    "start_time": "2024-02-22T18:11:32.607Z"
   },
   {
    "duration": 2,
    "start_time": "2024-02-22T18:11:55.727Z"
   },
   {
    "duration": 3,
    "start_time": "2024-02-22T18:11:55.731Z"
   },
   {
    "duration": 43,
    "start_time": "2024-02-22T18:11:55.736Z"
   },
   {
    "duration": 28,
    "start_time": "2024-02-22T18:11:55.781Z"
   },
   {
    "duration": 4,
    "start_time": "2024-02-22T18:11:55.811Z"
   },
   {
    "duration": 5,
    "start_time": "2024-02-22T18:11:55.817Z"
   },
   {
    "duration": 8,
    "start_time": "2024-02-22T18:11:55.823Z"
   },
   {
    "duration": 6,
    "start_time": "2024-02-22T18:11:55.833Z"
   },
   {
    "duration": 8,
    "start_time": "2024-02-22T18:11:55.840Z"
   },
   {
    "duration": 23,
    "start_time": "2024-02-22T18:11:55.849Z"
   },
   {
    "duration": 1000,
    "start_time": "2024-02-22T18:11:55.874Z"
   },
   {
    "duration": 4,
    "start_time": "2024-02-22T18:11:56.876Z"
   },
   {
    "duration": 28,
    "start_time": "2024-02-22T18:11:56.881Z"
   },
   {
    "duration": 11,
    "start_time": "2024-02-22T18:11:56.915Z"
   },
   {
    "duration": 4,
    "start_time": "2024-02-22T18:11:56.928Z"
   },
   {
    "duration": 6,
    "start_time": "2024-02-22T18:11:56.934Z"
   },
   {
    "duration": 1763,
    "start_time": "2024-02-22T18:11:56.941Z"
   },
   {
    "duration": 163,
    "start_time": "2024-02-22T18:11:58.706Z"
   },
   {
    "duration": 236,
    "start_time": "2024-02-22T18:11:58.870Z"
   },
   {
    "duration": 11,
    "start_time": "2024-02-22T18:11:59.108Z"
   },
   {
    "duration": 4,
    "start_time": "2024-02-22T18:11:59.120Z"
   },
   {
    "duration": 13,
    "start_time": "2024-02-22T18:11:59.126Z"
   },
   {
    "duration": 6,
    "start_time": "2024-02-22T18:11:59.140Z"
   },
   {
    "duration": 307,
    "start_time": "2024-02-22T18:11:59.148Z"
   },
   {
    "duration": 512,
    "start_time": "2024-02-22T18:11:59.457Z"
   },
   {
    "duration": 278,
    "start_time": "2024-02-22T18:11:59.971Z"
   },
   {
    "duration": 243,
    "start_time": "2024-02-22T18:12:00.251Z"
   },
   {
    "duration": 489,
    "start_time": "2024-02-22T18:12:00.496Z"
   },
   {
    "duration": 381,
    "start_time": "2024-02-22T18:12:00.989Z"
   },
   {
    "duration": 248,
    "start_time": "2024-02-22T18:12:01.372Z"
   },
   {
    "duration": 347,
    "start_time": "2024-02-22T18:12:01.622Z"
   },
   {
    "duration": 287,
    "start_time": "2024-02-22T18:12:01.970Z"
   },
   {
    "duration": 375,
    "start_time": "2024-02-22T18:12:02.258Z"
   },
   {
    "duration": 332,
    "start_time": "2024-02-22T18:12:02.635Z"
   },
   {
    "duration": 461,
    "start_time": "2024-02-22T18:12:02.968Z"
   },
   {
    "duration": 969,
    "start_time": "2024-02-22T18:12:03.431Z"
   },
   {
    "duration": 2,
    "start_time": "2024-02-22T18:12:04.402Z"
   },
   {
    "duration": 12,
    "start_time": "2024-02-22T18:12:04.406Z"
   },
   {
    "duration": 6,
    "start_time": "2024-02-22T18:12:04.419Z"
   },
   {
    "duration": 5,
    "start_time": "2024-02-22T18:12:04.426Z"
   },
   {
    "duration": 5,
    "start_time": "2024-02-22T18:12:04.433Z"
   },
   {
    "duration": 10,
    "start_time": "2024-02-22T18:12:04.440Z"
   },
   {
    "duration": 5,
    "start_time": "2024-02-22T18:12:04.452Z"
   },
   {
    "duration": 8,
    "start_time": "2024-02-22T18:12:04.458Z"
   },
   {
    "duration": 48,
    "start_time": "2024-02-22T18:12:04.467Z"
   },
   {
    "duration": 8,
    "start_time": "2024-02-22T18:12:04.517Z"
   },
   {
    "duration": 7,
    "start_time": "2024-02-22T18:12:04.526Z"
   },
   {
    "duration": 7,
    "start_time": "2024-02-22T18:12:04.535Z"
   },
   {
    "duration": 7,
    "start_time": "2024-02-22T18:12:04.543Z"
   },
   {
    "duration": 15,
    "start_time": "2024-02-22T18:12:04.552Z"
   },
   {
    "duration": 15,
    "start_time": "2024-02-22T18:12:04.569Z"
   },
   {
    "duration": 19,
    "start_time": "2024-02-22T18:12:04.615Z"
   },
   {
    "duration": 6,
    "start_time": "2024-02-22T18:12:04.636Z"
   },
   {
    "duration": 18,
    "start_time": "2024-02-22T18:12:04.643Z"
   },
   {
    "duration": 2,
    "start_time": "2024-02-22T18:15:52.135Z"
   },
   {
    "duration": 7,
    "start_time": "2024-02-22T18:16:39.158Z"
   },
   {
    "duration": 3,
    "start_time": "2024-02-22T18:16:41.615Z"
   },
   {
    "duration": 4,
    "start_time": "2024-02-22T18:16:41.620Z"
   },
   {
    "duration": 39,
    "start_time": "2024-02-22T18:16:41.625Z"
   },
   {
    "duration": 21,
    "start_time": "2024-02-22T18:16:41.666Z"
   },
   {
    "duration": 3,
    "start_time": "2024-02-22T18:16:41.689Z"
   },
   {
    "duration": 5,
    "start_time": "2024-02-22T18:16:41.714Z"
   },
   {
    "duration": 9,
    "start_time": "2024-02-22T18:16:41.720Z"
   },
   {
    "duration": 9,
    "start_time": "2024-02-22T18:16:41.731Z"
   },
   {
    "duration": 7,
    "start_time": "2024-02-22T18:16:41.742Z"
   },
   {
    "duration": 19,
    "start_time": "2024-02-22T18:16:41.751Z"
   },
   {
    "duration": 1033,
    "start_time": "2024-02-22T18:16:41.772Z"
   },
   {
    "duration": 5,
    "start_time": "2024-02-22T18:16:42.807Z"
   },
   {
    "duration": 23,
    "start_time": "2024-02-22T18:16:42.814Z"
   },
   {
    "duration": 12,
    "start_time": "2024-02-22T18:16:42.838Z"
   },
   {
    "duration": 5,
    "start_time": "2024-02-22T18:16:42.851Z"
   },
   {
    "duration": 8,
    "start_time": "2024-02-22T18:16:42.858Z"
   },
   {
    "duration": 1711,
    "start_time": "2024-02-22T18:16:42.867Z"
   },
   {
    "duration": 170,
    "start_time": "2024-02-22T18:16:44.579Z"
   },
   {
    "duration": 221,
    "start_time": "2024-02-22T18:16:44.751Z"
   },
   {
    "duration": 6,
    "start_time": "2024-02-22T18:16:44.973Z"
   },
   {
    "duration": 24,
    "start_time": "2024-02-22T18:16:44.980Z"
   },
   {
    "duration": 38,
    "start_time": "2024-02-22T18:16:45.006Z"
   },
   {
    "duration": 15,
    "start_time": "2024-02-22T18:16:45.045Z"
   },
   {
    "duration": 277,
    "start_time": "2024-02-22T18:16:45.063Z"
   },
   {
    "duration": 334,
    "start_time": "2024-02-22T18:16:45.342Z"
   },
   {
    "duration": 369,
    "start_time": "2024-02-22T18:16:45.678Z"
   },
   {
    "duration": 222,
    "start_time": "2024-02-22T18:16:46.048Z"
   },
   {
    "duration": 503,
    "start_time": "2024-02-22T18:16:46.272Z"
   },
   {
    "duration": 530,
    "start_time": "2024-02-22T18:16:46.777Z"
   },
   {
    "duration": 227,
    "start_time": "2024-02-22T18:16:47.309Z"
   },
   {
    "duration": 403,
    "start_time": "2024-02-22T18:16:47.538Z"
   },
   {
    "duration": 302,
    "start_time": "2024-02-22T18:16:47.942Z"
   },
   {
    "duration": 298,
    "start_time": "2024-02-22T18:16:48.246Z"
   },
   {
    "duration": 340,
    "start_time": "2024-02-22T18:16:48.546Z"
   },
   {
    "duration": 304,
    "start_time": "2024-02-22T18:16:48.887Z"
   },
   {
    "duration": 1118,
    "start_time": "2024-02-22T18:16:49.192Z"
   },
   {
    "duration": 2,
    "start_time": "2024-02-22T18:16:50.312Z"
   },
   {
    "duration": 6,
    "start_time": "2024-02-22T18:16:50.316Z"
   },
   {
    "duration": 6,
    "start_time": "2024-02-22T18:16:50.323Z"
   },
   {
    "duration": 5,
    "start_time": "2024-02-22T18:16:50.330Z"
   },
   {
    "duration": 4,
    "start_time": "2024-02-22T18:16:50.336Z"
   },
   {
    "duration": 11,
    "start_time": "2024-02-22T18:16:50.342Z"
   },
   {
    "duration": 4,
    "start_time": "2024-02-22T18:16:50.354Z"
   },
   {
    "duration": 7,
    "start_time": "2024-02-22T18:16:50.360Z"
   },
   {
    "duration": 9,
    "start_time": "2024-02-22T18:16:50.368Z"
   },
   {
    "duration": 41,
    "start_time": "2024-02-22T18:16:50.378Z"
   },
   {
    "duration": 9,
    "start_time": "2024-02-22T18:16:50.421Z"
   },
   {
    "duration": 6,
    "start_time": "2024-02-22T18:16:50.432Z"
   },
   {
    "duration": 5,
    "start_time": "2024-02-22T18:16:50.440Z"
   },
   {
    "duration": 24,
    "start_time": "2024-02-22T18:16:50.447Z"
   },
   {
    "duration": 6,
    "start_time": "2024-02-22T18:16:50.472Z"
   },
   {
    "duration": 37,
    "start_time": "2024-02-22T18:16:50.479Z"
   },
   {
    "duration": 8,
    "start_time": "2024-02-22T18:16:50.518Z"
   },
   {
    "duration": 30,
    "start_time": "2024-02-22T18:16:50.527Z"
   },
   {
    "duration": 111,
    "start_time": "2024-02-22T18:18:20.094Z"
   },
   {
    "duration": 62,
    "start_time": "2024-02-22T18:20:34.599Z"
   },
   {
    "duration": 78,
    "start_time": "2024-02-22T18:24:05.031Z"
   },
   {
    "duration": 100,
    "start_time": "2024-02-22T18:33:42.247Z"
   },
   {
    "duration": 81,
    "start_time": "2024-02-22T18:37:04.150Z"
   },
   {
    "duration": 20,
    "start_time": "2024-02-22T18:40:13.647Z"
   },
   {
    "duration": 3,
    "start_time": "2024-02-22T18:44:58.463Z"
   },
   {
    "duration": 4,
    "start_time": "2024-02-22T18:44:58.467Z"
   },
   {
    "duration": 41,
    "start_time": "2024-02-22T18:44:58.473Z"
   },
   {
    "duration": 21,
    "start_time": "2024-02-22T18:44:58.516Z"
   },
   {
    "duration": 4,
    "start_time": "2024-02-22T18:44:58.539Z"
   },
   {
    "duration": 5,
    "start_time": "2024-02-22T18:44:58.544Z"
   },
   {
    "duration": 6,
    "start_time": "2024-02-22T18:44:58.550Z"
   },
   {
    "duration": 4,
    "start_time": "2024-02-22T18:44:58.557Z"
   },
   {
    "duration": 7,
    "start_time": "2024-02-22T18:44:58.563Z"
   },
   {
    "duration": 21,
    "start_time": "2024-02-22T18:44:58.615Z"
   },
   {
    "duration": 982,
    "start_time": "2024-02-22T18:44:58.638Z"
   },
   {
    "duration": 5,
    "start_time": "2024-02-22T18:44:59.622Z"
   },
   {
    "duration": 29,
    "start_time": "2024-02-22T18:44:59.629Z"
   },
   {
    "duration": 14,
    "start_time": "2024-02-22T18:44:59.660Z"
   },
   {
    "duration": 5,
    "start_time": "2024-02-22T18:44:59.676Z"
   },
   {
    "duration": 35,
    "start_time": "2024-02-22T18:44:59.682Z"
   },
   {
    "duration": 1704,
    "start_time": "2024-02-22T18:44:59.719Z"
   },
   {
    "duration": 163,
    "start_time": "2024-02-22T18:45:01.425Z"
   },
   {
    "duration": 227,
    "start_time": "2024-02-22T18:45:01.590Z"
   },
   {
    "duration": 7,
    "start_time": "2024-02-22T18:45:01.818Z"
   },
   {
    "duration": 39,
    "start_time": "2024-02-22T18:45:01.826Z"
   },
   {
    "duration": 40,
    "start_time": "2024-02-22T18:45:01.866Z"
   },
   {
    "duration": 23,
    "start_time": "2024-02-22T18:45:01.907Z"
   },
   {
    "duration": 316,
    "start_time": "2024-02-22T18:45:01.932Z"
   },
   {
    "duration": 371,
    "start_time": "2024-02-22T18:45:02.249Z"
   },
   {
    "duration": 326,
    "start_time": "2024-02-22T18:45:02.621Z"
   },
   {
    "duration": 224,
    "start_time": "2024-02-22T18:45:02.948Z"
   },
   {
    "duration": 502,
    "start_time": "2024-02-22T18:45:03.173Z"
   },
   {
    "duration": 380,
    "start_time": "2024-02-22T18:45:03.679Z"
   },
   {
    "duration": 425,
    "start_time": "2024-02-22T18:45:04.060Z"
   },
   {
    "duration": 383,
    "start_time": "2024-02-22T18:45:04.487Z"
   },
   {
    "duration": 284,
    "start_time": "2024-02-22T18:45:04.872Z"
   },
   {
    "duration": 295,
    "start_time": "2024-02-22T18:45:05.158Z"
   },
   {
    "duration": 374,
    "start_time": "2024-02-22T18:45:05.454Z"
   },
   {
    "duration": 311,
    "start_time": "2024-02-22T18:45:05.830Z"
   },
   {
    "duration": 971,
    "start_time": "2024-02-22T18:45:06.143Z"
   },
   {
    "duration": 3,
    "start_time": "2024-02-22T18:45:07.116Z"
   },
   {
    "duration": 7,
    "start_time": "2024-02-22T18:45:07.121Z"
   },
   {
    "duration": 6,
    "start_time": "2024-02-22T18:45:07.130Z"
   },
   {
    "duration": 5,
    "start_time": "2024-02-22T18:45:07.138Z"
   },
   {
    "duration": 5,
    "start_time": "2024-02-22T18:45:07.145Z"
   },
   {
    "duration": 12,
    "start_time": "2024-02-22T18:45:07.152Z"
   },
   {
    "duration": 4,
    "start_time": "2024-02-22T18:45:07.165Z"
   },
   {
    "duration": 46,
    "start_time": "2024-02-22T18:45:07.171Z"
   },
   {
    "duration": 6,
    "start_time": "2024-02-22T18:45:07.218Z"
   },
   {
    "duration": 21,
    "start_time": "2024-02-22T18:45:07.226Z"
   },
   {
    "duration": 5,
    "start_time": "2024-02-22T18:45:07.248Z"
   },
   {
    "duration": 5,
    "start_time": "2024-02-22T18:45:07.255Z"
   },
   {
    "duration": 7,
    "start_time": "2024-02-22T18:45:07.261Z"
   },
   {
    "duration": 15,
    "start_time": "2024-02-22T18:45:07.269Z"
   },
   {
    "duration": 6,
    "start_time": "2024-02-22T18:45:07.285Z"
   },
   {
    "duration": 36,
    "start_time": "2024-02-22T18:45:07.292Z"
   },
   {
    "duration": 5,
    "start_time": "2024-02-22T18:45:07.330Z"
   },
   {
    "duration": 17,
    "start_time": "2024-02-22T18:45:07.336Z"
   },
   {
    "duration": 19,
    "start_time": "2024-02-22T18:45:07.355Z"
   },
   {
    "duration": 8,
    "start_time": "2024-02-24T14:35:30.904Z"
   },
   {
    "duration": 1404,
    "start_time": "2024-02-24T14:35:30.914Z"
   },
   {
    "duration": 159,
    "start_time": "2024-02-24T14:35:32.320Z"
   },
   {
    "duration": 36,
    "start_time": "2024-02-24T14:35:32.483Z"
   },
   {
    "duration": 4,
    "start_time": "2024-02-24T14:35:32.522Z"
   },
   {
    "duration": 20,
    "start_time": "2024-02-24T14:35:32.527Z"
   },
   {
    "duration": 15,
    "start_time": "2024-02-24T14:35:32.549Z"
   },
   {
    "duration": 14,
    "start_time": "2024-02-24T14:35:32.566Z"
   },
   {
    "duration": 7,
    "start_time": "2024-02-24T14:35:32.582Z"
   },
   {
    "duration": 21,
    "start_time": "2024-02-24T14:35:32.591Z"
   },
   {
    "duration": 1162,
    "start_time": "2024-02-24T14:35:32.614Z"
   },
   {
    "duration": 4,
    "start_time": "2024-02-24T14:35:33.778Z"
   },
   {
    "duration": 22,
    "start_time": "2024-02-24T14:35:33.784Z"
   },
   {
    "duration": 12,
    "start_time": "2024-02-24T14:35:33.809Z"
   },
   {
    "duration": 6,
    "start_time": "2024-02-24T14:35:33.822Z"
   },
   {
    "duration": 7,
    "start_time": "2024-02-24T14:35:33.830Z"
   },
   {
    "duration": 1744,
    "start_time": "2024-02-24T14:35:33.839Z"
   },
   {
    "duration": 174,
    "start_time": "2024-02-24T14:35:35.585Z"
   },
   {
    "duration": 261,
    "start_time": "2024-02-24T14:35:35.761Z"
   },
   {
    "duration": 9,
    "start_time": "2024-02-24T14:35:36.024Z"
   },
   {
    "duration": 5,
    "start_time": "2024-02-24T14:35:36.034Z"
   },
   {
    "duration": 15,
    "start_time": "2024-02-24T14:35:36.041Z"
   },
   {
    "duration": 30,
    "start_time": "2024-02-24T14:35:36.058Z"
   },
   {
    "duration": 313,
    "start_time": "2024-02-24T14:35:36.090Z"
   },
   {
    "duration": 383,
    "start_time": "2024-02-24T14:35:36.405Z"
   },
   {
    "duration": 336,
    "start_time": "2024-02-24T14:35:36.790Z"
   },
   {
    "duration": 242,
    "start_time": "2024-02-24T14:35:37.127Z"
   },
   {
    "duration": 686,
    "start_time": "2024-02-24T14:35:37.371Z"
   },
   {
    "duration": 398,
    "start_time": "2024-02-24T14:35:38.059Z"
   },
   {
    "duration": 249,
    "start_time": "2024-02-24T14:35:38.459Z"
   },
   {
    "duration": 424,
    "start_time": "2024-02-24T14:35:38.710Z"
   },
   {
    "duration": 286,
    "start_time": "2024-02-24T14:35:39.135Z"
   },
   {
    "duration": 296,
    "start_time": "2024-02-24T14:35:39.423Z"
   },
   {
    "duration": 378,
    "start_time": "2024-02-24T14:35:39.720Z"
   },
   {
    "duration": 419,
    "start_time": "2024-02-24T14:35:40.100Z"
   },
   {
    "duration": 1013,
    "start_time": "2024-02-24T14:35:40.521Z"
   },
   {
    "duration": 3,
    "start_time": "2024-02-24T14:35:41.536Z"
   },
   {
    "duration": 11,
    "start_time": "2024-02-24T14:35:41.540Z"
   },
   {
    "duration": 5,
    "start_time": "2024-02-24T14:35:41.553Z"
   },
   {
    "duration": 22,
    "start_time": "2024-02-24T14:35:41.560Z"
   },
   {
    "duration": 5,
    "start_time": "2024-02-24T14:35:41.586Z"
   },
   {
    "duration": 17,
    "start_time": "2024-02-24T14:35:41.593Z"
   },
   {
    "duration": 4,
    "start_time": "2024-02-24T14:35:41.612Z"
   },
   {
    "duration": 8,
    "start_time": "2024-02-24T14:35:41.618Z"
   },
   {
    "duration": 7,
    "start_time": "2024-02-24T14:35:41.628Z"
   },
   {
    "duration": 12,
    "start_time": "2024-02-24T14:35:41.636Z"
   },
   {
    "duration": 37,
    "start_time": "2024-02-24T14:35:41.650Z"
   },
   {
    "duration": 6,
    "start_time": "2024-02-24T14:35:41.689Z"
   },
   {
    "duration": 11,
    "start_time": "2024-02-24T14:35:41.697Z"
   },
   {
    "duration": 17,
    "start_time": "2024-02-24T14:35:41.710Z"
   },
   {
    "duration": 14,
    "start_time": "2024-02-24T14:35:41.729Z"
   },
   {
    "duration": 46,
    "start_time": "2024-02-24T14:35:41.746Z"
   },
   {
    "duration": 5,
    "start_time": "2024-02-24T14:35:41.794Z"
   },
   {
    "duration": 18,
    "start_time": "2024-02-24T14:35:41.801Z"
   },
   {
    "duration": 26,
    "start_time": "2024-02-24T14:35:41.821Z"
   },
   {
    "duration": 1279,
    "start_time": "2024-02-24T15:04:41.140Z"
   },
   {
    "duration": 8,
    "start_time": "2024-02-24T15:04:50.784Z"
   },
   {
    "duration": 8,
    "start_time": "2024-02-24T15:05:54.993Z"
   },
   {
    "duration": 9,
    "start_time": "2024-02-24T15:06:01.635Z"
   },
   {
    "duration": 9,
    "start_time": "2024-02-24T15:06:31.407Z"
   },
   {
    "duration": 9,
    "start_time": "2024-02-24T15:08:24.377Z"
   },
   {
    "duration": 8,
    "start_time": "2024-02-24T15:09:05.734Z"
   },
   {
    "duration": 10,
    "start_time": "2024-02-24T15:09:51.818Z"
   },
   {
    "duration": 25,
    "start_time": "2024-02-24T15:11:13.469Z"
   },
   {
    "duration": 22,
    "start_time": "2024-02-24T15:11:30.936Z"
   },
   {
    "duration": 635,
    "start_time": "2024-02-24T15:11:41.715Z"
   },
   {
    "duration": 8,
    "start_time": "2024-02-24T15:13:37.217Z"
   },
   {
    "duration": 10,
    "start_time": "2024-02-24T15:13:54.996Z"
   },
   {
    "duration": 9,
    "start_time": "2024-02-24T15:14:25.119Z"
   },
   {
    "duration": 10,
    "start_time": "2024-02-24T15:14:34.451Z"
   },
   {
    "duration": 13,
    "start_time": "2024-02-24T15:15:02.934Z"
   },
   {
    "duration": 15,
    "start_time": "2024-02-24T15:17:47.609Z"
   },
   {
    "duration": 66,
    "start_time": "2024-02-24T15:22:46.202Z"
   },
   {
    "duration": 11,
    "start_time": "2024-02-24T15:28:12.822Z"
   },
   {
    "duration": 12,
    "start_time": "2024-02-24T15:28:15.614Z"
   },
   {
    "duration": 13,
    "start_time": "2024-02-24T15:29:02.976Z"
   },
   {
    "duration": 12,
    "start_time": "2024-02-24T15:29:25.585Z"
   },
   {
    "duration": 8,
    "start_time": "2024-02-24T15:30:26.663Z"
   },
   {
    "duration": 10,
    "start_time": "2024-02-24T15:30:40.668Z"
   },
   {
    "duration": 7,
    "start_time": "2024-02-24T15:30:50.929Z"
   },
   {
    "duration": 184,
    "start_time": "2024-02-24T15:33:19.375Z"
   },
   {
    "duration": 288,
    "start_time": "2024-02-24T15:33:29.698Z"
   },
   {
    "duration": 266,
    "start_time": "2024-02-24T15:34:44.604Z"
   },
   {
    "duration": 11,
    "start_time": "2024-02-24T15:37:23.557Z"
   },
   {
    "duration": 11,
    "start_time": "2024-02-24T15:38:19.823Z"
   },
   {
    "duration": 75,
    "start_time": "2024-02-24T15:41:48.458Z"
   },
   {
    "duration": 19,
    "start_time": "2024-02-24T15:42:11.964Z"
   },
   {
    "duration": 15,
    "start_time": "2024-02-24T15:44:04.059Z"
   },
   {
    "duration": 11,
    "start_time": "2024-02-24T15:44:13.423Z"
   },
   {
    "duration": 10,
    "start_time": "2024-02-24T15:44:22.140Z"
   },
   {
    "duration": 13,
    "start_time": "2024-02-24T15:44:27.289Z"
   },
   {
    "duration": 4,
    "start_time": "2024-02-24T15:45:06.086Z"
   },
   {
    "duration": 10,
    "start_time": "2024-02-24T15:46:18.413Z"
   },
   {
    "duration": 10,
    "start_time": "2024-02-24T15:46:24.974Z"
   },
   {
    "duration": 41,
    "start_time": "2024-02-24T15:49:08.915Z"
   },
   {
    "duration": 9,
    "start_time": "2024-02-24T15:49:19.597Z"
   },
   {
    "duration": 9,
    "start_time": "2024-02-24T15:50:10.133Z"
   },
   {
    "duration": 7,
    "start_time": "2024-02-24T15:50:37.611Z"
   },
   {
    "duration": 9,
    "start_time": "2024-02-24T15:50:57.033Z"
   },
   {
    "duration": 10,
    "start_time": "2024-02-24T15:51:07.284Z"
   },
   {
    "duration": 8,
    "start_time": "2024-02-24T15:51:23.756Z"
   },
   {
    "duration": 6,
    "start_time": "2024-02-24T15:54:18.111Z"
   },
   {
    "duration": 9,
    "start_time": "2024-02-24T15:54:47.686Z"
   },
   {
    "duration": 6,
    "start_time": "2024-02-24T15:55:17.739Z"
   },
   {
    "duration": 7,
    "start_time": "2024-02-24T15:55:22.426Z"
   },
   {
    "duration": 9,
    "start_time": "2024-02-24T15:56:23.194Z"
   },
   {
    "duration": 9,
    "start_time": "2024-02-24T15:57:27.202Z"
   },
   {
    "duration": 21,
    "start_time": "2024-02-24T15:58:04.664Z"
   },
   {
    "duration": 10,
    "start_time": "2024-02-24T15:58:32.070Z"
   },
   {
    "duration": 11,
    "start_time": "2024-02-24T15:58:42.173Z"
   },
   {
    "duration": 9,
    "start_time": "2024-02-24T15:58:51.409Z"
   },
   {
    "duration": 10,
    "start_time": "2024-02-24T16:00:01.703Z"
   },
   {
    "duration": 3,
    "start_time": "2024-02-24T16:01:40.680Z"
   },
   {
    "duration": 12,
    "start_time": "2024-02-24T16:01:40.686Z"
   },
   {
    "duration": 50,
    "start_time": "2024-02-24T16:01:40.700Z"
   },
   {
    "duration": 47,
    "start_time": "2024-02-24T16:01:40.752Z"
   },
   {
    "duration": 4,
    "start_time": "2024-02-24T16:01:40.802Z"
   },
   {
    "duration": 17,
    "start_time": "2024-02-24T16:01:40.808Z"
   },
   {
    "duration": 6,
    "start_time": "2024-02-24T16:01:40.827Z"
   },
   {
    "duration": 5,
    "start_time": "2024-02-24T16:01:40.835Z"
   },
   {
    "duration": 10,
    "start_time": "2024-02-24T16:01:40.841Z"
   },
   {
    "duration": 28,
    "start_time": "2024-02-24T16:01:40.881Z"
   },
   {
    "duration": 1095,
    "start_time": "2024-02-24T16:01:40.912Z"
   },
   {
    "duration": 5,
    "start_time": "2024-02-24T16:01:42.009Z"
   },
   {
    "duration": 23,
    "start_time": "2024-02-24T16:01:42.016Z"
   },
   {
    "duration": 12,
    "start_time": "2024-02-24T16:01:42.041Z"
   },
   {
    "duration": 6,
    "start_time": "2024-02-24T16:01:42.081Z"
   },
   {
    "duration": 8,
    "start_time": "2024-02-24T16:01:42.089Z"
   },
   {
    "duration": 1895,
    "start_time": "2024-02-24T16:01:42.099Z"
   },
   {
    "duration": 181,
    "start_time": "2024-02-24T16:01:43.996Z"
   },
   {
    "duration": 362,
    "start_time": "2024-02-24T16:01:44.182Z"
   },
   {
    "duration": 8,
    "start_time": "2024-02-24T16:01:44.545Z"
   },
   {
    "duration": 8,
    "start_time": "2024-02-24T16:01:44.554Z"
   },
   {
    "duration": 28,
    "start_time": "2024-02-24T16:01:44.564Z"
   },
   {
    "duration": 7,
    "start_time": "2024-02-24T16:01:44.594Z"
   },
   {
    "duration": 330,
    "start_time": "2024-02-24T16:01:44.603Z"
   },
   {
    "duration": 409,
    "start_time": "2024-02-24T16:01:44.934Z"
   },
   {
    "duration": 381,
    "start_time": "2024-02-24T16:01:45.344Z"
   },
   {
    "duration": 258,
    "start_time": "2024-02-24T16:01:45.728Z"
   },
   {
    "duration": 602,
    "start_time": "2024-02-24T16:01:45.988Z"
   },
   {
    "duration": 422,
    "start_time": "2024-02-24T16:01:46.594Z"
   },
   {
    "duration": 263,
    "start_time": "2024-02-24T16:01:47.017Z"
   },
   {
    "duration": 537,
    "start_time": "2024-02-24T16:01:47.282Z"
   },
   {
    "duration": 309,
    "start_time": "2024-02-24T16:01:47.821Z"
   },
   {
    "duration": 370,
    "start_time": "2024-02-24T16:01:48.132Z"
   },
   {
    "duration": 341,
    "start_time": "2024-02-24T16:01:48.503Z"
   },
   {
    "duration": 331,
    "start_time": "2024-02-24T16:01:48.846Z"
   },
   {
    "duration": 1078,
    "start_time": "2024-02-24T16:01:49.179Z"
   },
   {
    "duration": 2,
    "start_time": "2024-02-24T16:01:50.259Z"
   },
   {
    "duration": 24,
    "start_time": "2024-02-24T16:01:50.262Z"
   },
   {
    "duration": 5,
    "start_time": "2024-02-24T16:01:50.287Z"
   },
   {
    "duration": 12,
    "start_time": "2024-02-24T16:01:50.293Z"
   },
   {
    "duration": 5,
    "start_time": "2024-02-24T16:01:50.306Z"
   },
   {
    "duration": 12,
    "start_time": "2024-02-24T16:01:50.312Z"
   },
   {
    "duration": 17,
    "start_time": "2024-02-24T16:01:50.325Z"
   },
   {
    "duration": 22,
    "start_time": "2024-02-24T16:01:50.344Z"
   },
   {
    "duration": 14,
    "start_time": "2024-02-24T16:01:50.368Z"
   },
   {
    "duration": 19,
    "start_time": "2024-02-24T16:01:50.383Z"
   },
   {
    "duration": 8,
    "start_time": "2024-02-24T16:01:50.403Z"
   },
   {
    "duration": 6,
    "start_time": "2024-02-24T16:01:50.412Z"
   },
   {
    "duration": 6,
    "start_time": "2024-02-24T16:01:50.420Z"
   },
   {
    "duration": 15,
    "start_time": "2024-02-24T16:01:50.427Z"
   },
   {
    "duration": 7,
    "start_time": "2024-02-24T16:01:50.444Z"
   },
   {
    "duration": 46,
    "start_time": "2024-02-24T16:01:50.452Z"
   },
   {
    "duration": 5,
    "start_time": "2024-02-24T16:01:50.500Z"
   },
   {
    "duration": 29,
    "start_time": "2024-02-24T16:01:50.507Z"
   },
   {
    "duration": 20,
    "start_time": "2024-02-24T16:01:50.538Z"
   },
   {
    "duration": 11,
    "start_time": "2024-02-24T16:01:50.582Z"
   },
   {
    "duration": 9,
    "start_time": "2024-02-24T16:01:50.595Z"
   },
   {
    "duration": 12,
    "start_time": "2024-02-24T16:01:50.606Z"
   },
   {
    "duration": 9,
    "start_time": "2024-02-24T16:01:50.619Z"
   },
   {
    "duration": 9,
    "start_time": "2024-02-24T16:01:50.629Z"
   },
   {
    "duration": 45,
    "start_time": "2024-02-24T16:01:50.640Z"
   },
   {
    "duration": 6,
    "start_time": "2024-02-24T16:01:50.687Z"
   },
   {
    "duration": 12,
    "start_time": "2024-02-24T16:01:50.695Z"
   },
   {
    "duration": 9,
    "start_time": "2024-02-24T16:01:50.709Z"
   },
   {
    "duration": 9,
    "start_time": "2024-02-24T16:05:31.192Z"
   },
   {
    "duration": 9,
    "start_time": "2024-02-24T16:05:33.163Z"
   },
   {
    "duration": 5,
    "start_time": "2024-02-24T16:05:33.676Z"
   },
   {
    "duration": 6,
    "start_time": "2024-02-24T16:05:45.302Z"
   },
   {
    "duration": 9,
    "start_time": "2024-02-24T16:06:29.131Z"
   },
   {
    "duration": 7,
    "start_time": "2024-02-24T16:06:29.762Z"
   },
   {
    "duration": 5,
    "start_time": "2024-02-24T16:06:34.442Z"
   },
   {
    "duration": 5,
    "start_time": "2024-02-24T16:06:41.317Z"
   },
   {
    "duration": 8,
    "start_time": "2024-02-24T16:08:24.945Z"
   },
   {
    "duration": 5,
    "start_time": "2024-02-24T16:08:39.860Z"
   },
   {
    "duration": 5,
    "start_time": "2024-02-24T16:08:50.483Z"
   },
   {
    "duration": 8,
    "start_time": "2024-02-24T16:09:25.364Z"
   },
   {
    "duration": 11,
    "start_time": "2024-02-24T16:09:31.272Z"
   },
   {
    "duration": 7,
    "start_time": "2024-02-24T16:09:34.889Z"
   },
   {
    "duration": 5,
    "start_time": "2024-02-24T16:09:35.613Z"
   },
   {
    "duration": 5,
    "start_time": "2024-02-24T16:09:52.120Z"
   },
   {
    "duration": 5,
    "start_time": "2024-02-24T16:10:20.029Z"
   },
   {
    "duration": 5,
    "start_time": "2024-02-24T16:10:20.486Z"
   },
   {
    "duration": 4,
    "start_time": "2024-02-24T16:10:20.971Z"
   },
   {
    "duration": 4,
    "start_time": "2024-02-24T16:11:18.711Z"
   },
   {
    "duration": 4,
    "start_time": "2024-02-24T16:11:28.988Z"
   },
   {
    "duration": 3,
    "start_time": "2024-02-24T16:12:15.815Z"
   },
   {
    "duration": 4,
    "start_time": "2024-02-24T16:12:59.918Z"
   },
   {
    "duration": 4,
    "start_time": "2024-02-24T16:13:51.434Z"
   },
   {
    "duration": 4,
    "start_time": "2024-02-24T16:15:44.854Z"
   },
   {
    "duration": 3,
    "start_time": "2024-02-24T16:16:20.598Z"
   },
   {
    "duration": 4,
    "start_time": "2024-02-24T16:16:40.877Z"
   },
   {
    "duration": 4,
    "start_time": "2024-02-24T16:17:03.781Z"
   },
   {
    "duration": 3,
    "start_time": "2024-02-24T16:17:29.703Z"
   },
   {
    "duration": 6,
    "start_time": "2024-02-24T16:17:29.711Z"
   },
   {
    "duration": 48,
    "start_time": "2024-02-24T16:17:29.719Z"
   },
   {
    "duration": 25,
    "start_time": "2024-02-24T16:17:29.771Z"
   },
   {
    "duration": 3,
    "start_time": "2024-02-24T16:17:29.798Z"
   },
   {
    "duration": 7,
    "start_time": "2024-02-24T16:17:29.803Z"
   },
   {
    "duration": 7,
    "start_time": "2024-02-24T16:17:29.811Z"
   },
   {
    "duration": 5,
    "start_time": "2024-02-24T16:17:29.820Z"
   },
   {
    "duration": 7,
    "start_time": "2024-02-24T16:17:29.827Z"
   },
   {
    "duration": 53,
    "start_time": "2024-02-24T16:17:29.836Z"
   },
   {
    "duration": 1012,
    "start_time": "2024-02-24T16:17:29.890Z"
   },
   {
    "duration": 4,
    "start_time": "2024-02-24T16:17:30.904Z"
   },
   {
    "duration": 62,
    "start_time": "2024-02-24T16:17:30.909Z"
   },
   {
    "duration": 75,
    "start_time": "2024-02-24T16:17:30.972Z"
   },
   {
    "duration": 67,
    "start_time": "2024-02-24T16:17:31.050Z"
   },
   {
    "duration": 45,
    "start_time": "2024-02-24T16:17:31.119Z"
   },
   {
    "duration": 1877,
    "start_time": "2024-02-24T16:17:31.167Z"
   },
   {
    "duration": 184,
    "start_time": "2024-02-24T16:17:33.046Z"
   },
   {
    "duration": 333,
    "start_time": "2024-02-24T16:17:33.231Z"
   },
   {
    "duration": 7,
    "start_time": "2024-02-24T16:17:33.565Z"
   },
   {
    "duration": 9,
    "start_time": "2024-02-24T16:17:33.574Z"
   },
   {
    "duration": 18,
    "start_time": "2024-02-24T16:17:33.584Z"
   },
   {
    "duration": 6,
    "start_time": "2024-02-24T16:17:33.604Z"
   },
   {
    "duration": 336,
    "start_time": "2024-02-24T16:17:33.612Z"
   },
   {
    "duration": 377,
    "start_time": "2024-02-24T16:17:33.949Z"
   },
   {
    "duration": 290,
    "start_time": "2024-02-24T16:17:34.328Z"
   },
   {
    "duration": 266,
    "start_time": "2024-02-24T16:17:34.620Z"
   },
   {
    "duration": 578,
    "start_time": "2024-02-24T16:17:34.888Z"
   },
   {
    "duration": 416,
    "start_time": "2024-02-24T16:17:35.467Z"
   },
   {
    "duration": 259,
    "start_time": "2024-02-24T16:17:35.884Z"
   },
   {
    "duration": 512,
    "start_time": "2024-02-24T16:17:36.145Z"
   },
   {
    "duration": 340,
    "start_time": "2024-02-24T16:17:36.658Z"
   },
   {
    "duration": 309,
    "start_time": "2024-02-24T16:17:37.000Z"
   },
   {
    "duration": 354,
    "start_time": "2024-02-24T16:17:37.311Z"
   },
   {
    "duration": 351,
    "start_time": "2024-02-24T16:17:37.666Z"
   },
   {
    "duration": 1028,
    "start_time": "2024-02-24T16:17:38.019Z"
   },
   {
    "duration": 3,
    "start_time": "2024-02-24T16:17:39.049Z"
   },
   {
    "duration": 8,
    "start_time": "2024-02-24T16:17:39.053Z"
   },
   {
    "duration": 20,
    "start_time": "2024-02-24T16:17:39.062Z"
   },
   {
    "duration": 6,
    "start_time": "2024-02-24T16:17:39.083Z"
   },
   {
    "duration": 6,
    "start_time": "2024-02-24T16:17:39.091Z"
   },
   {
    "duration": 12,
    "start_time": "2024-02-24T16:17:39.102Z"
   },
   {
    "duration": 5,
    "start_time": "2024-02-24T16:17:39.115Z"
   },
   {
    "duration": 8,
    "start_time": "2024-02-24T16:17:39.121Z"
   },
   {
    "duration": 6,
    "start_time": "2024-02-24T16:17:39.131Z"
   },
   {
    "duration": 43,
    "start_time": "2024-02-24T16:17:39.139Z"
   },
   {
    "duration": 6,
    "start_time": "2024-02-24T16:17:39.184Z"
   },
   {
    "duration": 9,
    "start_time": "2024-02-24T16:17:39.192Z"
   },
   {
    "duration": 6,
    "start_time": "2024-02-24T16:17:39.202Z"
   },
   {
    "duration": 16,
    "start_time": "2024-02-24T16:17:39.210Z"
   },
   {
    "duration": 6,
    "start_time": "2024-02-24T16:17:39.227Z"
   },
   {
    "duration": 53,
    "start_time": "2024-02-24T16:17:39.235Z"
   },
   {
    "duration": 6,
    "start_time": "2024-02-24T16:17:39.289Z"
   },
   {
    "duration": 18,
    "start_time": "2024-02-24T16:17:39.296Z"
   },
   {
    "duration": 10,
    "start_time": "2024-02-24T16:17:39.316Z"
   },
   {
    "duration": 7,
    "start_time": "2024-02-24T16:17:39.328Z"
   },
   {
    "duration": 4,
    "start_time": "2024-02-24T16:17:39.337Z"
   },
   {
    "duration": 41,
    "start_time": "2024-02-24T16:17:39.343Z"
   },
   {
    "duration": 10,
    "start_time": "2024-02-24T16:17:39.386Z"
   },
   {
    "duration": 34,
    "start_time": "2024-02-24T16:17:39.397Z"
   },
   {
    "duration": 5,
    "start_time": "2024-02-24T16:17:39.433Z"
   },
   {
    "duration": 4,
    "start_time": "2024-02-24T16:17:39.439Z"
   },
   {
    "duration": 3,
    "start_time": "2024-02-24T16:17:39.445Z"
   },
   {
    "duration": 32,
    "start_time": "2024-02-24T16:17:39.450Z"
   },
   {
    "duration": 3,
    "start_time": "2024-02-24T16:17:39.484Z"
   },
   {
    "duration": 8,
    "start_time": "2024-02-24T16:17:39.489Z"
   },
   {
    "duration": 7,
    "start_time": "2024-02-24T16:17:39.498Z"
   },
   {
    "duration": 7,
    "start_time": "2024-02-24T16:17:39.506Z"
   },
   {
    "duration": 6,
    "start_time": "2024-02-24T16:17:39.514Z"
   },
   {
    "duration": 5,
    "start_time": "2024-02-24T16:17:39.521Z"
   },
   {
    "duration": 4,
    "start_time": "2024-02-24T16:18:07.340Z"
   },
   {
    "duration": 4,
    "start_time": "2024-02-24T16:18:18.457Z"
   },
   {
    "duration": 4,
    "start_time": "2024-02-24T16:18:31.309Z"
   },
   {
    "duration": 75,
    "start_time": "2024-02-24T16:20:29.861Z"
   },
   {
    "duration": 65,
    "start_time": "2024-02-24T16:22:57.437Z"
   },
   {
    "duration": 9,
    "start_time": "2024-02-24T16:23:05.439Z"
   },
   {
    "duration": 4,
    "start_time": "2024-02-24T16:23:05.837Z"
   },
   {
    "duration": 4,
    "start_time": "2024-02-24T16:23:06.222Z"
   },
   {
    "duration": 4,
    "start_time": "2024-02-24T16:23:06.671Z"
   },
   {
    "duration": 79,
    "start_time": "2024-02-24T16:25:11.757Z"
   },
   {
    "duration": 74,
    "start_time": "2024-02-24T16:26:50.362Z"
   },
   {
    "duration": 85,
    "start_time": "2024-02-24T16:29:09.425Z"
   },
   {
    "duration": 3,
    "start_time": "2024-02-24T16:37:12.233Z"
   },
   {
    "duration": 9,
    "start_time": "2024-02-24T16:37:12.237Z"
   },
   {
    "duration": 43,
    "start_time": "2024-02-24T16:37:12.247Z"
   },
   {
    "duration": 21,
    "start_time": "2024-02-24T16:37:12.291Z"
   },
   {
    "duration": 3,
    "start_time": "2024-02-24T16:37:12.315Z"
   },
   {
    "duration": 6,
    "start_time": "2024-02-24T16:37:12.319Z"
   },
   {
    "duration": 11,
    "start_time": "2024-02-24T16:37:12.326Z"
   },
   {
    "duration": 4,
    "start_time": "2024-02-24T16:37:12.339Z"
   },
   {
    "duration": 39,
    "start_time": "2024-02-24T16:37:12.345Z"
   },
   {
    "duration": 22,
    "start_time": "2024-02-24T16:37:12.385Z"
   },
   {
    "duration": 1057,
    "start_time": "2024-02-24T16:37:12.408Z"
   },
   {
    "duration": 4,
    "start_time": "2024-02-24T16:37:13.467Z"
   },
   {
    "duration": 29,
    "start_time": "2024-02-24T16:37:13.482Z"
   },
   {
    "duration": 12,
    "start_time": "2024-02-24T16:37:13.515Z"
   },
   {
    "duration": 8,
    "start_time": "2024-02-24T16:37:13.529Z"
   },
   {
    "duration": 26,
    "start_time": "2024-02-24T16:37:13.538Z"
   },
   {
    "duration": 1810,
    "start_time": "2024-02-24T16:37:13.566Z"
   },
   {
    "duration": 182,
    "start_time": "2024-02-24T16:37:15.377Z"
   },
   {
    "duration": 349,
    "start_time": "2024-02-24T16:37:15.561Z"
   },
   {
    "duration": 7,
    "start_time": "2024-02-24T16:37:15.912Z"
   },
   {
    "duration": 21,
    "start_time": "2024-02-24T16:37:15.920Z"
   },
   {
    "duration": 20,
    "start_time": "2024-02-24T16:37:15.942Z"
   },
   {
    "duration": 5,
    "start_time": "2024-02-24T16:37:15.964Z"
   },
   {
    "duration": 297,
    "start_time": "2024-02-24T16:37:15.970Z"
   },
   {
    "duration": 362,
    "start_time": "2024-02-24T16:37:16.268Z"
   },
   {
    "duration": 293,
    "start_time": "2024-02-24T16:37:16.632Z"
   },
   {
    "duration": 285,
    "start_time": "2024-02-24T16:37:16.927Z"
   },
   {
    "duration": 542,
    "start_time": "2024-02-24T16:37:17.213Z"
   },
   {
    "duration": 446,
    "start_time": "2024-02-24T16:37:17.757Z"
   },
   {
    "duration": 259,
    "start_time": "2024-02-24T16:37:18.205Z"
   },
   {
    "duration": 479,
    "start_time": "2024-02-24T16:37:18.465Z"
   },
   {
    "duration": 378,
    "start_time": "2024-02-24T16:37:18.946Z"
   },
   {
    "duration": 301,
    "start_time": "2024-02-24T16:37:19.326Z"
   },
   {
    "duration": 378,
    "start_time": "2024-02-24T16:37:19.628Z"
   },
   {
    "duration": 316,
    "start_time": "2024-02-24T16:37:20.007Z"
   },
   {
    "duration": 1063,
    "start_time": "2024-02-24T16:37:20.324Z"
   },
   {
    "duration": 3,
    "start_time": "2024-02-24T16:37:21.389Z"
   },
   {
    "duration": 8,
    "start_time": "2024-02-24T16:37:21.393Z"
   },
   {
    "duration": 19,
    "start_time": "2024-02-24T16:37:21.402Z"
   },
   {
    "duration": 5,
    "start_time": "2024-02-24T16:37:21.422Z"
   },
   {
    "duration": 4,
    "start_time": "2024-02-24T16:37:21.432Z"
   },
   {
    "duration": 12,
    "start_time": "2024-02-24T16:37:21.438Z"
   },
   {
    "duration": 14,
    "start_time": "2024-02-24T16:37:21.451Z"
   },
   {
    "duration": 25,
    "start_time": "2024-02-24T16:37:21.466Z"
   },
   {
    "duration": 25,
    "start_time": "2024-02-24T16:37:21.493Z"
   },
   {
    "duration": 6,
    "start_time": "2024-02-24T16:37:21.519Z"
   },
   {
    "duration": 8,
    "start_time": "2024-02-24T16:37:21.527Z"
   },
   {
    "duration": 7,
    "start_time": "2024-02-24T16:37:21.537Z"
   },
   {
    "duration": 6,
    "start_time": "2024-02-24T16:37:21.546Z"
   },
   {
    "duration": 17,
    "start_time": "2024-02-24T16:37:21.553Z"
   },
   {
    "duration": 14,
    "start_time": "2024-02-24T16:37:21.571Z"
   },
   {
    "duration": 19,
    "start_time": "2024-02-24T16:37:21.586Z"
   },
   {
    "duration": 4,
    "start_time": "2024-02-24T16:37:21.607Z"
   },
   {
    "duration": 30,
    "start_time": "2024-02-24T16:37:21.613Z"
   },
   {
    "duration": 7,
    "start_time": "2024-02-24T16:37:21.644Z"
   },
   {
    "duration": 5,
    "start_time": "2024-02-24T16:37:21.652Z"
   },
   {
    "duration": 25,
    "start_time": "2024-02-24T16:37:21.658Z"
   },
   {
    "duration": 5,
    "start_time": "2024-02-24T16:37:21.684Z"
   },
   {
    "duration": 10,
    "start_time": "2024-02-24T16:37:21.691Z"
   },
   {
    "duration": 17,
    "start_time": "2024-02-24T16:37:21.702Z"
   },
   {
    "duration": 7,
    "start_time": "2024-02-24T16:37:21.721Z"
   },
   {
    "duration": 6,
    "start_time": "2024-02-24T16:37:21.729Z"
   },
   {
    "duration": 7,
    "start_time": "2024-02-24T16:37:21.736Z"
   },
   {
    "duration": 13,
    "start_time": "2024-02-24T16:37:21.745Z"
   },
   {
    "duration": 4,
    "start_time": "2024-02-24T16:37:21.759Z"
   },
   {
    "duration": 18,
    "start_time": "2024-02-24T16:37:21.764Z"
   },
   {
    "duration": 12,
    "start_time": "2024-02-24T16:37:21.784Z"
   },
   {
    "duration": 19,
    "start_time": "2024-02-24T16:37:21.798Z"
   },
   {
    "duration": 17,
    "start_time": "2024-02-24T16:37:21.819Z"
   },
   {
    "duration": 10,
    "start_time": "2024-02-24T16:37:21.838Z"
   },
   {
    "duration": 4,
    "start_time": "2024-02-24T17:02:47.191Z"
   },
   {
    "duration": 3788,
    "start_time": "2024-02-24T17:02:47.197Z"
   },
   {
    "duration": 46,
    "start_time": "2024-02-24T17:02:50.987Z"
   },
   {
    "duration": 25,
    "start_time": "2024-02-24T17:02:51.035Z"
   },
   {
    "duration": 4,
    "start_time": "2024-02-24T17:02:51.064Z"
   },
   {
    "duration": 15,
    "start_time": "2024-02-24T17:02:51.070Z"
   },
   {
    "duration": 9,
    "start_time": "2024-02-24T17:02:51.087Z"
   },
   {
    "duration": 12,
    "start_time": "2024-02-24T17:02:51.097Z"
   },
   {
    "duration": 13,
    "start_time": "2024-02-24T17:02:51.111Z"
   },
   {
    "duration": 28,
    "start_time": "2024-02-24T17:02:51.126Z"
   },
   {
    "duration": 1243,
    "start_time": "2024-02-24T17:02:51.155Z"
   },
   {
    "duration": 5,
    "start_time": "2024-02-24T17:02:52.400Z"
   },
   {
    "duration": 24,
    "start_time": "2024-02-24T17:02:52.407Z"
   },
   {
    "duration": 12,
    "start_time": "2024-02-24T17:02:52.434Z"
   },
   {
    "duration": 6,
    "start_time": "2024-02-24T17:02:52.447Z"
   },
   {
    "duration": 36,
    "start_time": "2024-02-24T17:02:52.455Z"
   },
   {
    "duration": 1775,
    "start_time": "2024-02-24T17:02:52.493Z"
   },
   {
    "duration": 179,
    "start_time": "2024-02-24T17:02:54.270Z"
   },
   {
    "duration": 349,
    "start_time": "2024-02-24T17:02:54.451Z"
   },
   {
    "duration": 9,
    "start_time": "2024-02-24T17:02:54.801Z"
   },
   {
    "duration": 10,
    "start_time": "2024-02-24T17:02:54.812Z"
   },
   {
    "duration": 47,
    "start_time": "2024-02-24T17:02:54.825Z"
   },
   {
    "duration": 25,
    "start_time": "2024-02-24T17:02:54.875Z"
   },
   {
    "duration": 311,
    "start_time": "2024-02-24T17:02:54.902Z"
   },
   {
    "duration": 391,
    "start_time": "2024-02-24T17:02:55.215Z"
   },
   {
    "duration": 312,
    "start_time": "2024-02-24T17:02:55.608Z"
   },
   {
    "duration": 255,
    "start_time": "2024-02-24T17:02:55.921Z"
   },
   {
    "duration": 618,
    "start_time": "2024-02-24T17:02:56.177Z"
   },
   {
    "duration": 413,
    "start_time": "2024-02-24T17:02:56.796Z"
   },
   {
    "duration": 358,
    "start_time": "2024-02-24T17:02:57.210Z"
   },
   {
    "duration": 380,
    "start_time": "2024-02-24T17:02:57.569Z"
   },
   {
    "duration": 377,
    "start_time": "2024-02-24T17:02:57.951Z"
   },
   {
    "duration": 299,
    "start_time": "2024-02-24T17:02:58.330Z"
   },
   {
    "duration": 376,
    "start_time": "2024-02-24T17:02:58.631Z"
   },
   {
    "duration": 342,
    "start_time": "2024-02-24T17:02:59.008Z"
   },
   {
    "duration": 1062,
    "start_time": "2024-02-24T17:02:59.351Z"
   },
   {
    "duration": 11699,
    "start_time": "2024-02-24T17:03:00.415Z"
   },
   {
    "duration": 4,
    "start_time": "2024-02-24T17:03:12.116Z"
   },
   {
    "duration": 8,
    "start_time": "2024-02-24T17:03:12.122Z"
   },
   {
    "duration": 6,
    "start_time": "2024-02-24T17:03:12.131Z"
   },
   {
    "duration": 4,
    "start_time": "2024-02-24T17:03:12.141Z"
   },
   {
    "duration": 11,
    "start_time": "2024-02-24T17:03:12.147Z"
   },
   {
    "duration": 24,
    "start_time": "2024-02-24T17:03:12.159Z"
   },
   {
    "duration": 8,
    "start_time": "2024-02-24T17:03:12.184Z"
   },
   {
    "duration": 6,
    "start_time": "2024-02-24T17:03:12.194Z"
   },
   {
    "duration": 6,
    "start_time": "2024-02-24T17:03:12.201Z"
   },
   {
    "duration": 7,
    "start_time": "2024-02-24T17:03:12.209Z"
   },
   {
    "duration": 7,
    "start_time": "2024-02-24T17:03:12.217Z"
   },
   {
    "duration": 7,
    "start_time": "2024-02-24T17:03:12.225Z"
   },
   {
    "duration": 56,
    "start_time": "2024-02-24T17:03:12.233Z"
   },
   {
    "duration": 6,
    "start_time": "2024-02-24T17:03:12.291Z"
   },
   {
    "duration": 27,
    "start_time": "2024-02-24T17:03:12.299Z"
   },
   {
    "duration": 6,
    "start_time": "2024-02-24T17:03:12.328Z"
   },
   {
    "duration": 49,
    "start_time": "2024-02-24T17:03:12.335Z"
   },
   {
    "duration": 8,
    "start_time": "2024-02-24T17:03:12.386Z"
   },
   {
    "duration": 16,
    "start_time": "2024-02-24T17:03:12.396Z"
   },
   {
    "duration": 4,
    "start_time": "2024-02-24T17:03:12.413Z"
   },
   {
    "duration": 7,
    "start_time": "2024-02-24T17:03:12.419Z"
   },
   {
    "duration": 11,
    "start_time": "2024-02-24T17:03:12.427Z"
   },
   {
    "duration": 5,
    "start_time": "2024-02-24T17:03:12.440Z"
   },
   {
    "duration": 12,
    "start_time": "2024-02-24T17:03:12.446Z"
   },
   {
    "duration": 22,
    "start_time": "2024-02-24T17:03:12.460Z"
   },
   {
    "duration": 25,
    "start_time": "2024-02-24T17:03:12.484Z"
   },
   {
    "duration": 5,
    "start_time": "2024-02-24T17:03:12.510Z"
   },
   {
    "duration": 4,
    "start_time": "2024-02-24T17:03:12.516Z"
   },
   {
    "duration": 8,
    "start_time": "2024-02-24T17:03:12.522Z"
   },
   {
    "duration": 5,
    "start_time": "2024-02-24T17:03:12.532Z"
   },
   {
    "duration": 5,
    "start_time": "2024-02-24T17:03:12.539Z"
   },
   {
    "duration": 6,
    "start_time": "2024-02-24T17:03:12.545Z"
   },
   {
    "duration": 31,
    "start_time": "2024-02-24T17:03:12.553Z"
   },
   {
    "duration": 73,
    "start_time": "2024-02-24T17:05:32.142Z"
   },
   {
    "duration": 75,
    "start_time": "2024-02-24T17:09:37.103Z"
   },
   {
    "duration": 2,
    "start_time": "2024-02-24T17:10:51.216Z"
   },
   {
    "duration": 75,
    "start_time": "2024-02-24T17:26:18.226Z"
   },
   {
    "duration": 8,
    "start_time": "2024-02-24T17:36:31.961Z"
   },
   {
    "duration": 3875,
    "start_time": "2024-02-24T17:36:31.971Z"
   },
   {
    "duration": 42,
    "start_time": "2024-02-24T17:36:35.848Z"
   },
   {
    "duration": 29,
    "start_time": "2024-02-24T17:36:35.892Z"
   },
   {
    "duration": 3,
    "start_time": "2024-02-24T17:36:35.922Z"
   },
   {
    "duration": 17,
    "start_time": "2024-02-24T17:36:35.927Z"
   },
   {
    "duration": 7,
    "start_time": "2024-02-24T17:36:35.946Z"
   },
   {
    "duration": 4,
    "start_time": "2024-02-24T17:36:35.955Z"
   },
   {
    "duration": 28,
    "start_time": "2024-02-24T17:36:35.960Z"
   },
   {
    "duration": 22,
    "start_time": "2024-02-24T17:36:35.991Z"
   },
   {
    "duration": 1138,
    "start_time": "2024-02-24T17:36:36.014Z"
   },
   {
    "duration": 4,
    "start_time": "2024-02-24T17:36:37.154Z"
   },
   {
    "duration": 22,
    "start_time": "2024-02-24T17:36:37.160Z"
   },
   {
    "duration": 11,
    "start_time": "2024-02-24T17:36:37.184Z"
   },
   {
    "duration": 5,
    "start_time": "2024-02-24T17:36:37.196Z"
   },
   {
    "duration": 6,
    "start_time": "2024-02-24T17:36:37.202Z"
   },
   {
    "duration": 1794,
    "start_time": "2024-02-24T17:36:37.210Z"
   },
   {
    "duration": 177,
    "start_time": "2024-02-24T17:36:39.006Z"
   },
   {
    "duration": 256,
    "start_time": "2024-02-24T17:36:39.184Z"
   },
   {
    "duration": 8,
    "start_time": "2024-02-24T17:36:39.442Z"
   },
   {
    "duration": 8,
    "start_time": "2024-02-24T17:36:39.451Z"
   },
   {
    "duration": 36,
    "start_time": "2024-02-24T17:36:39.460Z"
   },
   {
    "duration": 7,
    "start_time": "2024-02-24T17:36:39.498Z"
   },
   {
    "duration": 308,
    "start_time": "2024-02-24T17:36:39.507Z"
   },
   {
    "duration": 368,
    "start_time": "2024-02-24T17:36:39.816Z"
   },
   {
    "duration": 320,
    "start_time": "2024-02-24T17:36:40.186Z"
   },
   {
    "duration": 364,
    "start_time": "2024-02-24T17:36:40.508Z"
   },
   {
    "duration": 545,
    "start_time": "2024-02-24T17:36:40.883Z"
   },
   {
    "duration": 398,
    "start_time": "2024-02-24T17:36:41.430Z"
   },
   {
    "duration": 280,
    "start_time": "2024-02-24T17:36:41.830Z"
   },
   {
    "duration": 422,
    "start_time": "2024-02-24T17:36:42.111Z"
   },
   {
    "duration": 292,
    "start_time": "2024-02-24T17:36:42.535Z"
   },
   {
    "duration": 392,
    "start_time": "2024-02-24T17:36:42.829Z"
   },
   {
    "duration": 421,
    "start_time": "2024-02-24T17:36:43.223Z"
   },
   {
    "duration": 317,
    "start_time": "2024-02-24T17:36:43.646Z"
   },
   {
    "duration": 1064,
    "start_time": "2024-02-24T17:36:43.965Z"
   },
   {
    "duration": 11056,
    "start_time": "2024-02-24T17:36:45.031Z"
   },
   {
    "duration": 5,
    "start_time": "2024-02-24T17:36:56.089Z"
   },
   {
    "duration": 11,
    "start_time": "2024-02-24T17:36:56.096Z"
   },
   {
    "duration": 8,
    "start_time": "2024-02-24T17:36:56.109Z"
   },
   {
    "duration": 6,
    "start_time": "2024-02-24T17:36:56.118Z"
   },
   {
    "duration": 13,
    "start_time": "2024-02-24T17:36:56.125Z"
   },
   {
    "duration": 5,
    "start_time": "2024-02-24T17:36:56.140Z"
   },
   {
    "duration": 39,
    "start_time": "2024-02-24T17:36:56.147Z"
   },
   {
    "duration": 9,
    "start_time": "2024-02-24T17:36:56.187Z"
   },
   {
    "duration": 19,
    "start_time": "2024-02-24T17:36:56.198Z"
   },
   {
    "duration": 8,
    "start_time": "2024-02-24T17:36:56.218Z"
   },
   {
    "duration": 9,
    "start_time": "2024-02-24T17:36:56.227Z"
   },
   {
    "duration": 17,
    "start_time": "2024-02-24T17:36:56.237Z"
   },
   {
    "duration": 27,
    "start_time": "2024-02-24T17:36:56.256Z"
   },
   {
    "duration": 7,
    "start_time": "2024-02-24T17:36:56.285Z"
   },
   {
    "duration": 20,
    "start_time": "2024-02-24T17:36:56.294Z"
   },
   {
    "duration": 6,
    "start_time": "2024-02-24T17:36:56.316Z"
   },
   {
    "duration": 23,
    "start_time": "2024-02-24T17:36:56.324Z"
   },
   {
    "duration": 8,
    "start_time": "2024-02-24T17:36:56.383Z"
   },
   {
    "duration": 5,
    "start_time": "2024-02-24T17:36:56.392Z"
   },
   {
    "duration": 5,
    "start_time": "2024-02-24T17:36:56.398Z"
   },
   {
    "duration": 4,
    "start_time": "2024-02-24T17:36:56.405Z"
   },
   {
    "duration": 10,
    "start_time": "2024-02-24T17:36:56.410Z"
   },
   {
    "duration": 4,
    "start_time": "2024-02-24T17:36:56.421Z"
   },
   {
    "duration": 6,
    "start_time": "2024-02-24T17:36:56.426Z"
   },
   {
    "duration": 6,
    "start_time": "2024-02-24T17:36:56.433Z"
   },
   {
    "duration": 41,
    "start_time": "2024-02-24T17:36:56.441Z"
   },
   {
    "duration": 4,
    "start_time": "2024-02-24T17:36:56.484Z"
   },
   {
    "duration": 13,
    "start_time": "2024-02-24T17:36:56.489Z"
   },
   {
    "duration": 5,
    "start_time": "2024-02-24T17:36:56.504Z"
   },
   {
    "duration": 7,
    "start_time": "2024-02-24T17:36:56.511Z"
   },
   {
    "duration": 4,
    "start_time": "2024-02-24T17:36:56.520Z"
   },
   {
    "duration": 5,
    "start_time": "2024-02-24T17:36:56.525Z"
   },
   {
    "duration": 9,
    "start_time": "2024-02-24T17:36:56.532Z"
   },
   {
    "duration": 60,
    "start_time": "2024-02-26T09:36:19.930Z"
   },
   {
    "duration": 2,
    "start_time": "2024-02-26T09:36:24.394Z"
   },
   {
    "duration": 4637,
    "start_time": "2024-02-26T09:36:24.397Z"
   },
   {
    "duration": 151,
    "start_time": "2024-02-26T09:36:29.036Z"
   },
   {
    "duration": 38,
    "start_time": "2024-02-26T09:36:29.189Z"
   },
   {
    "duration": 9,
    "start_time": "2024-02-26T09:36:29.229Z"
   },
   {
    "duration": 15,
    "start_time": "2024-02-26T09:36:29.240Z"
   },
   {
    "duration": 13,
    "start_time": "2024-02-26T09:36:29.257Z"
   },
   {
    "duration": 18,
    "start_time": "2024-02-26T09:36:29.271Z"
   },
   {
    "duration": 20,
    "start_time": "2024-02-26T09:36:29.291Z"
   },
   {
    "duration": 29,
    "start_time": "2024-02-26T09:36:29.313Z"
   },
   {
    "duration": 207,
    "start_time": "2024-02-26T09:36:33.673Z"
   },
   {
    "duration": 25,
    "start_time": "2024-02-26T09:36:36.089Z"
   },
   {
    "duration": 140,
    "start_time": "2024-02-26T09:36:36.585Z"
   },
   {
    "duration": 875,
    "start_time": "2024-02-26T09:39:37.425Z"
   },
   {
    "duration": 892,
    "start_time": "2024-02-26T09:40:58.731Z"
   },
   {
    "duration": 903,
    "start_time": "2024-02-26T09:41:33.235Z"
   },
   {
    "duration": 860,
    "start_time": "2024-02-26T09:41:55.980Z"
   },
   {
    "duration": 833,
    "start_time": "2024-02-26T09:42:05.312Z"
   },
   {
    "duration": 10,
    "start_time": "2024-02-26T09:45:16.000Z"
   },
   {
    "duration": 20,
    "start_time": "2024-02-26T09:45:21.160Z"
   },
   {
    "duration": 16,
    "start_time": "2024-02-26T09:45:48.855Z"
   },
   {
    "duration": 751,
    "start_time": "2024-02-26T09:46:05.737Z"
   },
   {
    "duration": 82,
    "start_time": "2024-02-26T09:47:15.745Z"
   },
   {
    "duration": 3,
    "start_time": "2024-02-26T09:47:32.162Z"
   },
   {
    "duration": 2490,
    "start_time": "2024-02-26T09:47:32.166Z"
   },
   {
    "duration": 48,
    "start_time": "2024-02-26T09:47:34.658Z"
   },
   {
    "duration": 23,
    "start_time": "2024-02-26T09:47:34.708Z"
   },
   {
    "duration": 14,
    "start_time": "2024-02-26T09:47:34.733Z"
   },
   {
    "duration": 5,
    "start_time": "2024-02-26T09:47:34.748Z"
   },
   {
    "duration": 7,
    "start_time": "2024-02-26T09:47:34.754Z"
   },
   {
    "duration": 5,
    "start_time": "2024-02-26T09:47:34.762Z"
   },
   {
    "duration": 13,
    "start_time": "2024-02-26T09:47:34.768Z"
   },
   {
    "duration": 17,
    "start_time": "2024-02-26T09:47:34.782Z"
   },
   {
    "duration": 789,
    "start_time": "2024-02-26T09:47:34.801Z"
   },
   {
    "duration": 73,
    "start_time": "2024-02-26T09:48:08.354Z"
   },
   {
    "duration": 80,
    "start_time": "2024-02-26T09:48:10.354Z"
   },
   {
    "duration": 112,
    "start_time": "2024-02-26T10:00:10.525Z"
   },
   {
    "duration": 333,
    "start_time": "2024-02-26T10:23:32.019Z"
   },
   {
    "duration": 233,
    "start_time": "2024-02-26T10:24:05.319Z"
   },
   {
    "duration": 237,
    "start_time": "2024-02-26T10:24:18.227Z"
   },
   {
    "duration": 252,
    "start_time": "2024-02-26T10:24:37.448Z"
   },
   {
    "duration": 233,
    "start_time": "2024-02-26T10:24:53.719Z"
   },
   {
    "duration": 282,
    "start_time": "2024-02-26T10:25:36.249Z"
   },
   {
    "duration": 309,
    "start_time": "2024-02-26T10:25:43.200Z"
   },
   {
    "duration": 280,
    "start_time": "2024-02-26T10:25:49.647Z"
   },
   {
    "duration": 479,
    "start_time": "2024-02-26T10:25:56.048Z"
   },
   {
    "duration": 348,
    "start_time": "2024-02-26T10:26:00.784Z"
   },
   {
    "duration": 206,
    "start_time": "2024-02-26T10:26:17.168Z"
   },
   {
    "duration": 2,
    "start_time": "2024-02-26T10:26:48.344Z"
   },
   {
    "duration": 2593,
    "start_time": "2024-02-26T10:26:48.347Z"
   },
   {
    "duration": 40,
    "start_time": "2024-02-26T10:26:50.942Z"
   },
   {
    "duration": 28,
    "start_time": "2024-02-26T10:26:50.983Z"
   },
   {
    "duration": 5,
    "start_time": "2024-02-26T10:26:51.024Z"
   },
   {
    "duration": 17,
    "start_time": "2024-02-26T10:26:51.030Z"
   },
   {
    "duration": 32,
    "start_time": "2024-02-26T10:26:51.048Z"
   },
   {
    "duration": 47,
    "start_time": "2024-02-26T10:26:51.081Z"
   },
   {
    "duration": 21,
    "start_time": "2024-02-26T10:26:51.129Z"
   },
   {
    "duration": 82,
    "start_time": "2024-02-26T10:26:51.152Z"
   },
   {
    "duration": 793,
    "start_time": "2024-02-26T10:26:51.237Z"
   },
   {
    "duration": 4,
    "start_time": "2024-02-26T10:26:52.032Z"
   },
   {
    "duration": 59,
    "start_time": "2024-02-26T10:26:52.037Z"
   },
   {
    "duration": 38,
    "start_time": "2024-02-26T10:26:52.098Z"
   },
   {
    "duration": 34,
    "start_time": "2024-02-26T10:26:52.138Z"
   },
   {
    "duration": 46,
    "start_time": "2024-02-26T10:26:52.174Z"
   },
   {
    "duration": 1443,
    "start_time": "2024-02-26T10:26:52.228Z"
   },
   {
    "duration": 155,
    "start_time": "2024-02-26T10:26:53.672Z"
   },
   {
    "duration": 195,
    "start_time": "2024-02-26T10:26:53.829Z"
   },
   {
    "duration": 7,
    "start_time": "2024-02-26T10:26:54.025Z"
   },
   {
    "duration": 9,
    "start_time": "2024-02-26T10:26:54.034Z"
   },
   {
    "duration": 22,
    "start_time": "2024-02-26T10:26:54.044Z"
   },
   {
    "duration": 5,
    "start_time": "2024-02-26T10:26:54.067Z"
   },
   {
    "duration": 319,
    "start_time": "2024-02-26T10:26:54.073Z"
   },
   {
    "duration": 339,
    "start_time": "2024-02-26T10:26:54.393Z"
   },
   {
    "duration": 288,
    "start_time": "2024-02-26T10:26:54.733Z"
   },
   {
    "duration": 223,
    "start_time": "2024-02-26T10:26:55.028Z"
   },
   {
    "duration": 411,
    "start_time": "2024-02-26T10:26:55.252Z"
   },
   {
    "duration": 359,
    "start_time": "2024-02-26T10:26:55.666Z"
   },
   {
    "duration": 219,
    "start_time": "2024-02-26T10:26:56.027Z"
   },
   {
    "duration": 368,
    "start_time": "2024-02-26T10:26:56.247Z"
   },
   {
    "duration": 310,
    "start_time": "2024-02-26T10:26:56.617Z"
   },
   {
    "duration": 306,
    "start_time": "2024-02-26T10:26:56.928Z"
   },
   {
    "duration": 292,
    "start_time": "2024-02-26T10:26:57.236Z"
   },
   {
    "duration": 252,
    "start_time": "2024-02-26T10:26:57.529Z"
   },
   {
    "duration": 3,
    "start_time": "2024-02-26T10:31:37.073Z"
   },
   {
    "duration": 2617,
    "start_time": "2024-02-26T10:31:37.077Z"
   },
   {
    "duration": 43,
    "start_time": "2024-02-26T10:31:39.696Z"
   },
   {
    "duration": 19,
    "start_time": "2024-02-26T10:31:39.740Z"
   },
   {
    "duration": 3,
    "start_time": "2024-02-26T10:31:39.761Z"
   },
   {
    "duration": 8,
    "start_time": "2024-02-26T10:31:39.765Z"
   },
   {
    "duration": 6,
    "start_time": "2024-02-26T10:31:39.774Z"
   },
   {
    "duration": 6,
    "start_time": "2024-02-26T10:31:39.781Z"
   },
   {
    "duration": 9,
    "start_time": "2024-02-26T10:31:39.788Z"
   },
   {
    "duration": 29,
    "start_time": "2024-02-26T10:31:39.798Z"
   },
   {
    "duration": 863,
    "start_time": "2024-02-26T10:31:39.830Z"
   },
   {
    "duration": 19,
    "start_time": "2024-02-26T10:31:40.695Z"
   },
   {
    "duration": 35,
    "start_time": "2024-02-26T10:31:40.715Z"
   },
   {
    "duration": 9,
    "start_time": "2024-02-26T10:31:40.751Z"
   },
   {
    "duration": 8,
    "start_time": "2024-02-26T10:31:40.762Z"
   },
   {
    "duration": 19,
    "start_time": "2024-02-26T10:31:40.771Z"
   },
   {
    "duration": 1444,
    "start_time": "2024-02-26T10:31:40.791Z"
   },
   {
    "duration": 141,
    "start_time": "2024-02-26T10:31:42.236Z"
   },
   {
    "duration": 188,
    "start_time": "2024-02-26T10:31:42.379Z"
   },
   {
    "duration": 6,
    "start_time": "2024-02-26T10:31:42.568Z"
   },
   {
    "duration": 48,
    "start_time": "2024-02-26T10:31:42.576Z"
   },
   {
    "duration": 18,
    "start_time": "2024-02-26T10:31:42.626Z"
   },
   {
    "duration": 27,
    "start_time": "2024-02-26T10:31:42.646Z"
   },
   {
    "duration": 248,
    "start_time": "2024-02-26T10:31:42.675Z"
   },
   {
    "duration": 413,
    "start_time": "2024-02-26T10:31:42.924Z"
   },
   {
    "duration": 268,
    "start_time": "2024-02-26T10:31:43.339Z"
   },
   {
    "duration": 209,
    "start_time": "2024-02-26T10:31:43.614Z"
   },
   {
    "duration": 435,
    "start_time": "2024-02-26T10:31:43.828Z"
   },
   {
    "duration": 360,
    "start_time": "2024-02-26T10:31:44.266Z"
   },
   {
    "duration": 207,
    "start_time": "2024-02-26T10:31:44.628Z"
   },
   {
    "duration": 304,
    "start_time": "2024-02-26T10:31:44.836Z"
   },
   {
    "duration": 278,
    "start_time": "2024-02-26T10:31:45.141Z"
   },
   {
    "duration": 314,
    "start_time": "2024-02-26T10:31:45.421Z"
   },
   {
    "duration": 300,
    "start_time": "2024-02-26T10:31:45.736Z"
   },
   {
    "duration": 254,
    "start_time": "2024-02-26T10:31:46.037Z"
   },
   {
    "duration": 3,
    "start_time": "2024-02-26T10:32:34.033Z"
   },
   {
    "duration": 2743,
    "start_time": "2024-02-26T10:32:34.037Z"
   },
   {
    "duration": 50,
    "start_time": "2024-02-26T10:32:36.782Z"
   },
   {
    "duration": 19,
    "start_time": "2024-02-26T10:32:36.833Z"
   },
   {
    "duration": 12,
    "start_time": "2024-02-26T10:32:36.853Z"
   },
   {
    "duration": 3,
    "start_time": "2024-02-26T10:32:36.866Z"
   },
   {
    "duration": 13,
    "start_time": "2024-02-26T10:32:36.870Z"
   },
   {
    "duration": 10,
    "start_time": "2024-02-26T10:32:36.885Z"
   },
   {
    "duration": 31,
    "start_time": "2024-02-26T10:32:36.896Z"
   },
   {
    "duration": 17,
    "start_time": "2024-02-26T10:32:36.929Z"
   },
   {
    "duration": 826,
    "start_time": "2024-02-26T10:32:36.948Z"
   },
   {
    "duration": 4,
    "start_time": "2024-02-26T10:32:37.775Z"
   },
   {
    "duration": 43,
    "start_time": "2024-02-26T10:32:37.780Z"
   },
   {
    "duration": 10,
    "start_time": "2024-02-26T10:32:37.824Z"
   },
   {
    "duration": 4,
    "start_time": "2024-02-26T10:32:37.835Z"
   },
   {
    "duration": 6,
    "start_time": "2024-02-26T10:32:37.840Z"
   },
   {
    "duration": 1413,
    "start_time": "2024-02-26T10:32:37.847Z"
   },
   {
    "duration": 138,
    "start_time": "2024-02-26T10:32:39.261Z"
   },
   {
    "duration": 182,
    "start_time": "2024-02-26T10:32:39.401Z"
   },
   {
    "duration": 5,
    "start_time": "2024-02-26T10:32:39.585Z"
   },
   {
    "duration": 39,
    "start_time": "2024-02-26T10:32:39.591Z"
   },
   {
    "duration": 16,
    "start_time": "2024-02-26T10:32:39.631Z"
   },
   {
    "duration": 4,
    "start_time": "2024-02-26T10:32:39.648Z"
   },
   {
    "duration": 244,
    "start_time": "2024-02-26T10:32:39.654Z"
   },
   {
    "duration": 315,
    "start_time": "2024-02-26T10:32:39.911Z"
   },
   {
    "duration": 380,
    "start_time": "2024-02-26T10:32:40.228Z"
   },
   {
    "duration": 206,
    "start_time": "2024-02-26T10:32:40.609Z"
   },
   {
    "duration": 445,
    "start_time": "2024-02-26T10:32:40.816Z"
   },
   {
    "duration": 317,
    "start_time": "2024-02-26T10:32:41.265Z"
   },
   {
    "duration": 198,
    "start_time": "2024-02-26T10:32:41.583Z"
   },
   {
    "duration": 355,
    "start_time": "2024-02-26T10:32:41.782Z"
   },
   {
    "duration": 288,
    "start_time": "2024-02-26T10:32:42.139Z"
   },
   {
    "duration": 295,
    "start_time": "2024-02-26T10:32:42.432Z"
   },
   {
    "duration": 333,
    "start_time": "2024-02-26T10:32:42.728Z"
   },
   {
    "duration": 279,
    "start_time": "2024-02-26T10:32:43.062Z"
   },
   {
    "duration": 2,
    "start_time": "2024-02-26T10:34:07.674Z"
   },
   {
    "duration": 2647,
    "start_time": "2024-02-26T10:34:07.678Z"
   },
   {
    "duration": 49,
    "start_time": "2024-02-26T10:34:10.327Z"
   },
   {
    "duration": 43,
    "start_time": "2024-02-26T10:34:10.378Z"
   },
   {
    "duration": 3,
    "start_time": "2024-02-26T10:34:10.429Z"
   },
   {
    "duration": 26,
    "start_time": "2024-02-26T10:34:10.434Z"
   },
   {
    "duration": 8,
    "start_time": "2024-02-26T10:34:10.461Z"
   },
   {
    "duration": 9,
    "start_time": "2024-02-26T10:34:10.470Z"
   },
   {
    "duration": 13,
    "start_time": "2024-02-26T10:34:10.480Z"
   },
   {
    "duration": 39,
    "start_time": "2024-02-26T10:34:10.494Z"
   },
   {
    "duration": 797,
    "start_time": "2024-02-26T10:34:10.535Z"
   },
   {
    "duration": 4,
    "start_time": "2024-02-26T10:34:11.334Z"
   },
   {
    "duration": 55,
    "start_time": "2024-02-26T10:34:11.339Z"
   },
   {
    "duration": 32,
    "start_time": "2024-02-26T10:34:11.395Z"
   },
   {
    "duration": 5,
    "start_time": "2024-02-26T10:34:11.429Z"
   },
   {
    "duration": 24,
    "start_time": "2024-02-26T10:34:11.435Z"
   },
   {
    "duration": 1438,
    "start_time": "2024-02-26T10:34:11.461Z"
   },
   {
    "duration": 146,
    "start_time": "2024-02-26T10:34:12.915Z"
   },
   {
    "duration": 200,
    "start_time": "2024-02-26T10:34:13.062Z"
   },
   {
    "duration": 5,
    "start_time": "2024-02-26T10:34:13.264Z"
   },
   {
    "duration": 16,
    "start_time": "2024-02-26T10:34:13.270Z"
   },
   {
    "duration": 31,
    "start_time": "2024-02-26T10:34:13.287Z"
   },
   {
    "duration": 10,
    "start_time": "2024-02-26T10:34:13.325Z"
   },
   {
    "duration": 250,
    "start_time": "2024-02-26T10:34:13.336Z"
   },
   {
    "duration": 344,
    "start_time": "2024-02-26T10:34:13.588Z"
   },
   {
    "duration": 273,
    "start_time": "2024-02-26T10:34:13.934Z"
   },
   {
    "duration": 281,
    "start_time": "2024-02-26T10:34:14.208Z"
   },
   {
    "duration": 459,
    "start_time": "2024-02-26T10:34:14.491Z"
   },
   {
    "duration": 330,
    "start_time": "2024-02-26T10:34:14.953Z"
   },
   {
    "duration": 207,
    "start_time": "2024-02-26T10:34:15.285Z"
   },
   {
    "duration": 342,
    "start_time": "2024-02-26T10:34:15.494Z"
   },
   {
    "duration": 276,
    "start_time": "2024-02-26T10:34:15.837Z"
   },
   {
    "duration": 299,
    "start_time": "2024-02-26T10:34:16.116Z"
   },
   {
    "duration": 323,
    "start_time": "2024-02-26T10:34:16.416Z"
   },
   {
    "duration": 280,
    "start_time": "2024-02-26T10:34:16.741Z"
   },
   {
    "duration": 775,
    "start_time": "2024-02-26T10:35:10.360Z"
   },
   {
    "duration": 84,
    "start_time": "2024-02-26T10:35:39.344Z"
   },
   {
    "duration": 79,
    "start_time": "2024-02-26T10:35:41.592Z"
   },
   {
    "duration": 2,
    "start_time": "2024-02-26T10:37:08.295Z"
   },
   {
    "duration": 2462,
    "start_time": "2024-02-26T10:37:08.299Z"
   },
   {
    "duration": 47,
    "start_time": "2024-02-26T10:37:10.764Z"
   },
   {
    "duration": 27,
    "start_time": "2024-02-26T10:37:10.813Z"
   },
   {
    "duration": 8,
    "start_time": "2024-02-26T10:37:10.843Z"
   },
   {
    "duration": 18,
    "start_time": "2024-02-26T10:37:10.852Z"
   },
   {
    "duration": 36,
    "start_time": "2024-02-26T10:37:10.871Z"
   },
   {
    "duration": 48,
    "start_time": "2024-02-26T10:37:10.909Z"
   },
   {
    "duration": 50,
    "start_time": "2024-02-26T10:37:10.958Z"
   },
   {
    "duration": 16,
    "start_time": "2024-02-26T10:37:11.009Z"
   },
   {
    "duration": 756,
    "start_time": "2024-02-26T10:37:11.028Z"
   },
   {
    "duration": 4,
    "start_time": "2024-02-26T10:37:11.785Z"
   },
   {
    "duration": 32,
    "start_time": "2024-02-26T10:37:11.790Z"
   },
   {
    "duration": 27,
    "start_time": "2024-02-26T10:37:11.823Z"
   },
   {
    "duration": 7,
    "start_time": "2024-02-26T10:37:11.852Z"
   },
   {
    "duration": 5,
    "start_time": "2024-02-26T10:37:11.860Z"
   },
   {
    "duration": 1362,
    "start_time": "2024-02-26T10:37:11.866Z"
   },
   {
    "duration": 137,
    "start_time": "2024-02-26T10:37:13.230Z"
   },
   {
    "duration": 184,
    "start_time": "2024-02-26T10:37:13.368Z"
   },
   {
    "duration": 5,
    "start_time": "2024-02-26T10:37:13.554Z"
   },
   {
    "duration": 23,
    "start_time": "2024-02-26T10:37:13.560Z"
   },
   {
    "duration": 31,
    "start_time": "2024-02-26T10:37:13.584Z"
   },
   {
    "duration": 11,
    "start_time": "2024-02-26T10:37:13.616Z"
   },
   {
    "duration": 242,
    "start_time": "2024-02-26T10:37:13.628Z"
   },
   {
    "duration": 345,
    "start_time": "2024-02-26T10:37:13.871Z"
   },
   {
    "duration": 384,
    "start_time": "2024-02-26T10:37:14.218Z"
   },
   {
    "duration": 228,
    "start_time": "2024-02-26T10:37:14.603Z"
   },
   {
    "duration": 434,
    "start_time": "2024-02-26T10:37:14.832Z"
   },
   {
    "duration": 302,
    "start_time": "2024-02-26T10:37:15.301Z"
   },
   {
    "duration": 200,
    "start_time": "2024-02-26T10:37:15.604Z"
   },
   {
    "duration": 334,
    "start_time": "2024-02-26T10:37:15.805Z"
   },
   {
    "duration": 287,
    "start_time": "2024-02-26T10:37:16.141Z"
   },
   {
    "duration": 294,
    "start_time": "2024-02-26T10:37:16.429Z"
   },
   {
    "duration": 328,
    "start_time": "2024-02-26T10:37:16.725Z"
   },
   {
    "duration": 296,
    "start_time": "2024-02-26T10:37:17.055Z"
   },
   {
    "duration": 728,
    "start_time": "2024-02-26T10:37:17.352Z"
   },
   {
    "duration": 9469,
    "start_time": "2024-02-26T10:37:18.081Z"
   },
   {
    "duration": 5,
    "start_time": "2024-02-26T10:37:27.551Z"
   },
   {
    "duration": 22,
    "start_time": "2024-02-26T10:37:27.557Z"
   },
   {
    "duration": 22,
    "start_time": "2024-02-26T10:37:27.580Z"
   },
   {
    "duration": 13,
    "start_time": "2024-02-26T10:37:27.603Z"
   },
   {
    "duration": 24,
    "start_time": "2024-02-26T10:37:27.617Z"
   },
   {
    "duration": 11,
    "start_time": "2024-02-26T10:37:27.642Z"
   },
   {
    "duration": 14,
    "start_time": "2024-02-26T10:37:27.655Z"
   },
   {
    "duration": 11,
    "start_time": "2024-02-26T10:37:27.671Z"
   },
   {
    "duration": 20,
    "start_time": "2024-02-26T10:37:27.684Z"
   },
   {
    "duration": 14,
    "start_time": "2024-02-26T10:37:27.705Z"
   },
   {
    "duration": 15,
    "start_time": "2024-02-26T10:37:27.720Z"
   },
   {
    "duration": 24,
    "start_time": "2024-02-26T10:37:27.736Z"
   },
   {
    "duration": 101,
    "start_time": "2024-02-26T10:37:27.761Z"
   },
   {
    "duration": 40,
    "start_time": "2024-02-26T10:37:27.863Z"
   },
   {
    "duration": 38,
    "start_time": "2024-02-26T10:37:27.904Z"
   },
   {
    "duration": 5,
    "start_time": "2024-02-26T10:37:27.944Z"
   },
   {
    "duration": 49,
    "start_time": "2024-02-26T10:37:27.950Z"
   },
   {
    "duration": 12,
    "start_time": "2024-02-26T10:37:28.001Z"
   },
   {
    "duration": 9,
    "start_time": "2024-02-26T10:37:28.015Z"
   },
   {
    "duration": 25,
    "start_time": "2024-02-26T10:37:28.025Z"
   },
   {
    "duration": 36,
    "start_time": "2024-02-26T10:37:28.051Z"
   },
   {
    "duration": 45,
    "start_time": "2024-02-26T10:37:28.089Z"
   },
   {
    "duration": 54,
    "start_time": "2024-02-26T10:37:28.135Z"
   },
   {
    "duration": 32,
    "start_time": "2024-02-26T10:37:28.191Z"
   },
   {
    "duration": 9,
    "start_time": "2024-02-26T10:37:28.224Z"
   },
   {
    "duration": 26,
    "start_time": "2024-02-26T10:37:28.234Z"
   },
   {
    "duration": 16,
    "start_time": "2024-02-26T10:37:28.261Z"
   },
   {
    "duration": 9,
    "start_time": "2024-02-26T10:37:28.279Z"
   },
   {
    "duration": 7,
    "start_time": "2024-02-26T10:37:28.289Z"
   },
   {
    "duration": 18,
    "start_time": "2024-02-26T10:37:28.297Z"
   },
   {
    "duration": 24,
    "start_time": "2024-02-26T10:37:28.317Z"
   },
   {
    "duration": 23,
    "start_time": "2024-02-26T10:37:28.342Z"
   },
   {
    "duration": 15,
    "start_time": "2024-02-26T10:37:28.367Z"
   },
   {
    "duration": 175,
    "start_time": "2024-02-26T10:40:13.416Z"
   },
   {
    "duration": 181,
    "start_time": "2024-02-26T10:40:32.176Z"
   },
   {
    "duration": 290,
    "start_time": "2024-02-26T10:40:53.944Z"
   },
   {
    "duration": 178,
    "start_time": "2024-02-26T10:41:47.888Z"
   },
   {
    "duration": 173,
    "start_time": "2024-02-26T10:42:18.488Z"
   },
   {
    "duration": 181,
    "start_time": "2024-02-26T10:43:01.001Z"
   },
   {
    "duration": 259,
    "start_time": "2024-02-26T10:43:17.079Z"
   },
   {
    "duration": 77,
    "start_time": "2024-02-26T10:45:15.320Z"
   },
   {
    "duration": 6,
    "start_time": "2024-02-26T10:47:20.114Z"
   },
   {
    "duration": 4,
    "start_time": "2024-02-26T10:47:20.696Z"
   },
   {
    "duration": 4,
    "start_time": "2024-02-26T10:47:21.192Z"
   },
   {
    "duration": 4,
    "start_time": "2024-02-26T10:47:21.952Z"
   },
   {
    "duration": 4,
    "start_time": "2024-02-26T10:47:27.835Z"
   },
   {
    "duration": 2540,
    "start_time": "2024-02-26T10:47:27.840Z"
   },
   {
    "duration": 41,
    "start_time": "2024-02-26T10:47:30.383Z"
   },
   {
    "duration": 85,
    "start_time": "2024-02-26T10:47:30.426Z"
   },
   {
    "duration": 27,
    "start_time": "2024-02-26T10:47:30.512Z"
   },
   {
    "duration": 91,
    "start_time": "2024-02-26T10:47:30.541Z"
   },
   {
    "duration": 32,
    "start_time": "2024-02-26T10:47:30.633Z"
   },
   {
    "duration": 57,
    "start_time": "2024-02-26T10:47:30.666Z"
   },
   {
    "duration": 37,
    "start_time": "2024-02-26T10:47:30.724Z"
   },
   {
    "duration": 44,
    "start_time": "2024-02-26T10:47:30.762Z"
   },
   {
    "duration": 846,
    "start_time": "2024-02-26T10:47:30.809Z"
   },
   {
    "duration": 5,
    "start_time": "2024-02-26T10:47:31.656Z"
   },
   {
    "duration": 141,
    "start_time": "2024-02-26T10:47:31.662Z"
   },
   {
    "duration": 47,
    "start_time": "2024-02-26T10:47:31.805Z"
   },
   {
    "duration": 92,
    "start_time": "2024-02-26T10:47:31.853Z"
   },
   {
    "duration": 53,
    "start_time": "2024-02-26T10:47:31.947Z"
   },
   {
    "duration": 1346,
    "start_time": "2024-02-26T10:47:32.001Z"
   },
   {
    "duration": 228,
    "start_time": "2024-02-26T10:47:33.349Z"
   },
   {
    "duration": 173,
    "start_time": "2024-02-26T10:47:33.579Z"
   },
   {
    "duration": 5,
    "start_time": "2024-02-26T10:47:33.753Z"
   },
   {
    "duration": 56,
    "start_time": "2024-02-26T10:47:33.760Z"
   },
   {
    "duration": 77,
    "start_time": "2024-02-26T10:47:33.818Z"
   },
   {
    "duration": 81,
    "start_time": "2024-02-26T10:47:33.897Z"
   },
   {
    "duration": 247,
    "start_time": "2024-02-26T10:47:33.979Z"
   },
   {
    "duration": 304,
    "start_time": "2024-02-26T10:47:34.227Z"
   },
   {
    "duration": 277,
    "start_time": "2024-02-26T10:47:34.532Z"
   },
   {
    "duration": 197,
    "start_time": "2024-02-26T10:47:34.810Z"
   },
   {
    "duration": 449,
    "start_time": "2024-02-26T10:47:35.008Z"
   },
   {
    "duration": 375,
    "start_time": "2024-02-26T10:47:35.461Z"
   },
   {
    "duration": 201,
    "start_time": "2024-02-26T10:47:35.838Z"
   },
   {
    "duration": 322,
    "start_time": "2024-02-26T10:47:36.041Z"
   },
   {
    "duration": 361,
    "start_time": "2024-02-26T10:47:36.364Z"
   },
   {
    "duration": 301,
    "start_time": "2024-02-26T10:47:36.727Z"
   },
   {
    "duration": 253,
    "start_time": "2024-02-26T10:47:37.029Z"
   },
   {
    "duration": 256,
    "start_time": "2024-02-26T10:47:37.284Z"
   },
   {
    "duration": 802,
    "start_time": "2024-02-26T10:47:37.541Z"
   },
   {
    "duration": 9334,
    "start_time": "2024-02-26T10:47:38.345Z"
   },
   {
    "duration": 5,
    "start_time": "2024-02-26T10:47:47.681Z"
   },
   {
    "duration": 18,
    "start_time": "2024-02-26T10:47:47.687Z"
   },
   {
    "duration": 18,
    "start_time": "2024-02-26T10:47:47.706Z"
   },
   {
    "duration": 12,
    "start_time": "2024-02-26T10:47:47.725Z"
   },
   {
    "duration": 17,
    "start_time": "2024-02-26T10:47:47.739Z"
   },
   {
    "duration": 28,
    "start_time": "2024-02-26T10:47:47.757Z"
   },
   {
    "duration": 8,
    "start_time": "2024-02-26T10:47:47.787Z"
   },
   {
    "duration": 18,
    "start_time": "2024-02-26T10:47:47.796Z"
   },
   {
    "duration": 8,
    "start_time": "2024-02-26T10:47:47.815Z"
   },
   {
    "duration": 13,
    "start_time": "2024-02-26T10:47:47.824Z"
   },
   {
    "duration": 7,
    "start_time": "2024-02-26T10:47:47.838Z"
   },
   {
    "duration": 20,
    "start_time": "2024-02-26T10:47:47.846Z"
   },
   {
    "duration": 13,
    "start_time": "2024-02-26T10:47:47.867Z"
   },
   {
    "duration": 5,
    "start_time": "2024-02-26T10:47:47.881Z"
   },
   {
    "duration": 19,
    "start_time": "2024-02-26T10:47:47.887Z"
   },
   {
    "duration": 4,
    "start_time": "2024-02-26T10:47:47.908Z"
   },
   {
    "duration": 48,
    "start_time": "2024-02-26T10:47:47.913Z"
   },
   {
    "duration": 23,
    "start_time": "2024-02-26T10:47:47.962Z"
   },
   {
    "duration": 6,
    "start_time": "2024-02-26T10:47:47.986Z"
   },
   {
    "duration": 5,
    "start_time": "2024-02-26T10:47:47.993Z"
   },
   {
    "duration": 22,
    "start_time": "2024-02-26T10:47:47.999Z"
   },
   {
    "duration": 16,
    "start_time": "2024-02-26T10:47:48.023Z"
   },
   {
    "duration": 38,
    "start_time": "2024-02-26T10:47:48.041Z"
   },
   {
    "duration": 6,
    "start_time": "2024-02-26T10:47:48.080Z"
   },
   {
    "duration": 7,
    "start_time": "2024-02-26T10:47:48.087Z"
   },
   {
    "duration": 15,
    "start_time": "2024-02-26T10:47:48.095Z"
   },
   {
    "duration": 13,
    "start_time": "2024-02-26T10:47:48.111Z"
   },
   {
    "duration": 8,
    "start_time": "2024-02-26T10:47:48.126Z"
   },
   {
    "duration": 5,
    "start_time": "2024-02-26T10:47:48.136Z"
   },
   {
    "duration": 13,
    "start_time": "2024-02-26T10:47:48.142Z"
   },
   {
    "duration": 10,
    "start_time": "2024-02-26T10:47:48.156Z"
   },
   {
    "duration": 8,
    "start_time": "2024-02-26T10:47:48.168Z"
   },
   {
    "duration": 6,
    "start_time": "2024-02-26T10:47:48.177Z"
   },
   {
    "duration": 719,
    "start_time": "2024-02-26T10:51:28.234Z"
   },
   {
    "duration": 428,
    "start_time": "2024-02-26T10:52:23.600Z"
   },
   {
    "duration": 353,
    "start_time": "2024-02-26T10:53:13.412Z"
   },
   {
    "duration": 360,
    "start_time": "2024-02-26T10:53:22.611Z"
   },
   {
    "duration": 89,
    "start_time": "2024-02-26T10:59:21.989Z"
   },
   {
    "duration": 2,
    "start_time": "2024-02-26T10:59:33.020Z"
   },
   {
    "duration": 2441,
    "start_time": "2024-02-26T10:59:33.024Z"
   },
   {
    "duration": 40,
    "start_time": "2024-02-26T10:59:35.467Z"
   },
   {
    "duration": 18,
    "start_time": "2024-02-26T10:59:35.509Z"
   },
   {
    "duration": 3,
    "start_time": "2024-02-26T10:59:35.529Z"
   },
   {
    "duration": 15,
    "start_time": "2024-02-26T10:59:35.533Z"
   },
   {
    "duration": 16,
    "start_time": "2024-02-26T10:59:35.549Z"
   },
   {
    "duration": 6,
    "start_time": "2024-02-26T10:59:35.566Z"
   },
   {
    "duration": 13,
    "start_time": "2024-02-26T10:59:35.573Z"
   },
   {
    "duration": 15,
    "start_time": "2024-02-26T10:59:35.587Z"
   },
   {
    "duration": 760,
    "start_time": "2024-02-26T10:59:35.605Z"
   },
   {
    "duration": 4,
    "start_time": "2024-02-26T10:59:36.366Z"
   },
   {
    "duration": 38,
    "start_time": "2024-02-26T10:59:36.371Z"
   },
   {
    "duration": 8,
    "start_time": "2024-02-26T10:59:36.411Z"
   },
   {
    "duration": 11,
    "start_time": "2024-02-26T10:59:36.420Z"
   },
   {
    "duration": 20,
    "start_time": "2024-02-26T10:59:36.433Z"
   },
   {
    "duration": 1268,
    "start_time": "2024-02-26T10:59:36.454Z"
   },
   {
    "duration": 227,
    "start_time": "2024-02-26T10:59:37.724Z"
   },
   {
    "duration": 184,
    "start_time": "2024-02-26T10:59:37.953Z"
   },
   {
    "duration": 7,
    "start_time": "2024-02-26T10:59:38.139Z"
   },
   {
    "duration": 4,
    "start_time": "2024-02-26T10:59:38.147Z"
   },
   {
    "duration": 16,
    "start_time": "2024-02-26T10:59:38.153Z"
   },
   {
    "duration": 6,
    "start_time": "2024-02-26T10:59:38.171Z"
   },
   {
    "duration": 267,
    "start_time": "2024-02-26T10:59:38.178Z"
   },
   {
    "duration": 296,
    "start_time": "2024-02-26T10:59:38.447Z"
   },
   {
    "duration": 266,
    "start_time": "2024-02-26T10:59:38.745Z"
   },
   {
    "duration": 189,
    "start_time": "2024-02-26T10:59:39.012Z"
   },
   {
    "duration": 460,
    "start_time": "2024-02-26T10:59:39.202Z"
   },
   {
    "duration": 380,
    "start_time": "2024-02-26T10:59:39.665Z"
   },
   {
    "duration": 204,
    "start_time": "2024-02-26T10:59:40.046Z"
   },
   {
    "duration": 381,
    "start_time": "2024-02-26T10:59:40.251Z"
   },
   {
    "duration": 288,
    "start_time": "2024-02-26T10:59:40.633Z"
   },
   {
    "duration": 288,
    "start_time": "2024-02-26T10:59:40.923Z"
   },
   {
    "duration": 262,
    "start_time": "2024-02-26T10:59:41.213Z"
   },
   {
    "duration": 246,
    "start_time": "2024-02-26T10:59:41.476Z"
   },
   {
    "duration": 787,
    "start_time": "2024-02-26T10:59:41.723Z"
   },
   {
    "duration": 347,
    "start_time": "2024-02-26T10:59:42.511Z"
   },
   {
    "duration": 4,
    "start_time": "2024-02-26T10:59:42.859Z"
   },
   {
    "duration": 35,
    "start_time": "2024-02-26T10:59:42.864Z"
   },
   {
    "duration": 18,
    "start_time": "2024-02-26T10:59:42.901Z"
   },
   {
    "duration": 25,
    "start_time": "2024-02-26T10:59:42.920Z"
   },
   {
    "duration": 25,
    "start_time": "2024-02-26T10:59:42.946Z"
   },
   {
    "duration": 13,
    "start_time": "2024-02-26T10:59:42.973Z"
   },
   {
    "duration": 18,
    "start_time": "2024-02-26T10:59:42.988Z"
   },
   {
    "duration": 19,
    "start_time": "2024-02-26T10:59:43.008Z"
   },
   {
    "duration": 6,
    "start_time": "2024-02-26T10:59:43.029Z"
   },
   {
    "duration": 17,
    "start_time": "2024-02-26T10:59:43.037Z"
   },
   {
    "duration": 17,
    "start_time": "2024-02-26T10:59:43.056Z"
   },
   {
    "duration": 23,
    "start_time": "2024-02-26T10:59:43.074Z"
   },
   {
    "duration": 29,
    "start_time": "2024-02-26T10:59:43.099Z"
   },
   {
    "duration": 7,
    "start_time": "2024-02-26T10:59:43.130Z"
   },
   {
    "duration": 17,
    "start_time": "2024-02-26T10:59:43.138Z"
   },
   {
    "duration": 4,
    "start_time": "2024-02-26T10:59:43.157Z"
   },
   {
    "duration": 16,
    "start_time": "2024-02-26T10:59:43.162Z"
   },
   {
    "duration": 8,
    "start_time": "2024-02-26T10:59:43.180Z"
   },
   {
    "duration": 12,
    "start_time": "2024-02-26T10:59:43.189Z"
   },
   {
    "duration": 8,
    "start_time": "2024-02-26T10:59:43.202Z"
   },
   {
    "duration": 16,
    "start_time": "2024-02-26T10:59:43.211Z"
   },
   {
    "duration": 44,
    "start_time": "2024-02-26T10:59:43.228Z"
   },
   {
    "duration": 12,
    "start_time": "2024-02-26T10:59:43.274Z"
   },
   {
    "duration": 17,
    "start_time": "2024-02-26T10:59:43.287Z"
   },
   {
    "duration": 9,
    "start_time": "2024-02-26T10:59:43.305Z"
   },
   {
    "duration": 10,
    "start_time": "2024-02-26T10:59:43.315Z"
   },
   {
    "duration": 11,
    "start_time": "2024-02-26T10:59:43.326Z"
   },
   {
    "duration": 17,
    "start_time": "2024-02-26T10:59:43.338Z"
   },
   {
    "duration": 6,
    "start_time": "2024-02-26T10:59:43.356Z"
   },
   {
    "duration": 6,
    "start_time": "2024-02-26T10:59:43.364Z"
   },
   {
    "duration": 10,
    "start_time": "2024-02-26T10:59:43.371Z"
   },
   {
    "duration": 18,
    "start_time": "2024-02-26T10:59:43.382Z"
   },
   {
    "duration": 34,
    "start_time": "2024-02-26T10:59:43.402Z"
   },
   {
    "duration": 725,
    "start_time": "2024-02-26T11:00:56.181Z"
   },
   {
    "duration": 2,
    "start_time": "2024-02-26T11:01:03.350Z"
   },
   {
    "duration": 2436,
    "start_time": "2024-02-26T11:01:03.353Z"
   },
   {
    "duration": 39,
    "start_time": "2024-02-26T11:01:05.791Z"
   },
   {
    "duration": 18,
    "start_time": "2024-02-26T11:01:05.832Z"
   },
   {
    "duration": 3,
    "start_time": "2024-02-26T11:01:05.852Z"
   },
   {
    "duration": 5,
    "start_time": "2024-02-26T11:01:05.856Z"
   },
   {
    "duration": 21,
    "start_time": "2024-02-26T11:01:05.863Z"
   },
   {
    "duration": 14,
    "start_time": "2024-02-26T11:01:05.885Z"
   },
   {
    "duration": 7,
    "start_time": "2024-02-26T11:01:05.901Z"
   },
   {
    "duration": 22,
    "start_time": "2024-02-26T11:01:05.909Z"
   },
   {
    "duration": 796,
    "start_time": "2024-02-26T11:01:05.932Z"
   },
   {
    "duration": 4,
    "start_time": "2024-02-26T11:01:06.729Z"
   },
   {
    "duration": 32,
    "start_time": "2024-02-26T11:01:06.734Z"
   },
   {
    "duration": 8,
    "start_time": "2024-02-26T11:01:06.767Z"
   },
   {
    "duration": 5,
    "start_time": "2024-02-26T11:01:06.776Z"
   },
   {
    "duration": 26,
    "start_time": "2024-02-26T11:01:06.782Z"
   },
   {
    "duration": 815,
    "start_time": "2024-02-26T11:01:17.500Z"
   },
   {
    "duration": 1262,
    "start_time": "2024-02-26T11:01:43.381Z"
   },
   {
    "duration": 1376,
    "start_time": "2024-02-26T11:02:04.357Z"
   },
   {
    "duration": 622,
    "start_time": "2024-02-26T11:18:11.835Z"
   },
   {
    "duration": 1257,
    "start_time": "2024-02-26T11:18:27.807Z"
   },
   {
    "duration": 1145,
    "start_time": "2024-02-26T11:19:41.759Z"
   },
   {
    "duration": 1360,
    "start_time": "2024-02-26T11:20:06.630Z"
   },
   {
    "duration": 1273,
    "start_time": "2024-02-26T11:25:12.559Z"
   },
   {
    "duration": 1341,
    "start_time": "2024-02-26T11:26:42.968Z"
   },
   {
    "duration": 123,
    "start_time": "2024-02-26T11:26:53.543Z"
   },
   {
    "duration": 129,
    "start_time": "2024-02-26T11:27:16.288Z"
   },
   {
    "duration": 231,
    "start_time": "2024-02-26T11:28:28.943Z"
   },
   {
    "duration": 156,
    "start_time": "2024-02-26T11:28:59.248Z"
   },
   {
    "duration": 181,
    "start_time": "2024-02-26T11:29:22.568Z"
   },
   {
    "duration": 1337,
    "start_time": "2024-02-26T11:29:55.208Z"
   },
   {
    "duration": 1261,
    "start_time": "2024-02-26T11:30:08.920Z"
   },
   {
    "duration": 348,
    "start_time": "2024-02-26T11:33:47.478Z"
   },
   {
    "duration": 12,
    "start_time": "2024-02-26T11:35:00.224Z"
   },
   {
    "duration": 2,
    "start_time": "2024-02-26T11:35:07.196Z"
   },
   {
    "duration": 2520,
    "start_time": "2024-02-26T11:35:07.200Z"
   },
   {
    "duration": 40,
    "start_time": "2024-02-26T11:35:09.723Z"
   },
   {
    "duration": 20,
    "start_time": "2024-02-26T11:35:09.764Z"
   },
   {
    "duration": 15,
    "start_time": "2024-02-26T11:35:09.786Z"
   },
   {
    "duration": 36,
    "start_time": "2024-02-26T11:35:09.803Z"
   },
   {
    "duration": 20,
    "start_time": "2024-02-26T11:35:09.841Z"
   },
   {
    "duration": 18,
    "start_time": "2024-02-26T11:35:09.862Z"
   },
   {
    "duration": 15,
    "start_time": "2024-02-26T11:35:09.881Z"
   },
   {
    "duration": 27,
    "start_time": "2024-02-26T11:35:09.898Z"
   },
   {
    "duration": 1005,
    "start_time": "2024-02-26T11:35:09.928Z"
   },
   {
    "duration": 4,
    "start_time": "2024-02-26T11:35:10.935Z"
   },
   {
    "duration": 61,
    "start_time": "2024-02-26T11:35:10.941Z"
   },
   {
    "duration": 18,
    "start_time": "2024-02-26T11:35:11.004Z"
   },
   {
    "duration": 35,
    "start_time": "2024-02-26T11:35:11.023Z"
   },
   {
    "duration": 9,
    "start_time": "2024-02-26T11:35:11.059Z"
   },
   {
    "duration": 1301,
    "start_time": "2024-02-26T11:35:11.069Z"
   },
   {
    "duration": 153,
    "start_time": "2024-02-26T11:35:12.372Z"
   },
   {
    "duration": 276,
    "start_time": "2024-02-26T11:35:12.527Z"
   },
   {
    "duration": 7,
    "start_time": "2024-02-26T11:35:12.805Z"
   },
   {
    "duration": 27,
    "start_time": "2024-02-26T11:35:12.814Z"
   },
   {
    "duration": 30,
    "start_time": "2024-02-26T11:35:12.842Z"
   },
   {
    "duration": 13,
    "start_time": "2024-02-26T11:35:12.873Z"
   },
   {
    "duration": 232,
    "start_time": "2024-02-26T11:35:12.887Z"
   },
   {
    "duration": 321,
    "start_time": "2024-02-26T11:35:13.121Z"
   },
   {
    "duration": 271,
    "start_time": "2024-02-26T11:35:13.444Z"
   },
   {
    "duration": 197,
    "start_time": "2024-02-26T11:35:13.717Z"
   },
   {
    "duration": 450,
    "start_time": "2024-02-26T11:35:13.916Z"
   },
   {
    "duration": 318,
    "start_time": "2024-02-26T11:35:14.370Z"
   },
   {
    "duration": 280,
    "start_time": "2024-02-26T11:35:14.690Z"
   },
   {
    "duration": 370,
    "start_time": "2024-02-26T11:35:14.971Z"
   },
   {
    "duration": 284,
    "start_time": "2024-02-26T11:35:15.342Z"
   },
   {
    "duration": 286,
    "start_time": "2024-02-26T11:35:15.628Z"
   },
   {
    "duration": 254,
    "start_time": "2024-02-26T11:35:15.915Z"
   },
   {
    "duration": 275,
    "start_time": "2024-02-26T11:35:16.171Z"
   },
   {
    "duration": 759,
    "start_time": "2024-02-26T11:35:16.448Z"
   },
   {
    "duration": 15,
    "start_time": "2024-02-26T11:35:17.209Z"
   },
   {
    "duration": 0,
    "start_time": "2024-02-26T11:35:17.225Z"
   },
   {
    "duration": 0,
    "start_time": "2024-02-26T11:35:17.226Z"
   },
   {
    "duration": 0,
    "start_time": "2024-02-26T11:35:17.228Z"
   },
   {
    "duration": 0,
    "start_time": "2024-02-26T11:35:17.229Z"
   },
   {
    "duration": 0,
    "start_time": "2024-02-26T11:35:17.230Z"
   },
   {
    "duration": 0,
    "start_time": "2024-02-26T11:35:17.231Z"
   },
   {
    "duration": 0,
    "start_time": "2024-02-26T11:35:17.232Z"
   },
   {
    "duration": 0,
    "start_time": "2024-02-26T11:35:17.233Z"
   },
   {
    "duration": 0,
    "start_time": "2024-02-26T11:35:17.234Z"
   },
   {
    "duration": 0,
    "start_time": "2024-02-26T11:35:17.235Z"
   },
   {
    "duration": 0,
    "start_time": "2024-02-26T11:35:17.236Z"
   },
   {
    "duration": 0,
    "start_time": "2024-02-26T11:35:17.237Z"
   },
   {
    "duration": 0,
    "start_time": "2024-02-26T11:35:17.238Z"
   },
   {
    "duration": 0,
    "start_time": "2024-02-26T11:35:17.239Z"
   },
   {
    "duration": 0,
    "start_time": "2024-02-26T11:35:17.240Z"
   },
   {
    "duration": 0,
    "start_time": "2024-02-26T11:35:17.241Z"
   },
   {
    "duration": 0,
    "start_time": "2024-02-26T11:35:17.242Z"
   },
   {
    "duration": 0,
    "start_time": "2024-02-26T11:35:17.243Z"
   },
   {
    "duration": 0,
    "start_time": "2024-02-26T11:35:17.244Z"
   },
   {
    "duration": 0,
    "start_time": "2024-02-26T11:35:17.245Z"
   },
   {
    "duration": 0,
    "start_time": "2024-02-26T11:35:17.246Z"
   },
   {
    "duration": 0,
    "start_time": "2024-02-26T11:35:17.246Z"
   },
   {
    "duration": 0,
    "start_time": "2024-02-26T11:35:17.247Z"
   },
   {
    "duration": 0,
    "start_time": "2024-02-26T11:35:17.248Z"
   },
   {
    "duration": 0,
    "start_time": "2024-02-26T11:35:17.249Z"
   },
   {
    "duration": 0,
    "start_time": "2024-02-26T11:35:17.302Z"
   },
   {
    "duration": 0,
    "start_time": "2024-02-26T11:35:17.304Z"
   },
   {
    "duration": 0,
    "start_time": "2024-02-26T11:35:17.304Z"
   },
   {
    "duration": 0,
    "start_time": "2024-02-26T11:35:17.305Z"
   },
   {
    "duration": 0,
    "start_time": "2024-02-26T11:35:17.306Z"
   },
   {
    "duration": 0,
    "start_time": "2024-02-26T11:35:17.307Z"
   },
   {
    "duration": 0,
    "start_time": "2024-02-26T11:35:17.308Z"
   },
   {
    "duration": 0,
    "start_time": "2024-02-26T11:35:17.309Z"
   },
   {
    "duration": 383,
    "start_time": "2024-02-26T11:35:46.664Z"
   },
   {
    "duration": 12,
    "start_time": "2024-02-26T11:36:22.672Z"
   },
   {
    "duration": 77,
    "start_time": "2024-02-26T11:36:32.880Z"
   },
   {
    "duration": 365,
    "start_time": "2024-02-26T11:36:38.000Z"
   },
   {
    "duration": 65,
    "start_time": "2024-02-26T11:40:10.505Z"
   },
   {
    "duration": 71,
    "start_time": "2024-02-26T11:59:21.720Z"
   },
   {
    "duration": 9,
    "start_time": "2024-02-26T12:00:08.488Z"
   },
   {
    "duration": 3475,
    "start_time": "2024-02-26T12:00:08.499Z"
   },
   {
    "duration": 40,
    "start_time": "2024-02-26T12:00:11.976Z"
   },
   {
    "duration": 23,
    "start_time": "2024-02-26T12:00:12.018Z"
   },
   {
    "duration": 4,
    "start_time": "2024-02-26T12:00:12.042Z"
   },
   {
    "duration": 14,
    "start_time": "2024-02-26T12:00:12.047Z"
   },
   {
    "duration": 32,
    "start_time": "2024-02-26T12:00:12.062Z"
   },
   {
    "duration": 17,
    "start_time": "2024-02-26T12:00:12.095Z"
   },
   {
    "duration": 15,
    "start_time": "2024-02-26T12:00:12.113Z"
   },
   {
    "duration": 22,
    "start_time": "2024-02-26T12:00:12.130Z"
   },
   {
    "duration": 835,
    "start_time": "2024-02-26T12:00:12.153Z"
   },
   {
    "duration": 4,
    "start_time": "2024-02-26T12:00:12.989Z"
   },
   {
    "duration": 27,
    "start_time": "2024-02-26T12:00:12.994Z"
   },
   {
    "duration": 8,
    "start_time": "2024-02-26T12:00:13.022Z"
   },
   {
    "duration": 26,
    "start_time": "2024-02-26T12:00:13.032Z"
   },
   {
    "duration": 31,
    "start_time": "2024-02-26T12:00:13.059Z"
   },
   {
    "duration": 1319,
    "start_time": "2024-02-26T12:00:13.091Z"
   },
   {
    "duration": 148,
    "start_time": "2024-02-26T12:00:14.412Z"
   },
   {
    "duration": 187,
    "start_time": "2024-02-26T12:00:14.561Z"
   },
   {
    "duration": 5,
    "start_time": "2024-02-26T12:00:14.750Z"
   },
   {
    "duration": 20,
    "start_time": "2024-02-26T12:00:14.756Z"
   },
   {
    "duration": 24,
    "start_time": "2024-02-26T12:00:14.777Z"
   },
   {
    "duration": 8,
    "start_time": "2024-02-26T12:00:14.802Z"
   },
   {
    "duration": 220,
    "start_time": "2024-02-26T12:00:14.811Z"
   },
   {
    "duration": 296,
    "start_time": "2024-02-26T12:00:15.033Z"
   },
   {
    "duration": 283,
    "start_time": "2024-02-26T12:00:15.330Z"
   },
   {
    "duration": 271,
    "start_time": "2024-02-26T12:00:15.614Z"
   },
   {
    "duration": 456,
    "start_time": "2024-02-26T12:00:15.888Z"
   },
   {
    "duration": 288,
    "start_time": "2024-02-26T12:00:16.346Z"
   },
   {
    "duration": 193,
    "start_time": "2024-02-26T12:00:16.636Z"
   },
   {
    "duration": 313,
    "start_time": "2024-02-26T12:00:16.830Z"
   },
   {
    "duration": 284,
    "start_time": "2024-02-26T12:00:17.145Z"
   },
   {
    "duration": 284,
    "start_time": "2024-02-26T12:00:17.431Z"
   },
   {
    "duration": 307,
    "start_time": "2024-02-26T12:00:17.717Z"
   },
   {
    "duration": 245,
    "start_time": "2024-02-26T12:00:18.026Z"
   },
   {
    "duration": 739,
    "start_time": "2024-02-26T12:00:18.273Z"
   },
   {
    "duration": 373,
    "start_time": "2024-02-26T12:00:19.014Z"
   },
   {
    "duration": 12,
    "start_time": "2024-02-26T12:00:19.389Z"
   },
   {
    "duration": 5,
    "start_time": "2024-02-26T12:00:19.402Z"
   },
   {
    "duration": 21,
    "start_time": "2024-02-26T12:00:19.408Z"
   },
   {
    "duration": 4,
    "start_time": "2024-02-26T12:00:19.431Z"
   },
   {
    "duration": 13,
    "start_time": "2024-02-26T12:00:19.437Z"
   },
   {
    "duration": 8,
    "start_time": "2024-02-26T12:00:19.452Z"
   },
   {
    "duration": 12,
    "start_time": "2024-02-26T12:00:19.461Z"
   },
   {
    "duration": 16,
    "start_time": "2024-02-26T12:00:19.474Z"
   },
   {
    "duration": 97,
    "start_time": "2024-02-26T12:00:19.491Z"
   },
   {
    "duration": 35,
    "start_time": "2024-02-26T12:00:19.589Z"
   },
   {
    "duration": 23,
    "start_time": "2024-02-26T12:00:19.625Z"
   },
   {
    "duration": 29,
    "start_time": "2024-02-26T12:00:19.650Z"
   },
   {
    "duration": 13,
    "start_time": "2024-02-26T12:00:19.681Z"
   },
   {
    "duration": 22,
    "start_time": "2024-02-26T12:00:19.695Z"
   },
   {
    "duration": 16,
    "start_time": "2024-02-26T12:00:19.718Z"
   },
   {
    "duration": 5,
    "start_time": "2024-02-26T12:00:19.735Z"
   },
   {
    "duration": 24,
    "start_time": "2024-02-26T12:00:19.741Z"
   },
   {
    "duration": 8,
    "start_time": "2024-02-26T12:00:19.767Z"
   },
   {
    "duration": 37,
    "start_time": "2024-02-26T12:00:19.776Z"
   },
   {
    "duration": 44,
    "start_time": "2024-02-26T12:00:19.815Z"
   },
   {
    "duration": 22,
    "start_time": "2024-02-26T12:00:19.860Z"
   },
   {
    "duration": 22,
    "start_time": "2024-02-26T12:00:19.884Z"
   },
   {
    "duration": 13,
    "start_time": "2024-02-26T12:00:19.908Z"
   },
   {
    "duration": 37,
    "start_time": "2024-02-26T12:00:19.923Z"
   },
   {
    "duration": 144,
    "start_time": "2024-02-26T12:00:19.961Z"
   },
   {
    "duration": 39,
    "start_time": "2024-02-26T12:00:20.107Z"
   },
   {
    "duration": 8,
    "start_time": "2024-02-26T12:00:20.147Z"
   },
   {
    "duration": 9,
    "start_time": "2024-02-26T12:00:20.156Z"
   },
   {
    "duration": 33,
    "start_time": "2024-02-26T12:00:20.167Z"
   },
   {
    "duration": 18,
    "start_time": "2024-02-26T12:00:20.201Z"
   },
   {
    "duration": 4,
    "start_time": "2024-02-26T12:00:20.220Z"
   },
   {
    "duration": 15,
    "start_time": "2024-02-26T12:00:20.225Z"
   },
   {
    "duration": 4,
    "start_time": "2024-02-26T12:00:20.241Z"
   },
   {
    "duration": 8,
    "start_time": "2024-02-26T18:09:13.196Z"
   },
   {
    "duration": 5566,
    "start_time": "2024-02-26T18:09:13.206Z"
   },
   {
    "duration": 45,
    "start_time": "2024-02-26T18:09:18.774Z"
   },
   {
    "duration": 30,
    "start_time": "2024-02-26T18:09:18.821Z"
   },
   {
    "duration": 3,
    "start_time": "2024-02-26T18:09:18.853Z"
   },
   {
    "duration": 28,
    "start_time": "2024-02-26T18:09:18.858Z"
   },
   {
    "duration": 41,
    "start_time": "2024-02-26T18:09:18.888Z"
   },
   {
    "duration": 26,
    "start_time": "2024-02-26T18:09:18.931Z"
   },
   {
    "duration": 39,
    "start_time": "2024-02-26T18:09:18.959Z"
   },
   {
    "duration": 56,
    "start_time": "2024-02-26T18:09:19.001Z"
   },
   {
    "duration": 1071,
    "start_time": "2024-02-26T18:09:19.058Z"
   },
   {
    "duration": 5,
    "start_time": "2024-02-26T18:09:20.130Z"
   },
   {
    "duration": 45,
    "start_time": "2024-02-26T18:09:20.137Z"
   },
   {
    "duration": 12,
    "start_time": "2024-02-26T18:09:20.184Z"
   },
   {
    "duration": 9,
    "start_time": "2024-02-26T18:09:20.197Z"
   },
   {
    "duration": 18,
    "start_time": "2024-02-26T18:09:20.208Z"
   },
   {
    "duration": 1895,
    "start_time": "2024-02-26T18:09:20.228Z"
   },
   {
    "duration": 199,
    "start_time": "2024-02-26T18:09:22.125Z"
   },
   {
    "duration": 270,
    "start_time": "2024-02-26T18:09:22.326Z"
   },
   {
    "duration": 8,
    "start_time": "2024-02-26T18:09:22.598Z"
   },
   {
    "duration": 12,
    "start_time": "2024-02-26T18:09:22.608Z"
   },
   {
    "duration": 21,
    "start_time": "2024-02-26T18:09:22.621Z"
   },
   {
    "duration": 11,
    "start_time": "2024-02-26T18:09:22.644Z"
   },
   {
    "duration": 347,
    "start_time": "2024-02-26T18:09:22.657Z"
   },
   {
    "duration": 355,
    "start_time": "2024-02-26T18:09:23.005Z"
   },
   {
    "duration": 357,
    "start_time": "2024-02-26T18:09:23.362Z"
   },
   {
    "duration": 388,
    "start_time": "2024-02-26T18:09:23.721Z"
   },
   {
    "duration": 560,
    "start_time": "2024-02-26T18:09:24.113Z"
   },
   {
    "duration": 420,
    "start_time": "2024-02-26T18:09:24.675Z"
   },
   {
    "duration": 279,
    "start_time": "2024-02-26T18:09:25.097Z"
   },
   {
    "duration": 425,
    "start_time": "2024-02-26T18:09:25.378Z"
   },
   {
    "duration": 337,
    "start_time": "2024-02-26T18:09:25.804Z"
   },
   {
    "duration": 300,
    "start_time": "2024-02-26T18:09:26.143Z"
   },
   {
    "duration": 473,
    "start_time": "2024-02-26T18:09:26.444Z"
   },
   {
    "duration": 336,
    "start_time": "2024-02-26T18:09:26.919Z"
   },
   {
    "duration": 1003,
    "start_time": "2024-02-26T18:09:27.257Z"
   },
   {
    "duration": 506,
    "start_time": "2024-02-26T18:09:28.261Z"
   },
   {
    "duration": 5,
    "start_time": "2024-02-26T18:09:28.769Z"
   },
   {
    "duration": 15,
    "start_time": "2024-02-26T18:09:28.776Z"
   },
   {
    "duration": 12,
    "start_time": "2024-02-26T18:09:28.793Z"
   },
   {
    "duration": 8,
    "start_time": "2024-02-26T18:09:28.807Z"
   },
   {
    "duration": 25,
    "start_time": "2024-02-26T18:09:28.817Z"
   },
   {
    "duration": 28,
    "start_time": "2024-02-26T18:09:28.844Z"
   },
   {
    "duration": 16,
    "start_time": "2024-02-26T18:09:28.874Z"
   },
   {
    "duration": 34,
    "start_time": "2024-02-26T18:09:28.892Z"
   },
   {
    "duration": 12,
    "start_time": "2024-02-26T18:09:28.928Z"
   },
   {
    "duration": 19,
    "start_time": "2024-02-26T18:09:28.942Z"
   },
   {
    "duration": 30,
    "start_time": "2024-02-26T18:09:28.963Z"
   },
   {
    "duration": 19,
    "start_time": "2024-02-26T18:09:28.995Z"
   },
   {
    "duration": 26,
    "start_time": "2024-02-26T18:09:29.016Z"
   },
   {
    "duration": 15,
    "start_time": "2024-02-26T18:09:29.044Z"
   },
   {
    "duration": 24,
    "start_time": "2024-02-26T18:09:29.061Z"
   },
   {
    "duration": 7,
    "start_time": "2024-02-26T18:09:29.092Z"
   },
   {
    "duration": 31,
    "start_time": "2024-02-26T18:09:29.101Z"
   },
   {
    "duration": 8,
    "start_time": "2024-02-26T18:09:29.134Z"
   },
   {
    "duration": 34,
    "start_time": "2024-02-26T18:09:29.144Z"
   },
   {
    "duration": 16,
    "start_time": "2024-02-26T18:09:29.180Z"
   },
   {
    "duration": 25,
    "start_time": "2024-02-26T18:09:29.197Z"
   },
   {
    "duration": 15,
    "start_time": "2024-02-26T18:09:29.224Z"
   },
   {
    "duration": 19,
    "start_time": "2024-02-26T18:09:29.241Z"
   },
   {
    "duration": 12,
    "start_time": "2024-02-26T18:09:29.262Z"
   },
   {
    "duration": 18,
    "start_time": "2024-02-26T18:09:29.276Z"
   },
   {
    "duration": 16,
    "start_time": "2024-02-26T18:09:29.296Z"
   },
   {
    "duration": 7,
    "start_time": "2024-02-26T18:09:29.314Z"
   },
   {
    "duration": 10,
    "start_time": "2024-02-26T18:09:29.323Z"
   },
   {
    "duration": 13,
    "start_time": "2024-02-26T18:09:29.335Z"
   },
   {
    "duration": 30,
    "start_time": "2024-02-26T18:09:29.350Z"
   },
   {
    "duration": 19,
    "start_time": "2024-02-26T18:09:29.382Z"
   },
   {
    "duration": 19,
    "start_time": "2024-02-26T18:09:29.403Z"
   },
   {
    "duration": 10,
    "start_time": "2024-02-26T18:09:29.423Z"
   },
   {
    "duration": 7,
    "start_time": "2024-04-23T13:04:15.458Z"
   },
   {
    "duration": 5086,
    "start_time": "2024-04-23T13:04:15.467Z"
   },
   {
    "duration": 88,
    "start_time": "2024-04-23T13:04:20.555Z"
   },
   {
    "duration": 29,
    "start_time": "2024-04-23T13:04:20.645Z"
   },
   {
    "duration": 4,
    "start_time": "2024-04-23T13:04:20.676Z"
   },
   {
    "duration": 27,
    "start_time": "2024-04-23T13:04:20.681Z"
   },
   {
    "duration": 47,
    "start_time": "2024-04-23T13:04:20.710Z"
   },
   {
    "duration": 13,
    "start_time": "2024-04-23T13:04:20.759Z"
   },
   {
    "duration": 20,
    "start_time": "2024-04-23T13:04:20.773Z"
   },
   {
    "duration": 31,
    "start_time": "2024-04-23T13:04:20.796Z"
   },
   {
    "duration": 1047,
    "start_time": "2024-04-23T13:04:20.829Z"
   },
   {
    "duration": 4,
    "start_time": "2024-04-23T13:04:21.878Z"
   },
   {
    "duration": 58,
    "start_time": "2024-04-23T13:04:21.884Z"
   },
   {
    "duration": 14,
    "start_time": "2024-04-23T13:04:21.944Z"
   },
   {
    "duration": 6,
    "start_time": "2024-04-23T13:04:21.960Z"
   },
   {
    "duration": 8,
    "start_time": "2024-04-23T13:04:21.967Z"
   },
   {
    "duration": 1718,
    "start_time": "2024-04-23T13:04:21.977Z"
   },
   {
    "duration": 195,
    "start_time": "2024-04-23T13:04:23.696Z"
   },
   {
    "duration": 249,
    "start_time": "2024-04-23T13:04:23.893Z"
   },
   {
    "duration": 6,
    "start_time": "2024-04-23T13:04:24.144Z"
   },
   {
    "duration": 5,
    "start_time": "2024-04-23T13:04:24.152Z"
   },
   {
    "duration": 24,
    "start_time": "2024-04-23T13:04:24.159Z"
   },
   {
    "duration": 11,
    "start_time": "2024-04-23T13:04:24.184Z"
   },
   {
    "duration": 288,
    "start_time": "2024-04-23T13:04:24.197Z"
   },
   {
    "duration": 338,
    "start_time": "2024-04-23T13:04:24.491Z"
   },
   {
    "duration": 296,
    "start_time": "2024-04-23T13:04:24.831Z"
   },
   {
    "duration": 393,
    "start_time": "2024-04-23T13:04:25.128Z"
   },
   {
    "duration": 556,
    "start_time": "2024-04-23T13:04:25.525Z"
   },
   {
    "duration": 411,
    "start_time": "2024-04-23T13:04:26.083Z"
   },
   {
    "duration": 261,
    "start_time": "2024-04-23T13:04:26.495Z"
   },
   {
    "duration": 382,
    "start_time": "2024-04-23T13:04:26.758Z"
   },
   {
    "duration": 297,
    "start_time": "2024-04-23T13:04:27.141Z"
   },
   {
    "duration": 288,
    "start_time": "2024-04-23T13:04:27.440Z"
   },
   {
    "duration": 451,
    "start_time": "2024-04-23T13:04:27.729Z"
   },
   {
    "duration": 312,
    "start_time": "2024-04-23T13:04:28.181Z"
   },
   {
    "duration": 894,
    "start_time": "2024-04-23T13:04:28.495Z"
   },
   {
    "duration": 501,
    "start_time": "2024-04-23T13:04:29.391Z"
   },
   {
    "duration": 5,
    "start_time": "2024-04-23T13:04:29.893Z"
   },
   {
    "duration": 9,
    "start_time": "2024-04-23T13:04:29.899Z"
   },
   {
    "duration": 9,
    "start_time": "2024-04-23T13:04:29.909Z"
   },
   {
    "duration": 10,
    "start_time": "2024-04-23T13:04:29.919Z"
   },
   {
    "duration": 14,
    "start_time": "2024-04-23T13:04:29.931Z"
   },
   {
    "duration": 10,
    "start_time": "2024-04-23T13:04:29.947Z"
   },
   {
    "duration": 27,
    "start_time": "2024-04-23T13:04:29.959Z"
   },
   {
    "duration": 7,
    "start_time": "2024-04-23T13:04:29.988Z"
   },
   {
    "duration": 7,
    "start_time": "2024-04-23T13:04:29.997Z"
   },
   {
    "duration": 33,
    "start_time": "2024-04-23T13:04:30.006Z"
   },
   {
    "duration": 468,
    "start_time": "2024-04-23T13:04:30.041Z"
   },
   {
    "duration": 249,
    "start_time": "2024-04-23T13:04:30.511Z"
   },
   {
    "duration": 165,
    "start_time": "2024-04-23T13:04:30.761Z"
   },
   {
    "duration": 186,
    "start_time": "2024-04-23T13:04:30.928Z"
   },
   {
    "duration": 308,
    "start_time": "2024-04-23T13:04:31.116Z"
   },
   {
    "duration": 578,
    "start_time": "2024-04-23T13:04:31.425Z"
   },
   {
    "duration": 331,
    "start_time": "2024-04-23T13:04:32.005Z"
   },
   {
    "duration": 216,
    "start_time": "2024-04-23T13:04:32.337Z"
   },
   {
    "duration": 79,
    "start_time": "2024-04-23T13:04:32.555Z"
   },
   {
    "duration": 74,
    "start_time": "2024-04-23T13:04:32.636Z"
   },
   {
    "duration": 92,
    "start_time": "2024-04-23T13:04:32.712Z"
   },
   {
    "duration": 37,
    "start_time": "2024-04-23T13:04:32.806Z"
   },
   {
    "duration": 50,
    "start_time": "2024-04-23T13:04:32.844Z"
   },
   {
    "duration": 42,
    "start_time": "2024-04-23T13:04:32.896Z"
   },
   {
    "duration": 37,
    "start_time": "2024-04-23T13:04:32.939Z"
   },
   {
    "duration": 68,
    "start_time": "2024-04-23T13:04:32.978Z"
   },
   {
    "duration": 17,
    "start_time": "2024-04-23T13:04:33.047Z"
   },
   {
    "duration": 129,
    "start_time": "2024-04-23T13:04:33.066Z"
   },
   {
    "duration": 71,
    "start_time": "2024-04-23T13:04:33.197Z"
   },
   {
    "duration": 28,
    "start_time": "2024-04-23T13:04:33.270Z"
   },
   {
    "duration": 20,
    "start_time": "2024-04-23T13:04:33.300Z"
   },
   {
    "duration": 22,
    "start_time": "2024-04-23T13:04:33.322Z"
   },
   {
    "duration": 68,
    "start_time": "2024-04-23T13:04:33.346Z"
   },
   {
    "duration": 119,
    "start_time": "2024-04-23T13:42:24.822Z"
   },
   {
    "duration": 3,
    "start_time": "2024-04-23T13:42:28.113Z"
   },
   {
    "duration": 11,
    "start_time": "2024-04-23T13:42:32.190Z"
   },
   {
    "duration": 10,
    "start_time": "2024-04-23T13:42:38.249Z"
   },
   {
    "duration": 4,
    "start_time": "2024-04-23T13:46:54.874Z"
   },
   {
    "duration": 18,
    "start_time": "2024-04-23T13:46:55.584Z"
   },
   {
    "duration": 10,
    "start_time": "2024-04-23T13:46:56.192Z"
   },
   {
    "duration": 19,
    "start_time": "2024-04-23T13:47:11.871Z"
   },
   {
    "duration": 7,
    "start_time": "2024-04-23T13:47:13.377Z"
   },
   {
    "duration": 9,
    "start_time": "2024-04-23T13:49:12.857Z"
   },
   {
    "duration": 4,
    "start_time": "2024-04-23T13:49:33.852Z"
   },
   {
    "duration": 17,
    "start_time": "2024-04-23T13:49:34.297Z"
   },
   {
    "duration": 8,
    "start_time": "2024-04-23T13:49:34.777Z"
   },
   {
    "duration": 3,
    "start_time": "2024-04-23T13:50:10.590Z"
   },
   {
    "duration": 2826,
    "start_time": "2024-04-23T13:50:10.595Z"
   },
   {
    "duration": 42,
    "start_time": "2024-04-23T13:50:13.423Z"
   },
   {
    "duration": 24,
    "start_time": "2024-04-23T13:50:13.467Z"
   },
   {
    "duration": 4,
    "start_time": "2024-04-23T13:50:13.493Z"
   },
   {
    "duration": 47,
    "start_time": "2024-04-23T13:50:13.499Z"
   },
   {
    "duration": 14,
    "start_time": "2024-04-23T13:50:13.548Z"
   },
   {
    "duration": 7,
    "start_time": "2024-04-23T13:50:13.564Z"
   },
   {
    "duration": 13,
    "start_time": "2024-04-23T13:50:13.573Z"
   },
   {
    "duration": 38,
    "start_time": "2024-04-23T13:50:13.587Z"
   },
   {
    "duration": 1057,
    "start_time": "2024-04-23T13:50:13.626Z"
   },
   {
    "duration": 5,
    "start_time": "2024-04-23T13:50:14.685Z"
   },
   {
    "duration": 23,
    "start_time": "2024-04-23T13:50:14.691Z"
   },
   {
    "duration": 11,
    "start_time": "2024-04-23T13:50:14.716Z"
   },
   {
    "duration": 5,
    "start_time": "2024-04-23T13:50:14.728Z"
   },
   {
    "duration": 6,
    "start_time": "2024-04-23T13:50:14.735Z"
   },
   {
    "duration": 1901,
    "start_time": "2024-04-23T13:50:14.742Z"
   },
   {
    "duration": 196,
    "start_time": "2024-04-23T13:50:16.645Z"
   },
   {
    "duration": 255,
    "start_time": "2024-04-23T13:50:16.843Z"
   },
   {
    "duration": 7,
    "start_time": "2024-04-23T13:50:17.100Z"
   },
   {
    "duration": 63,
    "start_time": "2024-04-23T13:50:17.109Z"
   },
   {
    "duration": 103,
    "start_time": "2024-04-23T13:50:17.174Z"
   },
   {
    "duration": 50,
    "start_time": "2024-04-23T13:50:17.279Z"
   },
   {
    "duration": 318,
    "start_time": "2024-04-23T13:50:17.333Z"
   },
   {
    "duration": 394,
    "start_time": "2024-04-23T13:50:17.653Z"
   },
   {
    "duration": 471,
    "start_time": "2024-04-23T13:50:18.049Z"
   },
   {
    "duration": 266,
    "start_time": "2024-04-23T13:50:18.522Z"
   },
   {
    "duration": 592,
    "start_time": "2024-04-23T13:50:18.791Z"
   },
   {
    "duration": 407,
    "start_time": "2024-04-23T13:50:19.391Z"
   },
   {
    "duration": 277,
    "start_time": "2024-04-23T13:50:19.800Z"
   },
   {
    "duration": 383,
    "start_time": "2024-04-23T13:50:20.079Z"
   },
   {
    "duration": 327,
    "start_time": "2024-04-23T13:50:20.492Z"
   },
   {
    "duration": 305,
    "start_time": "2024-04-23T13:50:20.821Z"
   },
   {
    "duration": 471,
    "start_time": "2024-04-23T13:50:21.128Z"
   },
   {
    "duration": 340,
    "start_time": "2024-04-23T13:50:21.600Z"
   },
   {
    "duration": 993,
    "start_time": "2024-04-23T13:50:21.942Z"
   },
   {
    "duration": 509,
    "start_time": "2024-04-23T13:50:22.937Z"
   },
   {
    "duration": 4,
    "start_time": "2024-04-23T13:50:23.448Z"
   },
   {
    "duration": 35,
    "start_time": "2024-04-23T13:50:23.454Z"
   },
   {
    "duration": 12,
    "start_time": "2024-04-23T13:50:23.491Z"
   },
   {
    "duration": 10,
    "start_time": "2024-04-23T13:50:23.504Z"
   },
   {
    "duration": 20,
    "start_time": "2024-04-23T13:50:23.516Z"
   },
   {
    "duration": 6,
    "start_time": "2024-04-23T13:50:23.538Z"
   },
   {
    "duration": 26,
    "start_time": "2024-04-23T13:50:23.546Z"
   },
   {
    "duration": 25,
    "start_time": "2024-04-23T13:50:23.574Z"
   },
   {
    "duration": 5,
    "start_time": "2024-04-23T13:50:23.601Z"
   },
   {
    "duration": 6,
    "start_time": "2024-04-23T13:50:23.608Z"
   },
   {
    "duration": 5,
    "start_time": "2024-04-23T13:50:23.616Z"
   },
   {
    "duration": 17,
    "start_time": "2024-04-23T13:50:23.623Z"
   },
   {
    "duration": 15,
    "start_time": "2024-04-23T13:50:23.642Z"
   },
   {
    "duration": 18,
    "start_time": "2024-04-23T13:50:23.660Z"
   },
   {
    "duration": 18,
    "start_time": "2024-04-23T13:50:23.680Z"
   },
   {
    "duration": 46,
    "start_time": "2024-04-23T13:50:23.700Z"
   },
   {
    "duration": 19,
    "start_time": "2024-04-23T13:50:23.748Z"
   },
   {
    "duration": 12,
    "start_time": "2024-04-23T13:50:23.769Z"
   },
   {
    "duration": 7,
    "start_time": "2024-04-23T13:50:23.782Z"
   },
   {
    "duration": 14,
    "start_time": "2024-04-23T13:50:23.791Z"
   },
   {
    "duration": 6,
    "start_time": "2024-04-23T13:50:23.806Z"
   },
   {
    "duration": 9,
    "start_time": "2024-04-23T13:50:23.814Z"
   },
   {
    "duration": 9,
    "start_time": "2024-04-23T13:50:23.824Z"
   },
   {
    "duration": 8,
    "start_time": "2024-04-23T13:54:16.814Z"
   },
   {
    "duration": 4135,
    "start_time": "2024-04-23T13:54:16.824Z"
   },
   {
    "duration": 43,
    "start_time": "2024-04-23T13:54:20.961Z"
   },
   {
    "duration": 28,
    "start_time": "2024-04-23T13:54:21.006Z"
   },
   {
    "duration": 4,
    "start_time": "2024-04-23T13:54:21.035Z"
   },
   {
    "duration": 9,
    "start_time": "2024-04-23T13:54:21.041Z"
   },
   {
    "duration": 8,
    "start_time": "2024-04-23T13:54:21.051Z"
   },
   {
    "duration": 7,
    "start_time": "2024-04-23T13:54:21.061Z"
   },
   {
    "duration": 27,
    "start_time": "2024-04-23T13:54:21.070Z"
   },
   {
    "duration": 24,
    "start_time": "2024-04-23T13:54:21.099Z"
   },
   {
    "duration": 1107,
    "start_time": "2024-04-23T13:54:21.125Z"
   },
   {
    "duration": 4,
    "start_time": "2024-04-23T13:54:22.234Z"
   },
   {
    "duration": 27,
    "start_time": "2024-04-23T13:54:22.240Z"
   },
   {
    "duration": 12,
    "start_time": "2024-04-23T13:54:22.269Z"
   },
   {
    "duration": 5,
    "start_time": "2024-04-23T13:54:22.283Z"
   },
   {
    "duration": 34,
    "start_time": "2024-04-23T13:54:22.290Z"
   },
   {
    "duration": 1821,
    "start_time": "2024-04-23T13:54:22.326Z"
   },
   {
    "duration": 190,
    "start_time": "2024-04-23T13:54:24.149Z"
   },
   {
    "duration": 272,
    "start_time": "2024-04-23T13:54:24.341Z"
   },
   {
    "duration": 7,
    "start_time": "2024-04-23T13:54:24.614Z"
   },
   {
    "duration": 21,
    "start_time": "2024-04-23T13:54:24.622Z"
   },
   {
    "duration": 46,
    "start_time": "2024-04-23T13:54:24.645Z"
   },
   {
    "duration": 12,
    "start_time": "2024-04-23T13:54:24.692Z"
   },
   {
    "duration": 320,
    "start_time": "2024-04-23T13:54:24.705Z"
   },
   {
    "duration": 379,
    "start_time": "2024-04-23T13:54:25.027Z"
   },
   {
    "duration": 327,
    "start_time": "2024-04-23T13:54:25.408Z"
   },
   {
    "duration": 369,
    "start_time": "2024-04-23T13:54:25.737Z"
   },
   {
    "duration": 560,
    "start_time": "2024-04-23T13:54:26.110Z"
   },
   {
    "duration": 406,
    "start_time": "2024-04-23T13:54:26.672Z"
   },
   {
    "duration": 264,
    "start_time": "2024-04-23T13:54:27.080Z"
   },
   {
    "duration": 419,
    "start_time": "2024-04-23T13:54:27.346Z"
   },
   {
    "duration": 346,
    "start_time": "2024-04-23T13:54:27.767Z"
   },
   {
    "duration": 308,
    "start_time": "2024-04-23T13:54:28.116Z"
   },
   {
    "duration": 443,
    "start_time": "2024-04-23T13:54:28.426Z"
   },
   {
    "duration": 340,
    "start_time": "2024-04-23T13:54:28.871Z"
   },
   {
    "duration": 968,
    "start_time": "2024-04-23T13:54:29.212Z"
   },
   {
    "duration": 546,
    "start_time": "2024-04-23T13:54:30.181Z"
   },
   {
    "duration": 32,
    "start_time": "2024-04-23T13:54:30.728Z"
   },
   {
    "duration": 213,
    "start_time": "2024-04-23T13:54:30.762Z"
   },
   {
    "duration": 154,
    "start_time": "2024-04-23T13:54:30.976Z"
   },
   {
    "duration": 192,
    "start_time": "2024-04-23T13:54:31.131Z"
   },
   {
    "duration": 328,
    "start_time": "2024-04-23T13:54:31.325Z"
   },
   {
    "duration": 579,
    "start_time": "2024-04-23T13:54:31.655Z"
   },
   {
    "duration": 107,
    "start_time": "2024-04-23T13:54:32.236Z"
   },
   {
    "duration": 25,
    "start_time": "2024-04-23T13:54:32.345Z"
   },
   {
    "duration": 31,
    "start_time": "2024-04-23T13:54:32.372Z"
   },
   {
    "duration": 22,
    "start_time": "2024-04-23T13:54:32.406Z"
   },
   {
    "duration": 9,
    "start_time": "2024-04-23T13:54:32.430Z"
   },
   {
    "duration": 25,
    "start_time": "2024-04-23T13:54:32.441Z"
   },
   {
    "duration": 16,
    "start_time": "2024-04-23T13:54:32.467Z"
   },
   {
    "duration": 5,
    "start_time": "2024-04-23T13:54:32.485Z"
   },
   {
    "duration": 8,
    "start_time": "2024-04-23T13:54:32.492Z"
   },
   {
    "duration": 10,
    "start_time": "2024-04-23T13:54:32.501Z"
   },
   {
    "duration": 4,
    "start_time": "2024-04-23T13:54:32.513Z"
   },
   {
    "duration": 7,
    "start_time": "2024-04-23T13:54:32.518Z"
   },
   {
    "duration": 17,
    "start_time": "2024-04-23T13:54:32.527Z"
   },
   {
    "duration": 16,
    "start_time": "2024-04-23T13:54:32.546Z"
   },
   {
    "duration": 10,
    "start_time": "2024-04-23T13:54:32.564Z"
   },
   {
    "duration": 5,
    "start_time": "2024-04-23T13:54:32.575Z"
   },
   {
    "duration": 5,
    "start_time": "2024-04-23T13:54:32.581Z"
   }
  ],
  "kernelspec": {
   "display_name": "Python 3 (ipykernel)",
   "language": "python",
   "name": "python3"
  },
  "language_info": {
   "codemirror_mode": {
    "name": "ipython",
    "version": 3
   },
   "file_extension": ".py",
   "mimetype": "text/x-python",
   "name": "python",
   "nbconvert_exporter": "python",
   "pygments_lexer": "ipython3",
   "version": "3.9.5"
  },
  "toc": {
   "base_numbering": 1,
   "nav_menu": {},
   "number_sections": true,
   "sideBar": true,
   "skip_h1_title": true,
   "title_cell": "Table of Contents",
   "title_sidebar": "Contents",
   "toc_cell": false,
   "toc_position": {
    "height": "calc(100% - 180px)",
    "left": "10px",
    "top": "150px",
    "width": "337.438px"
   },
   "toc_section_display": true,
   "toc_window_display": true
  }
 },
 "nbformat": 4,
 "nbformat_minor": 2
}
